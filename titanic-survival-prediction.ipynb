{
 "cells": [
  {
   "cell_type": "code",
   "execution_count": 1,
   "id": "c832477f",
   "metadata": {
    "_cell_guid": "b1076dfc-b9ad-4769-8c92-a6c4dae69d19",
    "_uuid": "8f2839f25d086af736a60e9eeb907d3b93b6e0e5",
    "execution": {
     "iopub.execute_input": "2022-07-26T06:40:40.230042Z",
     "iopub.status.busy": "2022-07-26T06:40:40.229184Z",
     "iopub.status.idle": "2022-07-26T06:40:40.242979Z",
     "shell.execute_reply": "2022-07-26T06:40:40.242236Z"
    },
    "papermill": {
     "duration": 0.028399,
     "end_time": "2022-07-26T06:40:40.245803",
     "exception": false,
     "start_time": "2022-07-26T06:40:40.217404",
     "status": "completed"
    },
    "tags": []
   },
   "outputs": [
    {
     "name": "stdout",
     "output_type": "stream",
     "text": [
      "/kaggle/input/titanic/train.csv\n",
      "/kaggle/input/titanic/test.csv\n",
      "/kaggle/input/titanic/gender_submission.csv\n"
     ]
    }
   ],
   "source": [
    "# This Python 3 environment comes with many helpful analytics libraries installed\n",
    "# It is defined by the kaggle/python Docker image: https://github.com/kaggle/docker-python\n",
    "# For example, here's several helpful packages to load\n",
    "\n",
    "import numpy as np # linear algebra\n",
    "import pandas as pd # data processing, CSV file I/O (e.g. pd.read_csv)\n",
    "\n",
    "# Input data files are available in the read-only \"../input/\" directory\n",
    "# For example, running this (by clicking run or pressing Shift+Enter) will list all files under the input directory\n",
    "\n",
    "import os\n",
    "for dirname, _, filenames in os.walk('/kaggle/input'):\n",
    "    for filename in filenames:\n",
    "        print(os.path.join(dirname, filename))\n",
    "\n",
    "# You can write up to 20GB to the current directory (/kaggle/working/) that gets preserved as output when you create a version using \"Save & Run All\" \n",
    "# You can also write temporary files to /kaggle/temp/, but they won't be saved outside of the current session"
   ]
  },
  {
   "cell_type": "code",
   "execution_count": 2,
   "id": "9cbde354",
   "metadata": {
    "execution": {
     "iopub.execute_input": "2022-07-26T06:40:40.262610Z",
     "iopub.status.busy": "2022-07-26T06:40:40.261560Z",
     "iopub.status.idle": "2022-07-26T06:40:40.296639Z",
     "shell.execute_reply": "2022-07-26T06:40:40.295811Z"
    },
    "papermill": {
     "duration": 0.04544,
     "end_time": "2022-07-26T06:40:40.298983",
     "exception": false,
     "start_time": "2022-07-26T06:40:40.253543",
     "status": "completed"
    },
    "tags": []
   },
   "outputs": [],
   "source": [
    "train_df = pd.read_csv('/kaggle/input/titanic/train.csv')\n",
    "test_df = pd.read_csv('/kaggle/input/titanic/test.csv')\n",
    "submission_df = pd.read_csv('/kaggle/input/titanic/gender_submission.csv')"
   ]
  },
  {
   "cell_type": "code",
   "execution_count": 3,
   "id": "bbcfde30",
   "metadata": {
    "execution": {
     "iopub.execute_input": "2022-07-26T06:40:40.314761Z",
     "iopub.status.busy": "2022-07-26T06:40:40.314129Z",
     "iopub.status.idle": "2022-07-26T06:40:40.341295Z",
     "shell.execute_reply": "2022-07-26T06:40:40.340549Z"
    },
    "papermill": {
     "duration": 0.037544,
     "end_time": "2022-07-26T06:40:40.343404",
     "exception": false,
     "start_time": "2022-07-26T06:40:40.305860",
     "status": "completed"
    },
    "tags": []
   },
   "outputs": [
    {
     "name": "stdout",
     "output_type": "stream",
     "text": [
      "<class 'pandas.core.frame.DataFrame'>\n",
      "RangeIndex: 891 entries, 0 to 890\n",
      "Data columns (total 12 columns):\n",
      " #   Column       Non-Null Count  Dtype  \n",
      "---  ------       --------------  -----  \n",
      " 0   PassengerId  891 non-null    int64  \n",
      " 1   Survived     891 non-null    int64  \n",
      " 2   Pclass       891 non-null    int64  \n",
      " 3   Name         891 non-null    object \n",
      " 4   Sex          891 non-null    object \n",
      " 5   Age          714 non-null    float64\n",
      " 6   SibSp        891 non-null    int64  \n",
      " 7   Parch        891 non-null    int64  \n",
      " 8   Ticket       891 non-null    object \n",
      " 9   Fare         891 non-null    float64\n",
      " 10  Cabin        204 non-null    object \n",
      " 11  Embarked     889 non-null    object \n",
      "dtypes: float64(2), int64(5), object(5)\n",
      "memory usage: 83.7+ KB\n"
     ]
    }
   ],
   "source": [
    "train_df.info()"
   ]
  },
  {
   "cell_type": "code",
   "execution_count": 4,
   "id": "9ce3a6b5",
   "metadata": {
    "execution": {
     "iopub.execute_input": "2022-07-26T06:40:40.359094Z",
     "iopub.status.busy": "2022-07-26T06:40:40.358222Z",
     "iopub.status.idle": "2022-07-26T06:40:40.369397Z",
     "shell.execute_reply": "2022-07-26T06:40:40.368744Z"
    },
    "papermill": {
     "duration": 0.021204,
     "end_time": "2022-07-26T06:40:40.371339",
     "exception": false,
     "start_time": "2022-07-26T06:40:40.350135",
     "status": "completed"
    },
    "tags": []
   },
   "outputs": [
    {
     "data": {
      "text/plain": [
       "PassengerId      0\n",
       "Survived         0\n",
       "Pclass           0\n",
       "Name             0\n",
       "Sex              0\n",
       "Age            177\n",
       "SibSp            0\n",
       "Parch            0\n",
       "Ticket           0\n",
       "Fare             0\n",
       "Cabin          687\n",
       "Embarked         2\n",
       "dtype: int64"
      ]
     },
     "execution_count": 4,
     "metadata": {},
     "output_type": "execute_result"
    }
   ],
   "source": [
    "train_df.isna().sum()"
   ]
  },
  {
   "cell_type": "code",
   "execution_count": 5,
   "id": "44e7422e",
   "metadata": {
    "execution": {
     "iopub.execute_input": "2022-07-26T06:40:40.387278Z",
     "iopub.status.busy": "2022-07-26T06:40:40.386613Z",
     "iopub.status.idle": "2022-07-26T06:40:40.417811Z",
     "shell.execute_reply": "2022-07-26T06:40:40.416076Z"
    },
    "papermill": {
     "duration": 0.04257,
     "end_time": "2022-07-26T06:40:40.420682",
     "exception": false,
     "start_time": "2022-07-26T06:40:40.378112",
     "status": "completed"
    },
    "tags": []
   },
   "outputs": [
    {
     "data": {
      "text/html": [
       "<div>\n",
       "<style scoped>\n",
       "    .dataframe tbody tr th:only-of-type {\n",
       "        vertical-align: middle;\n",
       "    }\n",
       "\n",
       "    .dataframe tbody tr th {\n",
       "        vertical-align: top;\n",
       "    }\n",
       "\n",
       "    .dataframe thead th {\n",
       "        text-align: right;\n",
       "    }\n",
       "</style>\n",
       "<table border=\"1\" class=\"dataframe\">\n",
       "  <thead>\n",
       "    <tr style=\"text-align: right;\">\n",
       "      <th></th>\n",
       "      <th>PassengerId</th>\n",
       "      <th>Survived</th>\n",
       "      <th>Pclass</th>\n",
       "      <th>Name</th>\n",
       "      <th>Sex</th>\n",
       "      <th>Age</th>\n",
       "      <th>SibSp</th>\n",
       "      <th>Parch</th>\n",
       "      <th>Ticket</th>\n",
       "      <th>Fare</th>\n",
       "      <th>Cabin</th>\n",
       "      <th>Embarked</th>\n",
       "    </tr>\n",
       "  </thead>\n",
       "  <tbody>\n",
       "    <tr>\n",
       "      <th>132</th>\n",
       "      <td>133</td>\n",
       "      <td>0</td>\n",
       "      <td>3</td>\n",
       "      <td>Robins, Mrs. Alexander A (Grace Charity Laury)</td>\n",
       "      <td>female</td>\n",
       "      <td>47.0</td>\n",
       "      <td>1</td>\n",
       "      <td>0</td>\n",
       "      <td>A/5. 3337</td>\n",
       "      <td>14.5</td>\n",
       "      <td>NaN</td>\n",
       "      <td>S</td>\n",
       "    </tr>\n",
       "    <tr>\n",
       "      <th>735</th>\n",
       "      <td>736</td>\n",
       "      <td>0</td>\n",
       "      <td>3</td>\n",
       "      <td>Williams, Mr. Leslie</td>\n",
       "      <td>male</td>\n",
       "      <td>28.5</td>\n",
       "      <td>0</td>\n",
       "      <td>0</td>\n",
       "      <td>54636</td>\n",
       "      <td>16.1</td>\n",
       "      <td>NaN</td>\n",
       "      <td>S</td>\n",
       "    </tr>\n",
       "    <tr>\n",
       "      <th>607</th>\n",
       "      <td>608</td>\n",
       "      <td>1</td>\n",
       "      <td>1</td>\n",
       "      <td>Daniel, Mr. Robert Williams</td>\n",
       "      <td>male</td>\n",
       "      <td>27.0</td>\n",
       "      <td>0</td>\n",
       "      <td>0</td>\n",
       "      <td>113804</td>\n",
       "      <td>30.5</td>\n",
       "      <td>NaN</td>\n",
       "      <td>S</td>\n",
       "    </tr>\n",
       "    <tr>\n",
       "      <th>624</th>\n",
       "      <td>625</td>\n",
       "      <td>0</td>\n",
       "      <td>3</td>\n",
       "      <td>Bowen, Mr. David John \"Dai\"</td>\n",
       "      <td>male</td>\n",
       "      <td>21.0</td>\n",
       "      <td>0</td>\n",
       "      <td>0</td>\n",
       "      <td>54636</td>\n",
       "      <td>16.1</td>\n",
       "      <td>NaN</td>\n",
       "      <td>S</td>\n",
       "    </tr>\n",
       "    <tr>\n",
       "      <th>385</th>\n",
       "      <td>386</td>\n",
       "      <td>0</td>\n",
       "      <td>2</td>\n",
       "      <td>Davies, Mr. Charles Henry</td>\n",
       "      <td>male</td>\n",
       "      <td>18.0</td>\n",
       "      <td>0</td>\n",
       "      <td>0</td>\n",
       "      <td>S.O.C. 14879</td>\n",
       "      <td>73.5</td>\n",
       "      <td>NaN</td>\n",
       "      <td>S</td>\n",
       "    </tr>\n",
       "  </tbody>\n",
       "</table>\n",
       "</div>"
      ],
      "text/plain": [
       "     PassengerId  Survived  Pclass  \\\n",
       "132          133         0       3   \n",
       "735          736         0       3   \n",
       "607          608         1       1   \n",
       "624          625         0       3   \n",
       "385          386         0       2   \n",
       "\n",
       "                                               Name     Sex   Age  SibSp  \\\n",
       "132  Robins, Mrs. Alexander A (Grace Charity Laury)  female  47.0      1   \n",
       "735                            Williams, Mr. Leslie    male  28.5      0   \n",
       "607                     Daniel, Mr. Robert Williams    male  27.0      0   \n",
       "624                     Bowen, Mr. David John \"Dai\"    male  21.0      0   \n",
       "385                       Davies, Mr. Charles Henry    male  18.0      0   \n",
       "\n",
       "     Parch        Ticket  Fare Cabin Embarked  \n",
       "132      0     A/5. 3337  14.5   NaN        S  \n",
       "735      0         54636  16.1   NaN        S  \n",
       "607      0        113804  30.5   NaN        S  \n",
       "624      0         54636  16.1   NaN        S  \n",
       "385      0  S.O.C. 14879  73.5   NaN        S  "
      ]
     },
     "execution_count": 5,
     "metadata": {},
     "output_type": "execute_result"
    }
   ],
   "source": [
    "#S is filled in place of nan values in Embarked column as it is where most of the passengers boarded the ship\n",
    "train_df.Embarked.fillna('S', inplace = True)\n",
    "test_df.Embarked.fillna('S', inplace = True)\n",
    "\n",
    "#By grouping the columns by sex and survived or not, I fill in the na values in the age column\n",
    "train_df.Age = train_df.Age.fillna(train_df.Age.mean())\n",
    "test_df.Age = test_df.Age.fillna(train_df.Age.mean())\n",
    "train_df.sample(5)"
   ]
  },
  {
   "cell_type": "code",
   "execution_count": 6,
   "id": "e84a63b2",
   "metadata": {
    "execution": {
     "iopub.execute_input": "2022-07-26T06:40:40.444549Z",
     "iopub.status.busy": "2022-07-26T06:40:40.443425Z",
     "iopub.status.idle": "2022-07-26T06:40:40.450535Z",
     "shell.execute_reply": "2022-07-26T06:40:40.449341Z"
    },
    "papermill": {
     "duration": 0.022941,
     "end_time": "2022-07-26T06:40:40.453443",
     "exception": false,
     "start_time": "2022-07-26T06:40:40.430502",
     "status": "completed"
    },
    "tags": []
   },
   "outputs": [],
   "source": [
    "test_df.Fare.fillna(test_df.Fare.mean(), inplace=True)"
   ]
  },
  {
   "cell_type": "code",
   "execution_count": 7,
   "id": "de95f755",
   "metadata": {
    "execution": {
     "iopub.execute_input": "2022-07-26T06:40:40.475767Z",
     "iopub.status.busy": "2022-07-26T06:40:40.474666Z",
     "iopub.status.idle": "2022-07-26T06:40:40.483986Z",
     "shell.execute_reply": "2022-07-26T06:40:40.482931Z"
    },
    "papermill": {
     "duration": 0.022087,
     "end_time": "2022-07-26T06:40:40.486398",
     "exception": false,
     "start_time": "2022-07-26T06:40:40.464311",
     "status": "completed"
    },
    "tags": []
   },
   "outputs": [],
   "source": [
    "#Dropping the Ticket number and Fare column as survival does not depend on those columns\n",
    "#Also dropping Cabin column as it has more than 60% of nan values and name has nothing to do with the survival as well\n",
    "train_df.drop(['Cabin', 'Name'], axis = 1, inplace = True)\n",
    "test_df.drop(['Cabin', 'Name'], axis = 1, inplace = True)\n"
   ]
  },
  {
   "cell_type": "code",
   "execution_count": 8,
   "id": "7a64fa9e",
   "metadata": {
    "execution": {
     "iopub.execute_input": "2022-07-26T06:40:40.505860Z",
     "iopub.status.busy": "2022-07-26T06:40:40.504965Z",
     "iopub.status.idle": "2022-07-26T06:40:40.533051Z",
     "shell.execute_reply": "2022-07-26T06:40:40.532050Z"
    },
    "papermill": {
     "duration": 0.041287,
     "end_time": "2022-07-26T06:40:40.536291",
     "exception": false,
     "start_time": "2022-07-26T06:40:40.495004",
     "status": "completed"
    },
    "tags": []
   },
   "outputs": [],
   "source": [
    "#One Hot Encoding of Embarked Column\n",
    "encoded_cols = pd.get_dummies(train_df[['Embarked','Sex']]).columns\n",
    "train_df[encoded_cols] = pd.get_dummies(train_df[['Embarked','Sex']])\n",
    "\n",
    "encoded_cols = pd.get_dummies(test_df[['Embarked','Sex']]).columns\n",
    "test_df[encoded_cols] = pd.get_dummies(test_df[['Embarked','Sex']])"
   ]
  },
  {
   "cell_type": "code",
   "execution_count": 9,
   "id": "8225e301",
   "metadata": {
    "execution": {
     "iopub.execute_input": "2022-07-26T06:40:40.557068Z",
     "iopub.status.busy": "2022-07-26T06:40:40.556278Z",
     "iopub.status.idle": "2022-07-26T06:40:40.568281Z",
     "shell.execute_reply": "2022-07-26T06:40:40.567367Z"
    },
    "papermill": {
     "duration": 0.023047,
     "end_time": "2022-07-26T06:40:40.570446",
     "exception": false,
     "start_time": "2022-07-26T06:40:40.547399",
     "status": "completed"
    },
    "tags": []
   },
   "outputs": [
    {
     "data": {
      "text/plain": [
       "['PassengerId',\n",
       " 'Pclass',\n",
       " 'Age',\n",
       " 'SibSp',\n",
       " 'Parch',\n",
       " 'Fare',\n",
       " 'Embarked_C',\n",
       " 'Embarked_Q',\n",
       " 'Embarked_S',\n",
       " 'Sex_female',\n",
       " 'Sex_male']"
      ]
     },
     "execution_count": 9,
     "metadata": {},
     "output_type": "execute_result"
    }
   ],
   "source": [
    "input_columns = train_df.select_dtypes(np.number).columns\n",
    "target_cols = ['Survived']\n",
    "input_cols = []\n",
    "for input_column in input_columns:\n",
    "    if input_column not in target_cols:\n",
    "        input_cols.append(input_column)\n",
    "input_cols"
   ]
  },
  {
   "cell_type": "code",
   "execution_count": 10,
   "id": "c9682e92",
   "metadata": {
    "execution": {
     "iopub.execute_input": "2022-07-26T06:40:40.595665Z",
     "iopub.status.busy": "2022-07-26T06:40:40.594856Z",
     "iopub.status.idle": "2022-07-26T06:40:40.601455Z",
     "shell.execute_reply": "2022-07-26T06:40:40.600562Z"
    },
    "papermill": {
     "duration": 0.021597,
     "end_time": "2022-07-26T06:40:40.604151",
     "exception": false,
     "start_time": "2022-07-26T06:40:40.582554",
     "status": "completed"
    },
    "tags": []
   },
   "outputs": [],
   "source": [
    "inputs = train_df[input_cols]\n",
    "target = train_df['Survived']"
   ]
  },
  {
   "cell_type": "code",
   "execution_count": 11,
   "id": "10110762",
   "metadata": {
    "execution": {
     "iopub.execute_input": "2022-07-26T06:40:40.625132Z",
     "iopub.status.busy": "2022-07-26T06:40:40.623811Z",
     "iopub.status.idle": "2022-07-26T06:40:42.058272Z",
     "shell.execute_reply": "2022-07-26T06:40:42.057004Z"
    },
    "papermill": {
     "duration": 1.446625,
     "end_time": "2022-07-26T06:40:42.061065",
     "exception": false,
     "start_time": "2022-07-26T06:40:40.614440",
     "status": "completed"
    },
    "tags": []
   },
   "outputs": [],
   "source": [
    "from sklearn.ensemble import RandomForestClassifier\n",
    "from sklearn.model_selection import train_test_split\n",
    "from sklearn.metrics import accuracy_score\n",
    "from sklearn.metrics import confusion_matrix"
   ]
  },
  {
   "cell_type": "code",
   "execution_count": 12,
   "id": "9dd99e99",
   "metadata": {
    "execution": {
     "iopub.execute_input": "2022-07-26T06:40:42.079200Z",
     "iopub.status.busy": "2022-07-26T06:40:42.078336Z",
     "iopub.status.idle": "2022-07-26T06:40:42.085055Z",
     "shell.execute_reply": "2022-07-26T06:40:42.084193Z"
    },
    "papermill": {
     "duration": 0.017759,
     "end_time": "2022-07-26T06:40:42.087143",
     "exception": false,
     "start_time": "2022-07-26T06:40:42.069384",
     "status": "completed"
    },
    "tags": []
   },
   "outputs": [],
   "source": [
    "train_x, val_x, train_y, val_y = train_test_split(inputs,target, train_size = 0.33, random_state = 42)"
   ]
  },
  {
   "cell_type": "code",
   "execution_count": 13,
   "id": "5b2c2851",
   "metadata": {
    "execution": {
     "iopub.execute_input": "2022-07-26T06:40:42.103846Z",
     "iopub.status.busy": "2022-07-26T06:40:42.103145Z",
     "iopub.status.idle": "2022-07-26T06:40:42.305232Z",
     "shell.execute_reply": "2022-07-26T06:40:42.304287Z"
    },
    "papermill": {
     "duration": 0.21319,
     "end_time": "2022-07-26T06:40:42.307485",
     "exception": false,
     "start_time": "2022-07-26T06:40:42.094295",
     "status": "completed"
    },
    "tags": []
   },
   "outputs": [
    {
     "data": {
      "text/plain": [
       "0.9013605442176871"
      ]
     },
     "execution_count": 13,
     "metadata": {},
     "output_type": "execute_result"
    }
   ],
   "source": [
    "model = RandomForestClassifier(max_depth = 5, random_state=42)\n",
    "\n",
    "model.fit(train_x, train_y)\n",
    "\n",
    "predict_train = model.predict(train_x)\n",
    "\n",
    "accuracy_score(train_y, predict_train)"
   ]
  },
  {
   "cell_type": "code",
   "execution_count": 14,
   "id": "6acb98a5",
   "metadata": {
    "execution": {
     "iopub.execute_input": "2022-07-26T06:40:42.325315Z",
     "iopub.status.busy": "2022-07-26T06:40:42.324340Z",
     "iopub.status.idle": "2022-07-26T06:40:42.352973Z",
     "shell.execute_reply": "2022-07-26T06:40:42.351797Z"
    },
    "papermill": {
     "duration": 0.039853,
     "end_time": "2022-07-26T06:40:42.355227",
     "exception": false,
     "start_time": "2022-07-26T06:40:42.315374",
     "status": "completed"
    },
    "tags": []
   },
   "outputs": [
    {
     "data": {
      "text/plain": [
       "0.8040201005025126"
      ]
     },
     "execution_count": 14,
     "metadata": {},
     "output_type": "execute_result"
    }
   ],
   "source": [
    "predict_val = model.predict(val_x)\n",
    "\n",
    "accuracy_score(val_y, predict_val)"
   ]
  },
  {
   "cell_type": "code",
   "execution_count": 15,
   "id": "0533f00c",
   "metadata": {
    "execution": {
     "iopub.execute_input": "2022-07-26T06:40:42.371908Z",
     "iopub.status.busy": "2022-07-26T06:40:42.371377Z",
     "iopub.status.idle": "2022-07-26T06:40:50.412146Z",
     "shell.execute_reply": "2022-07-26T06:40:50.410990Z"
    },
    "papermill": {
     "duration": 8.051587,
     "end_time": "2022-07-26T06:40:50.414278",
     "exception": false,
     "start_time": "2022-07-26T06:40:42.362691",
     "status": "completed"
    },
    "tags": []
   },
   "outputs": [
    {
     "data": {
      "text/plain": [
       "{'min_samples_leaf': 40, 'max_leaf_nodes': 64, 'max_depth': 16}"
      ]
     },
     "execution_count": 15,
     "metadata": {},
     "output_type": "execute_result"
    }
   ],
   "source": [
    "from sklearn.model_selection import RandomizedSearchCV\n",
    "\n",
    "params = {\n",
    "    'max_depth':np.arange(20),\n",
    "    'max_leaf_nodes':[16,32,64,128],\n",
    "    'min_samples_leaf':[10,20,30,40,60,80]\n",
    "}\n",
    "\n",
    "randomCV = RandomizedSearchCV(\n",
    "                estimator=RandomForestClassifier(n_jobs=-1,random_state=42),\n",
    "                                param_distributions=params,\n",
    "                                 n_jobs = -1,\n",
    "                                 random_state=42)\n",
    "randomCV.fit(train_x, train_y)\n",
    "randomCV.best_params_"
   ]
  },
  {
   "cell_type": "code",
   "execution_count": 16,
   "id": "79bb18ed",
   "metadata": {
    "execution": {
     "iopub.execute_input": "2022-07-26T06:40:50.431842Z",
     "iopub.status.busy": "2022-07-26T06:40:50.431411Z",
     "iopub.status.idle": "2022-07-26T06:40:50.544826Z",
     "shell.execute_reply": "2022-07-26T06:40:50.544040Z"
    },
    "papermill": {
     "duration": 0.124818,
     "end_time": "2022-07-26T06:40:50.546794",
     "exception": false,
     "start_time": "2022-07-26T06:40:50.421976",
     "status": "completed"
    },
    "tags": []
   },
   "outputs": [
    {
     "data": {
      "text/plain": [
       "array([[310,  54],\n",
       "       [ 72, 161]])"
      ]
     },
     "execution_count": 16,
     "metadata": {},
     "output_type": "execute_result"
    }
   ],
   "source": [
    "confusion_matrix(val_y, randomCV.predict(val_x[inputs.columns]))"
   ]
  },
  {
   "cell_type": "code",
   "execution_count": 17,
   "id": "92b1b62c",
   "metadata": {
    "execution": {
     "iopub.execute_input": "2022-07-26T06:40:50.564273Z",
     "iopub.status.busy": "2022-07-26T06:40:50.563445Z",
     "iopub.status.idle": "2022-07-26T06:40:50.673199Z",
     "shell.execute_reply": "2022-07-26T06:40:50.672275Z"
    },
    "papermill": {
     "duration": 0.121157,
     "end_time": "2022-07-26T06:40:50.675616",
     "exception": false,
     "start_time": "2022-07-26T06:40:50.554459",
     "status": "completed"
    },
    "tags": []
   },
   "outputs": [],
   "source": [
    "predict_val = randomCV.predict(val_x[inputs.columns])"
   ]
  },
  {
   "cell_type": "code",
   "execution_count": 18,
   "id": "32186214",
   "metadata": {
    "execution": {
     "iopub.execute_input": "2022-07-26T06:40:50.693688Z",
     "iopub.status.busy": "2022-07-26T06:40:50.693039Z",
     "iopub.status.idle": "2022-07-26T06:40:51.156947Z",
     "shell.execute_reply": "2022-07-26T06:40:51.155686Z"
    },
    "papermill": {
     "duration": 0.475516,
     "end_time": "2022-07-26T06:40:51.159206",
     "exception": false,
     "start_time": "2022-07-26T06:40:50.683690",
     "status": "completed"
    },
    "tags": []
   },
   "outputs": [
    {
     "data": {
      "text/plain": [
       "<AxesSubplot:>"
      ]
     },
     "execution_count": 18,
     "metadata": {},
     "output_type": "execute_result"
    },
    {
     "data": {
      "image/png": "[encoded data removed]",
      "text/plain": [
       "<Figure size 432x288 with 2 Axes>"
      ]
     },
     "metadata": {
      "needs_background": "light"
     },
     "output_type": "display_data"
    }
   ],
   "source": [
    "import seaborn as sns\n",
    "sns.heatmap(confusion_matrix(val_y, predict_val), annot = True)"
   ]
  },
  {
   "cell_type": "code",
   "execution_count": 19,
   "id": "b28cf147",
   "metadata": {
    "execution": {
     "iopub.execute_input": "2022-07-26T06:40:51.177484Z",
     "iopub.status.busy": "2022-07-26T06:40:51.177092Z",
     "iopub.status.idle": "2022-07-26T06:40:51.207597Z",
     "shell.execute_reply": "2022-07-26T06:40:51.206791Z"
    },
    "papermill": {
     "duration": 0.04222,
     "end_time": "2022-07-26T06:40:51.209806",
     "exception": false,
     "start_time": "2022-07-26T06:40:51.167586",
     "status": "completed"
    },
    "tags": []
   },
   "outputs": [
    {
     "data": {
      "text/plain": [
       "array([0, 1, 0, 0, 1, 0, 1, 0, 1, 0, 0, 0, 1, 0, 1, 1, 0, 0, 1, 1, 0, 0,\n",
       "       1, 0, 1, 0, 1, 0, 0, 0, 0, 0, 1, 1, 0, 0, 1, 1, 0, 0, 0, 0, 0, 1,\n",
       "       1, 0, 0, 0, 1, 1, 0, 0, 1, 1, 0, 0, 0, 0, 0, 1, 0, 0, 0, 1, 0, 1,\n",
       "       1, 0, 0, 1, 1, 0, 1, 0, 1, 0, 0, 1, 0, 1, 1, 0, 0, 0, 0, 0, 1, 1,\n",
       "       1, 1, 1, 0, 1, 0, 0, 0, 1, 0, 1, 0, 1, 0, 0, 0, 1, 0, 0, 0, 0, 0,\n",
       "       0, 1, 1, 1, 1, 0, 0, 0, 0, 1, 1, 0, 1, 0, 0, 1, 0, 1, 0, 0, 0, 0,\n",
       "       0, 0, 0, 0, 0, 0, 1, 0, 0, 1, 0, 0, 0, 0, 0, 0, 0, 0, 1, 0, 0, 1,\n",
       "       0, 0, 1, 1, 0, 1, 1, 1, 1, 0, 0, 1, 0, 0, 1, 1, 0, 0, 0, 0, 0, 1,\n",
       "       1, 0, 1, 1, 0, 0, 1, 0, 1, 0, 1, 0, 0, 0, 0, 0, 0, 0, 1, 0, 1, 1,\n",
       "       0, 1, 1, 1, 0, 1, 0, 0, 1, 0, 1, 0, 0, 0, 0, 1, 0, 0, 1, 0, 1, 0,\n",
       "       1, 0, 1, 0, 1, 1, 0, 1, 0, 0, 0, 1, 0, 0, 0, 0, 0, 0, 1, 1, 1, 1,\n",
       "       0, 0, 0, 0, 1, 0, 1, 1, 1, 0, 0, 0, 0, 0, 0, 0, 1, 0, 0, 0, 1, 0,\n",
       "       0, 0, 0, 0, 1, 0, 0, 0, 1, 1, 0, 1, 0, 0, 0, 0, 1, 1, 1, 1, 0, 0,\n",
       "       0, 0, 0, 0, 0, 1, 0, 0, 0, 0, 1, 0, 0, 0, 0, 0, 0, 0, 1, 1, 0, 1,\n",
       "       0, 1, 0, 0, 0, 1, 1, 1, 0, 0, 0, 0, 0, 0, 0, 0, 1, 0, 1, 0, 0, 0,\n",
       "       1, 0, 0, 1, 0, 0, 0, 0, 0, 0, 0, 0, 0, 1, 0, 1, 0, 1, 0, 1, 1, 0,\n",
       "       0, 0, 0, 0, 1, 0, 0, 1, 0, 1, 1, 0, 1, 0, 0, 1, 1, 0, 0, 1, 0, 0,\n",
       "       1, 1, 0, 0, 0, 0, 0, 0, 1, 1, 0, 1, 0, 0, 0, 0, 0, 1, 0, 0, 0, 1,\n",
       "       0, 1, 0, 0, 1, 0, 1, 0, 0, 0, 0, 0, 1, 0, 1, 1, 1, 0, 1, 0, 0, 0])"
      ]
     },
     "execution_count": 19,
     "metadata": {},
     "output_type": "execute_result"
    }
   ],
   "source": [
    "input = test_df[input_cols]\n",
    "\n",
    "predict_test = model.predict(input)\n",
    "predict_test"
   ]
  },
  {
   "cell_type": "code",
   "execution_count": 20,
   "id": "ea29fd1f",
   "metadata": {
    "execution": {
     "iopub.execute_input": "2022-07-26T06:40:51.228398Z",
     "iopub.status.busy": "2022-07-26T06:40:51.227734Z",
     "iopub.status.idle": "2022-07-26T06:40:51.237841Z",
     "shell.execute_reply": "2022-07-26T06:40:51.237107Z"
    },
    "papermill": {
     "duration": 0.021692,
     "end_time": "2022-07-26T06:40:51.239771",
     "exception": false,
     "start_time": "2022-07-26T06:40:51.218079",
     "status": "completed"
    },
    "tags": []
   },
   "outputs": [
    {
     "data": {
      "text/html": [
       "<div>\n",
       "<style scoped>\n",
       "    .dataframe tbody tr th:only-of-type {\n",
       "        vertical-align: middle;\n",
       "    }\n",
       "\n",
       "    .dataframe tbody tr th {\n",
       "        vertical-align: top;\n",
       "    }\n",
       "\n",
       "    .dataframe thead th {\n",
       "        text-align: right;\n",
       "    }\n",
       "</style>\n",
       "<table border=\"1\" class=\"dataframe\">\n",
       "  <thead>\n",
       "    <tr style=\"text-align: right;\">\n",
       "      <th></th>\n",
       "      <th>PassengerId</th>\n",
       "      <th>Survived</th>\n",
       "    </tr>\n",
       "  </thead>\n",
       "  <tbody>\n",
       "    <tr>\n",
       "      <th>0</th>\n",
       "      <td>892</td>\n",
       "      <td>0</td>\n",
       "    </tr>\n",
       "    <tr>\n",
       "      <th>1</th>\n",
       "      <td>893</td>\n",
       "      <td>1</td>\n",
       "    </tr>\n",
       "    <tr>\n",
       "      <th>2</th>\n",
       "      <td>894</td>\n",
       "      <td>0</td>\n",
       "    </tr>\n",
       "    <tr>\n",
       "      <th>3</th>\n",
       "      <td>895</td>\n",
       "      <td>0</td>\n",
       "    </tr>\n",
       "    <tr>\n",
       "      <th>4</th>\n",
       "      <td>896</td>\n",
       "      <td>1</td>\n",
       "    </tr>\n",
       "  </tbody>\n",
       "</table>\n",
       "</div>"
      ],
      "text/plain": [
       "   PassengerId  Survived\n",
       "0          892         0\n",
       "1          893         1\n",
       "2          894         0\n",
       "3          895         0\n",
       "4          896         1"
      ]
     },
     "execution_count": 20,
     "metadata": {},
     "output_type": "execute_result"
    }
   ],
   "source": [
    "output = pd.DataFrame({'PassengerId': test_df.PassengerId, 'Survived': predict_test})\n",
    "output.head()"
   ]
  },
  {
   "cell_type": "code",
   "execution_count": 21,
   "id": "b93ae728",
   "metadata": {
    "execution": {
     "iopub.execute_input": "2022-07-26T06:40:51.258623Z",
     "iopub.status.busy": "2022-07-26T06:40:51.257942Z",
     "iopub.status.idle": "2022-07-26T06:40:51.266280Z",
     "shell.execute_reply": "2022-07-26T06:40:51.265376Z"
    },
    "papermill": {
     "duration": 0.020766,
     "end_time": "2022-07-26T06:40:51.268974",
     "exception": false,
     "start_time": "2022-07-26T06:40:51.248208",
     "status": "completed"
    },
    "tags": []
   },
   "outputs": [],
   "source": [
    "output.to_csv('submission.csv', index = False)"
   ]
  },
  {
   "cell_type": "code",
   "execution_count": 22,
   "id": "83081b13",
   "metadata": {
    "execution": {
     "iopub.execute_input": "2022-07-26T06:40:51.287577Z",
     "iopub.status.busy": "2022-07-26T06:40:51.287190Z",
     "iopub.status.idle": "2022-07-26T06:40:51.291576Z",
     "shell.execute_reply": "2022-07-26T06:40:51.290564Z"
    },
    "papermill": {
     "duration": 0.016151,
     "end_time": "2022-07-26T06:40:51.293675",
     "exception": false,
     "start_time": "2022-07-26T06:40:51.277524",
     "status": "completed"
    },
    "tags": []
   },
   "outputs": [],
   "source": [
    "#Test Df Predictions  Accuracy - 0.78708"
   ]
  }
 ],
 "metadata": {
  "kernelspec": {
   "display_name": "Python 3",
   "language": "python",
   "name": "python3"
  },
  "language_info": {
   "codemirror_mode": {
    "name": "ipython",
    "version": 3
   },
   "file_extension": ".py",
   "mimetype": "text/x-python",
   "name": "python",
   "nbconvert_exporter": "python",
   "pygments_lexer": "ipython3",
   "version": "3.7.12"
  },
  "papermill": {
   "default_parameters": {},
   "duration": 24.133354,
   "end_time": "2022-07-26T06:40:53.923918",
   "environment_variables": {},
   "exception": null,
   "input_path": "__notebook__.ipynb",
   "output_path": "__notebook__.ipynb",
   "parameters": {},
   "start_time": "2022-07-26T06:40:29.790564",
   "version": "2.3.4"
  }
 },
 "nbformat": 4,
 "nbformat_minor": 5
}
