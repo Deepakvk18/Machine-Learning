{
 "cells": [
  {
   "cell_type": "markdown",
   "id": "75a60ec5",
   "metadata": {
    "papermill": {
     "duration": 0.023144,
     "end_time": "2022-07-30T09:06:10.489848",
     "exception": false,
     "start_time": "2022-07-30T09:06:10.466704",
     "status": "completed"
    },
    "tags": []
   },
   "source": [
    "# Problem Statement\n",
    "\n",
    "The data scientists at BigMart have collected 2013 sales data for 1559 products across 10 stores in different cities. Also, certain attributes of each product and store have been defined. The aim is to build a predictive model and predict the sales of each product at a particular outlet.\n",
    "\n",
    "Using this model, BigMart will try to understand the properties of products and outlets which play a key role in increasing sales.\n",
    "\n",
    "Please note that the data may have missing values as some stores might not report all the data due to technical glitches. Hence, it will be required to treat them accordingly. \n",
    "\n",
    "You can download the dataset from [here](https://datahack.analyticsvidhya.com/contest/practice-problem-big-mart-sales-iii/#ProblemStatement)."
   ]
  },
  {
   "cell_type": "code",
   "execution_count": 1,
   "id": "bde7d918",
   "metadata": {
    "_cell_guid": "b1076dfc-b9ad-4769-8c92-a6c4dae69d19",
    "_uuid": "8f2839f25d086af736a60e9eeb907d3b93b6e0e5",
    "execution": {
     "iopub.execute_input": "2022-07-30T09:06:10.535768Z",
     "iopub.status.busy": "2022-07-30T09:06:10.535035Z",
     "iopub.status.idle": "2022-07-30T09:06:10.559491Z",
     "shell.execute_reply": "2022-07-30T09:06:10.558594Z"
    },
    "papermill": {
     "duration": 0.050368,
     "end_time": "2022-07-30T09:06:10.562209",
     "exception": false,
     "start_time": "2022-07-30T09:06:10.511841",
     "status": "completed"
    },
    "tags": []
   },
   "outputs": [
    {
     "name": "stdout",
     "output_type": "stream",
     "text": [
      "/kaggle/input/big-mart-sales-prediction/test_AbJTz2l.csv\n",
      "/kaggle/input/big-mart-sales-prediction/train_v9rqX0R.csv\n"
     ]
    }
   ],
   "source": [
    "# This Python 3 environment comes with many helpful analytics libraries installed\n",
    "# It is defined by the kaggle/python Docker image: https://github.com/kaggle/docker-python\n",
    "# For example, here's several helpful packages to load\n",
    "\n",
    "import numpy as np # linear algebra\n",
    "import pandas as pd # data processing, CSV file I/O (e.g. pd.read_csv)\n",
    "\n",
    "# Input data files are available in the read-only \"../input/\" directory\n",
    "# For example, running this (by clicking run or pressing Shift+Enter) will list all files under the input directory\n",
    "\n",
    "import os\n",
    "for dirname, _, filenames in os.walk('/kaggle/input'):\n",
    "    for filename in filenames:\n",
    "        print(os.path.join(dirname, filename))\n",
    "\n",
    "# You can write up to 20GB to the current directory (/kaggle/working/) that gets preserved as output when you create a version using \"Save & Run All\" \n",
    "# You can also write temporary files to /kaggle/temp/, but they won't be saved outside of the current session"
   ]
  },
  {
   "cell_type": "code",
   "execution_count": 2,
   "id": "d7355d4a",
   "metadata": {
    "execution": {
     "iopub.execute_input": "2022-07-30T09:06:10.608351Z",
     "iopub.status.busy": "2022-07-30T09:06:10.607602Z",
     "iopub.status.idle": "2022-07-30T09:06:12.356634Z",
     "shell.execute_reply": "2022-07-30T09:06:12.355191Z"
    },
    "papermill": {
     "duration": 1.775192,
     "end_time": "2022-07-30T09:06:12.359637",
     "exception": false,
     "start_time": "2022-07-30T09:06:10.584445",
     "status": "completed"
    },
    "tags": []
   },
   "outputs": [],
   "source": [
    "import numpy as np\n",
    "import pandas as pd\n",
    "import matplotlib.pyplot as plt\n",
    "import seaborn as sns\n",
    "import sklearn\n",
    "from sklearn.model_selection import train_test_split\n",
    "from sklearn.preprocessing import MinMaxScaler\n",
    "from sklearn.metrics import mean_squared_error\n",
    "from sklearn.tree import DecisionTreeRegressor\n",
    "from sklearn.linear_model import LinearRegression\n",
    "from sklearn.model_selection import RandomizedSearchCV, KFold, GridSearchCV\n",
    "from statsmodels.stats.outliers_influence import variance_inflation_factor\n",
    "from sklearn.ensemble import RandomForestRegressor, VotingRegressor, StackingRegressor, AdaBoostRegressor, GradientBoostingRegressor"
   ]
  },
  {
   "cell_type": "code",
   "execution_count": 3,
   "id": "e4e2606d",
   "metadata": {
    "execution": {
     "iopub.execute_input": "2022-07-30T09:06:12.405507Z",
     "iopub.status.busy": "2022-07-30T09:06:12.404556Z",
     "iopub.status.idle": "2022-07-30T09:06:12.412011Z",
     "shell.execute_reply": "2022-07-30T09:06:12.411141Z"
    },
    "papermill": {
     "duration": 0.033157,
     "end_time": "2022-07-30T09:06:12.414557",
     "exception": false,
     "start_time": "2022-07-30T09:06:12.381400",
     "status": "completed"
    },
    "tags": []
   },
   "outputs": [],
   "source": [
    "%matplotlib inline\n",
    "plt.style.use('fivethirtyeight')"
   ]
  },
  {
   "cell_type": "markdown",
   "id": "52ef28cc",
   "metadata": {
    "papermill": {
     "duration": 0.022483,
     "end_time": "2022-07-30T09:06:12.459238",
     "exception": false,
     "start_time": "2022-07-30T09:06:12.436755",
     "status": "completed"
    },
    "tags": []
   },
   "source": [
    "# Importing the Dataset and Understanding the features"
   ]
  },
  {
   "cell_type": "code",
   "execution_count": 4,
   "id": "7bde9d21",
   "metadata": {
    "execution": {
     "iopub.execute_input": "2022-07-30T09:06:12.504853Z",
     "iopub.status.busy": "2022-07-30T09:06:12.504145Z",
     "iopub.status.idle": "2022-07-30T09:06:12.577392Z",
     "shell.execute_reply": "2022-07-30T09:06:12.576478Z"
    },
    "papermill": {
     "duration": 0.099076,
     "end_time": "2022-07-30T09:06:12.579837",
     "exception": false,
     "start_time": "2022-07-30T09:06:12.480761",
     "status": "completed"
    },
    "tags": []
   },
   "outputs": [],
   "source": [
    "train_df = pd.read_csv('/kaggle/input/big-mart-sales-prediction/train_v9rqX0R.csv')\n",
    "test_df = pd.read_csv('/kaggle/input/big-mart-sales-prediction/test_AbJTz2l.csv')"
   ]
  },
  {
   "cell_type": "code",
   "execution_count": 5,
   "id": "891e492f",
   "metadata": {
    "execution": {
     "iopub.execute_input": "2022-07-30T09:06:12.625731Z",
     "iopub.status.busy": "2022-07-30T09:06:12.625007Z",
     "iopub.status.idle": "2022-07-30T09:06:12.633740Z",
     "shell.execute_reply": "2022-07-30T09:06:12.633016Z"
    },
    "papermill": {
     "duration": 0.034101,
     "end_time": "2022-07-30T09:06:12.635833",
     "exception": false,
     "start_time": "2022-07-30T09:06:12.601732",
     "status": "completed"
    },
    "tags": []
   },
   "outputs": [
    {
     "data": {
      "text/plain": [
       "((8523, 12), (5681, 11))"
      ]
     },
     "execution_count": 5,
     "metadata": {},
     "output_type": "execute_result"
    }
   ],
   "source": [
    "train_df.shape, test_df.shape"
   ]
  },
  {
   "cell_type": "code",
   "execution_count": 6,
   "id": "edd2b631",
   "metadata": {
    "execution": {
     "iopub.execute_input": "2022-07-30T09:06:12.681140Z",
     "iopub.status.busy": "2022-07-30T09:06:12.680736Z",
     "iopub.status.idle": "2022-07-30T09:06:12.706463Z",
     "shell.execute_reply": "2022-07-30T09:06:12.705449Z"
    },
    "papermill": {
     "duration": 0.051449,
     "end_time": "2022-07-30T09:06:12.708903",
     "exception": false,
     "start_time": "2022-07-30T09:06:12.657454",
     "status": "completed"
    },
    "tags": []
   },
   "outputs": [
    {
     "data": {
      "text/html": [
       "<div>\n",
       "<style scoped>\n",
       "    .dataframe tbody tr th:only-of-type {\n",
       "        vertical-align: middle;\n",
       "    }\n",
       "\n",
       "    .dataframe tbody tr th {\n",
       "        vertical-align: top;\n",
       "    }\n",
       "\n",
       "    .dataframe thead th {\n",
       "        text-align: right;\n",
       "    }\n",
       "</style>\n",
       "<table border=\"1\" class=\"dataframe\">\n",
       "  <thead>\n",
       "    <tr style=\"text-align: right;\">\n",
       "      <th></th>\n",
       "      <th>Item_Identifier</th>\n",
       "      <th>Item_Weight</th>\n",
       "      <th>Item_Fat_Content</th>\n",
       "      <th>Item_Visibility</th>\n",
       "      <th>Item_Type</th>\n",
       "      <th>Item_MRP</th>\n",
       "      <th>Outlet_Identifier</th>\n",
       "      <th>Outlet_Establishment_Year</th>\n",
       "      <th>Outlet_Size</th>\n",
       "      <th>Outlet_Location_Type</th>\n",
       "      <th>Outlet_Type</th>\n",
       "      <th>Item_Outlet_Sales</th>\n",
       "    </tr>\n",
       "  </thead>\n",
       "  <tbody>\n",
       "    <tr>\n",
       "      <th>0</th>\n",
       "      <td>FDA15</td>\n",
       "      <td>9.30</td>\n",
       "      <td>Low Fat</td>\n",
       "      <td>0.016047</td>\n",
       "      <td>Dairy</td>\n",
       "      <td>249.8092</td>\n",
       "      <td>OUT049</td>\n",
       "      <td>1999</td>\n",
       "      <td>Medium</td>\n",
       "      <td>Tier 1</td>\n",
       "      <td>Supermarket Type1</td>\n",
       "      <td>3735.1380</td>\n",
       "    </tr>\n",
       "    <tr>\n",
       "      <th>1</th>\n",
       "      <td>DRC01</td>\n",
       "      <td>5.92</td>\n",
       "      <td>Regular</td>\n",
       "      <td>0.019278</td>\n",
       "      <td>Soft Drinks</td>\n",
       "      <td>48.2692</td>\n",
       "      <td>OUT018</td>\n",
       "      <td>2009</td>\n",
       "      <td>Medium</td>\n",
       "      <td>Tier 3</td>\n",
       "      <td>Supermarket Type2</td>\n",
       "      <td>443.4228</td>\n",
       "    </tr>\n",
       "    <tr>\n",
       "      <th>2</th>\n",
       "      <td>FDN15</td>\n",
       "      <td>17.50</td>\n",
       "      <td>Low Fat</td>\n",
       "      <td>0.016760</td>\n",
       "      <td>Meat</td>\n",
       "      <td>141.6180</td>\n",
       "      <td>OUT049</td>\n",
       "      <td>1999</td>\n",
       "      <td>Medium</td>\n",
       "      <td>Tier 1</td>\n",
       "      <td>Supermarket Type1</td>\n",
       "      <td>2097.2700</td>\n",
       "    </tr>\n",
       "    <tr>\n",
       "      <th>3</th>\n",
       "      <td>FDX07</td>\n",
       "      <td>19.20</td>\n",
       "      <td>Regular</td>\n",
       "      <td>0.000000</td>\n",
       "      <td>Fruits and Vegetables</td>\n",
       "      <td>182.0950</td>\n",
       "      <td>OUT010</td>\n",
       "      <td>1998</td>\n",
       "      <td>NaN</td>\n",
       "      <td>Tier 3</td>\n",
       "      <td>Grocery Store</td>\n",
       "      <td>732.3800</td>\n",
       "    </tr>\n",
       "    <tr>\n",
       "      <th>4</th>\n",
       "      <td>NCD19</td>\n",
       "      <td>8.93</td>\n",
       "      <td>Low Fat</td>\n",
       "      <td>0.000000</td>\n",
       "      <td>Household</td>\n",
       "      <td>53.8614</td>\n",
       "      <td>OUT013</td>\n",
       "      <td>1987</td>\n",
       "      <td>High</td>\n",
       "      <td>Tier 3</td>\n",
       "      <td>Supermarket Type1</td>\n",
       "      <td>994.7052</td>\n",
       "    </tr>\n",
       "  </tbody>\n",
       "</table>\n",
       "</div>"
      ],
      "text/plain": [
       "  Item_Identifier  Item_Weight Item_Fat_Content  Item_Visibility  \\\n",
       "0           FDA15         9.30          Low Fat         0.016047   \n",
       "1           DRC01         5.92          Regular         0.019278   \n",
       "2           FDN15        17.50          Low Fat         0.016760   \n",
       "3           FDX07        19.20          Regular         0.000000   \n",
       "4           NCD19         8.93          Low Fat         0.000000   \n",
       "\n",
       "               Item_Type  Item_MRP Outlet_Identifier  \\\n",
       "0                  Dairy  249.8092            OUT049   \n",
       "1            Soft Drinks   48.2692            OUT018   \n",
       "2                   Meat  141.6180            OUT049   \n",
       "3  Fruits and Vegetables  182.0950            OUT010   \n",
       "4              Household   53.8614            OUT013   \n",
       "\n",
       "   Outlet_Establishment_Year Outlet_Size Outlet_Location_Type  \\\n",
       "0                       1999      Medium               Tier 1   \n",
       "1                       2009      Medium               Tier 3   \n",
       "2                       1999      Medium               Tier 1   \n",
       "3                       1998         NaN               Tier 3   \n",
       "4                       1987        High               Tier 3   \n",
       "\n",
       "         Outlet_Type  Item_Outlet_Sales  \n",
       "0  Supermarket Type1          3735.1380  \n",
       "1  Supermarket Type2           443.4228  \n",
       "2  Supermarket Type1          2097.2700  \n",
       "3      Grocery Store           732.3800  \n",
       "4  Supermarket Type1           994.7052  "
      ]
     },
     "execution_count": 6,
     "metadata": {},
     "output_type": "execute_result"
    }
   ],
   "source": [
    "train_df.head()"
   ]
  },
  {
   "cell_type": "markdown",
   "id": "1ae3fa29",
   "metadata": {
    "papermill": {
     "duration": 0.021986,
     "end_time": "2022-07-30T09:06:12.753095",
     "exception": false,
     "start_time": "2022-07-30T09:06:12.731109",
     "status": "completed"
    },
    "tags": []
   },
   "source": [
    "**Item_Identifier**    -> Unique product ID\n",
    "\n",
    "**Item_Weight**        -> Weight of product\n",
    "\n",
    "**Item_Fat_Content**   -> Whether the product is low fat or not\n",
    "\n",
    "**Item_Visibility**    -> The % of total display area of all products in a store allocated to the particular product\n",
    "\n",
    "**Item_Type**          -> The category to which the product belongs\n",
    "\n",
    "**Item_MRP**           -> Maximum Retail Price (list price) of the product\n",
    "\n",
    "**Outlet_Identifier**  -> Unique store ID\n",
    "\n",
    "**Outlet_Establishment_Year** -> The year in which store was established\n",
    "\n",
    "**Outlet_Size**        -> The size of the store in terms of ground area covered\n",
    "\n",
    "**Outlet_Location_Type** -> The type of city in which the store is located\n",
    "\n",
    "**Outlet_Type**        -> Whether the outlet is just a grocery store or some sort of supermarket\n",
    "\n",
    "**Item_Outlet_Sales** (Target) -> Sales of the product in the particular store. This is the outcome variable to be predicted."
   ]
  },
  {
   "cell_type": "code",
   "execution_count": 7,
   "id": "b73b63f2",
   "metadata": {
    "execution": {
     "iopub.execute_input": "2022-07-30T09:06:12.800621Z",
     "iopub.status.busy": "2022-07-30T09:06:12.799918Z",
     "iopub.status.idle": "2022-07-30T09:06:12.832704Z",
     "shell.execute_reply": "2022-07-30T09:06:12.831780Z"
    },
    "papermill": {
     "duration": 0.059461,
     "end_time": "2022-07-30T09:06:12.835716",
     "exception": false,
     "start_time": "2022-07-30T09:06:12.776255",
     "status": "completed"
    },
    "tags": []
   },
   "outputs": [
    {
     "name": "stdout",
     "output_type": "stream",
     "text": [
      "<class 'pandas.core.frame.DataFrame'>\n",
      "RangeIndex: 8523 entries, 0 to 8522\n",
      "Data columns (total 12 columns):\n",
      " #   Column                     Non-Null Count  Dtype  \n",
      "---  ------                     --------------  -----  \n",
      " 0   Item_Identifier            8523 non-null   object \n",
      " 1   Item_Weight                7060 non-null   float64\n",
      " 2   Item_Fat_Content           8523 non-null   object \n",
      " 3   Item_Visibility            8523 non-null   float64\n",
      " 4   Item_Type                  8523 non-null   object \n",
      " 5   Item_MRP                   8523 non-null   float64\n",
      " 6   Outlet_Identifier          8523 non-null   object \n",
      " 7   Outlet_Establishment_Year  8523 non-null   int64  \n",
      " 8   Outlet_Size                6113 non-null   object \n",
      " 9   Outlet_Location_Type       8523 non-null   object \n",
      " 10  Outlet_Type                8523 non-null   object \n",
      " 11  Item_Outlet_Sales          8523 non-null   float64\n",
      "dtypes: float64(4), int64(1), object(7)\n",
      "memory usage: 799.2+ KB\n"
     ]
    }
   ],
   "source": [
    "train_df.info()"
   ]
  },
  {
   "cell_type": "code",
   "execution_count": 8,
   "id": "3a51f1f4",
   "metadata": {
    "execution": {
     "iopub.execute_input": "2022-07-30T09:06:12.883948Z",
     "iopub.status.busy": "2022-07-30T09:06:12.883255Z",
     "iopub.status.idle": "2022-07-30T09:06:12.914488Z",
     "shell.execute_reply": "2022-07-30T09:06:12.913564Z"
    },
    "papermill": {
     "duration": 0.057361,
     "end_time": "2022-07-30T09:06:12.916655",
     "exception": false,
     "start_time": "2022-07-30T09:06:12.859294",
     "status": "completed"
    },
    "tags": []
   },
   "outputs": [
    {
     "data": {
      "text/html": [
       "<div>\n",
       "<style scoped>\n",
       "    .dataframe tbody tr th:only-of-type {\n",
       "        vertical-align: middle;\n",
       "    }\n",
       "\n",
       "    .dataframe tbody tr th {\n",
       "        vertical-align: top;\n",
       "    }\n",
       "\n",
       "    .dataframe thead th {\n",
       "        text-align: right;\n",
       "    }\n",
       "</style>\n",
       "<table border=\"1\" class=\"dataframe\">\n",
       "  <thead>\n",
       "    <tr style=\"text-align: right;\">\n",
       "      <th></th>\n",
       "      <th>Item_Weight</th>\n",
       "      <th>Item_Visibility</th>\n",
       "      <th>Item_MRP</th>\n",
       "      <th>Outlet_Establishment_Year</th>\n",
       "      <th>Item_Outlet_Sales</th>\n",
       "    </tr>\n",
       "  </thead>\n",
       "  <tbody>\n",
       "    <tr>\n",
       "      <th>count</th>\n",
       "      <td>7060.000000</td>\n",
       "      <td>8523.000000</td>\n",
       "      <td>8523.000000</td>\n",
       "      <td>8523.000000</td>\n",
       "      <td>8523.000000</td>\n",
       "    </tr>\n",
       "    <tr>\n",
       "      <th>mean</th>\n",
       "      <td>12.857645</td>\n",
       "      <td>0.066132</td>\n",
       "      <td>140.992782</td>\n",
       "      <td>1997.831867</td>\n",
       "      <td>2181.288914</td>\n",
       "    </tr>\n",
       "    <tr>\n",
       "      <th>std</th>\n",
       "      <td>4.643456</td>\n",
       "      <td>0.051598</td>\n",
       "      <td>62.275067</td>\n",
       "      <td>8.371760</td>\n",
       "      <td>1706.499616</td>\n",
       "    </tr>\n",
       "    <tr>\n",
       "      <th>min</th>\n",
       "      <td>4.555000</td>\n",
       "      <td>0.000000</td>\n",
       "      <td>31.290000</td>\n",
       "      <td>1985.000000</td>\n",
       "      <td>33.290000</td>\n",
       "    </tr>\n",
       "    <tr>\n",
       "      <th>25%</th>\n",
       "      <td>8.773750</td>\n",
       "      <td>0.026989</td>\n",
       "      <td>93.826500</td>\n",
       "      <td>1987.000000</td>\n",
       "      <td>834.247400</td>\n",
       "    </tr>\n",
       "    <tr>\n",
       "      <th>50%</th>\n",
       "      <td>12.600000</td>\n",
       "      <td>0.053931</td>\n",
       "      <td>143.012800</td>\n",
       "      <td>1999.000000</td>\n",
       "      <td>1794.331000</td>\n",
       "    </tr>\n",
       "    <tr>\n",
       "      <th>75%</th>\n",
       "      <td>16.850000</td>\n",
       "      <td>0.094585</td>\n",
       "      <td>185.643700</td>\n",
       "      <td>2004.000000</td>\n",
       "      <td>3101.296400</td>\n",
       "    </tr>\n",
       "    <tr>\n",
       "      <th>max</th>\n",
       "      <td>21.350000</td>\n",
       "      <td>0.328391</td>\n",
       "      <td>266.888400</td>\n",
       "      <td>2009.000000</td>\n",
       "      <td>13086.964800</td>\n",
       "    </tr>\n",
       "  </tbody>\n",
       "</table>\n",
       "</div>"
      ],
      "text/plain": [
       "       Item_Weight  Item_Visibility     Item_MRP  Outlet_Establishment_Year  \\\n",
       "count  7060.000000      8523.000000  8523.000000                8523.000000   \n",
       "mean     12.857645         0.066132   140.992782                1997.831867   \n",
       "std       4.643456         0.051598    62.275067                   8.371760   \n",
       "min       4.555000         0.000000    31.290000                1985.000000   \n",
       "25%       8.773750         0.026989    93.826500                1987.000000   \n",
       "50%      12.600000         0.053931   143.012800                1999.000000   \n",
       "75%      16.850000         0.094585   185.643700                2004.000000   \n",
       "max      21.350000         0.328391   266.888400                2009.000000   \n",
       "\n",
       "       Item_Outlet_Sales  \n",
       "count        8523.000000  \n",
       "mean         2181.288914  \n",
       "std          1706.499616  \n",
       "min            33.290000  \n",
       "25%           834.247400  \n",
       "50%          1794.331000  \n",
       "75%          3101.296400  \n",
       "max         13086.964800  "
      ]
     },
     "execution_count": 8,
     "metadata": {},
     "output_type": "execute_result"
    }
   ],
   "source": [
    "train_df.describe()"
   ]
  },
  {
   "cell_type": "markdown",
   "id": "e68b73bf",
   "metadata": {
    "papermill": {
     "duration": 0.022055,
     "end_time": "2022-07-30T09:06:12.961151",
     "exception": false,
     "start_time": "2022-07-30T09:06:12.939096",
     "status": "completed"
    },
    "tags": []
   },
   "source": [
    "### Understanding Categorical Variables"
   ]
  },
  {
   "cell_type": "code",
   "execution_count": 9,
   "id": "2c2a40e8",
   "metadata": {
    "execution": {
     "iopub.execute_input": "2022-07-30T09:06:13.009662Z",
     "iopub.status.busy": "2022-07-30T09:06:13.008975Z",
     "iopub.status.idle": "2022-07-30T09:06:13.019415Z",
     "shell.execute_reply": "2022-07-30T09:06:13.018500Z"
    },
    "papermill": {
     "duration": 0.037047,
     "end_time": "2022-07-30T09:06:13.021504",
     "exception": false,
     "start_time": "2022-07-30T09:06:12.984457",
     "status": "completed"
    },
    "tags": []
   },
   "outputs": [
    {
     "data": {
      "text/plain": [
       "FDW13    10\n",
       "FDG33    10\n",
       "NCY18     9\n",
       "FDD38     9\n",
       "DRE49     9\n",
       "         ..\n",
       "FDY43     1\n",
       "FDQ60     1\n",
       "FDO33     1\n",
       "DRF48     1\n",
       "FDC23     1\n",
       "Name: Item_Identifier, Length: 1559, dtype: int64"
      ]
     },
     "execution_count": 9,
     "metadata": {},
     "output_type": "execute_result"
    }
   ],
   "source": [
    "train_df.Item_Identifier.value_counts()"
   ]
  },
  {
   "cell_type": "markdown",
   "id": "188ba51b",
   "metadata": {
    "papermill": {
     "duration": 0.022291,
     "end_time": "2022-07-30T09:06:13.067079",
     "exception": false,
     "start_time": "2022-07-30T09:06:13.044788",
     "status": "completed"
    },
    "tags": []
   },
   "source": [
    "Since the number of categories is quite large, OneHotEncoding this categorical Variable will lead to very high memory consumption and increase in training time. Hence I will not use this column while training the model. "
   ]
  },
  {
   "cell_type": "code",
   "execution_count": 10,
   "id": "d889dc0e",
   "metadata": {
    "execution": {
     "iopub.execute_input": "2022-07-30T09:06:13.114511Z",
     "iopub.status.busy": "2022-07-30T09:06:13.113570Z",
     "iopub.status.idle": "2022-07-30T09:06:13.122453Z",
     "shell.execute_reply": "2022-07-30T09:06:13.121502Z"
    },
    "papermill": {
     "duration": 0.035267,
     "end_time": "2022-07-30T09:06:13.124777",
     "exception": false,
     "start_time": "2022-07-30T09:06:13.089510",
     "status": "completed"
    },
    "tags": []
   },
   "outputs": [
    {
     "data": {
      "text/plain": [
       "Low Fat    5089\n",
       "Regular    2889\n",
       "LF          316\n",
       "reg         117\n",
       "low fat     112\n",
       "Name: Item_Fat_Content, dtype: int64"
      ]
     },
     "execution_count": 10,
     "metadata": {},
     "output_type": "execute_result"
    }
   ],
   "source": [
    "train_df.Item_Fat_Content.value_counts()"
   ]
  },
  {
   "cell_type": "markdown",
   "id": "178a22ea",
   "metadata": {
    "papermill": {
     "duration": 0.022359,
     "end_time": "2022-07-30T09:06:13.170760",
     "exception": false,
     "start_time": "2022-07-30T09:06:13.148401",
     "status": "completed"
    },
    "tags": []
   },
   "source": [
    "LF - Low Fat\n",
    "low fat - Low Fat\n",
    "reg - Regular\n",
    "These things must be handled"
   ]
  },
  {
   "cell_type": "code",
   "execution_count": 11,
   "id": "161e18d0",
   "metadata": {
    "execution": {
     "iopub.execute_input": "2022-07-30T09:06:13.218344Z",
     "iopub.status.busy": "2022-07-30T09:06:13.217749Z",
     "iopub.status.idle": "2022-07-30T09:06:13.226565Z",
     "shell.execute_reply": "2022-07-30T09:06:13.225314Z"
    },
    "papermill": {
     "duration": 0.035618,
     "end_time": "2022-07-30T09:06:13.228994",
     "exception": false,
     "start_time": "2022-07-30T09:06:13.193376",
     "status": "completed"
    },
    "tags": []
   },
   "outputs": [
    {
     "data": {
      "text/plain": [
       "Fruits and Vegetables    1232\n",
       "Snack Foods              1200\n",
       "Household                 910\n",
       "Frozen Foods              856\n",
       "Dairy                     682\n",
       "Canned                    649\n",
       "Baking Goods              648\n",
       "Health and Hygiene        520\n",
       "Soft Drinks               445\n",
       "Meat                      425\n",
       "Breads                    251\n",
       "Hard Drinks               214\n",
       "Others                    169\n",
       "Starchy Foods             148\n",
       "Breakfast                 110\n",
       "Seafood                    64\n",
       "Name: Item_Type, dtype: int64"
      ]
     },
     "execution_count": 11,
     "metadata": {},
     "output_type": "execute_result"
    }
   ],
   "source": [
    "train_df.Item_Type.value_counts()"
   ]
  },
  {
   "cell_type": "code",
   "execution_count": 12,
   "id": "519ad22b",
   "metadata": {
    "execution": {
     "iopub.execute_input": "2022-07-30T09:06:13.276972Z",
     "iopub.status.busy": "2022-07-30T09:06:13.276519Z",
     "iopub.status.idle": "2022-07-30T09:06:13.287253Z",
     "shell.execute_reply": "2022-07-30T09:06:13.285970Z"
    },
    "papermill": {
     "duration": 0.037541,
     "end_time": "2022-07-30T09:06:13.289561",
     "exception": false,
     "start_time": "2022-07-30T09:06:13.252020",
     "status": "completed"
    },
    "tags": []
   },
   "outputs": [
    {
     "data": {
      "text/plain": [
       "OUT027    935\n",
       "OUT013    932\n",
       "OUT049    930\n",
       "OUT046    930\n",
       "OUT035    930\n",
       "OUT045    929\n",
       "OUT018    928\n",
       "OUT017    926\n",
       "OUT010    555\n",
       "OUT019    528\n",
       "Name: Outlet_Identifier, dtype: int64"
      ]
     },
     "execution_count": 12,
     "metadata": {},
     "output_type": "execute_result"
    }
   ],
   "source": [
    "train_df.Outlet_Identifier.value_counts()"
   ]
  },
  {
   "cell_type": "code",
   "execution_count": 13,
   "id": "1d8965ad",
   "metadata": {
    "execution": {
     "iopub.execute_input": "2022-07-30T09:06:13.338981Z",
     "iopub.status.busy": "2022-07-30T09:06:13.338554Z",
     "iopub.status.idle": "2022-07-30T09:06:13.347136Z",
     "shell.execute_reply": "2022-07-30T09:06:13.346058Z"
    },
    "papermill": {
     "duration": 0.036423,
     "end_time": "2022-07-30T09:06:13.349184",
     "exception": false,
     "start_time": "2022-07-30T09:06:13.312761",
     "status": "completed"
    },
    "tags": []
   },
   "outputs": [
    {
     "data": {
      "text/plain": [
       "Supermarket Type1    5577\n",
       "Grocery Store        1083\n",
       "Supermarket Type3     935\n",
       "Supermarket Type2     928\n",
       "Name: Outlet_Type, dtype: int64"
      ]
     },
     "execution_count": 13,
     "metadata": {},
     "output_type": "execute_result"
    }
   ],
   "source": [
    "train_df.Outlet_Type.value_counts()"
   ]
  },
  {
   "cell_type": "code",
   "execution_count": 14,
   "id": "e2fa466e",
   "metadata": {
    "execution": {
     "iopub.execute_input": "2022-07-30T09:06:13.397700Z",
     "iopub.status.busy": "2022-07-30T09:06:13.397104Z",
     "iopub.status.idle": "2022-07-30T09:06:13.406012Z",
     "shell.execute_reply": "2022-07-30T09:06:13.404636Z"
    },
    "papermill": {
     "duration": 0.035968,
     "end_time": "2022-07-30T09:06:13.408158",
     "exception": false,
     "start_time": "2022-07-30T09:06:13.372190",
     "status": "completed"
    },
    "tags": []
   },
   "outputs": [
    {
     "data": {
      "text/plain": [
       "Tier 3    3350\n",
       "Tier 2    2785\n",
       "Tier 1    2388\n",
       "Name: Outlet_Location_Type, dtype: int64"
      ]
     },
     "execution_count": 14,
     "metadata": {},
     "output_type": "execute_result"
    }
   ],
   "source": [
    "train_df.Outlet_Location_Type.value_counts()"
   ]
  },
  {
   "cell_type": "code",
   "execution_count": 15,
   "id": "61a67bad",
   "metadata": {
    "execution": {
     "iopub.execute_input": "2022-07-30T09:06:13.456856Z",
     "iopub.status.busy": "2022-07-30T09:06:13.456188Z",
     "iopub.status.idle": "2022-07-30T09:06:13.464450Z",
     "shell.execute_reply": "2022-07-30T09:06:13.463636Z"
    },
    "papermill": {
     "duration": 0.035089,
     "end_time": "2022-07-30T09:06:13.466605",
     "exception": false,
     "start_time": "2022-07-30T09:06:13.431516",
     "status": "completed"
    },
    "tags": []
   },
   "outputs": [
    {
     "data": {
      "text/plain": [
       "Medium    2793\n",
       "Small     2388\n",
       "High       932\n",
       "Name: Outlet_Size, dtype: int64"
      ]
     },
     "execution_count": 15,
     "metadata": {},
     "output_type": "execute_result"
    }
   ],
   "source": [
    "train_df.Outlet_Size.value_counts()"
   ]
  },
  {
   "cell_type": "markdown",
   "id": "334d54c9",
   "metadata": {
    "papermill": {
     "duration": 0.023436,
     "end_time": "2022-07-30T09:06:13.513885",
     "exception": false,
     "start_time": "2022-07-30T09:06:13.490449",
     "status": "completed"
    },
    "tags": []
   },
   "source": [
    "# Filling in Missing Values"
   ]
  },
  {
   "cell_type": "code",
   "execution_count": 16,
   "id": "f857cfb1",
   "metadata": {
    "execution": {
     "iopub.execute_input": "2022-07-30T09:06:13.562859Z",
     "iopub.status.busy": "2022-07-30T09:06:13.562147Z",
     "iopub.status.idle": "2022-07-30T09:06:13.577282Z",
     "shell.execute_reply": "2022-07-30T09:06:13.576278Z"
    },
    "papermill": {
     "duration": 0.042045,
     "end_time": "2022-07-30T09:06:13.579373",
     "exception": false,
     "start_time": "2022-07-30T09:06:13.537328",
     "status": "completed"
    },
    "tags": []
   },
   "outputs": [
    {
     "data": {
      "text/plain": [
       "Item_Identifier                 0\n",
       "Item_Weight                  1463\n",
       "Item_Fat_Content                0\n",
       "Item_Visibility                 0\n",
       "Item_Type                       0\n",
       "Item_MRP                        0\n",
       "Outlet_Identifier               0\n",
       "Outlet_Establishment_Year       0\n",
       "Outlet_Size                  2410\n",
       "Outlet_Location_Type            0\n",
       "Outlet_Type                     0\n",
       "Item_Outlet_Sales               0\n",
       "dtype: int64"
      ]
     },
     "execution_count": 16,
     "metadata": {},
     "output_type": "execute_result"
    }
   ],
   "source": [
    "train_df.isna().sum()"
   ]
  },
  {
   "cell_type": "code",
   "execution_count": 17,
   "id": "6323757d",
   "metadata": {
    "execution": {
     "iopub.execute_input": "2022-07-30T09:06:13.628946Z",
     "iopub.status.busy": "2022-07-30T09:06:13.628262Z",
     "iopub.status.idle": "2022-07-30T09:06:13.640700Z",
     "shell.execute_reply": "2022-07-30T09:06:13.639905Z"
    },
    "papermill": {
     "duration": 0.039941,
     "end_time": "2022-07-30T09:06:13.642996",
     "exception": false,
     "start_time": "2022-07-30T09:06:13.603055",
     "status": "completed"
    },
    "tags": []
   },
   "outputs": [
    {
     "data": {
      "text/plain": [
       "Item_Identifier                 0\n",
       "Item_Weight                   976\n",
       "Item_Fat_Content                0\n",
       "Item_Visibility                 0\n",
       "Item_Type                       0\n",
       "Item_MRP                        0\n",
       "Outlet_Identifier               0\n",
       "Outlet_Establishment_Year       0\n",
       "Outlet_Size                  1606\n",
       "Outlet_Location_Type            0\n",
       "Outlet_Type                     0\n",
       "dtype: int64"
      ]
     },
     "execution_count": 17,
     "metadata": {},
     "output_type": "execute_result"
    }
   ],
   "source": [
    "test_df.isna().sum()"
   ]
  },
  {
   "cell_type": "markdown",
   "id": "f5c4cf4c",
   "metadata": {
    "papermill": {
     "duration": 0.024908,
     "end_time": "2022-07-30T09:06:13.692153",
     "exception": false,
     "start_time": "2022-07-30T09:06:13.667245",
     "status": "completed"
    },
    "tags": []
   },
   "source": [
    "Since Item_Weight and Outlet_Size are having Null values, they have to be imputed and Outlet establishment year do not have any significance if we are calcuating the sales. But, if I get the age of the outlet, then it might be useful."
   ]
  },
  {
   "cell_type": "code",
   "execution_count": 18,
   "id": "9c97b761",
   "metadata": {
    "execution": {
     "iopub.execute_input": "2022-07-30T09:06:13.741310Z",
     "iopub.status.busy": "2022-07-30T09:06:13.740933Z",
     "iopub.status.idle": "2022-07-30T09:06:13.766400Z",
     "shell.execute_reply": "2022-07-30T09:06:13.765152Z"
    },
    "papermill": {
     "duration": 0.053161,
     "end_time": "2022-07-30T09:06:13.768927",
     "exception": false,
     "start_time": "2022-07-30T09:06:13.715766",
     "status": "completed"
    },
    "tags": []
   },
   "outputs": [
    {
     "data": {
      "text/html": [
       "<div>\n",
       "<style scoped>\n",
       "    .dataframe tbody tr th:only-of-type {\n",
       "        vertical-align: middle;\n",
       "    }\n",
       "\n",
       "    .dataframe tbody tr th {\n",
       "        vertical-align: top;\n",
       "    }\n",
       "\n",
       "    .dataframe thead th {\n",
       "        text-align: right;\n",
       "    }\n",
       "</style>\n",
       "<table border=\"1\" class=\"dataframe\">\n",
       "  <thead>\n",
       "    <tr style=\"text-align: right;\">\n",
       "      <th></th>\n",
       "      <th>Outlet_Identifier</th>\n",
       "      <th>Outlet_Size</th>\n",
       "    </tr>\n",
       "  </thead>\n",
       "  <tbody>\n",
       "    <tr>\n",
       "      <th>0</th>\n",
       "      <td>OUT013</td>\n",
       "      <td>High</td>\n",
       "    </tr>\n",
       "    <tr>\n",
       "      <th>1</th>\n",
       "      <td>OUT018</td>\n",
       "      <td>Medium</td>\n",
       "    </tr>\n",
       "    <tr>\n",
       "      <th>2</th>\n",
       "      <td>OUT019</td>\n",
       "      <td>Small</td>\n",
       "    </tr>\n",
       "    <tr>\n",
       "      <th>3</th>\n",
       "      <td>OUT027</td>\n",
       "      <td>Medium</td>\n",
       "    </tr>\n",
       "    <tr>\n",
       "      <th>4</th>\n",
       "      <td>OUT035</td>\n",
       "      <td>Small</td>\n",
       "    </tr>\n",
       "    <tr>\n",
       "      <th>5</th>\n",
       "      <td>OUT046</td>\n",
       "      <td>Small</td>\n",
       "    </tr>\n",
       "    <tr>\n",
       "      <th>6</th>\n",
       "      <td>OUT049</td>\n",
       "      <td>Medium</td>\n",
       "    </tr>\n",
       "  </tbody>\n",
       "</table>\n",
       "</div>"
      ],
      "text/plain": [
       "  Outlet_Identifier Outlet_Size\n",
       "0            OUT013        High\n",
       "1            OUT018      Medium\n",
       "2            OUT019       Small\n",
       "3            OUT027      Medium\n",
       "4            OUT035       Small\n",
       "5            OUT046       Small\n",
       "6            OUT049      Medium"
      ]
     },
     "execution_count": 18,
     "metadata": {},
     "output_type": "execute_result"
    }
   ],
   "source": [
    "outlet_table = train_df.groupby(by=['Outlet_Identifier','Outlet_Size']).count().reset_index()[['Outlet_Identifier','Outlet_Size']]\n",
    "outlet_table"
   ]
  },
  {
   "cell_type": "markdown",
   "id": "c89e468b",
   "metadata": {
    "papermill": {
     "duration": 0.023368,
     "end_time": "2022-07-30T09:06:13.816346",
     "exception": false,
     "start_time": "2022-07-30T09:06:13.792978",
     "status": "completed"
    },
    "tags": []
   },
   "source": [
    "Seems like the data is available for only 7 of the 10 shops. That might be the reason why there are so many missing values in Outlet_Size. Let me try to analyze the Outlet Type and Outlet Size."
   ]
  },
  {
   "cell_type": "code",
   "execution_count": 19,
   "id": "55f4846e",
   "metadata": {
    "execution": {
     "iopub.execute_input": "2022-07-30T09:06:13.865579Z",
     "iopub.status.busy": "2022-07-30T09:06:13.865152Z",
     "iopub.status.idle": "2022-07-30T09:06:13.890596Z",
     "shell.execute_reply": "2022-07-30T09:06:13.889388Z"
    },
    "papermill": {
     "duration": 0.052897,
     "end_time": "2022-07-30T09:06:13.892964",
     "exception": false,
     "start_time": "2022-07-30T09:06:13.840067",
     "status": "completed"
    },
    "tags": []
   },
   "outputs": [
    {
     "data": {
      "text/html": [
       "<div>\n",
       "<style scoped>\n",
       "    .dataframe tbody tr th:only-of-type {\n",
       "        vertical-align: middle;\n",
       "    }\n",
       "\n",
       "    .dataframe tbody tr th {\n",
       "        vertical-align: top;\n",
       "    }\n",
       "\n",
       "    .dataframe thead th {\n",
       "        text-align: right;\n",
       "    }\n",
       "</style>\n",
       "<table border=\"1\" class=\"dataframe\">\n",
       "  <thead>\n",
       "    <tr style=\"text-align: right;\">\n",
       "      <th></th>\n",
       "      <th>Outlet_Type</th>\n",
       "      <th>Outlet_Size</th>\n",
       "    </tr>\n",
       "  </thead>\n",
       "  <tbody>\n",
       "    <tr>\n",
       "      <th>0</th>\n",
       "      <td>Grocery Store</td>\n",
       "      <td>Small</td>\n",
       "    </tr>\n",
       "    <tr>\n",
       "      <th>1</th>\n",
       "      <td>Supermarket Type1</td>\n",
       "      <td>High</td>\n",
       "    </tr>\n",
       "    <tr>\n",
       "      <th>2</th>\n",
       "      <td>Supermarket Type1</td>\n",
       "      <td>Medium</td>\n",
       "    </tr>\n",
       "    <tr>\n",
       "      <th>3</th>\n",
       "      <td>Supermarket Type1</td>\n",
       "      <td>Small</td>\n",
       "    </tr>\n",
       "    <tr>\n",
       "      <th>4</th>\n",
       "      <td>Supermarket Type2</td>\n",
       "      <td>Medium</td>\n",
       "    </tr>\n",
       "    <tr>\n",
       "      <th>5</th>\n",
       "      <td>Supermarket Type3</td>\n",
       "      <td>Medium</td>\n",
       "    </tr>\n",
       "  </tbody>\n",
       "</table>\n",
       "</div>"
      ],
      "text/plain": [
       "         Outlet_Type Outlet_Size\n",
       "0      Grocery Store       Small\n",
       "1  Supermarket Type1        High\n",
       "2  Supermarket Type1      Medium\n",
       "3  Supermarket Type1       Small\n",
       "4  Supermarket Type2      Medium\n",
       "5  Supermarket Type3      Medium"
      ]
     },
     "execution_count": 19,
     "metadata": {},
     "output_type": "execute_result"
    }
   ],
   "source": [
    "outlet_table = train_df.groupby(by=['Outlet_Type','Outlet_Size']).count().reset_index()[['Outlet_Type','Outlet_Size']]\n",
    "outlet_table"
   ]
  },
  {
   "cell_type": "markdown",
   "id": "23746f0d",
   "metadata": {
    "papermill": {
     "duration": 0.024712,
     "end_time": "2022-07-30T09:06:13.942793",
     "exception": false,
     "start_time": "2022-07-30T09:06:13.918081",
     "status": "completed"
    },
    "tags": []
   },
   "source": [
    "SuperMarket type2 and type 3 are mostly Medium size and Grocery Store is Small Size. But if the type is super market type 1, I there are all 3 possibilities. I will impute the most frequent values just in case if the type3 store occurs."
   ]
  },
  {
   "cell_type": "code",
   "execution_count": 20,
   "id": "1bb5996e",
   "metadata": {
    "execution": {
     "iopub.execute_input": "2022-07-30T09:06:13.994995Z",
     "iopub.status.busy": "2022-07-30T09:06:13.993995Z",
     "iopub.status.idle": "2022-07-30T09:06:14.030992Z",
     "shell.execute_reply": "2022-07-30T09:06:14.029610Z"
    },
    "papermill": {
     "duration": 0.065459,
     "end_time": "2022-07-30T09:06:14.033268",
     "exception": false,
     "start_time": "2022-07-30T09:06:13.967809",
     "status": "completed"
    },
    "tags": []
   },
   "outputs": [
    {
     "data": {
      "text/html": [
       "<div>\n",
       "<style scoped>\n",
       "    .dataframe tbody tr th:only-of-type {\n",
       "        vertical-align: middle;\n",
       "    }\n",
       "\n",
       "    .dataframe tbody tr th {\n",
       "        vertical-align: top;\n",
       "    }\n",
       "\n",
       "    .dataframe thead th {\n",
       "        text-align: right;\n",
       "    }\n",
       "</style>\n",
       "<table border=\"1\" class=\"dataframe\">\n",
       "  <thead>\n",
       "    <tr style=\"text-align: right;\">\n",
       "      <th></th>\n",
       "      <th>Item_Identifier</th>\n",
       "      <th>Item_Weight</th>\n",
       "    </tr>\n",
       "  </thead>\n",
       "  <tbody>\n",
       "    <tr>\n",
       "      <th>0</th>\n",
       "      <td>DRA12</td>\n",
       "      <td>11.600</td>\n",
       "    </tr>\n",
       "    <tr>\n",
       "      <th>1</th>\n",
       "      <td>DRA24</td>\n",
       "      <td>19.350</td>\n",
       "    </tr>\n",
       "    <tr>\n",
       "      <th>2</th>\n",
       "      <td>DRA59</td>\n",
       "      <td>8.270</td>\n",
       "    </tr>\n",
       "    <tr>\n",
       "      <th>3</th>\n",
       "      <td>DRB01</td>\n",
       "      <td>7.390</td>\n",
       "    </tr>\n",
       "    <tr>\n",
       "      <th>4</th>\n",
       "      <td>DRB13</td>\n",
       "      <td>6.115</td>\n",
       "    </tr>\n",
       "    <tr>\n",
       "      <th>...</th>\n",
       "      <td>...</td>\n",
       "      <td>...</td>\n",
       "    </tr>\n",
       "    <tr>\n",
       "      <th>1550</th>\n",
       "      <td>NCZ30</td>\n",
       "      <td>6.590</td>\n",
       "    </tr>\n",
       "    <tr>\n",
       "      <th>1551</th>\n",
       "      <td>NCZ41</td>\n",
       "      <td>19.850</td>\n",
       "    </tr>\n",
       "    <tr>\n",
       "      <th>1552</th>\n",
       "      <td>NCZ42</td>\n",
       "      <td>10.500</td>\n",
       "    </tr>\n",
       "    <tr>\n",
       "      <th>1553</th>\n",
       "      <td>NCZ53</td>\n",
       "      <td>9.600</td>\n",
       "    </tr>\n",
       "    <tr>\n",
       "      <th>1554</th>\n",
       "      <td>NCZ54</td>\n",
       "      <td>14.650</td>\n",
       "    </tr>\n",
       "  </tbody>\n",
       "</table>\n",
       "<p>1555 rows × 2 columns</p>\n",
       "</div>"
      ],
      "text/plain": [
       "     Item_Identifier  Item_Weight\n",
       "0              DRA12       11.600\n",
       "1              DRA24       19.350\n",
       "2              DRA59        8.270\n",
       "3              DRB01        7.390\n",
       "4              DRB13        6.115\n",
       "...              ...          ...\n",
       "1550           NCZ30        6.590\n",
       "1551           NCZ41       19.850\n",
       "1552           NCZ42       10.500\n",
       "1553           NCZ53        9.600\n",
       "1554           NCZ54       14.650\n",
       "\n",
       "[1555 rows x 2 columns]"
      ]
     },
     "execution_count": 20,
     "metadata": {},
     "output_type": "execute_result"
    }
   ],
   "source": [
    "item_table = train_df.groupby(by=['Item_Identifier','Item_Weight']).count().reset_index()[['Item_Identifier','Item_Weight']].groupby('Item_Identifier').mean().reset_index()\n",
    "item_table"
   ]
  },
  {
   "cell_type": "markdown",
   "id": "a3463ae5",
   "metadata": {
    "papermill": {
     "duration": 0.024083,
     "end_time": "2022-07-30T09:06:14.082637",
     "exception": false,
     "start_time": "2022-07-30T09:06:14.058554",
     "status": "completed"
    },
    "tags": []
   },
   "source": [
    "I have created two tables outlet_table and item_table which consists of the outlets types and their respective sizes and item and their mean weights. I will impute these values in the the train_df and if there are even more nan values, I will impute by using the mean."
   ]
  },
  {
   "cell_type": "code",
   "execution_count": 21,
   "id": "dbbfc289",
   "metadata": {
    "execution": {
     "iopub.execute_input": "2022-07-30T09:06:14.133832Z",
     "iopub.status.busy": "2022-07-30T09:06:14.133447Z",
     "iopub.status.idle": "2022-07-30T09:06:14.143289Z",
     "shell.execute_reply": "2022-07-30T09:06:14.142415Z"
    },
    "papermill": {
     "duration": 0.038806,
     "end_time": "2022-07-30T09:06:14.145558",
     "exception": false,
     "start_time": "2022-07-30T09:06:14.106752",
     "status": "completed"
    },
    "tags": []
   },
   "outputs": [],
   "source": [
    "def fillna(dataframe):\n",
    "    \n",
    "    #Imputing Values based on outlet_table and item_table\n",
    "    dataframe['Item_Weight'] = dataframe[['Item_Identifier','Item_Weight']].groupby(by=['Item_Identifier']).transform(lambda x: x.fillna(x.mean()))['Item_Weight']\n",
    "    dataframe['Outlet_Size'] = dataframe[['Outlet_Type','Outlet_Size']].groupby(by='Outlet_Type').transform(lambda x: x.fillna(x.mode()[0]))['Outlet_Size']\n",
    "    \n",
    "    \n",
    "    #Imputing values if there are any more nan values present\n",
    "    dataframe.Item_Weight.fillna(dataframe.Item_Weight.mean(), inplace=True)\n",
    "    dataframe.Outlet_Size.fillna(dataframe.Outlet_Size.mode()[0], inplace=True)\n",
    "    \n",
    "    dataframe.Item_Fat_Content.replace({\"low fat\":\"Low Fat\",\"LF\":\"Low Fat\",\"reg\":\"Regular\"}, inplace=True)\n",
    "    dataframe['Outlet_Age'] = 2022 - pd.to_numeric(dataframe['Outlet_Establishment_Year'])\n",
    "    \n",
    "    return dataframe"
   ]
  },
  {
   "cell_type": "code",
   "execution_count": 22,
   "id": "e4b5acd6",
   "metadata": {
    "execution": {
     "iopub.execute_input": "2022-07-30T09:06:14.196579Z",
     "iopub.status.busy": "2022-07-30T09:06:14.195802Z",
     "iopub.status.idle": "2022-07-30T09:06:16.691450Z",
     "shell.execute_reply": "2022-07-30T09:06:16.690203Z"
    },
    "papermill": {
     "duration": 2.524196,
     "end_time": "2022-07-30T09:06:16.694353",
     "exception": false,
     "start_time": "2022-07-30T09:06:14.170157",
     "status": "completed"
    },
    "tags": []
   },
   "outputs": [
    {
     "data": {
      "text/plain": [
       "Low Fat    5517\n",
       "Regular    3006\n",
       "Name: Item_Fat_Content, dtype: int64"
      ]
     },
     "execution_count": 22,
     "metadata": {},
     "output_type": "execute_result"
    }
   ],
   "source": [
    "fillna(train_df).Item_Fat_Content.value_counts()"
   ]
  },
  {
   "cell_type": "markdown",
   "id": "1e9f4644",
   "metadata": {
    "papermill": {
     "duration": 0.024444,
     "end_time": "2022-07-30T09:06:16.743133",
     "exception": false,
     "start_time": "2022-07-30T09:06:16.718689",
     "status": "completed"
    },
    "tags": []
   },
   "source": [
    "Now, the Item_Fat_Content column is corrected."
   ]
  },
  {
   "cell_type": "code",
   "execution_count": 23,
   "id": "db30f8de",
   "metadata": {
    "execution": {
     "iopub.execute_input": "2022-07-30T09:06:16.793683Z",
     "iopub.status.busy": "2022-07-30T09:06:16.793303Z",
     "iopub.status.idle": "2022-07-30T09:06:19.436753Z",
     "shell.execute_reply": "2022-07-30T09:06:19.434804Z"
    },
    "papermill": {
     "duration": 2.672717,
     "end_time": "2022-07-30T09:06:19.440269",
     "exception": false,
     "start_time": "2022-07-30T09:06:16.767552",
     "status": "completed"
    },
    "tags": []
   },
   "outputs": [
    {
     "data": {
      "text/plain": [
       "Item_Identifier              0\n",
       "Item_Weight                  0\n",
       "Item_Fat_Content             0\n",
       "Item_Visibility              0\n",
       "Item_Type                    0\n",
       "Item_MRP                     0\n",
       "Outlet_Identifier            0\n",
       "Outlet_Establishment_Year    0\n",
       "Outlet_Size                  0\n",
       "Outlet_Location_Type         0\n",
       "Outlet_Type                  0\n",
       "Item_Outlet_Sales            0\n",
       "Outlet_Age                   0\n",
       "dtype: int64"
      ]
     },
     "execution_count": 23,
     "metadata": {},
     "output_type": "execute_result"
    }
   ],
   "source": [
    "fillna(train_df).isna().sum()"
   ]
  },
  {
   "cell_type": "markdown",
   "id": "346b6400",
   "metadata": {
    "papermill": {
     "duration": 0.028075,
     "end_time": "2022-07-30T09:06:19.502184",
     "exception": false,
     "start_time": "2022-07-30T09:06:19.474109",
     "status": "completed"
    },
    "tags": []
   },
   "source": [
    "# Exploratory Data Analysis"
   ]
  },
  {
   "cell_type": "code",
   "execution_count": 24,
   "id": "be32b18d",
   "metadata": {
    "execution": {
     "iopub.execute_input": "2022-07-30T09:06:19.556275Z",
     "iopub.status.busy": "2022-07-30T09:06:19.555211Z",
     "iopub.status.idle": "2022-07-30T09:06:22.138909Z",
     "shell.execute_reply": "2022-07-30T09:06:22.137771Z"
    },
    "papermill": {
     "duration": 2.61405,
     "end_time": "2022-07-30T09:06:22.141396",
     "exception": false,
     "start_time": "2022-07-30T09:06:19.527346",
     "status": "completed"
    },
    "tags": []
   },
   "outputs": [
    {
     "data": {
      "text/plain": [
       "Index(['Item_Identifier', 'Item_Weight', 'Item_Fat_Content', 'Item_Visibility',\n",
       "       'Item_Type', 'Item_MRP', 'Outlet_Identifier',\n",
       "       'Outlet_Establishment_Year', 'Outlet_Size', 'Outlet_Location_Type',\n",
       "       'Outlet_Type', 'Item_Outlet_Sales', 'Outlet_Age'],\n",
       "      dtype='object')"
      ]
     },
     "execution_count": 24,
     "metadata": {},
     "output_type": "execute_result"
    }
   ],
   "source": [
    "eda_df = fillna(train_df).copy()\n",
    "eda_df.columns"
   ]
  },
  {
   "cell_type": "code",
   "execution_count": 25,
   "id": "a823850b",
   "metadata": {
    "execution": {
     "iopub.execute_input": "2022-07-30T09:06:22.197023Z",
     "iopub.status.busy": "2022-07-30T09:06:22.195656Z",
     "iopub.status.idle": "2022-07-30T09:06:22.549037Z",
     "shell.execute_reply": "2022-07-30T09:06:22.547871Z"
    },
    "papermill": {
     "duration": 0.384266,
     "end_time": "2022-07-30T09:06:22.551616",
     "exception": false,
     "start_time": "2022-07-30T09:06:22.167350",
     "status": "completed"
    },
    "tags": []
   },
   "outputs": [
    {
     "data": {
      "text/plain": [
       "<AxesSubplot:xlabel='Item_Outlet_Sales', ylabel='Count'>"
      ]
     },
     "execution_count": 25,
     "metadata": {},
     "output_type": "execute_result"
    },
    {
     "data": {
      "image/png": "[encoded data removed]",
      "text/plain": [
       "<Figure size 432x288 with 1 Axes>"
      ]
     },
     "metadata": {},
     "output_type": "display_data"
    }
   ],
   "source": [
    "sns.histplot(data=eda_df, x='Item_Outlet_Sales')"
   ]
  },
  {
   "cell_type": "code",
   "execution_count": 26,
   "id": "bc9b9d00",
   "metadata": {
    "execution": {
     "iopub.execute_input": "2022-07-30T09:06:22.605413Z",
     "iopub.status.busy": "2022-07-30T09:06:22.604738Z",
     "iopub.status.idle": "2022-07-30T09:06:22.730328Z",
     "shell.execute_reply": "2022-07-30T09:06:22.729050Z"
    },
    "papermill": {
     "duration": 0.15595,
     "end_time": "2022-07-30T09:06:22.733502",
     "exception": false,
     "start_time": "2022-07-30T09:06:22.577552",
     "status": "completed"
    },
    "tags": []
   },
   "outputs": [
    {
     "data": {
      "image/png": "[encoded data removed]",
      "text/plain": [
       "<Figure size 432x288 with 1 Axes>"
      ]
     },
     "metadata": {},
     "output_type": "display_data"
    }
   ],
   "source": [
    "pie=eda_df.groupby(by='Item_Fat_Content').sum()\n",
    "plt.pie(labels=pie.index, x=pie['Item_Outlet_Sales'], explode=[0.03]*len(pie.index) , autopct=\"%.2f\", shadow=True);"
   ]
  },
  {
   "cell_type": "markdown",
   "id": "20b9e67d",
   "metadata": {
    "papermill": {
     "duration": 0.041186,
     "end_time": "2022-07-30T09:06:22.822588",
     "exception": false,
     "start_time": "2022-07-30T09:06:22.781402",
     "status": "completed"
    },
    "tags": []
   },
   "source": [
    "Low Fat products seems to have performed well when compared to the Regular counterparts. This pie chart tells that the people tend to prefer Low Fat products rather than regular ones."
   ]
  },
  {
   "cell_type": "code",
   "execution_count": 27,
   "id": "75c63a22",
   "metadata": {
    "execution": {
     "iopub.execute_input": "2022-07-30T09:06:22.877296Z",
     "iopub.status.busy": "2022-07-30T09:06:22.876919Z",
     "iopub.status.idle": "2022-07-30T09:06:23.029719Z",
     "shell.execute_reply": "2022-07-30T09:06:23.028375Z"
    },
    "papermill": {
     "duration": 0.185251,
     "end_time": "2022-07-30T09:06:23.033561",
     "exception": false,
     "start_time": "2022-07-30T09:06:22.848310",
     "status": "completed"
    },
    "tags": []
   },
   "outputs": [
    {
     "data": {
      "image/png": "[encoded data removed]",
      "text/plain": [
       "<Figure size 432x288 with 1 Axes>"
      ]
     },
     "metadata": {},
     "output_type": "display_data"
    }
   ],
   "source": [
    "pie=eda_df.groupby(by='Outlet_Type').sum()\n",
    "plt.pie(labels=pie.index, x=pie['Item_Outlet_Sales'], explode=[0.05]*len(pie.index), autopct=\"%.2f\",shadow=True);"
   ]
  },
  {
   "cell_type": "markdown",
   "id": "89e824da",
   "metadata": {
    "papermill": {
     "duration": 0.032443,
     "end_time": "2022-07-30T09:06:23.116741",
     "exception": false,
     "start_time": "2022-07-30T09:06:23.084298",
     "status": "completed"
    },
    "tags": []
   },
   "source": [
    "Seems like most of the sales is generated by SuperMarket Type 1 stores and least sales are generated by the Grocery Stores."
   ]
  },
  {
   "cell_type": "code",
   "execution_count": 28,
   "id": "1b90ac19",
   "metadata": {
    "execution": {
     "iopub.execute_input": "2022-07-30T09:06:23.171625Z",
     "iopub.status.busy": "2022-07-30T09:06:23.170390Z",
     "iopub.status.idle": "2022-07-30T09:06:23.274453Z",
     "shell.execute_reply": "2022-07-30T09:06:23.273097Z"
    },
    "papermill": {
     "duration": 0.135133,
     "end_time": "2022-07-30T09:06:23.278082",
     "exception": false,
     "start_time": "2022-07-30T09:06:23.142949",
     "status": "completed"
    },
    "tags": []
   },
   "outputs": [
    {
     "data": {
      "image/png": "[encoded data removed]",
      "text/plain": [
       "<Figure size 432x288 with 1 Axes>"
      ]
     },
     "metadata": {},
     "output_type": "display_data"
    }
   ],
   "source": [
    "pie=eda_df.groupby(by='Outlet_Size').sum()\n",
    "plt.pie(labels=pie.index, x=pie['Item_Outlet_Sales'], explode=[0.03]*len(pie.index), autopct=\"%.2f\",shadow=True);"
   ]
  },
  {
   "cell_type": "markdown",
   "id": "43dd4b1a",
   "metadata": {
    "papermill": {
     "duration": 0.047975,
     "end_time": "2022-07-30T09:06:23.376629",
     "exception": false,
     "start_time": "2022-07-30T09:06:23.328654",
     "status": "completed"
    },
    "tags": []
   },
   "source": [
    "Most sales is generated by Small stores followed by the medium stores. If we look at the above pie chart, the previous pie chart and the table that I created (outlet_table), it is clear that there are only 2 types of stores that are categorized as small. Grocery Store and SuperMarket Type1. This means we can infer that most of the sales of Small type shops are from Supermarket type1 stores."
   ]
  },
  {
   "cell_type": "code",
   "execution_count": 29,
   "id": "07adca13",
   "metadata": {
    "execution": {
     "iopub.execute_input": "2022-07-30T09:06:23.431461Z",
     "iopub.status.busy": "2022-07-30T09:06:23.431034Z",
     "iopub.status.idle": "2022-07-30T09:06:23.529525Z",
     "shell.execute_reply": "2022-07-30T09:06:23.527840Z"
    },
    "papermill": {
     "duration": 0.130239,
     "end_time": "2022-07-30T09:06:23.533562",
     "exception": false,
     "start_time": "2022-07-30T09:06:23.403323",
     "status": "completed"
    },
    "tags": []
   },
   "outputs": [
    {
     "data": {
      "image/png": "[encoded data removed]",
      "text/plain": [
       "<Figure size 432x288 with 1 Axes>"
      ]
     },
     "metadata": {},
     "output_type": "display_data"
    }
   ],
   "source": [
    "pie=eda_df.groupby(by='Outlet_Location_Type').sum()\n",
    "plt.pie(labels=pie.index, x=pie['Item_Outlet_Sales'], explode=[0.03]*len(pie.index), autopct=\"%.2f\");"
   ]
  },
  {
   "cell_type": "code",
   "execution_count": 30,
   "id": "1e153cae",
   "metadata": {
    "execution": {
     "iopub.execute_input": "2022-07-30T09:06:23.628108Z",
     "iopub.status.busy": "2022-07-30T09:06:23.627395Z",
     "iopub.status.idle": "2022-07-30T09:06:23.870291Z",
     "shell.execute_reply": "2022-07-30T09:06:23.869131Z"
    },
    "papermill": {
     "duration": 0.289437,
     "end_time": "2022-07-30T09:06:23.873036",
     "exception": false,
     "start_time": "2022-07-30T09:06:23.583599",
     "status": "completed"
    },
    "tags": []
   },
   "outputs": [
    {
     "data": {
      "image/png": "[encoded data removed]",
      "text/plain": [
       "<Figure size 432x288 with 1 Axes>"
      ]
     },
     "metadata": {},
     "output_type": "display_data"
    }
   ],
   "source": [
    "bar=eda_df.groupby(by='Outlet_Identifier').sum()\n",
    "sns.barplot(data=bar,x=bar.index,y='Item_Outlet_Sales');\n",
    "plt.xticks(rotation=70);"
   ]
  },
  {
   "cell_type": "markdown",
   "id": "f152f15b",
   "metadata": {
    "papermill": {
     "duration": 0.027682,
     "end_time": "2022-07-30T09:06:23.929910",
     "exception": false,
     "start_time": "2022-07-30T09:06:23.902228",
     "status": "completed"
    },
    "tags": []
   },
   "source": [
    "Outlet OUT027 has achieved the highest sales whereas OUT019 and OUT10 have achieved the lowest sales.\n",
    "\n",
    "Let me check the age of these stores so as to find out whether these are newer stores or older ones and check their location."
   ]
  },
  {
   "cell_type": "code",
   "execution_count": 31,
   "id": "d1e23b30",
   "metadata": {
    "execution": {
     "iopub.execute_input": "2022-07-30T09:06:23.986427Z",
     "iopub.status.busy": "2022-07-30T09:06:23.985671Z",
     "iopub.status.idle": "2022-07-30T09:06:24.839561Z",
     "shell.execute_reply": "2022-07-30T09:06:24.838423Z"
    },
    "papermill": {
     "duration": 0.88502,
     "end_time": "2022-07-30T09:06:24.842122",
     "exception": false,
     "start_time": "2022-07-30T09:06:23.957102",
     "status": "completed"
    },
    "tags": []
   },
   "outputs": [
    {
     "data": {
      "image/png": "[encoded data removed]",
      "text/plain": [
       "<Figure size 432x432 with 3 Axes>"
      ]
     },
     "metadata": {},
     "output_type": "display_data"
    }
   ],
   "source": [
    "sns.jointplot(data=eda_df, x='Item_Visibility',y='Item_Outlet_Sales',kind='hex');"
   ]
  },
  {
   "cell_type": "markdown",
   "id": "48a84f42",
   "metadata": {
    "papermill": {
     "duration": 0.029832,
     "end_time": "2022-07-30T09:06:24.904175",
     "exception": false,
     "start_time": "2022-07-30T09:06:24.874343",
     "status": "completed"
    },
    "tags": []
   },
   "source": [
    "It is evident from the above plot that a some of products which had more visibility was not sold that much when compared with a number of products that did not have any visibility. \n",
    "\n",
    "This shows that increase in visibility do not guarantee sale."
   ]
  },
  {
   "cell_type": "code",
   "execution_count": 32,
   "id": "dd0a5085",
   "metadata": {
    "execution": {
     "iopub.execute_input": "2022-07-30T09:06:24.969191Z",
     "iopub.status.busy": "2022-07-30T09:06:24.968434Z",
     "iopub.status.idle": "2022-07-30T09:06:25.605788Z",
     "shell.execute_reply": "2022-07-30T09:06:25.604916Z"
    },
    "papermill": {
     "duration": 0.671178,
     "end_time": "2022-07-30T09:06:25.608508",
     "exception": false,
     "start_time": "2022-07-30T09:06:24.937330",
     "status": "completed"
    },
    "tags": []
   },
   "outputs": [
    {
     "data": {
      "image/png": "[encoded data removed]",
      "text/plain": [
       "<Figure size 432x432 with 3 Axes>"
      ]
     },
     "metadata": {},
     "output_type": "display_data"
    }
   ],
   "source": [
    "sns.jointplot(data=eda_df, x='Item_MRP',y='Item_Outlet_Sales', kind='hex');"
   ]
  },
  {
   "cell_type": "markdown",
   "id": "9679f87f",
   "metadata": {
    "papermill": {
     "duration": 0.028714,
     "end_time": "2022-07-30T09:06:25.666810",
     "exception": false,
     "start_time": "2022-07-30T09:06:25.638096",
     "status": "completed"
    },
    "tags": []
   },
   "source": [
    "The above plot shows that the items with least MRP are sold the most but the total sale value is much lesser when compared to the items that habe more MRP."
   ]
  },
  {
   "cell_type": "markdown",
   "id": "90ddd4fa",
   "metadata": {
    "papermill": {
     "duration": 0.029699,
     "end_time": "2022-07-30T09:06:25.725760",
     "exception": false,
     "start_time": "2022-07-30T09:06:25.696061",
     "status": "completed"
    },
    "tags": []
   },
   "source": [
    "### Conclusions From EDA\n",
    "\n",
    "* people tend to prefer Low Fat products rather than regular ones\n",
    "* most of the sales is generated by SuperMarket Type 1 stores\n",
    "* Most sales is generated by Small stores followed by the medium stores\n",
    "* Outlet OUT027 has achieved the highest sales\n",
    "* some of products which had more visibility was not sold that much when compared with a number of products that did not have any visibility"
   ]
  },
  {
   "cell_type": "markdown",
   "id": "ccbfa5d7",
   "metadata": {
    "papermill": {
     "duration": 0.029709,
     "end_time": "2022-07-30T09:06:25.785039",
     "exception": false,
     "start_time": "2022-07-30T09:06:25.755330",
     "status": "completed"
    },
    "tags": []
   },
   "source": [
    "### Check for multicollinearity"
   ]
  },
  {
   "cell_type": "code",
   "execution_count": 33,
   "id": "038e88e3",
   "metadata": {
    "execution": {
     "iopub.execute_input": "2022-07-30T09:06:25.848079Z",
     "iopub.status.busy": "2022-07-30T09:06:25.847304Z",
     "iopub.status.idle": "2022-07-30T09:06:25.889760Z",
     "shell.execute_reply": "2022-07-30T09:06:25.888534Z"
    },
    "papermill": {
     "duration": 0.077765,
     "end_time": "2022-07-30T09:06:25.893137",
     "exception": false,
     "start_time": "2022-07-30T09:06:25.815372",
     "status": "completed"
    },
    "tags": []
   },
   "outputs": [
    {
     "data": {
      "text/html": [
       "<div>\n",
       "<style scoped>\n",
       "    .dataframe tbody tr th:only-of-type {\n",
       "        vertical-align: middle;\n",
       "    }\n",
       "\n",
       "    .dataframe tbody tr th {\n",
       "        vertical-align: top;\n",
       "    }\n",
       "\n",
       "    .dataframe thead th {\n",
       "        text-align: right;\n",
       "    }\n",
       "</style>\n",
       "<table border=\"1\" class=\"dataframe\">\n",
       "  <thead>\n",
       "    <tr style=\"text-align: right;\">\n",
       "      <th></th>\n",
       "      <th>variables</th>\n",
       "      <th>VIF</th>\n",
       "    </tr>\n",
       "  </thead>\n",
       "  <tbody>\n",
       "    <tr>\n",
       "      <th>0</th>\n",
       "      <td>Item_Weight</td>\n",
       "      <td>5.952439</td>\n",
       "    </tr>\n",
       "    <tr>\n",
       "      <th>1</th>\n",
       "      <td>Item_Visibility</td>\n",
       "      <td>2.518026</td>\n",
       "    </tr>\n",
       "    <tr>\n",
       "      <th>2</th>\n",
       "      <td>Item_MRP</td>\n",
       "      <td>4.823793</td>\n",
       "    </tr>\n",
       "    <tr>\n",
       "      <th>3</th>\n",
       "      <td>Outlet_Age</td>\n",
       "      <td>6.238621</td>\n",
       "    </tr>\n",
       "  </tbody>\n",
       "</table>\n",
       "</div>"
      ],
      "text/plain": [
       "         variables       VIF\n",
       "0      Item_Weight  5.952439\n",
       "1  Item_Visibility  2.518026\n",
       "2         Item_MRP  4.823793\n",
       "3       Outlet_Age  6.238621"
      ]
     },
     "execution_count": 33,
     "metadata": {},
     "output_type": "execute_result"
    }
   ],
   "source": [
    "numeric_cols = ['Item_Weight', 'Item_Visibility', 'Item_MRP', 'Outlet_Age']\n",
    "\n",
    "vif = pd.DataFrame()\n",
    "vif[\"variables\"] = numeric_cols\n",
    "vif[\"VIF\"] = [variance_inflation_factor(train_df[numeric_cols].values, i) for i in range(len(numeric_cols))]\n",
    "vif"
   ]
  },
  {
   "cell_type": "markdown",
   "id": "c892a82d",
   "metadata": {
    "papermill": {
     "duration": 0.053572,
     "end_time": "2022-07-30T09:06:26.001350",
     "exception": false,
     "start_time": "2022-07-30T09:06:25.947778",
     "status": "completed"
    },
    "tags": []
   },
   "source": [
    "# Encoding Categorical Variables"
   ]
  },
  {
   "cell_type": "code",
   "execution_count": 34,
   "id": "ad3cc396",
   "metadata": {
    "execution": {
     "iopub.execute_input": "2022-07-30T09:06:26.062566Z",
     "iopub.status.busy": "2022-07-30T09:06:26.062190Z",
     "iopub.status.idle": "2022-07-30T09:06:26.069361Z",
     "shell.execute_reply": "2022-07-30T09:06:26.068462Z"
    },
    "papermill": {
     "duration": 0.040195,
     "end_time": "2022-07-30T09:06:26.071447",
     "exception": false,
     "start_time": "2022-07-30T09:06:26.031252",
     "status": "completed"
    },
    "tags": []
   },
   "outputs": [
    {
     "data": {
      "text/plain": [
       "Index(['Item_Identifier', 'Item_Weight', 'Item_Fat_Content', 'Item_Visibility',\n",
       "       'Item_Type', 'Item_MRP', 'Outlet_Identifier',\n",
       "       'Outlet_Establishment_Year', 'Outlet_Size', 'Outlet_Location_Type',\n",
       "       'Outlet_Type', 'Item_Outlet_Sales', 'Outlet_Age'],\n",
       "      dtype='object')"
      ]
     },
     "execution_count": 34,
     "metadata": {},
     "output_type": "execute_result"
    }
   ],
   "source": [
    "train_df.columns"
   ]
  },
  {
   "cell_type": "code",
   "execution_count": 35,
   "id": "f8161b94",
   "metadata": {
    "execution": {
     "iopub.execute_input": "2022-07-30T09:06:26.133082Z",
     "iopub.status.busy": "2022-07-30T09:06:26.132382Z",
     "iopub.status.idle": "2022-07-30T09:06:26.138852Z",
     "shell.execute_reply": "2022-07-30T09:06:26.138002Z"
    },
    "papermill": {
     "duration": 0.039758,
     "end_time": "2022-07-30T09:06:26.141083",
     "exception": false,
     "start_time": "2022-07-30T09:06:26.101325",
     "status": "completed"
    },
    "tags": []
   },
   "outputs": [],
   "source": [
    "numeric_cols = ['Item_Weight', 'Item_Visibility', 'Item_MRP', 'Outlet_Age']\n",
    "categoric_col = ['Item_Type','Outlet_Size','Outlet_Location_Type', 'Item_Fat_Content','Outlet_Type', 'Outlet_Identifier']\n",
    "scaler = MinMaxScaler()\n",
    "def encode(dataframe):\n",
    "    dataframe = fillna(dataframe)\n",
    "    encoded = pd.get_dummies(dataframe[categoric_col]).columns\n",
    "    dataframe[encoded] = pd.get_dummies(dataframe[categoric_col])\n",
    "    dataframe[numeric_cols] = scaler.fit_transform(dataframe[numeric_cols])\n",
    "    return dataframe"
   ]
  },
  {
   "cell_type": "code",
   "execution_count": 36,
   "id": "64b87bc7",
   "metadata": {
    "execution": {
     "iopub.execute_input": "2022-07-30T09:06:26.203609Z",
     "iopub.status.busy": "2022-07-30T09:06:26.202933Z",
     "iopub.status.idle": "2022-07-30T09:06:28.735571Z",
     "shell.execute_reply": "2022-07-30T09:06:28.734679Z"
    },
    "papermill": {
     "duration": 2.566272,
     "end_time": "2022-07-30T09:06:28.737899",
     "exception": false,
     "start_time": "2022-07-30T09:06:26.171627",
     "status": "completed"
    },
    "tags": []
   },
   "outputs": [
    {
     "data": {
      "text/html": [
       "<div>\n",
       "<style scoped>\n",
       "    .dataframe tbody tr th:only-of-type {\n",
       "        vertical-align: middle;\n",
       "    }\n",
       "\n",
       "    .dataframe tbody tr th {\n",
       "        vertical-align: top;\n",
       "    }\n",
       "\n",
       "    .dataframe thead th {\n",
       "        text-align: right;\n",
       "    }\n",
       "</style>\n",
       "<table border=\"1\" class=\"dataframe\">\n",
       "  <thead>\n",
       "    <tr style=\"text-align: right;\">\n",
       "      <th></th>\n",
       "      <th>Item_Identifier</th>\n",
       "      <th>Item_Weight</th>\n",
       "      <th>Item_Fat_Content</th>\n",
       "      <th>Item_Visibility</th>\n",
       "      <th>Item_Type</th>\n",
       "      <th>Item_MRP</th>\n",
       "      <th>Outlet_Identifier</th>\n",
       "      <th>Outlet_Establishment_Year</th>\n",
       "      <th>Outlet_Size</th>\n",
       "      <th>Outlet_Location_Type</th>\n",
       "      <th>...</th>\n",
       "      <th>Outlet_Identifier_OUT010</th>\n",
       "      <th>Outlet_Identifier_OUT013</th>\n",
       "      <th>Outlet_Identifier_OUT017</th>\n",
       "      <th>Outlet_Identifier_OUT018</th>\n",
       "      <th>Outlet_Identifier_OUT019</th>\n",
       "      <th>Outlet_Identifier_OUT027</th>\n",
       "      <th>Outlet_Identifier_OUT035</th>\n",
       "      <th>Outlet_Identifier_OUT045</th>\n",
       "      <th>Outlet_Identifier_OUT046</th>\n",
       "      <th>Outlet_Identifier_OUT049</th>\n",
       "    </tr>\n",
       "  </thead>\n",
       "  <tbody>\n",
       "    <tr>\n",
       "      <th>0</th>\n",
       "      <td>FDA15</td>\n",
       "      <td>0.282525</td>\n",
       "      <td>Low Fat</td>\n",
       "      <td>0.048866</td>\n",
       "      <td>Dairy</td>\n",
       "      <td>0.927507</td>\n",
       "      <td>OUT049</td>\n",
       "      <td>1999</td>\n",
       "      <td>Medium</td>\n",
       "      <td>Tier 1</td>\n",
       "      <td>...</td>\n",
       "      <td>0</td>\n",
       "      <td>0</td>\n",
       "      <td>0</td>\n",
       "      <td>0</td>\n",
       "      <td>0</td>\n",
       "      <td>0</td>\n",
       "      <td>0</td>\n",
       "      <td>0</td>\n",
       "      <td>0</td>\n",
       "      <td>1</td>\n",
       "    </tr>\n",
       "    <tr>\n",
       "      <th>1</th>\n",
       "      <td>DRC01</td>\n",
       "      <td>0.081274</td>\n",
       "      <td>Regular</td>\n",
       "      <td>0.058705</td>\n",
       "      <td>Soft Drinks</td>\n",
       "      <td>0.072068</td>\n",
       "      <td>OUT018</td>\n",
       "      <td>2009</td>\n",
       "      <td>Medium</td>\n",
       "      <td>Tier 3</td>\n",
       "      <td>...</td>\n",
       "      <td>0</td>\n",
       "      <td>0</td>\n",
       "      <td>0</td>\n",
       "      <td>1</td>\n",
       "      <td>0</td>\n",
       "      <td>0</td>\n",
       "      <td>0</td>\n",
       "      <td>0</td>\n",
       "      <td>0</td>\n",
       "      <td>0</td>\n",
       "    </tr>\n",
       "    <tr>\n",
       "      <th>2</th>\n",
       "      <td>FDN15</td>\n",
       "      <td>0.770765</td>\n",
       "      <td>Low Fat</td>\n",
       "      <td>0.051037</td>\n",
       "      <td>Meat</td>\n",
       "      <td>0.468288</td>\n",
       "      <td>OUT049</td>\n",
       "      <td>1999</td>\n",
       "      <td>Medium</td>\n",
       "      <td>Tier 1</td>\n",
       "      <td>...</td>\n",
       "      <td>0</td>\n",
       "      <td>0</td>\n",
       "      <td>0</td>\n",
       "      <td>0</td>\n",
       "      <td>0</td>\n",
       "      <td>0</td>\n",
       "      <td>0</td>\n",
       "      <td>0</td>\n",
       "      <td>0</td>\n",
       "      <td>1</td>\n",
       "    </tr>\n",
       "    <tr>\n",
       "      <th>3</th>\n",
       "      <td>FDX07</td>\n",
       "      <td>0.871986</td>\n",
       "      <td>Regular</td>\n",
       "      <td>0.000000</td>\n",
       "      <td>Fruits and Vegetables</td>\n",
       "      <td>0.640093</td>\n",
       "      <td>OUT010</td>\n",
       "      <td>1998</td>\n",
       "      <td>Small</td>\n",
       "      <td>Tier 3</td>\n",
       "      <td>...</td>\n",
       "      <td>1</td>\n",
       "      <td>0</td>\n",
       "      <td>0</td>\n",
       "      <td>0</td>\n",
       "      <td>0</td>\n",
       "      <td>0</td>\n",
       "      <td>0</td>\n",
       "      <td>0</td>\n",
       "      <td>0</td>\n",
       "      <td>0</td>\n",
       "    </tr>\n",
       "    <tr>\n",
       "      <th>4</th>\n",
       "      <td>NCD19</td>\n",
       "      <td>0.260494</td>\n",
       "      <td>Low Fat</td>\n",
       "      <td>0.000000</td>\n",
       "      <td>Household</td>\n",
       "      <td>0.095805</td>\n",
       "      <td>OUT013</td>\n",
       "      <td>1987</td>\n",
       "      <td>High</td>\n",
       "      <td>Tier 3</td>\n",
       "      <td>...</td>\n",
       "      <td>0</td>\n",
       "      <td>1</td>\n",
       "      <td>0</td>\n",
       "      <td>0</td>\n",
       "      <td>0</td>\n",
       "      <td>0</td>\n",
       "      <td>0</td>\n",
       "      <td>0</td>\n",
       "      <td>0</td>\n",
       "      <td>0</td>\n",
       "    </tr>\n",
       "  </tbody>\n",
       "</table>\n",
       "<p>5 rows × 51 columns</p>\n",
       "</div>"
      ],
      "text/plain": [
       "  Item_Identifier  Item_Weight Item_Fat_Content  Item_Visibility  \\\n",
       "0           FDA15     0.282525          Low Fat         0.048866   \n",
       "1           DRC01     0.081274          Regular         0.058705   \n",
       "2           FDN15     0.770765          Low Fat         0.051037   \n",
       "3           FDX07     0.871986          Regular         0.000000   \n",
       "4           NCD19     0.260494          Low Fat         0.000000   \n",
       "\n",
       "               Item_Type  Item_MRP Outlet_Identifier  \\\n",
       "0                  Dairy  0.927507            OUT049   \n",
       "1            Soft Drinks  0.072068            OUT018   \n",
       "2                   Meat  0.468288            OUT049   \n",
       "3  Fruits and Vegetables  0.640093            OUT010   \n",
       "4              Household  0.095805            OUT013   \n",
       "\n",
       "   Outlet_Establishment_Year Outlet_Size Outlet_Location_Type  ...  \\\n",
       "0                       1999      Medium               Tier 1  ...   \n",
       "1                       2009      Medium               Tier 3  ...   \n",
       "2                       1999      Medium               Tier 1  ...   \n",
       "3                       1998       Small               Tier 3  ...   \n",
       "4                       1987        High               Tier 3  ...   \n",
       "\n",
       "  Outlet_Identifier_OUT010  Outlet_Identifier_OUT013  \\\n",
       "0                        0                         0   \n",
       "1                        0                         0   \n",
       "2                        0                         0   \n",
       "3                        1                         0   \n",
       "4                        0                         1   \n",
       "\n",
       "   Outlet_Identifier_OUT017  Outlet_Identifier_OUT018  \\\n",
       "0                         0                         0   \n",
       "1                         0                         1   \n",
       "2                         0                         0   \n",
       "3                         0                         0   \n",
       "4                         0                         0   \n",
       "\n",
       "   Outlet_Identifier_OUT019  Outlet_Identifier_OUT027  \\\n",
       "0                         0                         0   \n",
       "1                         0                         0   \n",
       "2                         0                         0   \n",
       "3                         0                         0   \n",
       "4                         0                         0   \n",
       "\n",
       "   Outlet_Identifier_OUT035  Outlet_Identifier_OUT045  \\\n",
       "0                         0                         0   \n",
       "1                         0                         0   \n",
       "2                         0                         0   \n",
       "3                         0                         0   \n",
       "4                         0                         0   \n",
       "\n",
       "   Outlet_Identifier_OUT046  Outlet_Identifier_OUT049  \n",
       "0                         0                         1  \n",
       "1                         0                         0  \n",
       "2                         0                         1  \n",
       "3                         0                         0  \n",
       "4                         0                         0  \n",
       "\n",
       "[5 rows x 51 columns]"
      ]
     },
     "execution_count": 36,
     "metadata": {},
     "output_type": "execute_result"
    }
   ],
   "source": [
    "encode(train_df).head()"
   ]
  },
  {
   "cell_type": "markdown",
   "id": "a1a6c77e",
   "metadata": {
    "papermill": {
     "duration": 0.029535,
     "end_time": "2022-07-30T09:06:28.797504",
     "exception": false,
     "start_time": "2022-07-30T09:06:28.767969",
     "status": "completed"
    },
    "tags": []
   },
   "source": [
    "# Splitting the Dataset into train set and test set"
   ]
  },
  {
   "cell_type": "code",
   "execution_count": 37,
   "id": "1504ea22",
   "metadata": {
    "execution": {
     "iopub.execute_input": "2022-07-30T09:06:28.860135Z",
     "iopub.status.busy": "2022-07-30T09:06:28.859325Z",
     "iopub.status.idle": "2022-07-30T09:06:31.603039Z",
     "shell.execute_reply": "2022-07-30T09:06:31.601699Z"
    },
    "papermill": {
     "duration": 2.778467,
     "end_time": "2022-07-30T09:06:31.605945",
     "exception": false,
     "start_time": "2022-07-30T09:06:28.827478",
     "status": "completed"
    },
    "tags": []
   },
   "outputs": [
    {
     "data": {
      "text/html": [
       "<div>\n",
       "<style scoped>\n",
       "    .dataframe tbody tr th:only-of-type {\n",
       "        vertical-align: middle;\n",
       "    }\n",
       "\n",
       "    .dataframe tbody tr th {\n",
       "        vertical-align: top;\n",
       "    }\n",
       "\n",
       "    .dataframe thead th {\n",
       "        text-align: right;\n",
       "    }\n",
       "</style>\n",
       "<table border=\"1\" class=\"dataframe\">\n",
       "  <thead>\n",
       "    <tr style=\"text-align: right;\">\n",
       "      <th></th>\n",
       "      <th>Item_Identifier</th>\n",
       "      <th>Item_Weight</th>\n",
       "      <th>Item_Fat_Content</th>\n",
       "      <th>Item_Visibility</th>\n",
       "      <th>Item_Type</th>\n",
       "      <th>Item_MRP</th>\n",
       "      <th>Outlet_Identifier</th>\n",
       "      <th>Outlet_Establishment_Year</th>\n",
       "      <th>Outlet_Size</th>\n",
       "      <th>Outlet_Location_Type</th>\n",
       "      <th>...</th>\n",
       "      <th>Outlet_Identifier_OUT010</th>\n",
       "      <th>Outlet_Identifier_OUT013</th>\n",
       "      <th>Outlet_Identifier_OUT017</th>\n",
       "      <th>Outlet_Identifier_OUT018</th>\n",
       "      <th>Outlet_Identifier_OUT019</th>\n",
       "      <th>Outlet_Identifier_OUT027</th>\n",
       "      <th>Outlet_Identifier_OUT035</th>\n",
       "      <th>Outlet_Identifier_OUT045</th>\n",
       "      <th>Outlet_Identifier_OUT046</th>\n",
       "      <th>Outlet_Identifier_OUT049</th>\n",
       "    </tr>\n",
       "  </thead>\n",
       "  <tbody>\n",
       "    <tr>\n",
       "      <th>0</th>\n",
       "      <td>FDA15</td>\n",
       "      <td>0.282525</td>\n",
       "      <td>Low Fat</td>\n",
       "      <td>0.048866</td>\n",
       "      <td>Dairy</td>\n",
       "      <td>0.927507</td>\n",
       "      <td>OUT049</td>\n",
       "      <td>1999</td>\n",
       "      <td>Medium</td>\n",
       "      <td>Tier 1</td>\n",
       "      <td>...</td>\n",
       "      <td>0</td>\n",
       "      <td>0</td>\n",
       "      <td>0</td>\n",
       "      <td>0</td>\n",
       "      <td>0</td>\n",
       "      <td>0</td>\n",
       "      <td>0</td>\n",
       "      <td>0</td>\n",
       "      <td>0</td>\n",
       "      <td>1</td>\n",
       "    </tr>\n",
       "    <tr>\n",
       "      <th>1</th>\n",
       "      <td>DRC01</td>\n",
       "      <td>0.081274</td>\n",
       "      <td>Regular</td>\n",
       "      <td>0.058705</td>\n",
       "      <td>Soft Drinks</td>\n",
       "      <td>0.072068</td>\n",
       "      <td>OUT018</td>\n",
       "      <td>2009</td>\n",
       "      <td>Medium</td>\n",
       "      <td>Tier 3</td>\n",
       "      <td>...</td>\n",
       "      <td>0</td>\n",
       "      <td>0</td>\n",
       "      <td>0</td>\n",
       "      <td>1</td>\n",
       "      <td>0</td>\n",
       "      <td>0</td>\n",
       "      <td>0</td>\n",
       "      <td>0</td>\n",
       "      <td>0</td>\n",
       "      <td>0</td>\n",
       "    </tr>\n",
       "    <tr>\n",
       "      <th>2</th>\n",
       "      <td>FDN15</td>\n",
       "      <td>0.770765</td>\n",
       "      <td>Low Fat</td>\n",
       "      <td>0.051037</td>\n",
       "      <td>Meat</td>\n",
       "      <td>0.468288</td>\n",
       "      <td>OUT049</td>\n",
       "      <td>1999</td>\n",
       "      <td>Medium</td>\n",
       "      <td>Tier 1</td>\n",
       "      <td>...</td>\n",
       "      <td>0</td>\n",
       "      <td>0</td>\n",
       "      <td>0</td>\n",
       "      <td>0</td>\n",
       "      <td>0</td>\n",
       "      <td>0</td>\n",
       "      <td>0</td>\n",
       "      <td>0</td>\n",
       "      <td>0</td>\n",
       "      <td>1</td>\n",
       "    </tr>\n",
       "    <tr>\n",
       "      <th>3</th>\n",
       "      <td>FDX07</td>\n",
       "      <td>0.871986</td>\n",
       "      <td>Regular</td>\n",
       "      <td>0.000000</td>\n",
       "      <td>Fruits and Vegetables</td>\n",
       "      <td>0.640093</td>\n",
       "      <td>OUT010</td>\n",
       "      <td>1998</td>\n",
       "      <td>Small</td>\n",
       "      <td>Tier 3</td>\n",
       "      <td>...</td>\n",
       "      <td>1</td>\n",
       "      <td>0</td>\n",
       "      <td>0</td>\n",
       "      <td>0</td>\n",
       "      <td>0</td>\n",
       "      <td>0</td>\n",
       "      <td>0</td>\n",
       "      <td>0</td>\n",
       "      <td>0</td>\n",
       "      <td>0</td>\n",
       "    </tr>\n",
       "    <tr>\n",
       "      <th>4</th>\n",
       "      <td>NCD19</td>\n",
       "      <td>0.260494</td>\n",
       "      <td>Low Fat</td>\n",
       "      <td>0.000000</td>\n",
       "      <td>Household</td>\n",
       "      <td>0.095805</td>\n",
       "      <td>OUT013</td>\n",
       "      <td>1987</td>\n",
       "      <td>High</td>\n",
       "      <td>Tier 3</td>\n",
       "      <td>...</td>\n",
       "      <td>0</td>\n",
       "      <td>1</td>\n",
       "      <td>0</td>\n",
       "      <td>0</td>\n",
       "      <td>0</td>\n",
       "      <td>0</td>\n",
       "      <td>0</td>\n",
       "      <td>0</td>\n",
       "      <td>0</td>\n",
       "      <td>0</td>\n",
       "    </tr>\n",
       "  </tbody>\n",
       "</table>\n",
       "<p>5 rows × 51 columns</p>\n",
       "</div>"
      ],
      "text/plain": [
       "  Item_Identifier  Item_Weight Item_Fat_Content  Item_Visibility  \\\n",
       "0           FDA15     0.282525          Low Fat         0.048866   \n",
       "1           DRC01     0.081274          Regular         0.058705   \n",
       "2           FDN15     0.770765          Low Fat         0.051037   \n",
       "3           FDX07     0.871986          Regular         0.000000   \n",
       "4           NCD19     0.260494          Low Fat         0.000000   \n",
       "\n",
       "               Item_Type  Item_MRP Outlet_Identifier  \\\n",
       "0                  Dairy  0.927507            OUT049   \n",
       "1            Soft Drinks  0.072068            OUT018   \n",
       "2                   Meat  0.468288            OUT049   \n",
       "3  Fruits and Vegetables  0.640093            OUT010   \n",
       "4              Household  0.095805            OUT013   \n",
       "\n",
       "   Outlet_Establishment_Year Outlet_Size Outlet_Location_Type  ...  \\\n",
       "0                       1999      Medium               Tier 1  ...   \n",
       "1                       2009      Medium               Tier 3  ...   \n",
       "2                       1999      Medium               Tier 1  ...   \n",
       "3                       1998       Small               Tier 3  ...   \n",
       "4                       1987        High               Tier 3  ...   \n",
       "\n",
       "  Outlet_Identifier_OUT010  Outlet_Identifier_OUT013  \\\n",
       "0                        0                         0   \n",
       "1                        0                         0   \n",
       "2                        0                         0   \n",
       "3                        1                         0   \n",
       "4                        0                         1   \n",
       "\n",
       "   Outlet_Identifier_OUT017  Outlet_Identifier_OUT018  \\\n",
       "0                         0                         0   \n",
       "1                         0                         1   \n",
       "2                         0                         0   \n",
       "3                         0                         0   \n",
       "4                         0                         0   \n",
       "\n",
       "   Outlet_Identifier_OUT019  Outlet_Identifier_OUT027  \\\n",
       "0                         0                         0   \n",
       "1                         0                         0   \n",
       "2                         0                         0   \n",
       "3                         0                         0   \n",
       "4                         0                         0   \n",
       "\n",
       "   Outlet_Identifier_OUT035  Outlet_Identifier_OUT045  \\\n",
       "0                         0                         0   \n",
       "1                         0                         0   \n",
       "2                         0                         0   \n",
       "3                         0                         0   \n",
       "4                         0                         0   \n",
       "\n",
       "   Outlet_Identifier_OUT046  Outlet_Identifier_OUT049  \n",
       "0                         0                         1  \n",
       "1                         0                         0  \n",
       "2                         0                         1  \n",
       "3                         0                         0  \n",
       "4                         0                         0  \n",
       "\n",
       "[5 rows x 51 columns]"
      ]
     },
     "execution_count": 37,
     "metadata": {},
     "output_type": "execute_result"
    }
   ],
   "source": [
    "train_df = encode(train_df)\n",
    "train_df.head()"
   ]
  },
  {
   "cell_type": "code",
   "execution_count": 38,
   "id": "81d0a713",
   "metadata": {
    "execution": {
     "iopub.execute_input": "2022-07-30T09:06:31.670135Z",
     "iopub.status.busy": "2022-07-30T09:06:31.669580Z",
     "iopub.status.idle": "2022-07-30T09:06:31.692729Z",
     "shell.execute_reply": "2022-07-30T09:06:31.691633Z"
    },
    "papermill": {
     "duration": 0.058091,
     "end_time": "2022-07-30T09:06:31.695270",
     "exception": false,
     "start_time": "2022-07-30T09:06:31.637179",
     "status": "completed"
    },
    "tags": []
   },
   "outputs": [
    {
     "data": {
      "text/plain": [
       "['Item_Type_Baking Goods',\n",
       " 'Item_Type_Breads',\n",
       " 'Item_Type_Breakfast',\n",
       " 'Item_Type_Canned',\n",
       " 'Item_Type_Dairy',\n",
       " 'Item_Type_Frozen Foods',\n",
       " 'Item_Type_Fruits and Vegetables',\n",
       " 'Item_Type_Hard Drinks',\n",
       " 'Item_Type_Health and Hygiene',\n",
       " 'Item_Type_Household',\n",
       " 'Item_Type_Meat',\n",
       " 'Item_Type_Others',\n",
       " 'Item_Type_Seafood',\n",
       " 'Item_Type_Snack Foods',\n",
       " 'Item_Type_Soft Drinks',\n",
       " 'Item_Type_Starchy Foods',\n",
       " 'Outlet_Size_High',\n",
       " 'Outlet_Size_Medium',\n",
       " 'Outlet_Size_Small',\n",
       " 'Outlet_Location_Type_Tier 1',\n",
       " 'Outlet_Location_Type_Tier 2',\n",
       " 'Outlet_Location_Type_Tier 3',\n",
       " 'Item_Fat_Content_Low Fat',\n",
       " 'Item_Fat_Content_Regular',\n",
       " 'Outlet_Type_Grocery Store',\n",
       " 'Outlet_Type_Supermarket Type1',\n",
       " 'Outlet_Type_Supermarket Type2',\n",
       " 'Outlet_Type_Supermarket Type3',\n",
       " 'Outlet_Identifier_OUT010',\n",
       " 'Outlet_Identifier_OUT013',\n",
       " 'Outlet_Identifier_OUT017',\n",
       " 'Outlet_Identifier_OUT018',\n",
       " 'Outlet_Identifier_OUT019',\n",
       " 'Outlet_Identifier_OUT027',\n",
       " 'Outlet_Identifier_OUT035',\n",
       " 'Outlet_Identifier_OUT045',\n",
       " 'Outlet_Identifier_OUT046',\n",
       " 'Outlet_Identifier_OUT049',\n",
       " 'Item_Weight',\n",
       " 'Item_Visibility',\n",
       " 'Item_MRP',\n",
       " 'Outlet_Age']"
      ]
     },
     "execution_count": 38,
     "metadata": {},
     "output_type": "execute_result"
    }
   ],
   "source": [
    "encoded_cols = pd.get_dummies(train_df[categoric_col]).columns\n",
    "numeric_cols = ['Item_Weight', 'Item_Visibility', 'Item_MRP', 'Outlet_Age']\n",
    "inputs = list(encoded_cols) + list(numeric_cols)\n",
    "target = 'Item_Outlet_Sales'\n",
    "inputs"
   ]
  },
  {
   "cell_type": "code",
   "execution_count": 39,
   "id": "467a36c6",
   "metadata": {
    "execution": {
     "iopub.execute_input": "2022-07-30T09:06:31.759642Z",
     "iopub.status.busy": "2022-07-30T09:06:31.758667Z",
     "iopub.status.idle": "2022-07-30T09:06:31.770335Z",
     "shell.execute_reply": "2022-07-30T09:06:31.769046Z"
    },
    "papermill": {
     "duration": 0.046553,
     "end_time": "2022-07-30T09:06:31.773032",
     "exception": false,
     "start_time": "2022-07-30T09:06:31.726479",
     "status": "completed"
    },
    "tags": []
   },
   "outputs": [],
   "source": [
    "train_x, test_x, train_y, test_y = train_test_split(train_df[inputs],train_df[target],random_state=42, shuffle = True, test_size = 0.2)"
   ]
  },
  {
   "cell_type": "code",
   "execution_count": 40,
   "id": "a9cd6775",
   "metadata": {
    "execution": {
     "iopub.execute_input": "2022-07-30T09:06:31.836671Z",
     "iopub.status.busy": "2022-07-30T09:06:31.836249Z",
     "iopub.status.idle": "2022-07-30T09:06:31.843957Z",
     "shell.execute_reply": "2022-07-30T09:06:31.843144Z"
    },
    "papermill": {
     "duration": 0.042084,
     "end_time": "2022-07-30T09:06:31.846133",
     "exception": false,
     "start_time": "2022-07-30T09:06:31.804049",
     "status": "completed"
    },
    "tags": []
   },
   "outputs": [
    {
     "data": {
      "text/plain": [
       "((6818, 42), (1705, 42), (6818,), (1705,))"
      ]
     },
     "execution_count": 40,
     "metadata": {},
     "output_type": "execute_result"
    }
   ],
   "source": [
    "train_x.shape, test_x.shape, train_y.shape, test_y.shape"
   ]
  },
  {
   "cell_type": "markdown",
   "id": "663c640b",
   "metadata": {
    "papermill": {
     "duration": 0.030386,
     "end_time": "2022-07-30T09:06:31.907258",
     "exception": false,
     "start_time": "2022-07-30T09:06:31.876872",
     "status": "completed"
    },
    "tags": []
   },
   "source": [
    "# Building Machine Learning Models"
   ]
  },
  {
   "cell_type": "markdown",
   "id": "85b12a8c",
   "metadata": {
    "papermill": {
     "duration": 0.030909,
     "end_time": "2022-07-30T09:06:31.970742",
     "exception": false,
     "start_time": "2022-07-30T09:06:31.939833",
     "status": "completed"
    },
    "tags": []
   },
   "source": [
    "### 1. Building a Linear Regression Model"
   ]
  },
  {
   "cell_type": "code",
   "execution_count": 41,
   "id": "9ce7ba4d",
   "metadata": {
    "execution": {
     "iopub.execute_input": "2022-07-30T09:06:32.035664Z",
     "iopub.status.busy": "2022-07-30T09:06:32.035094Z",
     "iopub.status.idle": "2022-07-30T09:06:32.094342Z",
     "shell.execute_reply": "2022-07-30T09:06:32.092955Z"
    },
    "papermill": {
     "duration": 0.095831,
     "end_time": "2022-07-30T09:06:32.098082",
     "exception": false,
     "start_time": "2022-07-30T09:06:32.002251",
     "status": "completed"
    },
    "tags": []
   },
   "outputs": [
    {
     "name": "stdout",
     "output_type": "stream",
     "text": [
      "1150.801487168572 1084.0957748662668\n"
     ]
    }
   ],
   "source": [
    "lr = LinearRegression() #1226\n",
    "lr.fit(train_x,np.log(train_y))\n",
    "print(mean_squared_error(train_y, np.exp(lr.predict(train_x)), squared=False), \n",
    "      mean_squared_error(test_y, np.exp(lr.predict(test_x)), squared=False))"
   ]
  },
  {
   "cell_type": "markdown",
   "id": "cf864871",
   "metadata": {
    "papermill": {
     "duration": 0.036635,
     "end_time": "2022-07-30T09:06:32.228556",
     "exception": false,
     "start_time": "2022-07-30T09:06:32.191921",
     "status": "completed"
    },
    "tags": []
   },
   "source": [
    "### 2. Building a Decision Tree Model"
   ]
  },
  {
   "cell_type": "code",
   "execution_count": 42,
   "id": "b837024b",
   "metadata": {
    "execution": {
     "iopub.execute_input": "2022-07-30T09:06:32.293151Z",
     "iopub.status.busy": "2022-07-30T09:06:32.292756Z",
     "iopub.status.idle": "2022-07-30T09:06:32.350312Z",
     "shell.execute_reply": "2022-07-30T09:06:32.349158Z"
    },
    "papermill": {
     "duration": 0.0926,
     "end_time": "2022-07-30T09:06:32.352605",
     "exception": false,
     "start_time": "2022-07-30T09:06:32.260005",
     "status": "completed"
    },
    "tags": []
   },
   "outputs": [
    {
     "data": {
      "text/plain": [
       "(0.0, 1459.4683756891316)"
      ]
     },
     "execution_count": 42,
     "metadata": {},
     "output_type": "execute_result"
    }
   ],
   "source": [
    "dt = DecisionTreeRegressor(random_state=42, splitter='random')\n",
    "dt.fit(train_x,train_y)\n",
    "mean_squared_error(train_y, dt.predict(train_x), squared=False), mean_squared_error(test_y, dt.predict(test_x), squared=False)"
   ]
  },
  {
   "cell_type": "markdown",
   "id": "63200b8e",
   "metadata": {
    "papermill": {
     "duration": 0.030976,
     "end_time": "2022-07-30T09:06:32.414853",
     "exception": false,
     "start_time": "2022-07-30T09:06:32.383877",
     "status": "completed"
    },
    "tags": []
   },
   "source": [
    "#### Tuning Hyperparameters of Decision Tree Regressor"
   ]
  },
  {
   "cell_type": "code",
   "execution_count": 43,
   "id": "ab14a425",
   "metadata": {
    "execution": {
     "iopub.execute_input": "2022-07-30T09:06:32.479162Z",
     "iopub.status.busy": "2022-07-30T09:06:32.478743Z",
     "iopub.status.idle": "2022-07-30T09:06:32.485156Z",
     "shell.execute_reply": "2022-07-30T09:06:32.483923Z"
    },
    "papermill": {
     "duration": 0.041714,
     "end_time": "2022-07-30T09:06:32.487583",
     "exception": false,
     "start_time": "2022-07-30T09:06:32.445869",
     "status": "completed"
    },
    "tags": []
   },
   "outputs": [],
   "source": [
    "def test_params_dt(**params):\n",
    "    model = DecisionTreeRegressor(random_state=42, splitter='random', **params).fit(train_x, train_y)\n",
    "    train_rmse = mean_squared_error(model.predict(train_x), train_y, squared=False)\n",
    "    val_rmse = mean_squared_error(model.predict(test_x), test_y, squared=False)\n",
    "    return train_rmse, val_rmse"
   ]
  },
  {
   "cell_type": "code",
   "execution_count": 44,
   "id": "272ddf06",
   "metadata": {
    "execution": {
     "iopub.execute_input": "2022-07-30T09:06:32.552544Z",
     "iopub.status.busy": "2022-07-30T09:06:32.551950Z",
     "iopub.status.idle": "2022-07-30T09:06:32.560079Z",
     "shell.execute_reply": "2022-07-30T09:06:32.559078Z"
    },
    "papermill": {
     "duration": 0.043404,
     "end_time": "2022-07-30T09:06:32.562467",
     "exception": false,
     "start_time": "2022-07-30T09:06:32.519063",
     "status": "completed"
    },
    "tags": []
   },
   "outputs": [],
   "source": [
    "def test_param_and_plot_dt(param_name, param_values):\n",
    "    train_errors, val_errors = [], [] \n",
    "    for value in param_values:\n",
    "        params = {param_name: value}\n",
    "        train_rmse, val_rmse = test_params_dt(**params)\n",
    "        train_errors.append(train_rmse)\n",
    "        val_errors.append(val_rmse)\n",
    "    plt.figure(figsize=(10,6))\n",
    "    plt.title('Overfitting curve: ' + param_name)\n",
    "    plt.plot(param_values, train_errors, 'b-o')\n",
    "    plt.plot(param_values, val_errors, 'r-o')\n",
    "    plt.xlabel(param_name)\n",
    "    plt.ylabel('RMSE')\n",
    "    plt.legend(['Training', 'Validation'])"
   ]
  },
  {
   "cell_type": "code",
   "execution_count": 45,
   "id": "82ed463e",
   "metadata": {
    "execution": {
     "iopub.execute_input": "2022-07-30T09:06:32.626988Z",
     "iopub.status.busy": "2022-07-30T09:06:32.626261Z",
     "iopub.status.idle": "2022-07-30T09:06:32.921117Z",
     "shell.execute_reply": "2022-07-30T09:06:32.919745Z"
    },
    "papermill": {
     "duration": 0.330578,
     "end_time": "2022-07-30T09:06:32.924002",
     "exception": false,
     "start_time": "2022-07-30T09:06:32.593424",
     "status": "completed"
    },
    "tags": []
   },
   "outputs": [
    {
     "data": {
      "image/png": "[encoded data removed]",
      "text/plain": [
       "<Figure size 720x432 with 1 Axes>"
      ]
     },
     "metadata": {},
     "output_type": "display_data"
    }
   ],
   "source": [
    "test_param_and_plot_dt('max_depth',[5,6,7,8,9,10])"
   ]
  },
  {
   "cell_type": "code",
   "execution_count": 46,
   "id": "49e369b3",
   "metadata": {
    "execution": {
     "iopub.execute_input": "2022-07-30T09:06:32.990722Z",
     "iopub.status.busy": "2022-07-30T09:06:32.990022Z",
     "iopub.status.idle": "2022-07-30T09:06:33.020460Z",
     "shell.execute_reply": "2022-07-30T09:06:33.019554Z"
    },
    "papermill": {
     "duration": 0.065869,
     "end_time": "2022-07-30T09:06:33.022674",
     "exception": false,
     "start_time": "2022-07-30T09:06:32.956805",
     "status": "completed"
    },
    "tags": []
   },
   "outputs": [
    {
     "data": {
      "text/plain": [
       "(1047.3044200292584, 1048.3837758816223)"
      ]
     },
     "execution_count": 46,
     "metadata": {},
     "output_type": "execute_result"
    }
   ],
   "source": [
    "test_params_dt(max_depth=9) #1162"
   ]
  },
  {
   "cell_type": "code",
   "execution_count": 47,
   "id": "4612528a",
   "metadata": {
    "execution": {
     "iopub.execute_input": "2022-07-30T09:06:33.089932Z",
     "iopub.status.busy": "2022-07-30T09:06:33.089199Z",
     "iopub.status.idle": "2022-07-30T09:06:33.274024Z",
     "shell.execute_reply": "2022-07-30T09:06:33.272870Z"
    },
    "papermill": {
     "duration": 0.220911,
     "end_time": "2022-07-30T09:06:33.276490",
     "exception": false,
     "start_time": "2022-07-30T09:06:33.055579",
     "status": "completed"
    },
    "tags": []
   },
   "outputs": [
    {
     "name": "stdout",
     "output_type": "stream",
     "text": [
      "Train rmse: 1027.7302580490345 \n",
      "Test rmse: 1156.0407126825182 \n",
      "-------------------------------------------------\n",
      "Train rmse: 1036.286690372661 \n",
      "Test rmse: 1101.2622035495635 \n",
      "-------------------------------------------------\n",
      "Train rmse: 1044.0905975264047 \n",
      "Test rmse: 1117.8689412836006 \n",
      "-------------------------------------------------\n",
      "Train rmse: 1039.279192079598 \n",
      "Test rmse: 1107.2926255987918 \n",
      "-------------------------------------------------\n",
      "Train rmse: 1030.4351580479472 \n",
      "Test rmse: 1116.0094698401251 \n",
      "-------------------------------------------------\n"
     ]
    }
   ],
   "source": [
    "kfold = KFold(n_splits=5)\n",
    "\n",
    "dt_models = []\n",
    "\n",
    "for train_index, test_index in kfold.split(train_df[inputs],train_df[target]):\n",
    "    X_train, X_test = train_df.loc[train_index,:], train_df.loc[test_index,:]\n",
    "    y_train, y_test = train_df.loc[train_index,:][target], train_df.loc[test_index,:][target]\n",
    "    \n",
    "    model = DecisionTreeRegressor(max_depth=9,random_state=42, splitter='random')\n",
    "    \n",
    "    model.fit(X_train[inputs],y_train)\n",
    "    \n",
    "    dt_models.append(model)\n",
    "    \n",
    "    print(\"Train rmse:\",mean_squared_error(y_train,model.predict(X_train[inputs]), squared=False),\n",
    "                    \"\\nTest rmse:\",mean_squared_error(y_test,model.predict(X_test[inputs]), squared=False),\n",
    "                \"\\n-------------------------------------------------\")"
   ]
  },
  {
   "cell_type": "code",
   "execution_count": 48,
   "id": "f9fe5858",
   "metadata": {
    "execution": {
     "iopub.execute_input": "2022-07-30T09:06:33.343196Z",
     "iopub.status.busy": "2022-07-30T09:06:33.342226Z",
     "iopub.status.idle": "2022-07-30T09:06:33.346548Z",
     "shell.execute_reply": "2022-07-30T09:06:33.345796Z"
    },
    "papermill": {
     "duration": 0.039748,
     "end_time": "2022-07-30T09:06:33.348696",
     "exception": false,
     "start_time": "2022-07-30T09:06:33.308948",
     "status": "completed"
    },
    "tags": []
   },
   "outputs": [],
   "source": [
    "dt_final = dt_models[2]"
   ]
  },
  {
   "cell_type": "markdown",
   "id": "f2c5d7ce",
   "metadata": {
    "papermill": {
     "duration": 0.032427,
     "end_time": "2022-07-30T09:06:33.414180",
     "exception": false,
     "start_time": "2022-07-30T09:06:33.381753",
     "status": "completed"
    },
    "tags": []
   },
   "source": [
    "### 3. Building RandomForest Regressor Model"
   ]
  },
  {
   "cell_type": "code",
   "execution_count": 49,
   "id": "1e4d459c",
   "metadata": {
    "execution": {
     "iopub.execute_input": "2022-07-30T09:06:33.481703Z",
     "iopub.status.busy": "2022-07-30T09:06:33.481004Z",
     "iopub.status.idle": "2022-07-30T09:06:35.359741Z",
     "shell.execute_reply": "2022-07-30T09:06:35.357933Z"
    },
    "papermill": {
     "duration": 1.916884,
     "end_time": "2022-07-30T09:06:35.363725",
     "exception": false,
     "start_time": "2022-07-30T09:06:33.446841",
     "status": "completed"
    },
    "tags": []
   },
   "outputs": [
    {
     "name": "stdout",
     "output_type": "stream",
     "text": [
      "430.40187919942747 1079.3073410523257\n"
     ]
    }
   ],
   "source": [
    "rf = RandomForestRegressor(random_state=42, n_jobs=-1)\n",
    "rf.fit(train_x,train_y)\n",
    "print(mean_squared_error(train_y, rf.predict(train_x), squared=False), \n",
    "                    mean_squared_error(test_y, rf.predict(test_x), squared=False))"
   ]
  },
  {
   "cell_type": "markdown",
   "id": "42da3d97",
   "metadata": {
    "papermill": {
     "duration": 0.031969,
     "end_time": "2022-07-30T09:06:35.429089",
     "exception": false,
     "start_time": "2022-07-30T09:06:35.397120",
     "status": "completed"
    },
    "tags": []
   },
   "source": [
    "#### Tuning Hyperparameters of Random Forest Regressor"
   ]
  },
  {
   "cell_type": "code",
   "execution_count": 50,
   "id": "c51a61ab",
   "metadata": {
    "execution": {
     "iopub.execute_input": "2022-07-30T09:06:35.495543Z",
     "iopub.status.busy": "2022-07-30T09:06:35.494694Z",
     "iopub.status.idle": "2022-07-30T09:06:35.501353Z",
     "shell.execute_reply": "2022-07-30T09:06:35.500416Z"
    },
    "papermill": {
     "duration": 0.04225,
     "end_time": "2022-07-30T09:06:35.503321",
     "exception": false,
     "start_time": "2022-07-30T09:06:35.461071",
     "status": "completed"
    },
    "tags": []
   },
   "outputs": [],
   "source": [
    "def test_params_rf(**params):\n",
    "    model = RandomForestRegressor(n_jobs=-1, random_state=42, **params).fit(train_x, train_y)\n",
    "    train_rmse = mean_squared_error(model.predict(train_x), train_y, squared=False)\n",
    "    val_rmse = mean_squared_error(model.predict(test_x), test_y, squared=False)\n",
    "    return train_rmse, val_rmse"
   ]
  },
  {
   "cell_type": "code",
   "execution_count": 51,
   "id": "2eea6d9c",
   "metadata": {
    "execution": {
     "iopub.execute_input": "2022-07-30T09:06:35.570192Z",
     "iopub.status.busy": "2022-07-30T09:06:35.569773Z",
     "iopub.status.idle": "2022-07-30T09:06:35.577649Z",
     "shell.execute_reply": "2022-07-30T09:06:35.576440Z"
    },
    "papermill": {
     "duration": 0.044777,
     "end_time": "2022-07-30T09:06:35.580121",
     "exception": false,
     "start_time": "2022-07-30T09:06:35.535344",
     "status": "completed"
    },
    "tags": []
   },
   "outputs": [],
   "source": [
    "def test_param_and_plot_rf(param_name, param_values):\n",
    "    train_errors, val_errors = [], [] \n",
    "    for value in param_values:\n",
    "        params = {param_name: value}\n",
    "        train_rmse, val_rmse = test_params_rf(**params)\n",
    "        train_errors.append(train_rmse)\n",
    "        val_errors.append(val_rmse)\n",
    "    plt.figure(figsize=(10,6))\n",
    "    plt.title('Overfitting curve: ' + param_name)\n",
    "    plt.plot(param_values, train_errors, 'b-o')\n",
    "    plt.plot(param_values, val_errors, 'r-o')\n",
    "    plt.xlabel(param_name)\n",
    "    plt.ylabel('RMSE')\n",
    "    plt.legend(['Training', 'Validation'])"
   ]
  },
  {
   "cell_type": "code",
   "execution_count": 52,
   "id": "eaf220da",
   "metadata": {
    "execution": {
     "iopub.execute_input": "2022-07-30T09:06:35.647027Z",
     "iopub.status.busy": "2022-07-30T09:06:35.646605Z",
     "iopub.status.idle": "2022-07-30T09:06:41.795796Z",
     "shell.execute_reply": "2022-07-30T09:06:41.794547Z"
    },
    "papermill": {
     "duration": 6.186112,
     "end_time": "2022-07-30T09:06:41.798567",
     "exception": false,
     "start_time": "2022-07-30T09:06:35.612455",
     "status": "completed"
    },
    "tags": []
   },
   "outputs": [
    {
     "data": {
      "image/png": "[encoded data removed]",
      "text/plain": [
       "<Figure size 720x432 with 1 Axes>"
      ]
     },
     "metadata": {},
     "output_type": "display_data"
    }
   ],
   "source": [
    "test_param_and_plot_rf('max_depth',[5,6,7,8,9,10])"
   ]
  },
  {
   "cell_type": "code",
   "execution_count": 53,
   "id": "18cb13b9",
   "metadata": {
    "execution": {
     "iopub.execute_input": "2022-07-30T09:06:41.867530Z",
     "iopub.status.busy": "2022-07-30T09:06:41.866183Z",
     "iopub.status.idle": "2022-07-30T09:06:43.035683Z",
     "shell.execute_reply": "2022-07-30T09:06:43.034864Z"
    },
    "papermill": {
     "duration": 1.206655,
     "end_time": "2022-07-30T09:06:43.038216",
     "exception": false,
     "start_time": "2022-07-30T09:06:41.831561",
     "status": "completed"
    },
    "tags": []
   },
   "outputs": [
    {
     "data": {
      "text/plain": [
       "(1016.2408902997718, 1021.9409534716877)"
      ]
     },
     "execution_count": 53,
     "metadata": {},
     "output_type": "execute_result"
    }
   ],
   "source": [
    "test_params_rf(min_samples_split=100)  #1156"
   ]
  },
  {
   "cell_type": "code",
   "execution_count": 54,
   "id": "d91e9c6c",
   "metadata": {
    "execution": {
     "iopub.execute_input": "2022-07-30T09:06:43.108350Z",
     "iopub.status.busy": "2022-07-30T09:06:43.107001Z",
     "iopub.status.idle": "2022-07-30T09:06:48.879077Z",
     "shell.execute_reply": "2022-07-30T09:06:48.877584Z"
    },
    "papermill": {
     "duration": 5.810116,
     "end_time": "2022-07-30T09:06:48.882534",
     "exception": false,
     "start_time": "2022-07-30T09:06:43.072418",
     "status": "completed"
    },
    "tags": []
   },
   "outputs": [
    {
     "name": "stdout",
     "output_type": "stream",
     "text": [
      "Train rmse: 1015.3367697777462 \n",
      "Test rmse: 1022.4421428263263 \n",
      "-------------------------------------------------\n",
      "Train rmse: 1001.5810564410103 \n",
      "Test rmse: 1079.4908855870965 \n",
      "-------------------------------------------------\n",
      "Train rmse: 1003.2387630435567 \n",
      "Test rmse: 1075.2167161912414 \n",
      "-------------------------------------------------\n",
      "Train rmse: 992.4008775542936 \n",
      "Test rmse: 1116.2680875189046 \n",
      "-------------------------------------------------\n",
      "Train rmse: 992.790384889733 \n",
      "Test rmse: 1117.7449139459 \n",
      "-------------------------------------------------\n"
     ]
    }
   ],
   "source": [
    "kfold = KFold(n_splits=5,shuffle=True,random_state=42)\n",
    "\n",
    "rf_models = []\n",
    "\n",
    "for train_index, test_index in kfold.split(train_df[inputs],train_df[target]):\n",
    "    X_train, X_test = train_df.loc[train_index,:], train_df.loc[test_index,:]\n",
    "    y_train, y_test = train_df.loc[train_index,:][target], train_df.loc[test_index,:][target]\n",
    "    \n",
    "    model = RandomForestRegressor(min_samples_split=100,random_state=42, n_jobs=-1)\n",
    "    \n",
    "    model.fit(X_train[inputs],y_train)\n",
    "    \n",
    "    rf_models.append(model)\n",
    "    \n",
    "    print(\"Train rmse:\",mean_squared_error(y_train,model.predict(X_train[inputs]), squared=False),\n",
    "                    \"\\nTest rmse:\",mean_squared_error(y_test,model.predict(X_test[inputs]), squared=False),\n",
    "                \"\\n-------------------------------------------------\")"
   ]
  },
  {
   "cell_type": "code",
   "execution_count": 55,
   "id": "3e0f6d2d",
   "metadata": {
    "execution": {
     "iopub.execute_input": "2022-07-30T09:06:48.952574Z",
     "iopub.status.busy": "2022-07-30T09:06:48.952166Z",
     "iopub.status.idle": "2022-07-30T09:06:48.957018Z",
     "shell.execute_reply": "2022-07-30T09:06:48.955762Z"
    },
    "papermill": {
     "duration": 0.042442,
     "end_time": "2022-07-30T09:06:48.959614",
     "exception": false,
     "start_time": "2022-07-30T09:06:48.917172",
     "status": "completed"
    },
    "tags": []
   },
   "outputs": [],
   "source": [
    "final_rf = rf_models[0] #1150"
   ]
  },
  {
   "cell_type": "markdown",
   "id": "39fe028f",
   "metadata": {
    "papermill": {
     "duration": 0.033455,
     "end_time": "2022-07-30T09:06:49.026243",
     "exception": false,
     "start_time": "2022-07-30T09:06:48.992788",
     "status": "completed"
    },
    "tags": []
   },
   "source": [
    "### 4. Bulding Ada Boost Regressor"
   ]
  },
  {
   "cell_type": "code",
   "execution_count": 56,
   "id": "648a62c8",
   "metadata": {
    "execution": {
     "iopub.execute_input": "2022-07-30T09:06:49.096210Z",
     "iopub.status.busy": "2022-07-30T09:06:49.095840Z",
     "iopub.status.idle": "2022-07-30T09:06:50.211694Z",
     "shell.execute_reply": "2022-07-30T09:06:50.209591Z"
    },
    "papermill": {
     "duration": 1.15496,
     "end_time": "2022-07-30T09:06:50.214603",
     "exception": false,
     "start_time": "2022-07-30T09:06:49.059643",
     "status": "completed"
    },
    "tags": []
   },
   "outputs": [
    {
     "name": "stdout",
     "output_type": "stream",
     "text": [
      "1030.3168341909989 1019.6524064942726\n"
     ]
    }
   ],
   "source": [
    "ada = AdaBoostRegressor(base_estimator=dt_final, random_state=42, learning_rate=0.04)\n",
    "ada.fit(train_x,train_y)\n",
    "print(mean_squared_error(train_y, ada.predict(train_x), squared=False), \n",
    "                    mean_squared_error(test_y, ada.predict(test_x), squared=False)) #1156"
   ]
  },
  {
   "cell_type": "markdown",
   "id": "cf34a49a",
   "metadata": {
    "papermill": {
     "duration": 0.033711,
     "end_time": "2022-07-30T09:06:50.282396",
     "exception": false,
     "start_time": "2022-07-30T09:06:50.248685",
     "status": "completed"
    },
    "tags": []
   },
   "source": [
    "### 5. Advanced Ensembling Methods Stacking and Blending"
   ]
  },
  {
   "cell_type": "code",
   "execution_count": 57,
   "id": "0492f835",
   "metadata": {
    "execution": {
     "iopub.execute_input": "2022-07-30T09:06:50.353160Z",
     "iopub.status.busy": "2022-07-30T09:06:50.352746Z",
     "iopub.status.idle": "2022-07-30T09:06:56.464961Z",
     "shell.execute_reply": "2022-07-30T09:06:56.463190Z"
    },
    "papermill": {
     "duration": 6.151676,
     "end_time": "2022-07-30T09:06:56.468762",
     "exception": false,
     "start_time": "2022-07-30T09:06:50.317086",
     "status": "completed"
    },
    "tags": []
   },
   "outputs": [
    {
     "name": "stdout",
     "output_type": "stream",
     "text": [
      "213.49717336335476 1184.2379915666345\n"
     ]
    }
   ],
   "source": [
    "vr = VotingRegressor(\n",
    "                estimators = [('dt',DecisionTreeRegressor(splitter='random')),('rf',RandomForestRegressor())],\n",
    "                n_jobs=-1)\n",
    "vr.fit(train_x,train_y)\n",
    "print(mean_squared_error(train_y, vr.predict(train_x), squared=False), \n",
    "                    mean_squared_error(test_y, vr.predict(test_x), squared=False)) #1156"
   ]
  },
  {
   "cell_type": "code",
   "execution_count": 58,
   "id": "41781d87",
   "metadata": {
    "execution": {
     "iopub.execute_input": "2022-07-30T09:06:56.543985Z",
     "iopub.status.busy": "2022-07-30T09:06:56.543529Z",
     "iopub.status.idle": "2022-07-30T09:07:07.465495Z",
     "shell.execute_reply": "2022-07-30T09:07:07.464114Z"
    },
    "papermill": {
     "duration": 10.961535,
     "end_time": "2022-07-30T09:07:07.468075",
     "exception": false,
     "start_time": "2022-07-30T09:06:56.506540",
     "status": "completed"
    },
    "tags": []
   },
   "outputs": [
    {
     "name": "stdout",
     "output_type": "stream",
     "text": [
      "488.12651416036965 1073.356525007981\n"
     ]
    }
   ],
   "source": [
    "sr = StackingRegressor(\n",
    "            estimators=[('dt',DecisionTreeRegressor(random_state=42, splitter='random')),\n",
    "                         ('rf',RandomForestRegressor(random_state=42, n_jobs=-1))],\n",
    "            final_estimator=LinearRegression())\n",
    "sr.fit(train_x,train_y)\n",
    "print(mean_squared_error(train_y, sr.predict(train_x), squared=False), \n",
    "                    mean_squared_error(test_y, sr.predict(test_x), squared=False)) "
   ]
  },
  {
   "cell_type": "markdown",
   "id": "e6576654",
   "metadata": {
    "papermill": {
     "duration": 0.033335,
     "end_time": "2022-07-30T09:07:07.535718",
     "exception": false,
     "start_time": "2022-07-30T09:07:07.502383",
     "status": "completed"
    },
    "tags": []
   },
   "source": [
    "# Predictions"
   ]
  },
  {
   "cell_type": "code",
   "execution_count": 59,
   "id": "5ac35423",
   "metadata": {
    "execution": {
     "iopub.execute_input": "2022-07-30T09:07:07.605249Z",
     "iopub.status.busy": "2022-07-30T09:07:07.604040Z",
     "iopub.status.idle": "2022-07-30T09:07:10.115413Z",
     "shell.execute_reply": "2022-07-30T09:07:10.114280Z"
    },
    "papermill": {
     "duration": 2.548981,
     "end_time": "2022-07-30T09:07:10.118234",
     "exception": false,
     "start_time": "2022-07-30T09:07:07.569253",
     "status": "completed"
    },
    "tags": []
   },
   "outputs": [],
   "source": [
    "test_df = encode(test_df)"
   ]
  },
  {
   "cell_type": "code",
   "execution_count": 60,
   "id": "201573c1",
   "metadata": {
    "execution": {
     "iopub.execute_input": "2022-07-30T09:07:10.188198Z",
     "iopub.status.busy": "2022-07-30T09:07:10.187409Z",
     "iopub.status.idle": "2022-07-30T09:07:10.305484Z",
     "shell.execute_reply": "2022-07-30T09:07:10.304015Z"
    },
    "papermill": {
     "duration": 0.156955,
     "end_time": "2022-07-30T09:07:10.309467",
     "exception": false,
     "start_time": "2022-07-30T09:07:10.152512",
     "status": "completed"
    },
    "tags": []
   },
   "outputs": [],
   "source": [
    "preds = sr.predict(test_df[inputs])"
   ]
  },
  {
   "cell_type": "code",
   "execution_count": 61,
   "id": "b90f1c44",
   "metadata": {
    "execution": {
     "iopub.execute_input": "2022-07-30T09:07:10.432319Z",
     "iopub.status.busy": "2022-07-30T09:07:10.431911Z",
     "iopub.status.idle": "2022-07-30T09:07:10.438946Z",
     "shell.execute_reply": "2022-07-30T09:07:10.437794Z"
    },
    "papermill": {
     "duration": 0.068509,
     "end_time": "2022-07-30T09:07:10.441131",
     "exception": false,
     "start_time": "2022-07-30T09:07:10.372622",
     "status": "completed"
    },
    "tags": []
   },
   "outputs": [],
   "source": [
    "output = pd.DataFrame({'Item_Identifier':test_df.Item_Identifier,'Outlet_Identifier':test_df.Outlet_Identifier, 'Item_Outlet_Sales':preds})"
   ]
  },
  {
   "cell_type": "code",
   "execution_count": 62,
   "id": "9b05740b",
   "metadata": {
    "execution": {
     "iopub.execute_input": "2022-07-30T09:07:10.511546Z",
     "iopub.status.busy": "2022-07-30T09:07:10.510905Z",
     "iopub.status.idle": "2022-07-30T09:07:10.541613Z",
     "shell.execute_reply": "2022-07-30T09:07:10.540292Z"
    },
    "papermill": {
     "duration": 0.069104,
     "end_time": "2022-07-30T09:07:10.544590",
     "exception": false,
     "start_time": "2022-07-30T09:07:10.475486",
     "status": "completed"
    },
    "tags": []
   },
   "outputs": [],
   "source": [
    "output.to_csv('submission.csv',index=False)"
   ]
  },
  {
   "cell_type": "code",
   "execution_count": 63,
   "id": "b3005cff",
   "metadata": {
    "execution": {
     "iopub.execute_input": "2022-07-30T09:07:10.614985Z",
     "iopub.status.busy": "2022-07-30T09:07:10.614567Z",
     "iopub.status.idle": "2022-07-30T09:07:10.874608Z",
     "shell.execute_reply": "2022-07-30T09:07:10.873251Z"
    },
    "papermill": {
     "duration": 0.297758,
     "end_time": "2022-07-30T09:07:10.877305",
     "exception": false,
     "start_time": "2022-07-30T09:07:10.579547",
     "status": "completed"
    },
    "tags": []
   },
   "outputs": [
    {
     "data": {
      "image/png": "[encoded data removed]",
      "text/plain": [
       "<Figure size 432x288 with 1 Axes>"
      ]
     },
     "metadata": {},
     "output_type": "display_data"
    }
   ],
   "source": [
    "sns.histplot(preds);"
   ]
  },
  {
   "cell_type": "code",
   "execution_count": null,
   "id": "1e13e218",
   "metadata": {
    "papermill": {
     "duration": 0.033718,
     "end_time": "2022-07-30T09:07:10.945215",
     "exception": false,
     "start_time": "2022-07-30T09:07:10.911497",
     "status": "completed"
    },
    "tags": []
   },
   "outputs": [],
   "source": []
  }
 ],
 "metadata": {
  "kernelspec": {
   "display_name": "Python 3",
   "language": "python",
   "name": "python3"
  },
  "language_info": {
   "codemirror_mode": {
    "name": "ipython",
    "version": 3
   },
   "file_extension": ".py",
   "mimetype": "text/x-python",
   "name": "python",
   "nbconvert_exporter": "python",
   "pygments_lexer": "ipython3",
   "version": "3.7.12"
  },
  "papermill": {
   "default_parameters": {},
   "duration": 73.717997,
   "end_time": "2022-07-30T09:07:13.601774",
   "environment_variables": {},
   "exception": null,
   "input_path": "__notebook__.ipynb",
   "output_path": "__notebook__.ipynb",
   "parameters": {},
   "start_time": "2022-07-30T09:05:59.883777",
   "version": "2.3.4"
  }
 },
 "nbformat": 4,
 "nbformat_minor": 5
}
