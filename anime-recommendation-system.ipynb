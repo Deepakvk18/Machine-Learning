{
 "cells": [
  {
   "cell_type": "markdown",
   "id": "e39f9a02",
   "metadata": {
    "papermill": {
     "duration": 0.01043,
     "end_time": "2022-08-03T12:10:26.585801",
     "exception": false,
     "start_time": "2022-08-03T12:10:26.575371",
     "status": "completed"
    },
    "tags": []
   },
   "source": [
    "# Problem Statement\n",
    "\n",
    "This data set contains information on user preference data from 73,516 users on 12,294 anime. Each user is able to add anime to their completed list and give it a rating and this data set is a compilation of those ratings.\n",
    "\n",
    "[This dataset can be downloaded from here.](https://www.kaggle.com/datasets/CooperUnion/anime-recommendations-database)"
   ]
  },
  {
   "cell_type": "code",
   "execution_count": 1,
   "id": "490a692d",
   "metadata": {
    "_cell_guid": "b1076dfc-b9ad-4769-8c92-a6c4dae69d19",
    "_uuid": "8f2839f25d086af736a60e9eeb907d3b93b6e0e5",
    "execution": {
     "iopub.execute_input": "2022-08-03T12:10:26.606649Z",
     "iopub.status.busy": "2022-08-03T12:10:26.605681Z",
     "iopub.status.idle": "2022-08-03T12:10:26.629151Z",
     "shell.execute_reply": "2022-08-03T12:10:26.628255Z"
    },
    "papermill": {
     "duration": 0.036603,
     "end_time": "2022-08-03T12:10:26.631594",
     "exception": false,
     "start_time": "2022-08-03T12:10:26.594991",
     "status": "completed"
    },
    "tags": []
   },
   "outputs": [
    {
     "name": "stdout",
     "output_type": "stream",
     "text": [
      "/kaggle/input/anime-recommendations-database/rating.csv\n",
      "/kaggle/input/anime-recommendations-database/anime.csv\n"
     ]
    }
   ],
   "source": [
    "# This Python 3 environment comes with many helpful analytics libraries installed\n",
    "# It is defined by the kaggle/python Docker image: https://github.com/kaggle/docker-python\n",
    "# For example, here's several helpful packages to load\n",
    "\n",
    "import numpy as np # linear algebra\n",
    "import pandas as pd # data processing, CSV file I/O (e.g. pd.read_csv)\n",
    "\n",
    "# Input data files are available in the read-only \"../input/\" directory\n",
    "# For example, running this (by clicking run or pressing Shift+Enter) will list all files under the input directory\n",
    "\n",
    "import os\n",
    "for dirname, _, filenames in os.walk('/kaggle/input'):\n",
    "    for filename in filenames:\n",
    "        print(os.path.join(dirname, filename))\n",
    "\n",
    "# You can write up to 20GB to the current directory (/kaggle/working/) that gets preserved as output when you create a version using \"Save & Run All\" \n",
    "# You can also write temporary files to /kaggle/temp/, but they won't be saved outside of the current session"
   ]
  },
  {
   "cell_type": "code",
   "execution_count": 2,
   "id": "5d96293f",
   "metadata": {
    "execution": {
     "iopub.execute_input": "2022-08-03T12:10:26.651766Z",
     "iopub.status.busy": "2022-08-03T12:10:26.650810Z",
     "iopub.status.idle": "2022-08-03T12:10:28.081592Z",
     "shell.execute_reply": "2022-08-03T12:10:28.080590Z"
    },
    "papermill": {
     "duration": 1.443693,
     "end_time": "2022-08-03T12:10:28.084193",
     "exception": false,
     "start_time": "2022-08-03T12:10:26.640500",
     "status": "completed"
    },
    "tags": []
   },
   "outputs": [],
   "source": [
    "import numpy as np\n",
    "import pandas as pd\n",
    "from sklearn.feature_extraction.text import TfidfVectorizer, CountVectorizer\n",
    "from sklearn.metrics.pairwise import cosine_similarity\n",
    "from mlxtend.frequent_patterns import apriori, association_rules\n",
    "import re\n",
    "from ast import literal_eval\n",
    "from scipy.sparse import csr_matrix\n",
    "from sklearn.neighbors import NearestNeighbors\n",
    "from surprise import Reader, Dataset, SVD\n",
    "from surprise.model_selection import cross_validate"
   ]
  },
  {
   "cell_type": "code",
   "execution_count": 3,
   "id": "59b6c0a5",
   "metadata": {
    "execution": {
     "iopub.execute_input": "2022-08-03T12:10:28.104244Z",
     "iopub.status.busy": "2022-08-03T12:10:28.103221Z",
     "iopub.status.idle": "2022-08-03T12:10:30.720584Z",
     "shell.execute_reply": "2022-08-03T12:10:30.719308Z"
    },
    "papermill": {
     "duration": 2.630647,
     "end_time": "2022-08-03T12:10:30.723783",
     "exception": false,
     "start_time": "2022-08-03T12:10:28.093136",
     "status": "completed"
    },
    "tags": []
   },
   "outputs": [],
   "source": [
    "ratings= pd.read_csv('/kaggle/input/anime-recommendations-database/rating.csv')\n",
    "anime = pd.read_csv('/kaggle/input/anime-recommendations-database/anime.csv')"
   ]
  },
  {
   "cell_type": "code",
   "execution_count": 4,
   "id": "4d93d472",
   "metadata": {
    "execution": {
     "iopub.execute_input": "2022-08-03T12:10:30.744043Z",
     "iopub.status.busy": "2022-08-03T12:10:30.743054Z",
     "iopub.status.idle": "2022-08-03T12:10:30.767010Z",
     "shell.execute_reply": "2022-08-03T12:10:30.765563Z"
    },
    "papermill": {
     "duration": 0.03682,
     "end_time": "2022-08-03T12:10:30.769721",
     "exception": false,
     "start_time": "2022-08-03T12:10:30.732901",
     "status": "completed"
    },
    "tags": []
   },
   "outputs": [
    {
     "data": {
      "text/html": [
       "<div>\n",
       "<style scoped>\n",
       "    .dataframe tbody tr th:only-of-type {\n",
       "        vertical-align: middle;\n",
       "    }\n",
       "\n",
       "    .dataframe tbody tr th {\n",
       "        vertical-align: top;\n",
       "    }\n",
       "\n",
       "    .dataframe thead th {\n",
       "        text-align: right;\n",
       "    }\n",
       "</style>\n",
       "<table border=\"1\" class=\"dataframe\">\n",
       "  <thead>\n",
       "    <tr style=\"text-align: right;\">\n",
       "      <th></th>\n",
       "      <th>anime_id</th>\n",
       "      <th>name</th>\n",
       "      <th>genre</th>\n",
       "      <th>type</th>\n",
       "      <th>episodes</th>\n",
       "      <th>rating</th>\n",
       "      <th>members</th>\n",
       "    </tr>\n",
       "  </thead>\n",
       "  <tbody>\n",
       "    <tr>\n",
       "      <th>0</th>\n",
       "      <td>32281</td>\n",
       "      <td>Kimi no Na wa.</td>\n",
       "      <td>Drama, Romance, School, Supernatural</td>\n",
       "      <td>Movie</td>\n",
       "      <td>1</td>\n",
       "      <td>9.37</td>\n",
       "      <td>200630</td>\n",
       "    </tr>\n",
       "    <tr>\n",
       "      <th>1</th>\n",
       "      <td>5114</td>\n",
       "      <td>Fullmetal Alchemist: Brotherhood</td>\n",
       "      <td>Action, Adventure, Drama, Fantasy, Magic, Mili...</td>\n",
       "      <td>TV</td>\n",
       "      <td>64</td>\n",
       "      <td>9.26</td>\n",
       "      <td>793665</td>\n",
       "    </tr>\n",
       "    <tr>\n",
       "      <th>2</th>\n",
       "      <td>28977</td>\n",
       "      <td>Gintama°</td>\n",
       "      <td>Action, Comedy, Historical, Parody, Samurai, S...</td>\n",
       "      <td>TV</td>\n",
       "      <td>51</td>\n",
       "      <td>9.25</td>\n",
       "      <td>114262</td>\n",
       "    </tr>\n",
       "    <tr>\n",
       "      <th>3</th>\n",
       "      <td>9253</td>\n",
       "      <td>Steins;Gate</td>\n",
       "      <td>Sci-Fi, Thriller</td>\n",
       "      <td>TV</td>\n",
       "      <td>24</td>\n",
       "      <td>9.17</td>\n",
       "      <td>673572</td>\n",
       "    </tr>\n",
       "    <tr>\n",
       "      <th>4</th>\n",
       "      <td>9969</td>\n",
       "      <td>Gintama&amp;#039;</td>\n",
       "      <td>Action, Comedy, Historical, Parody, Samurai, S...</td>\n",
       "      <td>TV</td>\n",
       "      <td>51</td>\n",
       "      <td>9.16</td>\n",
       "      <td>151266</td>\n",
       "    </tr>\n",
       "  </tbody>\n",
       "</table>\n",
       "</div>"
      ],
      "text/plain": [
       "   anime_id                              name  \\\n",
       "0     32281                    Kimi no Na wa.   \n",
       "1      5114  Fullmetal Alchemist: Brotherhood   \n",
       "2     28977                          Gintama°   \n",
       "3      9253                       Steins;Gate   \n",
       "4      9969                     Gintama&#039;   \n",
       "\n",
       "                                               genre   type episodes  rating  \\\n",
       "0               Drama, Romance, School, Supernatural  Movie        1    9.37   \n",
       "1  Action, Adventure, Drama, Fantasy, Magic, Mili...     TV       64    9.26   \n",
       "2  Action, Comedy, Historical, Parody, Samurai, S...     TV       51    9.25   \n",
       "3                                   Sci-Fi, Thriller     TV       24    9.17   \n",
       "4  Action, Comedy, Historical, Parody, Samurai, S...     TV       51    9.16   \n",
       "\n",
       "   members  \n",
       "0   200630  \n",
       "1   793665  \n",
       "2   114262  \n",
       "3   673572  \n",
       "4   151266  "
      ]
     },
     "execution_count": 4,
     "metadata": {},
     "output_type": "execute_result"
    }
   ],
   "source": [
    "anime.head()"
   ]
  },
  {
   "cell_type": "code",
   "execution_count": 5,
   "id": "3382310d",
   "metadata": {
    "execution": {
     "iopub.execute_input": "2022-08-03T12:10:30.791192Z",
     "iopub.status.busy": "2022-08-03T12:10:30.789795Z",
     "iopub.status.idle": "2022-08-03T12:10:30.801889Z",
     "shell.execute_reply": "2022-08-03T12:10:30.800640Z"
    },
    "papermill": {
     "duration": 0.025174,
     "end_time": "2022-08-03T12:10:30.804434",
     "exception": false,
     "start_time": "2022-08-03T12:10:30.779260",
     "status": "completed"
    },
    "tags": []
   },
   "outputs": [
    {
     "data": {
      "text/html": [
       "<div>\n",
       "<style scoped>\n",
       "    .dataframe tbody tr th:only-of-type {\n",
       "        vertical-align: middle;\n",
       "    }\n",
       "\n",
       "    .dataframe tbody tr th {\n",
       "        vertical-align: top;\n",
       "    }\n",
       "\n",
       "    .dataframe thead th {\n",
       "        text-align: right;\n",
       "    }\n",
       "</style>\n",
       "<table border=\"1\" class=\"dataframe\">\n",
       "  <thead>\n",
       "    <tr style=\"text-align: right;\">\n",
       "      <th></th>\n",
       "      <th>user_id</th>\n",
       "      <th>anime_id</th>\n",
       "      <th>rating</th>\n",
       "    </tr>\n",
       "  </thead>\n",
       "  <tbody>\n",
       "    <tr>\n",
       "      <th>0</th>\n",
       "      <td>1</td>\n",
       "      <td>20</td>\n",
       "      <td>-1</td>\n",
       "    </tr>\n",
       "    <tr>\n",
       "      <th>1</th>\n",
       "      <td>1</td>\n",
       "      <td>24</td>\n",
       "      <td>-1</td>\n",
       "    </tr>\n",
       "    <tr>\n",
       "      <th>2</th>\n",
       "      <td>1</td>\n",
       "      <td>79</td>\n",
       "      <td>-1</td>\n",
       "    </tr>\n",
       "    <tr>\n",
       "      <th>3</th>\n",
       "      <td>1</td>\n",
       "      <td>226</td>\n",
       "      <td>-1</td>\n",
       "    </tr>\n",
       "    <tr>\n",
       "      <th>4</th>\n",
       "      <td>1</td>\n",
       "      <td>241</td>\n",
       "      <td>-1</td>\n",
       "    </tr>\n",
       "  </tbody>\n",
       "</table>\n",
       "</div>"
      ],
      "text/plain": [
       "   user_id  anime_id  rating\n",
       "0        1        20      -1\n",
       "1        1        24      -1\n",
       "2        1        79      -1\n",
       "3        1       226      -1\n",
       "4        1       241      -1"
      ]
     },
     "execution_count": 5,
     "metadata": {},
     "output_type": "execute_result"
    }
   ],
   "source": [
    "ratings.head()"
   ]
  },
  {
   "cell_type": "code",
   "execution_count": 6,
   "id": "56c03033",
   "metadata": {
    "execution": {
     "iopub.execute_input": "2022-08-03T12:10:30.825187Z",
     "iopub.status.busy": "2022-08-03T12:10:30.824744Z",
     "iopub.status.idle": "2022-08-03T12:10:30.833288Z",
     "shell.execute_reply": "2022-08-03T12:10:30.831996Z"
    },
    "papermill": {
     "duration": 0.022056,
     "end_time": "2022-08-03T12:10:30.835987",
     "exception": false,
     "start_time": "2022-08-03T12:10:30.813931",
     "status": "completed"
    },
    "tags": []
   },
   "outputs": [
    {
     "data": {
      "text/plain": [
       "((12294, 7), (7813737, 3))"
      ]
     },
     "execution_count": 6,
     "metadata": {},
     "output_type": "execute_result"
    }
   ],
   "source": [
    "anime.shape, ratings.shape"
   ]
  },
  {
   "cell_type": "markdown",
   "id": "58ee8e2a",
   "metadata": {
    "papermill": {
     "duration": 0.009,
     "end_time": "2022-08-03T12:10:30.855703",
     "exception": false,
     "start_time": "2022-08-03T12:10:30.846703",
     "status": "completed"
    },
    "tags": []
   },
   "source": [
    "### About the features\n",
    "\n",
    "In Anime.csv\n",
    "\n",
    "* **anime_id** - myanimelist.net's unique id identifying an anime.\n",
    "* **name** - full name of anime.\n",
    "* **genre** - comma separated list of genres for this anime.\n",
    "* **type** - movie, TV, OVA, etc.\n",
    "* **episodes** - how many episodes in this show. (1 if movie).\n",
    "* **rating** - average rating out of 10 for this anime.\n",
    "* **members** - number of community members that are in this anime's\n",
    "\"group\".\n",
    "\n",
    "In Rating.csv\n",
    " \n",
    "* **user_id** - non identifiable randomly generated user id.\n",
    "* **anime_id** - the anime that this user has rated.\n",
    "* **rating** - rating out of 10 this user has assigned (-1 if the user watched it but didn't assign a rating)."
   ]
  },
  {
   "cell_type": "code",
   "execution_count": 7,
   "id": "cd178872",
   "metadata": {
    "execution": {
     "iopub.execute_input": "2022-08-03T12:10:30.876330Z",
     "iopub.status.busy": "2022-08-03T12:10:30.875866Z",
     "iopub.status.idle": "2022-08-03T12:10:32.476261Z",
     "shell.execute_reply": "2022-08-03T12:10:32.475013Z"
    },
    "papermill": {
     "duration": 1.614239,
     "end_time": "2022-08-03T12:10:32.479318",
     "exception": false,
     "start_time": "2022-08-03T12:10:30.865079",
     "status": "completed"
    },
    "tags": []
   },
   "outputs": [
    {
     "data": {
      "text/html": [
       "<div>\n",
       "<style scoped>\n",
       "    .dataframe tbody tr th:only-of-type {\n",
       "        vertical-align: middle;\n",
       "    }\n",
       "\n",
       "    .dataframe tbody tr th {\n",
       "        vertical-align: top;\n",
       "    }\n",
       "\n",
       "    .dataframe thead th {\n",
       "        text-align: right;\n",
       "    }\n",
       "</style>\n",
       "<table border=\"1\" class=\"dataframe\">\n",
       "  <thead>\n",
       "    <tr style=\"text-align: right;\">\n",
       "      <th></th>\n",
       "      <th>user_id</th>\n",
       "      <th>anime_id</th>\n",
       "      <th>rating_x</th>\n",
       "      <th>name</th>\n",
       "      <th>genre</th>\n",
       "      <th>type</th>\n",
       "      <th>episodes</th>\n",
       "      <th>rating_y</th>\n",
       "      <th>members</th>\n",
       "    </tr>\n",
       "  </thead>\n",
       "  <tbody>\n",
       "    <tr>\n",
       "      <th>0</th>\n",
       "      <td>1</td>\n",
       "      <td>20</td>\n",
       "      <td>-1</td>\n",
       "      <td>Naruto</td>\n",
       "      <td>Action, Comedy, Martial Arts, Shounen, Super P...</td>\n",
       "      <td>TV</td>\n",
       "      <td>220</td>\n",
       "      <td>7.81</td>\n",
       "      <td>683297</td>\n",
       "    </tr>\n",
       "    <tr>\n",
       "      <th>1</th>\n",
       "      <td>3</td>\n",
       "      <td>20</td>\n",
       "      <td>8</td>\n",
       "      <td>Naruto</td>\n",
       "      <td>Action, Comedy, Martial Arts, Shounen, Super P...</td>\n",
       "      <td>TV</td>\n",
       "      <td>220</td>\n",
       "      <td>7.81</td>\n",
       "      <td>683297</td>\n",
       "    </tr>\n",
       "    <tr>\n",
       "      <th>2</th>\n",
       "      <td>5</td>\n",
       "      <td>20</td>\n",
       "      <td>6</td>\n",
       "      <td>Naruto</td>\n",
       "      <td>Action, Comedy, Martial Arts, Shounen, Super P...</td>\n",
       "      <td>TV</td>\n",
       "      <td>220</td>\n",
       "      <td>7.81</td>\n",
       "      <td>683297</td>\n",
       "    </tr>\n",
       "    <tr>\n",
       "      <th>3</th>\n",
       "      <td>6</td>\n",
       "      <td>20</td>\n",
       "      <td>-1</td>\n",
       "      <td>Naruto</td>\n",
       "      <td>Action, Comedy, Martial Arts, Shounen, Super P...</td>\n",
       "      <td>TV</td>\n",
       "      <td>220</td>\n",
       "      <td>7.81</td>\n",
       "      <td>683297</td>\n",
       "    </tr>\n",
       "    <tr>\n",
       "      <th>4</th>\n",
       "      <td>10</td>\n",
       "      <td>20</td>\n",
       "      <td>-1</td>\n",
       "      <td>Naruto</td>\n",
       "      <td>Action, Comedy, Martial Arts, Shounen, Super P...</td>\n",
       "      <td>TV</td>\n",
       "      <td>220</td>\n",
       "      <td>7.81</td>\n",
       "      <td>683297</td>\n",
       "    </tr>\n",
       "  </tbody>\n",
       "</table>\n",
       "</div>"
      ],
      "text/plain": [
       "   user_id  anime_id  rating_x    name  \\\n",
       "0        1        20        -1  Naruto   \n",
       "1        3        20         8  Naruto   \n",
       "2        5        20         6  Naruto   \n",
       "3        6        20        -1  Naruto   \n",
       "4       10        20        -1  Naruto   \n",
       "\n",
       "                                               genre type episodes  rating_y  \\\n",
       "0  Action, Comedy, Martial Arts, Shounen, Super P...   TV      220      7.81   \n",
       "1  Action, Comedy, Martial Arts, Shounen, Super P...   TV      220      7.81   \n",
       "2  Action, Comedy, Martial Arts, Shounen, Super P...   TV      220      7.81   \n",
       "3  Action, Comedy, Martial Arts, Shounen, Super P...   TV      220      7.81   \n",
       "4  Action, Comedy, Martial Arts, Shounen, Super P...   TV      220      7.81   \n",
       "\n",
       "   members  \n",
       "0   683297  \n",
       "1   683297  \n",
       "2   683297  \n",
       "3   683297  \n",
       "4   683297  "
      ]
     },
     "execution_count": 7,
     "metadata": {},
     "output_type": "execute_result"
    }
   ],
   "source": [
    "df = pd.merge(ratings,anime, on='anime_id')\n",
    "df.head()"
   ]
  },
  {
   "cell_type": "markdown",
   "id": "6ba898b3",
   "metadata": {
    "papermill": {
     "duration": 0.009269,
     "end_time": "2022-08-03T12:10:32.498337",
     "exception": false,
     "start_time": "2022-08-03T12:10:32.489068",
     "status": "completed"
    },
    "tags": []
   },
   "source": [
    "# Content Based Recommendation System (Genre Based)"
   ]
  },
  {
   "cell_type": "code",
   "execution_count": 8,
   "id": "941d33fd",
   "metadata": {
    "execution": {
     "iopub.execute_input": "2022-08-03T12:10:32.519818Z",
     "iopub.status.busy": "2022-08-03T12:10:32.518757Z",
     "iopub.status.idle": "2022-08-03T12:10:32.531911Z",
     "shell.execute_reply": "2022-08-03T12:10:32.531012Z"
    },
    "papermill": {
     "duration": 0.026219,
     "end_time": "2022-08-03T12:10:32.534052",
     "exception": false,
     "start_time": "2022-08-03T12:10:32.507833",
     "status": "completed"
    },
    "tags": []
   },
   "outputs": [
    {
     "data": {
      "text/plain": [
       "anime_id      0\n",
       "name          0\n",
       "genre        62\n",
       "type         25\n",
       "episodes      0\n",
       "rating      230\n",
       "members       0\n",
       "dtype: int64"
      ]
     },
     "execution_count": 8,
     "metadata": {},
     "output_type": "execute_result"
    }
   ],
   "source": [
    "anime.isna().sum()"
   ]
  },
  {
   "cell_type": "code",
   "execution_count": 9,
   "id": "161059c3",
   "metadata": {
    "execution": {
     "iopub.execute_input": "2022-08-03T12:10:32.556223Z",
     "iopub.status.busy": "2022-08-03T12:10:32.555065Z",
     "iopub.status.idle": "2022-08-03T12:10:32.567745Z",
     "shell.execute_reply": "2022-08-03T12:10:32.566551Z"
    },
    "papermill": {
     "duration": 0.026684,
     "end_time": "2022-08-03T12:10:32.570426",
     "exception": false,
     "start_time": "2022-08-03T12:10:32.543742",
     "status": "completed"
    },
    "tags": []
   },
   "outputs": [],
   "source": [
    "anime.dropna(inplace = True)"
   ]
  },
  {
   "cell_type": "code",
   "execution_count": 10,
   "id": "97663d6c",
   "metadata": {
    "execution": {
     "iopub.execute_input": "2022-08-03T12:10:32.592332Z",
     "iopub.status.busy": "2022-08-03T12:10:32.591506Z",
     "iopub.status.idle": "2022-08-03T12:10:32.606980Z",
     "shell.execute_reply": "2022-08-03T12:10:32.605938Z"
    },
    "papermill": {
     "duration": 0.029451,
     "end_time": "2022-08-03T12:10:32.609586",
     "exception": false,
     "start_time": "2022-08-03T12:10:32.580135",
     "status": "completed"
    },
    "tags": []
   },
   "outputs": [],
   "source": [
    "anime['genre'] = anime['genre'].transform(lambda x: ' '.join(x.split(', ')))"
   ]
  },
  {
   "cell_type": "code",
   "execution_count": 11,
   "id": "00c52a8a",
   "metadata": {
    "execution": {
     "iopub.execute_input": "2022-08-03T12:10:32.631774Z",
     "iopub.status.busy": "2022-08-03T12:10:32.630999Z",
     "iopub.status.idle": "2022-08-03T12:10:35.917252Z",
     "shell.execute_reply": "2022-08-03T12:10:35.915779Z"
    },
    "papermill": {
     "duration": 3.300935,
     "end_time": "2022-08-03T12:10:35.920539",
     "exception": false,
     "start_time": "2022-08-03T12:10:32.619604",
     "status": "completed"
    },
    "tags": []
   },
   "outputs": [],
   "source": [
    "tfidf = TfidfVectorizer()\n",
    "tfidf_matrix = tfidf.fit_transform(anime['genre'])\n",
    "cosine_sim = cosine_similarity(tfidf_matrix, tfidf_matrix)"
   ]
  },
  {
   "cell_type": "code",
   "execution_count": 12,
   "id": "81b0b3c8",
   "metadata": {
    "execution": {
     "iopub.execute_input": "2022-08-03T12:10:35.943739Z",
     "iopub.status.busy": "2022-08-03T12:10:35.943267Z",
     "iopub.status.idle": "2022-08-03T12:10:35.951281Z",
     "shell.execute_reply": "2022-08-03T12:10:35.949811Z"
    },
    "papermill": {
     "duration": 0.021614,
     "end_time": "2022-08-03T12:10:35.953465",
     "exception": false,
     "start_time": "2022-08-03T12:10:35.931851",
     "status": "completed"
    },
    "tags": []
   },
   "outputs": [],
   "source": [
    "def recommend(string):\n",
    "    \n",
    "    index = anime[anime['name'].str.lower()==string.lower()].index\n",
    "    all_anime = []\n",
    "\n",
    "    for i in index:\n",
    "        scores = list(enumerate(cosine_sim[i]))\n",
    "        scores = sorted(scores,key=lambda x: x[1], reverse=True)[0:11]\n",
    "        anime_list = [anime.iloc[n]['name'] for n,j in scores]\n",
    "        all_anime.extend(anime_list)\n",
    "    return all_anime"
   ]
  },
  {
   "cell_type": "code",
   "execution_count": 13,
   "id": "55b35076",
   "metadata": {
    "execution": {
     "iopub.execute_input": "2022-08-03T12:10:35.976175Z",
     "iopub.status.busy": "2022-08-03T12:10:35.975463Z",
     "iopub.status.idle": "2022-08-03T12:10:35.999429Z",
     "shell.execute_reply": "2022-08-03T12:10:35.998093Z"
    },
    "papermill": {
     "duration": 0.038342,
     "end_time": "2022-08-03T12:10:36.002274",
     "exception": false,
     "start_time": "2022-08-03T12:10:35.963932",
     "status": "completed"
    },
    "tags": []
   },
   "outputs": [
    {
     "data": {
      "text/plain": [
       "['Boruto: Naruto the Movie',\n",
       " 'Naruto: Shippuuden',\n",
       " 'Naruto',\n",
       " 'Boruto: Naruto the Movie - Naruto ga Hokage ni Natta Hi',\n",
       " 'Naruto x UT',\n",
       " 'Naruto: Shippuuden Movie 4 - The Lost Tower',\n",
       " 'Naruto: Shippuuden Movie 3 - Hi no Ishi wo Tsugu Mono',\n",
       " 'Naruto Shippuuden: Sunny Side Battle',\n",
       " 'Naruto Soyokazeden Movie: Naruto to Mashin to Mitsu no Onegai Dattebayo!!',\n",
       " 'Kyutai Panic Adventure!',\n",
       " 'Naruto: Shippuuden Movie 6 - Road to Ninja']"
      ]
     },
     "execution_count": 13,
     "metadata": {},
     "output_type": "execute_result"
    }
   ],
   "source": [
    "recommend('naruto')"
   ]
  },
  {
   "cell_type": "code",
   "execution_count": 14,
   "id": "c2f583ce",
   "metadata": {
    "execution": {
     "iopub.execute_input": "2022-08-03T12:10:36.025835Z",
     "iopub.status.busy": "2022-08-03T12:10:36.025093Z",
     "iopub.status.idle": "2022-08-03T12:10:36.045731Z",
     "shell.execute_reply": "2022-08-03T12:10:36.044662Z"
    },
    "papermill": {
     "duration": 0.035177,
     "end_time": "2022-08-03T12:10:36.048081",
     "exception": false,
     "start_time": "2022-08-03T12:10:36.012904",
     "status": "completed"
    },
    "tags": []
   },
   "outputs": [
    {
     "data": {
      "text/plain": [
       "['Gintama°',\n",
       " 'Gintama&#039;',\n",
       " 'Gintama Movie: Kanketsu-hen - Yorozuya yo Eien Nare',\n",
       " 'Gintama&#039;: Enchousen',\n",
       " 'Gintama',\n",
       " 'Gintama: Yorinuki Gintama-san on Theater 2D',\n",
       " 'Gintama Movie: Shinyaku Benizakura-hen',\n",
       " 'Gintama: Shinyaku Benizakura-hen',\n",
       " 'Gintama: Jump Festa 2014 Special',\n",
       " 'Gintama: Nanigoto mo Saiyo ga Kanjin nano de Tasho Senobisuru Kurai ga Choudoyoi',\n",
       " 'Gintama: Jump Festa 2015 Special']"
      ]
     },
     "execution_count": 14,
     "metadata": {},
     "output_type": "execute_result"
    }
   ],
   "source": [
    "recommend('Gintama')"
   ]
  },
  {
   "cell_type": "code",
   "execution_count": 15,
   "id": "45d510d1",
   "metadata": {
    "execution": {
     "iopub.execute_input": "2022-08-03T12:10:36.069584Z",
     "iopub.status.busy": "2022-08-03T12:10:36.069022Z",
     "iopub.status.idle": "2022-08-03T12:10:36.090587Z",
     "shell.execute_reply": "2022-08-03T12:10:36.089361Z"
    },
    "papermill": {
     "duration": 0.035124,
     "end_time": "2022-08-03T12:10:36.093075",
     "exception": false,
     "start_time": "2022-08-03T12:10:36.057951",
     "status": "completed"
    },
    "tags": []
   },
   "outputs": [
    {
     "data": {
      "text/plain": [
       "['Fullmetal Alchemist: Brotherhood',\n",
       " 'Fullmetal Alchemist',\n",
       " 'Fullmetal Alchemist: The Sacred Star of Milos',\n",
       " 'Fullmetal Alchemist: Brotherhood Specials',\n",
       " 'Tales of Vesperia: The First Strike',\n",
       " 'Tide-Line Blue',\n",
       " 'Fullmetal Alchemist: Reflections',\n",
       " 'Magi: The Kingdom of Magic',\n",
       " 'Magi: The Labyrinth of Magic',\n",
       " 'Magi: Sinbad no Bouken (TV)',\n",
       " 'Magi: Sinbad no Bouken']"
      ]
     },
     "execution_count": 15,
     "metadata": {},
     "output_type": "execute_result"
    }
   ],
   "source": [
    "recommend('Fullmetal Alchemist: Brotherhood')"
   ]
  },
  {
   "cell_type": "code",
   "execution_count": 16,
   "id": "cb0973eb",
   "metadata": {
    "execution": {
     "iopub.execute_input": "2022-08-03T12:10:36.114753Z",
     "iopub.status.busy": "2022-08-03T12:10:36.114100Z",
     "iopub.status.idle": "2022-08-03T12:10:36.140772Z",
     "shell.execute_reply": "2022-08-03T12:10:36.139374Z"
    },
    "papermill": {
     "duration": 0.040558,
     "end_time": "2022-08-03T12:10:36.143500",
     "exception": false,
     "start_time": "2022-08-03T12:10:36.102942",
     "status": "completed"
    },
    "tags": []
   },
   "outputs": [
    {
     "data": {
      "text/plain": [
       "['Shingeki no Kyojin',\n",
       " 'Shingeki no Kyojin OVA',\n",
       " 'Shingeki no Kyojin Movie 2: Jiyuu no Tsubasa',\n",
       " 'Shingeki no Kyojin Movie 1: Guren no Yumiya',\n",
       " 'Shingeki no Kyojin: Ano Hi Kara',\n",
       " 'Saint Seiya: Meiou Hades Elysion-hen',\n",
       " 'One Piece',\n",
       " 'One Piece: Episode of Merry - Mou Hitori no Nakama no Monogatari',\n",
       " 'One Piece: Episode of Nami - Koukaishi no Namida to Nakama no Kizuna',\n",
       " 'One Piece: Episode of Sabo - 3 Kyoudai no Kizuna Kiseki no Saikai to Uketsugareru Ishi',\n",
       " 'One Piece: Romance Dawn']"
      ]
     },
     "execution_count": 16,
     "metadata": {},
     "output_type": "execute_result"
    }
   ],
   "source": [
    "recommend('Shingeki no Kyojin')"
   ]
  },
  {
   "cell_type": "code",
   "execution_count": 17,
   "id": "b792284e",
   "metadata": {
    "execution": {
     "iopub.execute_input": "2022-08-03T12:10:36.168916Z",
     "iopub.status.busy": "2022-08-03T12:10:36.167377Z",
     "iopub.status.idle": "2022-08-03T12:10:36.198128Z",
     "shell.execute_reply": "2022-08-03T12:10:36.196721Z"
    },
    "papermill": {
     "duration": 0.046861,
     "end_time": "2022-08-03T12:10:36.201112",
     "exception": false,
     "start_time": "2022-08-03T12:10:36.154251",
     "status": "completed"
    },
    "tags": []
   },
   "outputs": [
    {
     "data": {
      "text/plain": [
       "['One Piece',\n",
       " 'One Piece: Episode of Merry - Mou Hitori no Nakama no Monogatari',\n",
       " 'One Piece: Episode of Nami - Koukaishi no Namida to Nakama no Kizuna',\n",
       " 'One Piece: Episode of Sabo - 3 Kyoudai no Kizuna Kiseki no Saikai to Uketsugareru Ishi',\n",
       " 'One Piece Film: Strong World Episode 0',\n",
       " 'One Piece: Episode of Luffy - Hand Island no Bouken',\n",
       " 'One Piece Movie 4: Dead End no Bouken',\n",
       " 'One Piece Movie 9: Episode of Chopper Plus - Fuyu ni Saku, Kiseki no Sakura',\n",
       " 'One Piece: Adventure of Nebulandia',\n",
       " 'One Piece Movie 5: Norowareta Seiken',\n",
       " 'One Piece: Umi no Heso no Daibouken-hen']"
      ]
     },
     "execution_count": 17,
     "metadata": {},
     "output_type": "execute_result"
    }
   ],
   "source": [
    "recommend('One Piece')"
   ]
  },
  {
   "cell_type": "code",
   "execution_count": 18,
   "id": "9a103ec2",
   "metadata": {
    "execution": {
     "iopub.execute_input": "2022-08-03T12:10:36.227567Z",
     "iopub.status.busy": "2022-08-03T12:10:36.227018Z",
     "iopub.status.idle": "2022-08-03T12:10:36.250356Z",
     "shell.execute_reply": "2022-08-03T12:10:36.249099Z"
    },
    "papermill": {
     "duration": 0.038663,
     "end_time": "2022-08-03T12:10:36.253229",
     "exception": false,
     "start_time": "2022-08-03T12:10:36.214566",
     "status": "completed"
    },
    "tags": []
   },
   "outputs": [
    {
     "data": {
      "text/plain": [
       "['Boku no Hero Academia',\n",
       " 'Boku no Hero Academia: Jump Festa 2016 Special',\n",
       " 'Kill la Kill',\n",
       " 'Kill la Kill Special',\n",
       " 'Code:Breaker',\n",
       " 'Katekyo Hitman Reborn!',\n",
       " 'Baka to Test to Shoukanjuu: Matsuri',\n",
       " 'Big Order',\n",
       " 'Big Order (TV)',\n",
       " 'Kyutai Panic Adventure Returns!',\n",
       " 'Tokyo Ravens']"
      ]
     },
     "execution_count": 18,
     "metadata": {},
     "output_type": "execute_result"
    }
   ],
   "source": [
    "recommend('Boku no hero academia')"
   ]
  },
  {
   "cell_type": "markdown",
   "id": "82712f9a",
   "metadata": {
    "papermill": {
     "duration": 0.01036,
     "end_time": "2022-08-03T12:10:36.274736",
     "exception": false,
     "start_time": "2022-08-03T12:10:36.264376",
     "status": "completed"
    },
    "tags": []
   },
   "source": [
    "# Collaborative Filtering"
   ]
  },
  {
   "cell_type": "markdown",
   "id": "c3bd6b9c",
   "metadata": {
    "papermill": {
     "duration": 0.010287,
     "end_time": "2022-08-03T12:10:36.295820",
     "exception": false,
     "start_time": "2022-08-03T12:10:36.285533",
     "status": "completed"
    },
    "tags": []
   },
   "source": [
    "I cannot process all the data since that would take a lot of processing time. Therefore, I will use only the anime that has a rating of 8.5 or above."
   ]
  },
  {
   "cell_type": "code",
   "execution_count": 19,
   "id": "c1539eb8",
   "metadata": {
    "execution": {
     "iopub.execute_input": "2022-08-03T12:10:36.319672Z",
     "iopub.status.busy": "2022-08-03T12:10:36.318806Z",
     "iopub.status.idle": "2022-08-03T12:10:36.619364Z",
     "shell.execute_reply": "2022-08-03T12:10:36.618194Z"
    },
    "papermill": {
     "duration": 0.3154,
     "end_time": "2022-08-03T12:10:36.621866",
     "exception": false,
     "start_time": "2022-08-03T12:10:36.306466",
     "status": "completed"
    },
    "tags": []
   },
   "outputs": [
    {
     "data": {
      "text/plain": [
       "(666794, 9)"
      ]
     },
     "execution_count": 19,
     "metadata": {},
     "output_type": "execute_result"
    }
   ],
   "source": [
    "df[df['rating_y']>8.5].shape"
   ]
  },
  {
   "cell_type": "code",
   "execution_count": 20,
   "id": "6122763a",
   "metadata": {
    "execution": {
     "iopub.execute_input": "2022-08-03T12:10:36.645572Z",
     "iopub.status.busy": "2022-08-03T12:10:36.644814Z",
     "iopub.status.idle": "2022-08-03T12:10:37.152099Z",
     "shell.execute_reply": "2022-08-03T12:10:37.150785Z"
    },
    "papermill": {
     "duration": 0.522443,
     "end_time": "2022-08-03T12:10:37.155035",
     "exception": false,
     "start_time": "2022-08-03T12:10:36.632592",
     "status": "completed"
    },
    "tags": []
   },
   "outputs": [],
   "source": [
    "df1 = df[df['rating_y']>8.5].drop_duplicates()"
   ]
  },
  {
   "cell_type": "code",
   "execution_count": 21,
   "id": "363522be",
   "metadata": {
    "execution": {
     "iopub.execute_input": "2022-08-03T12:10:37.179937Z",
     "iopub.status.busy": "2022-08-03T12:10:37.177972Z",
     "iopub.status.idle": "2022-08-03T12:10:37.241165Z",
     "shell.execute_reply": "2022-08-03T12:10:37.240015Z"
    },
    "papermill": {
     "duration": 0.0778,
     "end_time": "2022-08-03T12:10:37.243580",
     "exception": false,
     "start_time": "2022-08-03T12:10:37.165780",
     "status": "completed"
    },
    "tags": []
   },
   "outputs": [
    {
     "data": {
      "text/plain": [
       "104"
      ]
     },
     "execution_count": 21,
     "metadata": {},
     "output_type": "execute_result"
    }
   ],
   "source": [
    "df1.name.nunique()"
   ]
  },
  {
   "cell_type": "code",
   "execution_count": 22,
   "id": "fe5c0573",
   "metadata": {
    "execution": {
     "iopub.execute_input": "2022-08-03T12:10:37.266377Z",
     "iopub.status.busy": "2022-08-03T12:10:37.265779Z",
     "iopub.status.idle": "2022-08-03T12:10:42.045544Z",
     "shell.execute_reply": "2022-08-03T12:10:42.044342Z"
    },
    "papermill": {
     "duration": 4.794684,
     "end_time": "2022-08-03T12:10:42.048723",
     "exception": false,
     "start_time": "2022-08-03T12:10:37.254039",
     "status": "completed"
    },
    "tags": []
   },
   "outputs": [],
   "source": [
    "crosstab = pd.crosstab(df1['user_id'],df['name']).astype('bool')"
   ]
  },
  {
   "cell_type": "code",
   "execution_count": 23,
   "id": "fb0b950b",
   "metadata": {
    "execution": {
     "iopub.execute_input": "2022-08-03T12:10:42.073018Z",
     "iopub.status.busy": "2022-08-03T12:10:42.072436Z",
     "iopub.status.idle": "2022-08-03T12:10:53.989543Z",
     "shell.execute_reply": "2022-08-03T12:10:53.987902Z"
    },
    "papermill": {
     "duration": 11.932704,
     "end_time": "2022-08-03T12:10:53.992750",
     "exception": false,
     "start_time": "2022-08-03T12:10:42.060046",
     "status": "completed"
    },
    "tags": []
   },
   "outputs": [
    {
     "data": {
      "text/html": [
       "<div>\n",
       "<style scoped>\n",
       "    .dataframe tbody tr th:only-of-type {\n",
       "        vertical-align: middle;\n",
       "    }\n",
       "\n",
       "    .dataframe tbody tr th {\n",
       "        vertical-align: top;\n",
       "    }\n",
       "\n",
       "    .dataframe thead th {\n",
       "        text-align: right;\n",
       "    }\n",
       "</style>\n",
       "<table border=\"1\" class=\"dataframe\">\n",
       "  <thead>\n",
       "    <tr style=\"text-align: right;\">\n",
       "      <th></th>\n",
       "      <th>antecedents</th>\n",
       "      <th>consequents</th>\n",
       "      <th>antecedent support</th>\n",
       "      <th>consequent support</th>\n",
       "      <th>support</th>\n",
       "      <th>confidence</th>\n",
       "      <th>lift</th>\n",
       "      <th>leverage</th>\n",
       "      <th>conviction</th>\n",
       "    </tr>\n",
       "  </thead>\n",
       "  <tbody>\n",
       "    <tr>\n",
       "      <th>0</th>\n",
       "      <td>(Ano Hi Mita Hana no Namae wo Bokutachi wa Mad...</td>\n",
       "      <td>(Baccano!)</td>\n",
       "      <td>0.263609</td>\n",
       "      <td>0.171726</td>\n",
       "      <td>0.077207</td>\n",
       "      <td>0.292885</td>\n",
       "      <td>1.705534</td>\n",
       "      <td>0.031939</td>\n",
       "      <td>1.171343</td>\n",
       "    </tr>\n",
       "    <tr>\n",
       "      <th>1</th>\n",
       "      <td>(Baccano!)</td>\n",
       "      <td>(Ano Hi Mita Hana no Namae wo Bokutachi wa Mad...</td>\n",
       "      <td>0.171726</td>\n",
       "      <td>0.263609</td>\n",
       "      <td>0.077207</td>\n",
       "      <td>0.449593</td>\n",
       "      <td>1.705534</td>\n",
       "      <td>0.031939</td>\n",
       "      <td>1.337905</td>\n",
       "    </tr>\n",
       "    <tr>\n",
       "      <th>2</th>\n",
       "      <td>(Bakuman. 2nd Season)</td>\n",
       "      <td>(Ano Hi Mita Hana no Namae wo Bokutachi wa Mad...</td>\n",
       "      <td>0.095621</td>\n",
       "      <td>0.263609</td>\n",
       "      <td>0.056901</td>\n",
       "      <td>0.595068</td>\n",
       "      <td>2.257393</td>\n",
       "      <td>0.031694</td>\n",
       "      <td>1.818556</td>\n",
       "    </tr>\n",
       "    <tr>\n",
       "      <th>3</th>\n",
       "      <td>(Ano Hi Mita Hana no Namae wo Bokutachi wa Mad...</td>\n",
       "      <td>(Bakuman. 2nd Season)</td>\n",
       "      <td>0.263609</td>\n",
       "      <td>0.095621</td>\n",
       "      <td>0.056901</td>\n",
       "      <td>0.215854</td>\n",
       "      <td>2.257393</td>\n",
       "      <td>0.031694</td>\n",
       "      <td>1.153330</td>\n",
       "    </tr>\n",
       "    <tr>\n",
       "      <th>4</th>\n",
       "      <td>(Ano Hi Mita Hana no Namae wo Bokutachi wa Mad...</td>\n",
       "      <td>(Boku dake ga Inai Machi)</td>\n",
       "      <td>0.263609</td>\n",
       "      <td>0.142407</td>\n",
       "      <td>0.080403</td>\n",
       "      <td>0.305008</td>\n",
       "      <td>2.141800</td>\n",
       "      <td>0.042863</td>\n",
       "      <td>1.233960</td>\n",
       "    </tr>\n",
       "  </tbody>\n",
       "</table>\n",
       "</div>"
      ],
      "text/plain": [
       "                                         antecedents  \\\n",
       "0  (Ano Hi Mita Hana no Namae wo Bokutachi wa Mad...   \n",
       "1                                         (Baccano!)   \n",
       "2                              (Bakuman. 2nd Season)   \n",
       "3  (Ano Hi Mita Hana no Namae wo Bokutachi wa Mad...   \n",
       "4  (Ano Hi Mita Hana no Namae wo Bokutachi wa Mad...   \n",
       "\n",
       "                                         consequents  antecedent support  \\\n",
       "0                                         (Baccano!)            0.263609   \n",
       "1  (Ano Hi Mita Hana no Namae wo Bokutachi wa Mad...            0.171726   \n",
       "2  (Ano Hi Mita Hana no Namae wo Bokutachi wa Mad...            0.095621   \n",
       "3                              (Bakuman. 2nd Season)            0.263609   \n",
       "4                          (Boku dake ga Inai Machi)            0.263609   \n",
       "\n",
       "   consequent support   support  confidence      lift  leverage  conviction  \n",
       "0            0.171726  0.077207    0.292885  1.705534  0.031939    1.171343  \n",
       "1            0.263609  0.077207    0.449593  1.705534  0.031939    1.337905  \n",
       "2            0.263609  0.056901    0.595068  2.257393  0.031694    1.818556  \n",
       "3            0.095621  0.056901    0.215854  2.257393  0.031694    1.153330  \n",
       "4            0.142407  0.080403    0.305008  2.141800  0.042863    1.233960  "
      ]
     },
     "execution_count": 23,
     "metadata": {},
     "output_type": "execute_result"
    }
   ],
   "source": [
    "freq_anime = apriori(crosstab,min_support=0.05,use_colnames=True)\n",
    "rules = association_rules(freq_anime,metric='confidence',min_threshold=0.1)\n",
    "rules.head()"
   ]
  },
  {
   "cell_type": "code",
   "execution_count": 24,
   "id": "fac7bc32",
   "metadata": {
    "execution": {
     "iopub.execute_input": "2022-08-03T12:10:54.025047Z",
     "iopub.status.busy": "2022-08-03T12:10:54.024620Z",
     "iopub.status.idle": "2022-08-03T12:10:54.081586Z",
     "shell.execute_reply": "2022-08-03T12:10:54.080354Z"
    },
    "papermill": {
     "duration": 0.076742,
     "end_time": "2022-08-03T12:10:54.084577",
     "exception": false,
     "start_time": "2022-08-03T12:10:54.007835",
     "status": "completed"
    },
    "tags": []
   },
   "outputs": [],
   "source": [
    "rules['antecedents'] = rules['antecedents'].apply(lambda x: list(x)[0])"
   ]
  },
  {
   "cell_type": "code",
   "execution_count": 25,
   "id": "44cd31d8",
   "metadata": {
    "execution": {
     "iopub.execute_input": "2022-08-03T12:10:54.109616Z",
     "iopub.status.busy": "2022-08-03T12:10:54.109125Z",
     "iopub.status.idle": "2022-08-03T12:10:54.191976Z",
     "shell.execute_reply": "2022-08-03T12:10:54.187615Z"
    },
    "papermill": {
     "duration": 0.104294,
     "end_time": "2022-08-03T12:10:54.200396",
     "exception": false,
     "start_time": "2022-08-03T12:10:54.096102",
     "status": "completed"
    },
    "tags": []
   },
   "outputs": [],
   "source": [
    "rules['consequents'] = rules['consequents'].apply(lambda x: list(x)[0])"
   ]
  },
  {
   "cell_type": "code",
   "execution_count": 26,
   "id": "f642df78",
   "metadata": {
    "execution": {
     "iopub.execute_input": "2022-08-03T12:10:54.269618Z",
     "iopub.status.busy": "2022-08-03T12:10:54.269159Z",
     "iopub.status.idle": "2022-08-03T12:10:54.274570Z",
     "shell.execute_reply": "2022-08-03T12:10:54.273725Z"
    },
    "papermill": {
     "duration": 0.029403,
     "end_time": "2022-08-03T12:10:54.276786",
     "exception": false,
     "start_time": "2022-08-03T12:10:54.247383",
     "status": "completed"
    },
    "tags": []
   },
   "outputs": [],
   "source": [
    "def search_apriori(string):\n",
    "    search_df = rules[rules['antecedents'].str.lower()== string.lower()]\n",
    "    search_df.sort_values(by='lift', ascending=False)\n",
    "    return search_df[:10]['consequents'].to_list()"
   ]
  },
  {
   "cell_type": "code",
   "execution_count": 27,
   "id": "0daa708f",
   "metadata": {
    "execution": {
     "iopub.execute_input": "2022-08-03T12:10:54.301710Z",
     "iopub.status.busy": "2022-08-03T12:10:54.301326Z",
     "iopub.status.idle": "2022-08-03T12:10:54.354493Z",
     "shell.execute_reply": "2022-08-03T12:10:54.353244Z"
    },
    "papermill": {
     "duration": 0.068709,
     "end_time": "2022-08-03T12:10:54.357125",
     "exception": false,
     "start_time": "2022-08-03T12:10:54.288416",
     "status": "completed"
    },
    "tags": []
   },
   "outputs": [
    {
     "data": {
      "text/plain": [
       "['Ano Hi Mita Hana no Namae wo Bokutachi wa Mada Shiranai.',\n",
       " 'Baccano!',\n",
       " 'Bakuman. 2nd Season',\n",
       " 'Bakuman. 3rd Season',\n",
       " 'Boku dake ga Inai Machi',\n",
       " 'Clannad: After Story',\n",
       " 'Code Geass: Hangyaku no Lelouch',\n",
       " 'Code Geass: Hangyaku no Lelouch R2',\n",
       " 'Cowboy Bebop',\n",
       " 'Death Note']"
      ]
     },
     "execution_count": 27,
     "metadata": {},
     "output_type": "execute_result"
    }
   ],
   "source": [
    "search_apriori('Shingeki no Kyojin')"
   ]
  },
  {
   "cell_type": "code",
   "execution_count": 28,
   "id": "00c7d01e",
   "metadata": {
    "execution": {
     "iopub.execute_input": "2022-08-03T12:10:54.382092Z",
     "iopub.status.busy": "2022-08-03T12:10:54.381686Z",
     "iopub.status.idle": "2022-08-03T12:10:54.432215Z",
     "shell.execute_reply": "2022-08-03T12:10:54.430858Z"
    },
    "papermill": {
     "duration": 0.066035,
     "end_time": "2022-08-03T12:10:54.434859",
     "exception": false,
     "start_time": "2022-08-03T12:10:54.368824",
     "status": "completed"
    },
    "tags": []
   },
   "outputs": [
    {
     "data": {
      "text/plain": [
       "['Ano Hi Mita Hana no Namae wo Bokutachi wa Mada Shiranai.',\n",
       " 'Baccano!',\n",
       " 'Bakuman. 2nd Season',\n",
       " 'Bakuman. 3rd Season',\n",
       " 'Boku dake ga Inai Machi',\n",
       " 'Clannad: After Story',\n",
       " 'Code Geass: Hangyaku no Lelouch',\n",
       " 'Code Geass: Hangyaku no Lelouch R2',\n",
       " 'Cowboy Bebop',\n",
       " 'Death Note']"
      ]
     },
     "execution_count": 28,
     "metadata": {},
     "output_type": "execute_result"
    }
   ],
   "source": [
    "search_apriori('Fullmetal Alchemist: Brotherhood')"
   ]
  },
  {
   "cell_type": "code",
   "execution_count": 29,
   "id": "8cd5ef7b",
   "metadata": {
    "execution": {
     "iopub.execute_input": "2022-08-03T12:10:54.459962Z",
     "iopub.status.busy": "2022-08-03T12:10:54.459507Z",
     "iopub.status.idle": "2022-08-03T12:10:54.505096Z",
     "shell.execute_reply": "2022-08-03T12:10:54.503592Z"
    },
    "papermill": {
     "duration": 0.061279,
     "end_time": "2022-08-03T12:10:54.507717",
     "exception": false,
     "start_time": "2022-08-03T12:10:54.446438",
     "status": "completed"
    },
    "tags": []
   },
   "outputs": [
    {
     "data": {
      "text/plain": [
       "['Ano Hi Mita Hana no Namae wo Bokutachi wa Mada Shiranai.',\n",
       " 'Baccano!',\n",
       " 'Boku dake ga Inai Machi',\n",
       " 'Clannad: After Story',\n",
       " 'Code Geass: Hangyaku no Lelouch',\n",
       " 'Code Geass: Hangyaku no Lelouch R2',\n",
       " 'Cowboy Bebop',\n",
       " 'Death Note',\n",
       " 'Fate/Zero',\n",
       " 'Fate/Zero 2nd Season']"
      ]
     },
     "execution_count": 29,
     "metadata": {},
     "output_type": "execute_result"
    }
   ],
   "source": [
    "search_apriori('One Punch Man')"
   ]
  },
  {
   "cell_type": "code",
   "execution_count": 30,
   "id": "dd8d190c",
   "metadata": {
    "execution": {
     "iopub.execute_input": "2022-08-03T12:10:54.533110Z",
     "iopub.status.busy": "2022-08-03T12:10:54.532688Z",
     "iopub.status.idle": "2022-08-03T12:10:54.576371Z",
     "shell.execute_reply": "2022-08-03T12:10:54.575007Z"
    },
    "papermill": {
     "duration": 0.059714,
     "end_time": "2022-08-03T12:10:54.579227",
     "exception": false,
     "start_time": "2022-08-03T12:10:54.519513",
     "status": "completed"
    },
    "tags": []
   },
   "outputs": [
    {
     "data": {
      "text/plain": [
       "['Ano Hi Mita Hana no Namae wo Bokutachi wa Mada Shiranai.',\n",
       " 'Boku dake ga Inai Machi',\n",
       " 'Code Geass: Hangyaku no Lelouch',\n",
       " 'Code Geass: Hangyaku no Lelouch R2',\n",
       " 'Death Note',\n",
       " 'Fullmetal Alchemist: Brotherhood',\n",
       " 'Haikyuu!! Second Season',\n",
       " 'Hunter x Hunter (2011)',\n",
       " 'Kiseijuu: Sei no Kakuritsu',\n",
       " 'Kuroko no Basket 2nd Season']"
      ]
     },
     "execution_count": 30,
     "metadata": {},
     "output_type": "execute_result"
    }
   ],
   "source": [
    "search_apriori('Haikyuu!!')"
   ]
  },
  {
   "cell_type": "code",
   "execution_count": 31,
   "id": "0452275a",
   "metadata": {
    "execution": {
     "iopub.execute_input": "2022-08-03T12:10:54.604639Z",
     "iopub.status.busy": "2022-08-03T12:10:54.604204Z",
     "iopub.status.idle": "2022-08-03T12:10:54.645926Z",
     "shell.execute_reply": "2022-08-03T12:10:54.644705Z"
    },
    "papermill": {
     "duration": 0.057349,
     "end_time": "2022-08-03T12:10:54.648578",
     "exception": false,
     "start_time": "2022-08-03T12:10:54.591229",
     "status": "completed"
    },
    "tags": []
   },
   "outputs": [
    {
     "data": {
      "text/plain": [
       "['Ano Hi Mita Hana no Namae wo Bokutachi wa Mada Shiranai.',\n",
       " 'Boku dake ga Inai Machi',\n",
       " 'Clannad: After Story',\n",
       " 'Code Geass: Hangyaku no Lelouch',\n",
       " 'Code Geass: Hangyaku no Lelouch R2',\n",
       " 'Death Note',\n",
       " 'Fate/Zero',\n",
       " 'Fate/Zero 2nd Season',\n",
       " 'Fullmetal Alchemist: Brotherhood',\n",
       " 'Haikyuu!!']"
      ]
     },
     "execution_count": 31,
     "metadata": {},
     "output_type": "execute_result"
    }
   ],
   "source": [
    "search_apriori('Hunter x Hunter (2011)')"
   ]
  },
  {
   "cell_type": "code",
   "execution_count": 32,
   "id": "c4c20a93",
   "metadata": {
    "execution": {
     "iopub.execute_input": "2022-08-03T12:10:54.674907Z",
     "iopub.status.busy": "2022-08-03T12:10:54.674470Z",
     "iopub.status.idle": "2022-08-03T12:10:54.717547Z",
     "shell.execute_reply": "2022-08-03T12:10:54.716247Z"
    },
    "papermill": {
     "duration": 0.059424,
     "end_time": "2022-08-03T12:10:54.720152",
     "exception": false,
     "start_time": "2022-08-03T12:10:54.660728",
     "status": "completed"
    },
    "tags": []
   },
   "outputs": [
    {
     "data": {
      "text/plain": [
       "['Ano Hi Mita Hana no Namae wo Bokutachi wa Mada Shiranai.',\n",
       " 'Baccano!',\n",
       " 'Bakuman. 2nd Season',\n",
       " 'Bakuman. 3rd Season',\n",
       " 'Boku dake ga Inai Machi',\n",
       " 'Clannad: After Story',\n",
       " 'Code Geass: Hangyaku no Lelouch',\n",
       " 'Code Geass: Hangyaku no Lelouch R2',\n",
       " 'Cowboy Bebop',\n",
       " 'Evangelion: 2.0 You Can (Not) Advance']"
      ]
     },
     "execution_count": 32,
     "metadata": {},
     "output_type": "execute_result"
    }
   ],
   "source": [
    "search_apriori('Death Note')"
   ]
  },
  {
   "cell_type": "code",
   "execution_count": 33,
   "id": "7523acb6",
   "metadata": {
    "execution": {
     "iopub.execute_input": "2022-08-03T12:10:54.746529Z",
     "iopub.status.busy": "2022-08-03T12:10:54.746087Z",
     "iopub.status.idle": "2022-08-03T12:10:54.791009Z",
     "shell.execute_reply": "2022-08-03T12:10:54.789458Z"
    },
    "papermill": {
     "duration": 0.061625,
     "end_time": "2022-08-03T12:10:54.794079",
     "exception": false,
     "start_time": "2022-08-03T12:10:54.732454",
     "status": "completed"
    },
    "tags": []
   },
   "outputs": [
    {
     "data": {
      "text/plain": [
       "['Code Geass: Hangyaku no Lelouch',\n",
       " 'Code Geass: Hangyaku no Lelouch R2',\n",
       " 'Death Note',\n",
       " 'Fullmetal Alchemist: Brotherhood',\n",
       " 'Gintama&#039;',\n",
       " 'Shingeki no Kyojin',\n",
       " 'Code Geass: Hangyaku no Lelouch R2']"
      ]
     },
     "execution_count": 33,
     "metadata": {},
     "output_type": "execute_result"
    }
   ],
   "source": [
    "search_apriori('Gintama')"
   ]
  }
 ],
 "metadata": {
  "kernelspec": {
   "display_name": "Python 3",
   "language": "python",
   "name": "python3"
  },
  "language_info": {
   "codemirror_mode": {
    "name": "ipython",
    "version": 3
   },
   "file_extension": ".py",
   "mimetype": "text/x-python",
   "name": "python",
   "nbconvert_exporter": "python",
   "pygments_lexer": "ipython3",
   "version": "3.7.12"
  },
  "papermill": {
   "default_parameters": {},
   "duration": 39.585604,
   "end_time": "2022-08-03T12:10:56.140598",
   "environment_variables": {},
   "exception": null,
   "input_path": "__notebook__.ipynb",
   "output_path": "__notebook__.ipynb",
   "parameters": {},
   "start_time": "2022-08-03T12:10:16.554994",
   "version": "2.3.4"
  }
 },
 "nbformat": 4,
 "nbformat_minor": 5
}
