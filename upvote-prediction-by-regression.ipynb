{
 "cells": [
  {
   "cell_type": "markdown",
   "id": "26fdd1f2",
   "metadata": {
    "papermill": {
     "duration": 0.012244,
     "end_time": "2022-08-02T07:59:31.548693",
     "exception": false,
     "start_time": "2022-08-02T07:59:31.536449",
     "status": "completed"
    },
    "tags": []
   },
   "source": [
    "# Problem Statement\n",
    "\n",
    "An online question and answer platform has hired you as a data scientist to identify the best question authors on the platform. This identification will bring more insight into increasing the user engagement. Given the tag of the question, number of views received, number of answers, username and reputation of the question author, the problem requires you to predict the upvote count that the question will receive.\n",
    "\n",
    "You can download the dataset from [here](https://datahack.analyticsvidhya.com/contest/enigma-codefest-machine-learning-1/#ProblemStatement)."
   ]
  },
  {
   "cell_type": "code",
   "execution_count": 1,
   "id": "57314bde",
   "metadata": {
    "_cell_guid": "b1076dfc-b9ad-4769-8c92-a6c4dae69d19",
    "_uuid": "8f2839f25d086af736a60e9eeb907d3b93b6e0e5",
    "execution": {
     "iopub.execute_input": "2022-08-02T07:59:31.572777Z",
     "iopub.status.busy": "2022-08-02T07:59:31.572337Z",
     "iopub.status.idle": "2022-08-02T07:59:31.590894Z",
     "shell.execute_reply": "2022-08-02T07:59:31.589527Z"
    },
    "papermill": {
     "duration": 0.034912,
     "end_time": "2022-08-02T07:59:31.594678",
     "exception": false,
     "start_time": "2022-08-02T07:59:31.559766",
     "status": "completed"
    },
    "tags": []
   },
   "outputs": [
    {
     "name": "stdout",
     "output_type": "stream",
     "text": [
      "/kaggle/input/upvotes-prediction/train_NIR5Yl1.csv\n",
      "/kaggle/input/upvotes-prediction/test_8i3B3FC.csv\n"
     ]
    }
   ],
   "source": [
    "# This Python 3 environment comes with many helpful analytics libraries installed\n",
    "# It is defined by the kaggle/python Docker image: https://github.com/kaggle/docker-python\n",
    "# For example, here's several helpful packages to load\n",
    "\n",
    "import numpy as np # linear algebra\n",
    "import pandas as pd # data processing, CSV file I/O (e.g. pd.read_csv)\n",
    "\n",
    "# Input data files are available in the read-only \"../input/\" directory\n",
    "# For example, running this (by clicking run or pressing Shift+Enter) will list all files under the input directory\n",
    "\n",
    "import os\n",
    "for dirname, _, filenames in os.walk('/kaggle/input'):\n",
    "    for filename in filenames:\n",
    "        print(os.path.join(dirname, filename))\n",
    "\n",
    "# You can write up to 20GB to the current directory (/kaggle/working/) that gets preserved as output when you create a version using \"Save & Run All\" \n",
    "# You can also write temporary files to /kaggle/temp/, but they won't be saved outside of the current session"
   ]
  },
  {
   "cell_type": "code",
   "execution_count": 2,
   "id": "ecde0386",
   "metadata": {
    "execution": {
     "iopub.execute_input": "2022-08-02T07:59:31.619644Z",
     "iopub.status.busy": "2022-08-02T07:59:31.619261Z",
     "iopub.status.idle": "2022-08-02T07:59:33.901436Z",
     "shell.execute_reply": "2022-08-02T07:59:33.900475Z"
    },
    "papermill": {
     "duration": 2.297438,
     "end_time": "2022-08-02T07:59:33.903991",
     "exception": false,
     "start_time": "2022-08-02T07:59:31.606553",
     "status": "completed"
    },
    "tags": []
   },
   "outputs": [],
   "source": [
    "import numpy as np\n",
    "import pandas as pd\n",
    "import matplotlib.pyplot as plt\n",
    "import seaborn as sns\n",
    "import sklearn\n",
    "from sklearn.model_selection import train_test_split\n",
    "from sklearn.preprocessing import MinMaxScaler, OneHotEncoder, LabelEncoder\n",
    "from sklearn.metrics import accuracy_score, mean_squared_error\n",
    "from sklearn.tree import DecisionTreeRegressor\n",
    "from sklearn.linear_model import LinearRegression, Ridge, Lasso, ElasticNet\n",
    "from xgboost import XGBRegressor\n",
    "from sklearn.ensemble import RandomForestRegressor, VotingRegressor, StackingRegressor, AdaBoostRegressor\n",
    "from catboost import CatBoostRegressor\n",
    "from sklearn.neighbors import KNeighborsRegressor\n",
    "from category_encoders import TargetEncoder"
   ]
  },
  {
   "cell_type": "code",
   "execution_count": 3,
   "id": "432cd68f",
   "metadata": {
    "execution": {
     "iopub.execute_input": "2022-08-02T07:59:33.928437Z",
     "iopub.status.busy": "2022-08-02T07:59:33.927722Z",
     "iopub.status.idle": "2022-08-02T07:59:33.933851Z",
     "shell.execute_reply": "2022-08-02T07:59:33.933126Z"
    },
    "papermill": {
     "duration": 0.020059,
     "end_time": "2022-08-02T07:59:33.936089",
     "exception": false,
     "start_time": "2022-08-02T07:59:33.916030",
     "status": "completed"
    },
    "tags": []
   },
   "outputs": [],
   "source": [
    "%matplotlib inline\n",
    "plt.style.use('fivethirtyeight')"
   ]
  },
  {
   "cell_type": "markdown",
   "id": "ea93f93f",
   "metadata": {
    "papermill": {
     "duration": 0.009871,
     "end_time": "2022-08-02T07:59:33.956072",
     "exception": false,
     "start_time": "2022-08-02T07:59:33.946201",
     "status": "completed"
    },
    "tags": []
   },
   "source": [
    "# Importing the data and Understanding the features"
   ]
  },
  {
   "cell_type": "code",
   "execution_count": 4,
   "id": "add7771d",
   "metadata": {
    "execution": {
     "iopub.execute_input": "2022-08-02T07:59:33.978371Z",
     "iopub.status.busy": "2022-08-02T07:59:33.977607Z",
     "iopub.status.idle": "2022-08-02T07:59:34.531602Z",
     "shell.execute_reply": "2022-08-02T07:59:34.530391Z"
    },
    "papermill": {
     "duration": 0.568685,
     "end_time": "2022-08-02T07:59:34.534820",
     "exception": false,
     "start_time": "2022-08-02T07:59:33.966135",
     "status": "completed"
    },
    "tags": []
   },
   "outputs": [],
   "source": [
    "train_df = pd.read_csv('/kaggle/input/upvotes-prediction/train_NIR5Yl1.csv')\n",
    "test_df = pd.read_csv('/kaggle/input/upvotes-prediction/test_8i3B3FC.csv')"
   ]
  },
  {
   "cell_type": "code",
   "execution_count": 5,
   "id": "d171ac41",
   "metadata": {
    "execution": {
     "iopub.execute_input": "2022-08-02T07:59:34.557686Z",
     "iopub.status.busy": "2022-08-02T07:59:34.557286Z",
     "iopub.status.idle": "2022-08-02T07:59:34.577440Z",
     "shell.execute_reply": "2022-08-02T07:59:34.576411Z"
    },
    "papermill": {
     "duration": 0.03437,
     "end_time": "2022-08-02T07:59:34.580064",
     "exception": false,
     "start_time": "2022-08-02T07:59:34.545694",
     "status": "completed"
    },
    "tags": []
   },
   "outputs": [],
   "source": [
    "cat_train = train_df.copy()\n",
    "cat_test = test_df.copy()\n",
    "test_ids = test_df['ID'].copy()"
   ]
  },
  {
   "cell_type": "code",
   "execution_count": 6,
   "id": "80b0a079",
   "metadata": {
    "execution": {
     "iopub.execute_input": "2022-08-02T07:59:34.603023Z",
     "iopub.status.busy": "2022-08-02T07:59:34.602610Z",
     "iopub.status.idle": "2022-08-02T07:59:34.624059Z",
     "shell.execute_reply": "2022-08-02T07:59:34.622960Z"
    },
    "papermill": {
     "duration": 0.035578,
     "end_time": "2022-08-02T07:59:34.626267",
     "exception": false,
     "start_time": "2022-08-02T07:59:34.590689",
     "status": "completed"
    },
    "tags": []
   },
   "outputs": [
    {
     "data": {
      "text/html": [
       "<div>\n",
       "<style scoped>\n",
       "    .dataframe tbody tr th:only-of-type {\n",
       "        vertical-align: middle;\n",
       "    }\n",
       "\n",
       "    .dataframe tbody tr th {\n",
       "        vertical-align: top;\n",
       "    }\n",
       "\n",
       "    .dataframe thead th {\n",
       "        text-align: right;\n",
       "    }\n",
       "</style>\n",
       "<table border=\"1\" class=\"dataframe\">\n",
       "  <thead>\n",
       "    <tr style=\"text-align: right;\">\n",
       "      <th></th>\n",
       "      <th>ID</th>\n",
       "      <th>Tag</th>\n",
       "      <th>Reputation</th>\n",
       "      <th>Answers</th>\n",
       "      <th>Username</th>\n",
       "      <th>Views</th>\n",
       "      <th>Upvotes</th>\n",
       "    </tr>\n",
       "  </thead>\n",
       "  <tbody>\n",
       "    <tr>\n",
       "      <th>0</th>\n",
       "      <td>52664</td>\n",
       "      <td>a</td>\n",
       "      <td>3942.0</td>\n",
       "      <td>2.0</td>\n",
       "      <td>155623</td>\n",
       "      <td>7855.0</td>\n",
       "      <td>42.0</td>\n",
       "    </tr>\n",
       "    <tr>\n",
       "      <th>1</th>\n",
       "      <td>327662</td>\n",
       "      <td>a</td>\n",
       "      <td>26046.0</td>\n",
       "      <td>12.0</td>\n",
       "      <td>21781</td>\n",
       "      <td>55801.0</td>\n",
       "      <td>1175.0</td>\n",
       "    </tr>\n",
       "    <tr>\n",
       "      <th>2</th>\n",
       "      <td>468453</td>\n",
       "      <td>c</td>\n",
       "      <td>1358.0</td>\n",
       "      <td>4.0</td>\n",
       "      <td>56177</td>\n",
       "      <td>8067.0</td>\n",
       "      <td>60.0</td>\n",
       "    </tr>\n",
       "    <tr>\n",
       "      <th>3</th>\n",
       "      <td>96996</td>\n",
       "      <td>a</td>\n",
       "      <td>264.0</td>\n",
       "      <td>3.0</td>\n",
       "      <td>168793</td>\n",
       "      <td>27064.0</td>\n",
       "      <td>9.0</td>\n",
       "    </tr>\n",
       "    <tr>\n",
       "      <th>4</th>\n",
       "      <td>131465</td>\n",
       "      <td>c</td>\n",
       "      <td>4271.0</td>\n",
       "      <td>4.0</td>\n",
       "      <td>112223</td>\n",
       "      <td>13986.0</td>\n",
       "      <td>83.0</td>\n",
       "    </tr>\n",
       "  </tbody>\n",
       "</table>\n",
       "</div>"
      ],
      "text/plain": [
       "       ID Tag  Reputation  Answers  Username    Views  Upvotes\n",
       "0   52664   a      3942.0      2.0    155623   7855.0     42.0\n",
       "1  327662   a     26046.0     12.0     21781  55801.0   1175.0\n",
       "2  468453   c      1358.0      4.0     56177   8067.0     60.0\n",
       "3   96996   a       264.0      3.0    168793  27064.0      9.0\n",
       "4  131465   c      4271.0      4.0    112223  13986.0     83.0"
      ]
     },
     "execution_count": 6,
     "metadata": {},
     "output_type": "execute_result"
    }
   ],
   "source": [
    "train_df.head()"
   ]
  },
  {
   "cell_type": "markdown",
   "id": "8728ce51",
   "metadata": {
    "papermill": {
     "duration": 0.010111,
     "end_time": "2022-08-02T07:59:34.646826",
     "exception": false,
     "start_time": "2022-08-02T07:59:34.636715",
     "status": "completed"
    },
    "tags": []
   },
   "source": [
    "**ID**         -> Question ID\n",
    "\n",
    "**Tag**        -> Anonymised tags representing question category\n",
    "\n",
    "**Reputation** -> Reputation score of question author\n",
    "\n",
    "**Answers**    -> Number of times question has been answered\n",
    "\n",
    "**Username**   -> Anonymised user id of question author\n",
    "\n",
    "**Views**      -> Number of times question has been viewed\n",
    "\n",
    "**Upvotes**(Target) -> Number of upvotes for the question"
   ]
  },
  {
   "cell_type": "code",
   "execution_count": 7,
   "id": "f53d650f",
   "metadata": {
    "execution": {
     "iopub.execute_input": "2022-08-02T07:59:34.670030Z",
     "iopub.status.busy": "2022-08-02T07:59:34.668953Z",
     "iopub.status.idle": "2022-08-02T07:59:34.713511Z",
     "shell.execute_reply": "2022-08-02T07:59:34.711988Z"
    },
    "papermill": {
     "duration": 0.058721,
     "end_time": "2022-08-02T07:59:34.715944",
     "exception": false,
     "start_time": "2022-08-02T07:59:34.657223",
     "status": "completed"
    },
    "tags": []
   },
   "outputs": [
    {
     "name": "stdout",
     "output_type": "stream",
     "text": [
      "<class 'pandas.core.frame.DataFrame'>\n",
      "RangeIndex: 330045 entries, 0 to 330044\n",
      "Data columns (total 7 columns):\n",
      " #   Column      Non-Null Count   Dtype  \n",
      "---  ------      --------------   -----  \n",
      " 0   ID          330045 non-null  int64  \n",
      " 1   Tag         330045 non-null  object \n",
      " 2   Reputation  330045 non-null  float64\n",
      " 3   Answers     330045 non-null  float64\n",
      " 4   Username    330045 non-null  int64  \n",
      " 5   Views       330045 non-null  float64\n",
      " 6   Upvotes     330045 non-null  float64\n",
      "dtypes: float64(4), int64(2), object(1)\n",
      "memory usage: 17.6+ MB\n"
     ]
    }
   ],
   "source": [
    "train_df.info()"
   ]
  },
  {
   "cell_type": "code",
   "execution_count": 8,
   "id": "f8c06466",
   "metadata": {
    "execution": {
     "iopub.execute_input": "2022-08-02T07:59:34.739774Z",
     "iopub.status.busy": "2022-08-02T07:59:34.738742Z",
     "iopub.status.idle": "2022-08-02T07:59:34.879306Z",
     "shell.execute_reply": "2022-08-02T07:59:34.878137Z"
    },
    "papermill": {
     "duration": 0.154795,
     "end_time": "2022-08-02T07:59:34.881687",
     "exception": false,
     "start_time": "2022-08-02T07:59:34.726892",
     "status": "completed"
    },
    "tags": []
   },
   "outputs": [
    {
     "data": {
      "text/html": [
       "<div>\n",
       "<style scoped>\n",
       "    .dataframe tbody tr th:only-of-type {\n",
       "        vertical-align: middle;\n",
       "    }\n",
       "\n",
       "    .dataframe tbody tr th {\n",
       "        vertical-align: top;\n",
       "    }\n",
       "\n",
       "    .dataframe thead th {\n",
       "        text-align: right;\n",
       "    }\n",
       "</style>\n",
       "<table border=\"1\" class=\"dataframe\">\n",
       "  <thead>\n",
       "    <tr style=\"text-align: right;\">\n",
       "      <th></th>\n",
       "      <th>ID</th>\n",
       "      <th>Reputation</th>\n",
       "      <th>Answers</th>\n",
       "      <th>Username</th>\n",
       "      <th>Views</th>\n",
       "      <th>Upvotes</th>\n",
       "    </tr>\n",
       "  </thead>\n",
       "  <tbody>\n",
       "    <tr>\n",
       "      <th>count</th>\n",
       "      <td>330045.000000</td>\n",
       "      <td>3.300450e+05</td>\n",
       "      <td>330045.000000</td>\n",
       "      <td>330045.000000</td>\n",
       "      <td>3.300450e+05</td>\n",
       "      <td>330045.000000</td>\n",
       "    </tr>\n",
       "    <tr>\n",
       "      <th>mean</th>\n",
       "      <td>235748.682789</td>\n",
       "      <td>7.773147e+03</td>\n",
       "      <td>3.917672</td>\n",
       "      <td>81442.888803</td>\n",
       "      <td>2.964507e+04</td>\n",
       "      <td>337.505358</td>\n",
       "    </tr>\n",
       "    <tr>\n",
       "      <th>std</th>\n",
       "      <td>136039.418471</td>\n",
       "      <td>2.706141e+04</td>\n",
       "      <td>3.579515</td>\n",
       "      <td>49215.100730</td>\n",
       "      <td>8.095646e+04</td>\n",
       "      <td>3592.441135</td>\n",
       "    </tr>\n",
       "    <tr>\n",
       "      <th>min</th>\n",
       "      <td>1.000000</td>\n",
       "      <td>0.000000e+00</td>\n",
       "      <td>0.000000</td>\n",
       "      <td>0.000000</td>\n",
       "      <td>9.000000e+00</td>\n",
       "      <td>0.000000</td>\n",
       "    </tr>\n",
       "    <tr>\n",
       "      <th>25%</th>\n",
       "      <td>117909.000000</td>\n",
       "      <td>2.820000e+02</td>\n",
       "      <td>2.000000</td>\n",
       "      <td>39808.000000</td>\n",
       "      <td>2.594000e+03</td>\n",
       "      <td>8.000000</td>\n",
       "    </tr>\n",
       "    <tr>\n",
       "      <th>50%</th>\n",
       "      <td>235699.000000</td>\n",
       "      <td>1.236000e+03</td>\n",
       "      <td>3.000000</td>\n",
       "      <td>79010.000000</td>\n",
       "      <td>8.954000e+03</td>\n",
       "      <td>28.000000</td>\n",
       "    </tr>\n",
       "    <tr>\n",
       "      <th>75%</th>\n",
       "      <td>353620.000000</td>\n",
       "      <td>5.118000e+03</td>\n",
       "      <td>5.000000</td>\n",
       "      <td>122559.000000</td>\n",
       "      <td>2.687000e+04</td>\n",
       "      <td>107.000000</td>\n",
       "    </tr>\n",
       "    <tr>\n",
       "      <th>max</th>\n",
       "      <td>471493.000000</td>\n",
       "      <td>1.042428e+06</td>\n",
       "      <td>76.000000</td>\n",
       "      <td>175738.000000</td>\n",
       "      <td>5.231058e+06</td>\n",
       "      <td>615278.000000</td>\n",
       "    </tr>\n",
       "  </tbody>\n",
       "</table>\n",
       "</div>"
      ],
      "text/plain": [
       "                  ID    Reputation        Answers       Username  \\\n",
       "count  330045.000000  3.300450e+05  330045.000000  330045.000000   \n",
       "mean   235748.682789  7.773147e+03       3.917672   81442.888803   \n",
       "std    136039.418471  2.706141e+04       3.579515   49215.100730   \n",
       "min         1.000000  0.000000e+00       0.000000       0.000000   \n",
       "25%    117909.000000  2.820000e+02       2.000000   39808.000000   \n",
       "50%    235699.000000  1.236000e+03       3.000000   79010.000000   \n",
       "75%    353620.000000  5.118000e+03       5.000000  122559.000000   \n",
       "max    471493.000000  1.042428e+06      76.000000  175738.000000   \n",
       "\n",
       "              Views        Upvotes  \n",
       "count  3.300450e+05  330045.000000  \n",
       "mean   2.964507e+04     337.505358  \n",
       "std    8.095646e+04    3592.441135  \n",
       "min    9.000000e+00       0.000000  \n",
       "25%    2.594000e+03       8.000000  \n",
       "50%    8.954000e+03      28.000000  \n",
       "75%    2.687000e+04     107.000000  \n",
       "max    5.231058e+06  615278.000000  "
      ]
     },
     "execution_count": 8,
     "metadata": {},
     "output_type": "execute_result"
    }
   ],
   "source": [
    "train_df.describe()"
   ]
  },
  {
   "cell_type": "markdown",
   "id": "3684b71d",
   "metadata": {
    "papermill": {
     "duration": 0.010622,
     "end_time": "2022-08-02T07:59:34.903233",
     "exception": false,
     "start_time": "2022-08-02T07:59:34.892611",
     "status": "completed"
    },
    "tags": []
   },
   "source": [
    "# Filling Missing Values"
   ]
  },
  {
   "cell_type": "code",
   "execution_count": 9,
   "id": "bb56bbe2",
   "metadata": {
    "execution": {
     "iopub.execute_input": "2022-08-02T07:59:34.927935Z",
     "iopub.status.busy": "2022-08-02T07:59:34.926784Z",
     "iopub.status.idle": "2022-08-02T07:59:34.955255Z",
     "shell.execute_reply": "2022-08-02T07:59:34.953836Z"
    },
    "papermill": {
     "duration": 0.043476,
     "end_time": "2022-08-02T07:59:34.957751",
     "exception": false,
     "start_time": "2022-08-02T07:59:34.914275",
     "status": "completed"
    },
    "tags": []
   },
   "outputs": [
    {
     "data": {
      "text/plain": [
       "ID            0\n",
       "Tag           0\n",
       "Reputation    0\n",
       "Answers       0\n",
       "Username      0\n",
       "Views         0\n",
       "Upvotes       0\n",
       "dtype: int64"
      ]
     },
     "execution_count": 9,
     "metadata": {},
     "output_type": "execute_result"
    }
   ],
   "source": [
    "train_df.isna().sum()"
   ]
  },
  {
   "cell_type": "code",
   "execution_count": 10,
   "id": "4b3e10b4",
   "metadata": {
    "execution": {
     "iopub.execute_input": "2022-08-02T07:59:34.981994Z",
     "iopub.status.busy": "2022-08-02T07:59:34.981607Z",
     "iopub.status.idle": "2022-08-02T07:59:34.998063Z",
     "shell.execute_reply": "2022-08-02T07:59:34.996925Z"
    },
    "papermill": {
     "duration": 0.031554,
     "end_time": "2022-08-02T07:59:35.000591",
     "exception": false,
     "start_time": "2022-08-02T07:59:34.969037",
     "status": "completed"
    },
    "tags": []
   },
   "outputs": [
    {
     "data": {
      "text/plain": [
       "ID            0\n",
       "Tag           0\n",
       "Reputation    0\n",
       "Answers       0\n",
       "Username      0\n",
       "Views         0\n",
       "dtype: int64"
      ]
     },
     "execution_count": 10,
     "metadata": {},
     "output_type": "execute_result"
    }
   ],
   "source": [
    "test_df.isna().sum()"
   ]
  },
  {
   "cell_type": "markdown",
   "id": "03bff81f",
   "metadata": {
    "papermill": {
     "duration": 0.011404,
     "end_time": "2022-08-02T07:59:35.023290",
     "exception": false,
     "start_time": "2022-08-02T07:59:35.011886",
     "status": "completed"
    },
    "tags": []
   },
   "source": [
    "Since there are no missing values, there is no need to impute any values."
   ]
  },
  {
   "cell_type": "markdown",
   "id": "80b0802a",
   "metadata": {
    "papermill": {
     "duration": 0.010852,
     "end_time": "2022-08-02T07:59:35.045373",
     "exception": false,
     "start_time": "2022-08-02T07:59:35.034521",
     "status": "completed"
    },
    "tags": []
   },
   "source": [
    "# Exploratory Data Analysis"
   ]
  },
  {
   "cell_type": "code",
   "execution_count": 11,
   "id": "f6fc1c70",
   "metadata": {
    "execution": {
     "iopub.execute_input": "2022-08-02T07:59:35.069796Z",
     "iopub.status.busy": "2022-08-02T07:59:35.069030Z",
     "iopub.status.idle": "2022-08-02T07:59:35.088391Z",
     "shell.execute_reply": "2022-08-02T07:59:35.087208Z"
    },
    "papermill": {
     "duration": 0.034558,
     "end_time": "2022-08-02T07:59:35.091073",
     "exception": false,
     "start_time": "2022-08-02T07:59:35.056515",
     "status": "completed"
    },
    "tags": []
   },
   "outputs": [],
   "source": [
    "eda_df = train_df.copy()"
   ]
  },
  {
   "cell_type": "markdown",
   "id": "61991ee0",
   "metadata": {
    "papermill": {
     "duration": 0.011057,
     "end_time": "2022-08-02T07:59:35.113981",
     "exception": false,
     "start_time": "2022-08-02T07:59:35.102924",
     "status": "completed"
    },
    "tags": []
   },
   "source": [
    "It's easier to visualize data if the data is normalized as the analysis is mostly likely to be bivariate."
   ]
  },
  {
   "cell_type": "code",
   "execution_count": 12,
   "id": "7667f87c",
   "metadata": {
    "execution": {
     "iopub.execute_input": "2022-08-02T07:59:35.139586Z",
     "iopub.status.busy": "2022-08-02T07:59:35.139168Z",
     "iopub.status.idle": "2022-08-02T07:59:35.178799Z",
     "shell.execute_reply": "2022-08-02T07:59:35.177605Z"
    },
    "papermill": {
     "duration": 0.055774,
     "end_time": "2022-08-02T07:59:35.181625",
     "exception": false,
     "start_time": "2022-08-02T07:59:35.125851",
     "status": "completed"
    },
    "tags": []
   },
   "outputs": [],
   "source": [
    "scaler_eda = MinMaxScaler()\n",
    "eda_df[['Reputation','Answers','Views']]= scaler_eda.fit_transform(eda_df[['Reputation','Answers','Views']])"
   ]
  },
  {
   "cell_type": "code",
   "execution_count": 13,
   "id": "e8e145d4",
   "metadata": {
    "execution": {
     "iopub.execute_input": "2022-08-02T07:59:35.206576Z",
     "iopub.status.busy": "2022-08-02T07:59:35.206120Z",
     "iopub.status.idle": "2022-08-02T07:59:36.201418Z",
     "shell.execute_reply": "2022-08-02T07:59:36.200102Z"
    },
    "papermill": {
     "duration": 1.010597,
     "end_time": "2022-08-02T07:59:36.203840",
     "exception": false,
     "start_time": "2022-08-02T07:59:35.193243",
     "status": "completed"
    },
    "tags": []
   },
   "outputs": [
    {
     "data": {
      "text/plain": [
       "<AxesSubplot:xlabel='variable', ylabel='value'>"
      ]
     },
     "execution_count": 13,
     "metadata": {},
     "output_type": "execute_result"
    },
    {
     "data": {
      "image/png": "[encoded data removed]",
      "text/plain": [
       "<Figure size 432x288 with 1 Axes>"
      ]
     },
     "metadata": {},
     "output_type": "display_data"
    }
   ],
   "source": [
    "melt = pd.melt(eda_df[['Reputation','Answers','Views']])\n",
    "sns.boxplot(data=melt, x='variable',y='value')"
   ]
  },
  {
   "cell_type": "markdown",
   "id": "3e2e148e",
   "metadata": {
    "papermill": {
     "duration": 0.011276,
     "end_time": "2022-08-02T07:59:36.226895",
     "exception": false,
     "start_time": "2022-08-02T07:59:36.215619",
     "status": "completed"
    },
    "tags": []
   },
   "source": [
    "As the boxplot indicates, this data has a lot of outliers. These outliers should be handled so that they do not affect the model."
   ]
  },
  {
   "cell_type": "code",
   "execution_count": 14,
   "id": "b896e9d3",
   "metadata": {
    "execution": {
     "iopub.execute_input": "2022-08-02T07:59:36.251831Z",
     "iopub.status.busy": "2022-08-02T07:59:36.251397Z",
     "iopub.status.idle": "2022-08-02T07:59:37.035545Z",
     "shell.execute_reply": "2022-08-02T07:59:37.034368Z"
    },
    "papermill": {
     "duration": 0.800214,
     "end_time": "2022-08-02T07:59:37.038749",
     "exception": false,
     "start_time": "2022-08-02T07:59:36.238535",
     "status": "completed"
    },
    "tags": []
   },
   "outputs": [
    {
     "data": {
      "image/png": "[encoded data removed]",
      "text/plain": [
       "<Figure size 432x288 with 1 Axes>"
      ]
     },
     "metadata": {},
     "output_type": "display_data"
    }
   ],
   "source": [
    "sns.scatterplot(data=eda_df, x='Reputation',y='Upvotes');"
   ]
  },
  {
   "cell_type": "code",
   "execution_count": 15,
   "id": "81b38c92",
   "metadata": {
    "execution": {
     "iopub.execute_input": "2022-08-02T07:59:37.066601Z",
     "iopub.status.busy": "2022-08-02T07:59:37.066175Z",
     "iopub.status.idle": "2022-08-02T07:59:37.808588Z",
     "shell.execute_reply": "2022-08-02T07:59:37.806209Z"
    },
    "papermill": {
     "duration": 0.76091,
     "end_time": "2022-08-02T07:59:37.812768",
     "exception": false,
     "start_time": "2022-08-02T07:59:37.051858",
     "status": "completed"
    },
    "tags": []
   },
   "outputs": [
    {
     "data": {
      "image/png": "[encoded data removed]",
      "text/plain": [
       "<Figure size 432x288 with 1 Axes>"
      ]
     },
     "metadata": {},
     "output_type": "display_data"
    }
   ],
   "source": [
    "sns.scatterplot(data=eda_df, x='Answers',y='Upvotes');"
   ]
  },
  {
   "cell_type": "code",
   "execution_count": 16,
   "id": "359288bd",
   "metadata": {
    "execution": {
     "iopub.execute_input": "2022-08-02T07:59:37.851105Z",
     "iopub.status.busy": "2022-08-02T07:59:37.850368Z",
     "iopub.status.idle": "2022-08-02T07:59:38.671449Z",
     "shell.execute_reply": "2022-08-02T07:59:38.670161Z"
    },
    "papermill": {
     "duration": 0.840671,
     "end_time": "2022-08-02T07:59:38.674179",
     "exception": false,
     "start_time": "2022-08-02T07:59:37.833508",
     "status": "completed"
    },
    "tags": []
   },
   "outputs": [
    {
     "data": {
      "image/png": "[encoded data removed]",
      "text/plain": [
       "<Figure size 432x288 with 1 Axes>"
      ]
     },
     "metadata": {},
     "output_type": "display_data"
    }
   ],
   "source": [
    "sns.scatterplot(data=eda_df, x='Views',y='Upvotes');"
   ]
  },
  {
   "cell_type": "code",
   "execution_count": 17,
   "id": "c8094fd6",
   "metadata": {
    "execution": {
     "iopub.execute_input": "2022-08-02T07:59:38.704093Z",
     "iopub.status.busy": "2022-08-02T07:59:38.703161Z",
     "iopub.status.idle": "2022-08-02T07:59:38.917473Z",
     "shell.execute_reply": "2022-08-02T07:59:38.915912Z"
    },
    "papermill": {
     "duration": 0.23385,
     "end_time": "2022-08-02T07:59:38.921824",
     "exception": false,
     "start_time": "2022-08-02T07:59:38.687974",
     "status": "completed"
    },
    "tags": []
   },
   "outputs": [
    {
     "data": {
      "image/png": "[encoded data removed]",
      "text/plain": [
       "<Figure size 432x288 with 1 Axes>"
      ]
     },
     "metadata": {},
     "output_type": "display_data"
    }
   ],
   "source": [
    "group = eda_df.groupby(by='Tag').mean()\n",
    "sns.barplot(data=group, x=group.index,y='Upvotes');"
   ]
  },
  {
   "cell_type": "markdown",
   "id": "f45134d1",
   "metadata": {
    "papermill": {
     "duration": 0.013338,
     "end_time": "2022-08-02T07:59:38.959182",
     "exception": false,
     "start_time": "2022-08-02T07:59:38.945844",
     "status": "completed"
    },
    "tags": []
   },
   "source": [
    "The above graph shows that on an average, tags with j tag tend to get more upvotes when compared to any other tags."
   ]
  },
  {
   "cell_type": "markdown",
   "id": "f1128357",
   "metadata": {
    "papermill": {
     "duration": 0.013291,
     "end_time": "2022-08-02T07:59:38.986120",
     "exception": false,
     "start_time": "2022-08-02T07:59:38.972829",
     "status": "completed"
    },
    "tags": []
   },
   "source": [
    "# Encoding Categorical Variables"
   ]
  },
  {
   "cell_type": "code",
   "execution_count": 18,
   "id": "1cbe2d61",
   "metadata": {
    "execution": {
     "iopub.execute_input": "2022-08-02T07:59:39.015881Z",
     "iopub.status.busy": "2022-08-02T07:59:39.014754Z",
     "iopub.status.idle": "2022-08-02T07:59:39.124913Z",
     "shell.execute_reply": "2022-08-02T07:59:39.123738Z"
    },
    "papermill": {
     "duration": 0.127669,
     "end_time": "2022-08-02T07:59:39.127465",
     "exception": false,
     "start_time": "2022-08-02T07:59:38.999796",
     "status": "completed"
    },
    "tags": []
   },
   "outputs": [
    {
     "data": {
      "text/html": [
       "<div>\n",
       "<style scoped>\n",
       "    .dataframe tbody tr th:only-of-type {\n",
       "        vertical-align: middle;\n",
       "    }\n",
       "\n",
       "    .dataframe tbody tr th {\n",
       "        vertical-align: top;\n",
       "    }\n",
       "\n",
       "    .dataframe thead th {\n",
       "        text-align: right;\n",
       "    }\n",
       "</style>\n",
       "<table border=\"1\" class=\"dataframe\">\n",
       "  <thead>\n",
       "    <tr style=\"text-align: right;\">\n",
       "      <th></th>\n",
       "      <th>ID</th>\n",
       "      <th>Reputation</th>\n",
       "      <th>Answers</th>\n",
       "      <th>Username</th>\n",
       "      <th>Views</th>\n",
       "      <th>Upvotes</th>\n",
       "    </tr>\n",
       "  </thead>\n",
       "  <tbody>\n",
       "    <tr>\n",
       "      <th>count</th>\n",
       "      <td>330045.000000</td>\n",
       "      <td>3.300450e+05</td>\n",
       "      <td>330045.000000</td>\n",
       "      <td>330045.000000</td>\n",
       "      <td>3.300450e+05</td>\n",
       "      <td>330045.000000</td>\n",
       "    </tr>\n",
       "    <tr>\n",
       "      <th>mean</th>\n",
       "      <td>235748.682789</td>\n",
       "      <td>7.773147e+03</td>\n",
       "      <td>3.917672</td>\n",
       "      <td>81442.888803</td>\n",
       "      <td>2.964507e+04</td>\n",
       "      <td>337.505358</td>\n",
       "    </tr>\n",
       "    <tr>\n",
       "      <th>std</th>\n",
       "      <td>136039.418471</td>\n",
       "      <td>2.706141e+04</td>\n",
       "      <td>3.579515</td>\n",
       "      <td>49215.100730</td>\n",
       "      <td>8.095646e+04</td>\n",
       "      <td>3592.441135</td>\n",
       "    </tr>\n",
       "    <tr>\n",
       "      <th>min</th>\n",
       "      <td>1.000000</td>\n",
       "      <td>0.000000e+00</td>\n",
       "      <td>0.000000</td>\n",
       "      <td>0.000000</td>\n",
       "      <td>9.000000e+00</td>\n",
       "      <td>0.000000</td>\n",
       "    </tr>\n",
       "    <tr>\n",
       "      <th>25%</th>\n",
       "      <td>117909.000000</td>\n",
       "      <td>2.820000e+02</td>\n",
       "      <td>2.000000</td>\n",
       "      <td>39808.000000</td>\n",
       "      <td>2.594000e+03</td>\n",
       "      <td>8.000000</td>\n",
       "    </tr>\n",
       "    <tr>\n",
       "      <th>50%</th>\n",
       "      <td>235699.000000</td>\n",
       "      <td>1.236000e+03</td>\n",
       "      <td>3.000000</td>\n",
       "      <td>79010.000000</td>\n",
       "      <td>8.954000e+03</td>\n",
       "      <td>28.000000</td>\n",
       "    </tr>\n",
       "    <tr>\n",
       "      <th>75%</th>\n",
       "      <td>353620.000000</td>\n",
       "      <td>5.118000e+03</td>\n",
       "      <td>5.000000</td>\n",
       "      <td>122559.000000</td>\n",
       "      <td>2.687000e+04</td>\n",
       "      <td>107.000000</td>\n",
       "    </tr>\n",
       "    <tr>\n",
       "      <th>max</th>\n",
       "      <td>471493.000000</td>\n",
       "      <td>1.042428e+06</td>\n",
       "      <td>76.000000</td>\n",
       "      <td>175738.000000</td>\n",
       "      <td>5.231058e+06</td>\n",
       "      <td>615278.000000</td>\n",
       "    </tr>\n",
       "  </tbody>\n",
       "</table>\n",
       "</div>"
      ],
      "text/plain": [
       "                  ID    Reputation        Answers       Username  \\\n",
       "count  330045.000000  3.300450e+05  330045.000000  330045.000000   \n",
       "mean   235748.682789  7.773147e+03       3.917672   81442.888803   \n",
       "std    136039.418471  2.706141e+04       3.579515   49215.100730   \n",
       "min         1.000000  0.000000e+00       0.000000       0.000000   \n",
       "25%    117909.000000  2.820000e+02       2.000000   39808.000000   \n",
       "50%    235699.000000  1.236000e+03       3.000000   79010.000000   \n",
       "75%    353620.000000  5.118000e+03       5.000000  122559.000000   \n",
       "max    471493.000000  1.042428e+06      76.000000  175738.000000   \n",
       "\n",
       "              Views        Upvotes  \n",
       "count  3.300450e+05  330045.000000  \n",
       "mean   2.964507e+04     337.505358  \n",
       "std    8.095646e+04    3592.441135  \n",
       "min    9.000000e+00       0.000000  \n",
       "25%    2.594000e+03       8.000000  \n",
       "50%    8.954000e+03      28.000000  \n",
       "75%    2.687000e+04     107.000000  \n",
       "max    5.231058e+06  615278.000000  "
      ]
     },
     "execution_count": 18,
     "metadata": {},
     "output_type": "execute_result"
    }
   ],
   "source": [
    "train_df.describe()"
   ]
  },
  {
   "cell_type": "code",
   "execution_count": 19,
   "id": "7e4ea9cb",
   "metadata": {
    "execution": {
     "iopub.execute_input": "2022-08-02T07:59:39.156624Z",
     "iopub.status.busy": "2022-08-02T07:59:39.156239Z",
     "iopub.status.idle": "2022-08-02T07:59:39.490608Z",
     "shell.execute_reply": "2022-08-02T07:59:39.489109Z"
    },
    "papermill": {
     "duration": 0.351766,
     "end_time": "2022-08-02T07:59:39.493305",
     "exception": false,
     "start_time": "2022-08-02T07:59:39.141539",
     "status": "completed"
    },
    "tags": []
   },
   "outputs": [
    {
     "name": "stderr",
     "output_type": "stream",
     "text": [
      "/opt/conda/lib/python3.7/site-packages/category_encoders/target_encoder.py:94: FutureWarning: Default parameter min_samples_leaf will change in version 2.6.See https://github.com/scikit-learn-contrib/category_encoders/issues/327\n",
      "  category=FutureWarning)\n",
      "/opt/conda/lib/python3.7/site-packages/category_encoders/target_encoder.py:99: FutureWarning: Default parameter smoothing will change in version 2.6.See https://github.com/scikit-learn-contrib/category_encoders/issues/327\n",
      "  category=FutureWarning)\n"
     ]
    },
    {
     "name": "stdout",
     "output_type": "stream",
     "text": [
      "Warning: No categorical columns found. Calling 'transform' will only return input data.\n"
     ]
    }
   ],
   "source": [
    "numeric_col = ['Reputation','Answers','Views']\n",
    "categoric_col = ['Tag','Username']\n",
    "encoder_tag = TargetEncoder().fit(train_df['Tag'],train_df['Upvotes'])\n",
    "encoder_ID = TargetEncoder().fit(train_df['Username'],train_df['Upvotes'])\n",
    "\n",
    "def encode_and_normalize(dataframe):\n",
    "    dataframe['Tag'] = encoder_tag.transform(train_df['Tag'])\n",
    "    dataframe['Username'] = encoder_ID.transform(train_df['Username'])\n",
    "    dataframe[numeric_col] = MinMaxScaler().fit_transform(dataframe[numeric_col])\n",
    "    dataframe[categoric_col] = MinMaxScaler().fit_transform(dataframe[categoric_col])\n",
    "    return dataframe"
   ]
  },
  {
   "cell_type": "code",
   "execution_count": 20,
   "id": "a63aeffd",
   "metadata": {
    "execution": {
     "iopub.execute_input": "2022-08-02T07:59:39.524930Z",
     "iopub.status.busy": "2022-08-02T07:59:39.523723Z",
     "iopub.status.idle": "2022-08-02T07:59:39.685245Z",
     "shell.execute_reply": "2022-08-02T07:59:39.683932Z"
    },
    "papermill": {
     "duration": 0.180412,
     "end_time": "2022-08-02T07:59:39.687740",
     "exception": false,
     "start_time": "2022-08-02T07:59:39.507328",
     "status": "completed"
    },
    "tags": []
   },
   "outputs": [
    {
     "data": {
      "text/html": [
       "<div>\n",
       "<style scoped>\n",
       "    .dataframe tbody tr th:only-of-type {\n",
       "        vertical-align: middle;\n",
       "    }\n",
       "\n",
       "    .dataframe tbody tr th {\n",
       "        vertical-align: top;\n",
       "    }\n",
       "\n",
       "    .dataframe thead th {\n",
       "        text-align: right;\n",
       "    }\n",
       "</style>\n",
       "<table border=\"1\" class=\"dataframe\">\n",
       "  <thead>\n",
       "    <tr style=\"text-align: right;\">\n",
       "      <th></th>\n",
       "      <th>ID</th>\n",
       "      <th>Tag</th>\n",
       "      <th>Reputation</th>\n",
       "      <th>Answers</th>\n",
       "      <th>Username</th>\n",
       "      <th>Views</th>\n",
       "      <th>Upvotes</th>\n",
       "    </tr>\n",
       "  </thead>\n",
       "  <tbody>\n",
       "    <tr>\n",
       "      <th>0</th>\n",
       "      <td>52664</td>\n",
       "      <td>0.514662</td>\n",
       "      <td>0.003782</td>\n",
       "      <td>0.026316</td>\n",
       "      <td>0.885540</td>\n",
       "      <td>0.001500</td>\n",
       "      <td>42.0</td>\n",
       "    </tr>\n",
       "    <tr>\n",
       "      <th>1</th>\n",
       "      <td>327662</td>\n",
       "      <td>0.514662</td>\n",
       "      <td>0.024986</td>\n",
       "      <td>0.157895</td>\n",
       "      <td>0.123940</td>\n",
       "      <td>0.010666</td>\n",
       "      <td>1175.0</td>\n",
       "    </tr>\n",
       "    <tr>\n",
       "      <th>2</th>\n",
       "      <td>468453</td>\n",
       "      <td>0.538744</td>\n",
       "      <td>0.001303</td>\n",
       "      <td>0.052632</td>\n",
       "      <td>0.319663</td>\n",
       "      <td>0.001540</td>\n",
       "      <td>60.0</td>\n",
       "    </tr>\n",
       "    <tr>\n",
       "      <th>3</th>\n",
       "      <td>96996</td>\n",
       "      <td>0.514662</td>\n",
       "      <td>0.000253</td>\n",
       "      <td>0.039474</td>\n",
       "      <td>0.960481</td>\n",
       "      <td>0.005172</td>\n",
       "      <td>9.0</td>\n",
       "    </tr>\n",
       "    <tr>\n",
       "      <th>4</th>\n",
       "      <td>131465</td>\n",
       "      <td>0.538744</td>\n",
       "      <td>0.004097</td>\n",
       "      <td>0.052632</td>\n",
       "      <td>0.638581</td>\n",
       "      <td>0.002672</td>\n",
       "      <td>83.0</td>\n",
       "    </tr>\n",
       "  </tbody>\n",
       "</table>\n",
       "</div>"
      ],
      "text/plain": [
       "       ID       Tag  Reputation   Answers  Username     Views  Upvotes\n",
       "0   52664  0.514662    0.003782  0.026316  0.885540  0.001500     42.0\n",
       "1  327662  0.514662    0.024986  0.157895  0.123940  0.010666   1175.0\n",
       "2  468453  0.538744    0.001303  0.052632  0.319663  0.001540     60.0\n",
       "3   96996  0.514662    0.000253  0.039474  0.960481  0.005172      9.0\n",
       "4  131465  0.538744    0.004097  0.052632  0.638581  0.002672     83.0"
      ]
     },
     "execution_count": 20,
     "metadata": {},
     "output_type": "execute_result"
    }
   ],
   "source": [
    "encode_and_normalize(train_df).head()"
   ]
  },
  {
   "cell_type": "markdown",
   "id": "4a31aed7",
   "metadata": {
    "papermill": {
     "duration": 0.013706,
     "end_time": "2022-08-02T07:59:39.715610",
     "exception": false,
     "start_time": "2022-08-02T07:59:39.701904",
     "status": "completed"
    },
    "tags": []
   },
   "source": [
    "# Splitting the data into train data and test data"
   ]
  },
  {
   "cell_type": "code",
   "execution_count": 21,
   "id": "33e2ac78",
   "metadata": {
    "execution": {
     "iopub.execute_input": "2022-08-02T07:59:39.746217Z",
     "iopub.status.busy": "2022-08-02T07:59:39.745417Z",
     "iopub.status.idle": "2022-08-02T07:59:39.753343Z",
     "shell.execute_reply": "2022-08-02T07:59:39.752437Z"
    },
    "papermill": {
     "duration": 0.025752,
     "end_time": "2022-08-02T07:59:39.755568",
     "exception": false,
     "start_time": "2022-08-02T07:59:39.729816",
     "status": "completed"
    },
    "tags": []
   },
   "outputs": [
    {
     "data": {
      "text/plain": [
       "['Reputation', 'Answers', 'Views', 'Tag', 'Username']"
      ]
     },
     "execution_count": 21,
     "metadata": {},
     "output_type": "execute_result"
    }
   ],
   "source": [
    "input_cols = list(numeric_col)\n",
    "input_cols.extend(categoric_col)\n",
    "target_col = 'Upvotes'\n",
    "input_cols"
   ]
  },
  {
   "cell_type": "code",
   "execution_count": 22,
   "id": "09019022",
   "metadata": {
    "execution": {
     "iopub.execute_input": "2022-08-02T07:59:39.786131Z",
     "iopub.status.busy": "2022-08-02T07:59:39.785377Z",
     "iopub.status.idle": "2022-08-02T07:59:40.049705Z",
     "shell.execute_reply": "2022-08-02T07:59:40.048857Z"
    },
    "papermill": {
     "duration": 0.282577,
     "end_time": "2022-08-02T07:59:40.052259",
     "exception": false,
     "start_time": "2022-08-02T07:59:39.769682",
     "status": "completed"
    },
    "tags": []
   },
   "outputs": [],
   "source": [
    "train_df = encode_and_normalize(train_df)"
   ]
  },
  {
   "cell_type": "code",
   "execution_count": 23,
   "id": "bbb19038",
   "metadata": {
    "execution": {
     "iopub.execute_input": "2022-08-02T07:59:40.082519Z",
     "iopub.status.busy": "2022-08-02T07:59:40.082099Z",
     "iopub.status.idle": "2022-08-02T07:59:40.150309Z",
     "shell.execute_reply": "2022-08-02T07:59:40.149303Z"
    },
    "papermill": {
     "duration": 0.086206,
     "end_time": "2022-08-02T07:59:40.152757",
     "exception": false,
     "start_time": "2022-08-02T07:59:40.066551",
     "status": "completed"
    },
    "tags": []
   },
   "outputs": [
    {
     "data": {
      "text/plain": [
       "((198027, 5), (132018, 5), (198027,), (132018,))"
      ]
     },
     "execution_count": 23,
     "metadata": {},
     "output_type": "execute_result"
    }
   ],
   "source": [
    "train_x, test_x, train_y, test_y = train_test_split(train_df[input_cols],train_df[target_col],random_state=42, shuffle = True, test_size = 0.4)\n",
    "train_x.shape, test_x.shape, train_y.shape, test_y.shape"
   ]
  },
  {
   "cell_type": "markdown",
   "id": "e17d4a07",
   "metadata": {
    "papermill": {
     "duration": 0.014185,
     "end_time": "2022-08-02T07:59:40.182027",
     "exception": false,
     "start_time": "2022-08-02T07:59:40.167842",
     "status": "completed"
    },
    "tags": []
   },
   "source": [
    "# Building Machine Learning Models"
   ]
  },
  {
   "cell_type": "markdown",
   "id": "798f65d0",
   "metadata": {
    "papermill": {
     "duration": 0.014011,
     "end_time": "2022-08-02T07:59:40.210444",
     "exception": false,
     "start_time": "2022-08-02T07:59:40.196433",
     "status": "completed"
    },
    "tags": []
   },
   "source": [
    "### 1. KNeighbors Regressor Model"
   ]
  },
  {
   "cell_type": "code",
   "execution_count": 24,
   "id": "353be744",
   "metadata": {
    "execution": {
     "iopub.execute_input": "2022-08-02T07:59:40.241412Z",
     "iopub.status.busy": "2022-08-02T07:59:40.240456Z",
     "iopub.status.idle": "2022-08-02T07:59:44.094234Z",
     "shell.execute_reply": "2022-08-02T07:59:44.091647Z"
    },
    "papermill": {
     "duration": 3.872819,
     "end_time": "2022-08-02T07:59:44.097529",
     "exception": false,
     "start_time": "2022-08-02T07:59:40.224710",
     "status": "completed"
    },
    "tags": []
   },
   "outputs": [
    {
     "name": "stdout",
     "output_type": "stream",
     "text": [
      "43.40285179156127 2367.827760023802\n"
     ]
    }
   ],
   "source": [
    "knn = KNeighborsRegressor(n_neighbors=3, weights='distance', n_jobs=-1)\n",
    "knn.fit(train_x,train_y)\n",
    "print(mean_squared_error(train_y, knn.predict(train_x), squared=False),\n",
    "                                mean_squared_error(test_y, knn.predict(test_x), squared=False)) #1878"
   ]
  },
  {
   "cell_type": "markdown",
   "id": "ff761166",
   "metadata": {
    "papermill": {
     "duration": 0.013952,
     "end_time": "2022-08-02T07:59:44.126346",
     "exception": false,
     "start_time": "2022-08-02T07:59:44.112394",
     "status": "completed"
    },
    "tags": []
   },
   "source": [
    "### 2. Decision Tree Model"
   ]
  },
  {
   "cell_type": "code",
   "execution_count": 25,
   "id": "1f494c6e",
   "metadata": {
    "execution": {
     "iopub.execute_input": "2022-08-02T07:59:44.157383Z",
     "iopub.status.busy": "2022-08-02T07:59:44.156577Z",
     "iopub.status.idle": "2022-08-02T07:59:46.307324Z",
     "shell.execute_reply": "2022-08-02T07:59:46.305934Z"
    },
    "papermill": {
     "duration": 2.169424,
     "end_time": "2022-08-02T07:59:46.309884",
     "exception": false,
     "start_time": "2022-08-02T07:59:44.140460",
     "status": "completed"
    },
    "tags": []
   },
   "outputs": [
    {
     "name": "stdout",
     "output_type": "stream",
     "text": [
      "43.40285171238028 1690.8789623519056\n"
     ]
    }
   ],
   "source": [
    "dt = DecisionTreeRegressor(random_state=42)\n",
    "dt.fit(train_x,train_y)\n",
    "print(mean_squared_error(train_y, dt.predict(train_x), squared=False),\n",
    "                            mean_squared_error(test_y, dt.predict(test_x), squared=False)) #1705"
   ]
  },
  {
   "cell_type": "markdown",
   "id": "7f555417",
   "metadata": {
    "papermill": {
     "duration": 0.013977,
     "end_time": "2022-08-02T07:59:46.338395",
     "exception": false,
     "start_time": "2022-08-02T07:59:46.324418",
     "status": "completed"
    },
    "tags": []
   },
   "source": [
    "### 3. Random Forest Regressor"
   ]
  },
  {
   "cell_type": "code",
   "execution_count": 26,
   "id": "11dcbf69",
   "metadata": {
    "execution": {
     "iopub.execute_input": "2022-08-02T07:59:46.368415Z",
     "iopub.status.busy": "2022-08-02T07:59:46.368015Z",
     "iopub.status.idle": "2022-08-02T08:00:40.752192Z",
     "shell.execute_reply": "2022-08-02T08:00:40.750838Z"
    },
    "papermill": {
     "duration": 54.415504,
     "end_time": "2022-08-02T08:00:40.768115",
     "exception": false,
     "start_time": "2022-08-02T07:59:46.352611",
     "status": "completed"
    },
    "tags": []
   },
   "outputs": [
    {
     "name": "stdout",
     "output_type": "stream",
     "text": [
      "585.1874192552758 1396.3815699737793\n"
     ]
    }
   ],
   "source": [
    "rf = RandomForestRegressor(random_state=42, n_jobs=-1)\n",
    "rf.fit(train_x,train_y)\n",
    "print(mean_squared_error(train_y, rf.predict(train_x), squared=False), \n",
    "                    mean_squared_error(test_y, rf.predict(test_x), squared=False)) #1165"
   ]
  },
  {
   "cell_type": "markdown",
   "id": "2960d190",
   "metadata": {
    "papermill": {
     "duration": 0.014997,
     "end_time": "2022-08-02T08:00:40.798608",
     "exception": false,
     "start_time": "2022-08-02T08:00:40.783611",
     "status": "completed"
    },
    "tags": []
   },
   "source": [
    "### 4. XGBoost Regressor Model"
   ]
  },
  {
   "cell_type": "code",
   "execution_count": 27,
   "id": "a2661fab",
   "metadata": {
    "execution": {
     "iopub.execute_input": "2022-08-02T08:00:40.832956Z",
     "iopub.status.busy": "2022-08-02T08:00:40.832194Z",
     "iopub.status.idle": "2022-08-02T08:00:52.658654Z",
     "shell.execute_reply": "2022-08-02T08:00:52.656592Z"
    },
    "papermill": {
     "duration": 11.847147,
     "end_time": "2022-08-02T08:00:52.662488",
     "exception": false,
     "start_time": "2022-08-02T08:00:40.815341",
     "status": "completed"
    },
    "tags": []
   },
   "outputs": [
    {
     "name": "stdout",
     "output_type": "stream",
     "text": [
      "277.586301401145 1378.891428760903\n"
     ]
    }
   ],
   "source": [
    "xgb = XGBRegressor(random_state=42)\n",
    "xgb.fit(train_x,train_y)\n",
    "print(mean_squared_error(train_y, xgb.predict(train_x), squared=False), \n",
    "                    mean_squared_error(test_y, xgb.predict(test_x), squared=False)) #937"
   ]
  },
  {
   "cell_type": "markdown",
   "id": "be0df2a3",
   "metadata": {
    "papermill": {
     "duration": 0.015185,
     "end_time": "2022-08-02T08:00:52.695864",
     "exception": false,
     "start_time": "2022-08-02T08:00:52.680679",
     "status": "completed"
    },
    "tags": []
   },
   "source": [
    "### Voting"
   ]
  },
  {
   "cell_type": "code",
   "execution_count": 28,
   "id": "3309178a",
   "metadata": {
    "execution": {
     "iopub.execute_input": "2022-08-02T08:00:52.729561Z",
     "iopub.status.busy": "2022-08-02T08:00:52.729105Z",
     "iopub.status.idle": "2022-08-02T08:02:26.163229Z",
     "shell.execute_reply": "2022-08-02T08:02:26.161410Z"
    },
    "papermill": {
     "duration": 93.472114,
     "end_time": "2022-08-02T08:02:26.183365",
     "exception": false,
     "start_time": "2022-08-02T08:00:52.711251",
     "status": "completed"
    },
    "tags": []
   },
   "outputs": [
    {
     "name": "stdout",
     "output_type": "stream",
     "text": [
      "240.67439214232337 1430.9436450112507\n"
     ]
    }
   ],
   "source": [
    "vr = VotingRegressor(\n",
    "                estimators = [('dt',dt),('rf',rf), ('xgb',xgb)],\n",
    "                n_jobs=-1)\n",
    "vr.fit(train_x,train_y)\n",
    "print(mean_squared_error(train_y, vr.predict(train_x), squared=False), \n",
    "                    mean_squared_error(test_y, vr.predict(test_x), squared=False)) #1326"
   ]
  },
  {
   "cell_type": "markdown",
   "id": "bdaf02c7",
   "metadata": {
    "papermill": {
     "duration": 0.016241,
     "end_time": "2022-08-02T08:02:26.216126",
     "exception": false,
     "start_time": "2022-08-02T08:02:26.199885",
     "status": "completed"
    },
    "tags": []
   },
   "source": [
    "# Predictions"
   ]
  },
  {
   "cell_type": "code",
   "execution_count": 29,
   "id": "6e5b31da",
   "metadata": {
    "execution": {
     "iopub.execute_input": "2022-08-02T08:02:26.250728Z",
     "iopub.status.busy": "2022-08-02T08:02:26.250067Z",
     "iopub.status.idle": "2022-08-02T08:02:26.524310Z",
     "shell.execute_reply": "2022-08-02T08:02:26.522356Z"
    },
    "papermill": {
     "duration": 0.296669,
     "end_time": "2022-08-02T08:02:26.528341",
     "exception": false,
     "start_time": "2022-08-02T08:02:26.231672",
     "status": "completed"
    },
    "tags": []
   },
   "outputs": [],
   "source": [
    "test_df = encode_and_normalize(test_df)"
   ]
  },
  {
   "cell_type": "code",
   "execution_count": 30,
   "id": "62a0f318",
   "metadata": {
    "execution": {
     "iopub.execute_input": "2022-08-02T08:02:26.563517Z",
     "iopub.status.busy": "2022-08-02T08:02:26.562965Z",
     "iopub.status.idle": "2022-08-02T08:02:30.620323Z",
     "shell.execute_reply": "2022-08-02T08:02:30.618402Z"
    },
    "papermill": {
     "duration": 4.079078,
     "end_time": "2022-08-02T08:02:30.623844",
     "exception": false,
     "start_time": "2022-08-02T08:02:26.544766",
     "status": "completed"
    },
    "tags": []
   },
   "outputs": [],
   "source": [
    "preds = vr.predict(test_df[input_cols])"
   ]
  },
  {
   "cell_type": "code",
   "execution_count": 31,
   "id": "1ceb92b2",
   "metadata": {
    "execution": {
     "iopub.execute_input": "2022-08-02T08:02:30.660938Z",
     "iopub.status.busy": "2022-08-02T08:02:30.660476Z",
     "iopub.status.idle": "2022-08-02T08:02:31.042472Z",
     "shell.execute_reply": "2022-08-02T08:02:31.040715Z"
    },
    "papermill": {
     "duration": 0.405996,
     "end_time": "2022-08-02T08:02:31.046870",
     "exception": false,
     "start_time": "2022-08-02T08:02:30.640874",
     "status": "completed"
    },
    "tags": []
   },
   "outputs": [],
   "source": [
    "output = pd.DataFrame({'ID':test_ids, 'Upvotes':preds})\n",
    "output.to_csv('submission.csv',index=False)"
   ]
  },
  {
   "cell_type": "markdown",
   "id": "989ad112",
   "metadata": {
    "papermill": {
     "duration": 0.018963,
     "end_time": "2022-08-02T08:02:31.082664",
     "exception": false,
     "start_time": "2022-08-02T08:02:31.063701",
     "status": "completed"
    },
    "tags": []
   },
   "source": [
    "Best Model -> XGBRegressor"
   ]
  }
 ],
 "metadata": {
  "kernelspec": {
   "display_name": "Python 3",
   "language": "python",
   "name": "python3"
  },
  "language_info": {
   "codemirror_mode": {
    "name": "ipython",
    "version": 3
   },
   "file_extension": ".py",
   "mimetype": "text/x-python",
   "name": "python",
   "nbconvert_exporter": "python",
   "pygments_lexer": "ipython3",
   "version": "3.7.12"
  },
  "papermill": {
   "default_parameters": {},
   "duration": 193.411205,
   "end_time": "2022-08-02T08:02:34.128293",
   "environment_variables": {},
   "exception": null,
   "input_path": "__notebook__.ipynb",
   "output_path": "__notebook__.ipynb",
   "parameters": {},
   "start_time": "2022-08-02T07:59:20.717088",
   "version": "2.3.4"
  }
 },
 "nbformat": 4,
 "nbformat_minor": 5
}
