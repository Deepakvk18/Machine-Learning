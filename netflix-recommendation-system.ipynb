{
 "cells": [
  {
   "cell_type": "markdown",
   "id": "65eefd06",
   "metadata": {
    "_cell_guid": "b1076dfc-b9ad-4769-8c92-a6c4dae69d19",
    "_uuid": "8f2839f25d086af736a60e9eeb907d3b93b6e0e5",
    "papermill": {
     "duration": 0.010115,
     "end_time": "2022-08-03T08:15:36.441854",
     "exception": false,
     "start_time": "2022-08-03T08:15:36.431739",
     "status": "completed"
    },
    "tags": []
   },
   "source": [
    "# Problem Statement\n",
    "\n",
    "* Develope a content-based recommender system using the genres and/or descriptions.\n",
    "* Identify the main content available on the streaming.\n",
    "* Perform Exploratory data analysis to find interesting insights.\n",
    "\n",
    "[You can download the dataset from here.](https://www.kaggle.com/datasets/victorsoeiro/netflix-tv-shows-and-movies)"
   ]
  },
  {
   "cell_type": "code",
   "execution_count": 1,
   "id": "762b059a",
   "metadata": {
    "execution": {
     "iopub.execute_input": "2022-08-03T08:15:36.461919Z",
     "iopub.status.busy": "2022-08-03T08:15:36.461300Z",
     "iopub.status.idle": "2022-08-03T08:15:36.482985Z",
     "shell.execute_reply": "2022-08-03T08:15:36.481796Z"
    },
    "papermill": {
     "duration": 0.034895,
     "end_time": "2022-08-03T08:15:36.485829",
     "exception": false,
     "start_time": "2022-08-03T08:15:36.450934",
     "status": "completed"
    },
    "tags": []
   },
   "outputs": [
    {
     "name": "stdout",
     "output_type": "stream",
     "text": [
      "/kaggle/input/netflix-tv-shows-and-movies/credits.csv\n",
      "/kaggle/input/netflix-tv-shows-and-movies/titles.csv\n"
     ]
    }
   ],
   "source": [
    "# # This Python 3 environment comes with many helpful analytics libraries installed\n",
    "# It is defined by the kaggle/python Docker image: https://github.com/kaggle/docker-python\n",
    "# For example, here's several helpful packages to load\n",
    "\n",
    "import numpy as np # linear algebra\n",
    "import pandas as pd # data processing, CSV file I/O (e.g. pd.read_csv)\n",
    "\n",
    "# Input data files are available in the read-only \"../input/\" directory\n",
    "# For example, running this (by clicking run or pressing Shift+Enter) will list all files under the input directory\n",
    "\n",
    "import os\n",
    "for dirname, _, filenames in os.walk('/kaggle/input'):\n",
    "    for filename in filenames:\n",
    "        print(os.path.join(dirname, filename))\n",
    "\n",
    "# You can write up to 20GB to the current directory (/kaggle/working/) that gets preserved as output when you create a version using \"Save & Run All\" \n",
    "# You can also write temporary files to /kaggle/temp/, but they won't be saved outside of the current session"
   ]
  },
  {
   "cell_type": "code",
   "execution_count": 2,
   "id": "45f3774e",
   "metadata": {
    "execution": {
     "iopub.execute_input": "2022-08-03T08:15:36.505175Z",
     "iopub.status.busy": "2022-08-03T08:15:36.504756Z",
     "iopub.status.idle": "2022-08-03T08:15:38.131536Z",
     "shell.execute_reply": "2022-08-03T08:15:38.130436Z"
    },
    "papermill": {
     "duration": 1.639351,
     "end_time": "2022-08-03T08:15:38.134252",
     "exception": false,
     "start_time": "2022-08-03T08:15:36.494901",
     "status": "completed"
    },
    "tags": []
   },
   "outputs": [],
   "source": [
    "import numpy as np\n",
    "import pandas as pd\n",
    "from sklearn.feature_extraction.text import TfidfVectorizer, CountVectorizer\n",
    "from sklearn.metrics.pairwise import cosine_similarity\n",
    "from nltk.tokenize import word_tokenize\n",
    "import ast"
   ]
  },
  {
   "cell_type": "code",
   "execution_count": 3,
   "id": "5694e481",
   "metadata": {
    "execution": {
     "iopub.execute_input": "2022-08-03T08:15:38.154012Z",
     "iopub.status.busy": "2022-08-03T08:15:38.153059Z",
     "iopub.status.idle": "2022-08-03T08:15:38.396762Z",
     "shell.execute_reply": "2022-08-03T08:15:38.395779Z"
    },
    "papermill": {
     "duration": 0.256433,
     "end_time": "2022-08-03T08:15:38.399466",
     "exception": false,
     "start_time": "2022-08-03T08:15:38.143033",
     "status": "completed"
    },
    "tags": []
   },
   "outputs": [],
   "source": [
    "credits = pd.read_csv('/kaggle/input/netflix-tv-shows-and-movies/credits.csv')\n",
    "titles = pd.read_csv('/kaggle/input/netflix-tv-shows-and-movies/titles.csv')"
   ]
  },
  {
   "cell_type": "code",
   "execution_count": 4,
   "id": "9704ddef",
   "metadata": {
    "execution": {
     "iopub.execute_input": "2022-08-03T08:15:38.419563Z",
     "iopub.status.busy": "2022-08-03T08:15:38.418321Z",
     "iopub.status.idle": "2022-08-03T08:15:38.440065Z",
     "shell.execute_reply": "2022-08-03T08:15:38.438902Z"
    },
    "papermill": {
     "duration": 0.034565,
     "end_time": "2022-08-03T08:15:38.442697",
     "exception": false,
     "start_time": "2022-08-03T08:15:38.408132",
     "status": "completed"
    },
    "tags": []
   },
   "outputs": [
    {
     "data": {
      "text/html": [
       "<div>\n",
       "<style scoped>\n",
       "    .dataframe tbody tr th:only-of-type {\n",
       "        vertical-align: middle;\n",
       "    }\n",
       "\n",
       "    .dataframe tbody tr th {\n",
       "        vertical-align: top;\n",
       "    }\n",
       "\n",
       "    .dataframe thead th {\n",
       "        text-align: right;\n",
       "    }\n",
       "</style>\n",
       "<table border=\"1\" class=\"dataframe\">\n",
       "  <thead>\n",
       "    <tr style=\"text-align: right;\">\n",
       "      <th></th>\n",
       "      <th>person_id</th>\n",
       "      <th>id</th>\n",
       "      <th>name</th>\n",
       "      <th>character</th>\n",
       "      <th>role</th>\n",
       "    </tr>\n",
       "  </thead>\n",
       "  <tbody>\n",
       "    <tr>\n",
       "      <th>0</th>\n",
       "      <td>3748</td>\n",
       "      <td>tm84618</td>\n",
       "      <td>Robert De Niro</td>\n",
       "      <td>Travis Bickle</td>\n",
       "      <td>ACTOR</td>\n",
       "    </tr>\n",
       "    <tr>\n",
       "      <th>1</th>\n",
       "      <td>14658</td>\n",
       "      <td>tm84618</td>\n",
       "      <td>Jodie Foster</td>\n",
       "      <td>Iris Steensma</td>\n",
       "      <td>ACTOR</td>\n",
       "    </tr>\n",
       "    <tr>\n",
       "      <th>2</th>\n",
       "      <td>7064</td>\n",
       "      <td>tm84618</td>\n",
       "      <td>Albert Brooks</td>\n",
       "      <td>Tom</td>\n",
       "      <td>ACTOR</td>\n",
       "    </tr>\n",
       "    <tr>\n",
       "      <th>3</th>\n",
       "      <td>3739</td>\n",
       "      <td>tm84618</td>\n",
       "      <td>Harvey Keitel</td>\n",
       "      <td>Matthew 'Sport' Higgins</td>\n",
       "      <td>ACTOR</td>\n",
       "    </tr>\n",
       "    <tr>\n",
       "      <th>4</th>\n",
       "      <td>48933</td>\n",
       "      <td>tm84618</td>\n",
       "      <td>Cybill Shepherd</td>\n",
       "      <td>Betsy</td>\n",
       "      <td>ACTOR</td>\n",
       "    </tr>\n",
       "  </tbody>\n",
       "</table>\n",
       "</div>"
      ],
      "text/plain": [
       "   person_id       id             name                character   role\n",
       "0       3748  tm84618   Robert De Niro            Travis Bickle  ACTOR\n",
       "1      14658  tm84618     Jodie Foster            Iris Steensma  ACTOR\n",
       "2       7064  tm84618    Albert Brooks                      Tom  ACTOR\n",
       "3       3739  tm84618    Harvey Keitel  Matthew 'Sport' Higgins  ACTOR\n",
       "4      48933  tm84618  Cybill Shepherd                    Betsy  ACTOR"
      ]
     },
     "execution_count": 4,
     "metadata": {},
     "output_type": "execute_result"
    }
   ],
   "source": [
    "credits.head()"
   ]
  },
  {
   "cell_type": "code",
   "execution_count": 5,
   "id": "af584b64",
   "metadata": {
    "execution": {
     "iopub.execute_input": "2022-08-03T08:15:38.463321Z",
     "iopub.status.busy": "2022-08-03T08:15:38.462542Z",
     "iopub.status.idle": "2022-08-03T08:15:38.485331Z",
     "shell.execute_reply": "2022-08-03T08:15:38.484150Z"
    },
    "papermill": {
     "duration": 0.03636,
     "end_time": "2022-08-03T08:15:38.488128",
     "exception": false,
     "start_time": "2022-08-03T08:15:38.451768",
     "status": "completed"
    },
    "tags": []
   },
   "outputs": [
    {
     "data": {
      "text/html": [
       "<div>\n",
       "<style scoped>\n",
       "    .dataframe tbody tr th:only-of-type {\n",
       "        vertical-align: middle;\n",
       "    }\n",
       "\n",
       "    .dataframe tbody tr th {\n",
       "        vertical-align: top;\n",
       "    }\n",
       "\n",
       "    .dataframe thead th {\n",
       "        text-align: right;\n",
       "    }\n",
       "</style>\n",
       "<table border=\"1\" class=\"dataframe\">\n",
       "  <thead>\n",
       "    <tr style=\"text-align: right;\">\n",
       "      <th></th>\n",
       "      <th>id</th>\n",
       "      <th>title</th>\n",
       "      <th>type</th>\n",
       "      <th>description</th>\n",
       "      <th>release_year</th>\n",
       "      <th>age_certification</th>\n",
       "      <th>runtime</th>\n",
       "      <th>genres</th>\n",
       "      <th>production_countries</th>\n",
       "      <th>seasons</th>\n",
       "      <th>imdb_id</th>\n",
       "      <th>imdb_score</th>\n",
       "      <th>imdb_votes</th>\n",
       "      <th>tmdb_popularity</th>\n",
       "      <th>tmdb_score</th>\n",
       "    </tr>\n",
       "  </thead>\n",
       "  <tbody>\n",
       "    <tr>\n",
       "      <th>0</th>\n",
       "      <td>ts300399</td>\n",
       "      <td>Five Came Back: The Reference Films</td>\n",
       "      <td>SHOW</td>\n",
       "      <td>This collection includes 12 World War II-era p...</td>\n",
       "      <td>1945</td>\n",
       "      <td>TV-MA</td>\n",
       "      <td>51</td>\n",
       "      <td>['documentation']</td>\n",
       "      <td>['US']</td>\n",
       "      <td>1.0</td>\n",
       "      <td>NaN</td>\n",
       "      <td>NaN</td>\n",
       "      <td>NaN</td>\n",
       "      <td>0.600</td>\n",
       "      <td>NaN</td>\n",
       "    </tr>\n",
       "    <tr>\n",
       "      <th>1</th>\n",
       "      <td>tm84618</td>\n",
       "      <td>Taxi Driver</td>\n",
       "      <td>MOVIE</td>\n",
       "      <td>A mentally unstable Vietnam War veteran works ...</td>\n",
       "      <td>1976</td>\n",
       "      <td>R</td>\n",
       "      <td>114</td>\n",
       "      <td>['drama', 'crime']</td>\n",
       "      <td>['US']</td>\n",
       "      <td>NaN</td>\n",
       "      <td>tt0075314</td>\n",
       "      <td>8.2</td>\n",
       "      <td>808582.0</td>\n",
       "      <td>40.965</td>\n",
       "      <td>8.179</td>\n",
       "    </tr>\n",
       "    <tr>\n",
       "      <th>2</th>\n",
       "      <td>tm154986</td>\n",
       "      <td>Deliverance</td>\n",
       "      <td>MOVIE</td>\n",
       "      <td>Intent on seeing the Cahulawassee River before...</td>\n",
       "      <td>1972</td>\n",
       "      <td>R</td>\n",
       "      <td>109</td>\n",
       "      <td>['drama', 'action', 'thriller', 'european']</td>\n",
       "      <td>['US']</td>\n",
       "      <td>NaN</td>\n",
       "      <td>tt0068473</td>\n",
       "      <td>7.7</td>\n",
       "      <td>107673.0</td>\n",
       "      <td>10.010</td>\n",
       "      <td>7.300</td>\n",
       "    </tr>\n",
       "    <tr>\n",
       "      <th>3</th>\n",
       "      <td>tm127384</td>\n",
       "      <td>Monty Python and the Holy Grail</td>\n",
       "      <td>MOVIE</td>\n",
       "      <td>King Arthur, accompanied by his squire, recrui...</td>\n",
       "      <td>1975</td>\n",
       "      <td>PG</td>\n",
       "      <td>91</td>\n",
       "      <td>['fantasy', 'action', 'comedy']</td>\n",
       "      <td>['GB']</td>\n",
       "      <td>NaN</td>\n",
       "      <td>tt0071853</td>\n",
       "      <td>8.2</td>\n",
       "      <td>534486.0</td>\n",
       "      <td>15.461</td>\n",
       "      <td>7.811</td>\n",
       "    </tr>\n",
       "    <tr>\n",
       "      <th>4</th>\n",
       "      <td>tm120801</td>\n",
       "      <td>The Dirty Dozen</td>\n",
       "      <td>MOVIE</td>\n",
       "      <td>12 American military prisoners in World War II...</td>\n",
       "      <td>1967</td>\n",
       "      <td>NaN</td>\n",
       "      <td>150</td>\n",
       "      <td>['war', 'action']</td>\n",
       "      <td>['GB', 'US']</td>\n",
       "      <td>NaN</td>\n",
       "      <td>tt0061578</td>\n",
       "      <td>7.7</td>\n",
       "      <td>72662.0</td>\n",
       "      <td>20.398</td>\n",
       "      <td>7.600</td>\n",
       "    </tr>\n",
       "  </tbody>\n",
       "</table>\n",
       "</div>"
      ],
      "text/plain": [
       "         id                                title   type  \\\n",
       "0  ts300399  Five Came Back: The Reference Films   SHOW   \n",
       "1   tm84618                          Taxi Driver  MOVIE   \n",
       "2  tm154986                          Deliverance  MOVIE   \n",
       "3  tm127384      Monty Python and the Holy Grail  MOVIE   \n",
       "4  tm120801                      The Dirty Dozen  MOVIE   \n",
       "\n",
       "                                         description  release_year  \\\n",
       "0  This collection includes 12 World War II-era p...          1945   \n",
       "1  A mentally unstable Vietnam War veteran works ...          1976   \n",
       "2  Intent on seeing the Cahulawassee River before...          1972   \n",
       "3  King Arthur, accompanied by his squire, recrui...          1975   \n",
       "4  12 American military prisoners in World War II...          1967   \n",
       "\n",
       "  age_certification  runtime                                       genres  \\\n",
       "0             TV-MA       51                            ['documentation']   \n",
       "1                 R      114                           ['drama', 'crime']   \n",
       "2                 R      109  ['drama', 'action', 'thriller', 'european']   \n",
       "3                PG       91              ['fantasy', 'action', 'comedy']   \n",
       "4               NaN      150                            ['war', 'action']   \n",
       "\n",
       "  production_countries  seasons    imdb_id  imdb_score  imdb_votes  \\\n",
       "0               ['US']      1.0        NaN         NaN         NaN   \n",
       "1               ['US']      NaN  tt0075314         8.2    808582.0   \n",
       "2               ['US']      NaN  tt0068473         7.7    107673.0   \n",
       "3               ['GB']      NaN  tt0071853         8.2    534486.0   \n",
       "4         ['GB', 'US']      NaN  tt0061578         7.7     72662.0   \n",
       "\n",
       "   tmdb_popularity  tmdb_score  \n",
       "0            0.600         NaN  \n",
       "1           40.965       8.179  \n",
       "2           10.010       7.300  \n",
       "3           15.461       7.811  \n",
       "4           20.398       7.600  "
      ]
     },
     "execution_count": 5,
     "metadata": {},
     "output_type": "execute_result"
    }
   ],
   "source": [
    "titles.head()"
   ]
  },
  {
   "cell_type": "code",
   "execution_count": 6,
   "id": "87123e75",
   "metadata": {
    "execution": {
     "iopub.execute_input": "2022-08-03T08:15:38.509340Z",
     "iopub.status.busy": "2022-08-03T08:15:38.508561Z",
     "iopub.status.idle": "2022-08-03T08:15:38.515713Z",
     "shell.execute_reply": "2022-08-03T08:15:38.514744Z"
    },
    "papermill": {
     "duration": 0.020287,
     "end_time": "2022-08-03T08:15:38.517960",
     "exception": false,
     "start_time": "2022-08-03T08:15:38.497673",
     "status": "completed"
    },
    "tags": []
   },
   "outputs": [
    {
     "data": {
      "text/plain": [
       "((5850, 15), (77801, 5))"
      ]
     },
     "execution_count": 6,
     "metadata": {},
     "output_type": "execute_result"
    }
   ],
   "source": [
    "titles.shape, credits.shape"
   ]
  },
  {
   "cell_type": "markdown",
   "id": "9f15eea8",
   "metadata": {
    "papermill": {
     "duration": 0.009095,
     "end_time": "2022-08-03T08:15:38.537664",
     "exception": false,
     "start_time": "2022-08-03T08:15:38.528569",
     "status": "completed"
    },
    "tags": []
   },
   "source": [
    "### About the features\n",
    "\n",
    "#### Features in titles.csv\n",
    "\n",
    "* **id**: The title ID on JustWatch.\n",
    "* **title**: The name of the title.\n",
    "* **show_type**: TV show or movie.\n",
    "* **description**: A brief description.\n",
    "* **release_year**: The release year.\n",
    "* **age_certification**: The age certification.\n",
    "* **runtime**: The length of the episode (SHOW) or movie.\n",
    "* **genres**: A list of genres.\n",
    "* **production_countries**: A list of countries that produced the title.\n",
    "* **seasons**: Number of seasons if it's a SHOW.\n",
    "* **imdb_id**: The title ID on IMDB.\n",
    "* **imdb_score**: Score on IMDB.\n",
    "* **imdb_votes**: Votes on IMDB.\n",
    "* **tmdb_popularity**: Popularity on TMDB.\n",
    "* **tmdb_score**: Score on TMDB.\n",
    "\n",
    "#### Features in credits.csv\n",
    "\n",
    "* **person_ID**: The person ID on JustWatch.\n",
    "* **id**: The title ID on JustWatch.\n",
    "* **name**: The actor or director's name.\n",
    "* **character_name**: The character name.\n",
    "* **role**: ACTOR or DIRECTOR."
   ]
  },
  {
   "cell_type": "code",
   "execution_count": 7,
   "id": "e8c3b7d4",
   "metadata": {
    "execution": {
     "iopub.execute_input": "2022-08-03T08:15:38.559337Z",
     "iopub.status.busy": "2022-08-03T08:15:38.558544Z",
     "iopub.status.idle": "2022-08-03T08:15:38.596074Z",
     "shell.execute_reply": "2022-08-03T08:15:38.594923Z"
    },
    "papermill": {
     "duration": 0.054288,
     "end_time": "2022-08-03T08:15:38.601813",
     "exception": false,
     "start_time": "2022-08-03T08:15:38.547525",
     "status": "completed"
    },
    "tags": []
   },
   "outputs": [
    {
     "data": {
      "text/html": [
       "<div>\n",
       "<style scoped>\n",
       "    .dataframe tbody tr th:only-of-type {\n",
       "        vertical-align: middle;\n",
       "    }\n",
       "\n",
       "    .dataframe tbody tr th {\n",
       "        vertical-align: top;\n",
       "    }\n",
       "\n",
       "    .dataframe thead th {\n",
       "        text-align: right;\n",
       "    }\n",
       "</style>\n",
       "<table border=\"1\" class=\"dataframe\">\n",
       "  <thead>\n",
       "    <tr style=\"text-align: right;\">\n",
       "      <th></th>\n",
       "      <th>id</th>\n",
       "      <th>title</th>\n",
       "      <th>type</th>\n",
       "      <th>description</th>\n",
       "      <th>release_year</th>\n",
       "      <th>age_certification</th>\n",
       "      <th>runtime</th>\n",
       "      <th>genres</th>\n",
       "      <th>production_countries</th>\n",
       "      <th>seasons</th>\n",
       "      <th>imdb_id</th>\n",
       "      <th>imdb_score</th>\n",
       "      <th>imdb_votes</th>\n",
       "      <th>tmdb_popularity</th>\n",
       "      <th>tmdb_score</th>\n",
       "    </tr>\n",
       "  </thead>\n",
       "  <tbody>\n",
       "    <tr>\n",
       "      <th>93</th>\n",
       "      <td>ts22176</td>\n",
       "      <td>Stargate SG-1</td>\n",
       "      <td>SHOW</td>\n",
       "      <td>The story of Stargate SG-1 begins about a year...</td>\n",
       "      <td>1997</td>\n",
       "      <td>TV-PG</td>\n",
       "      <td>44</td>\n",
       "      <td>['scifi', 'drama', 'action']</td>\n",
       "      <td>['CA', 'US']</td>\n",
       "      <td>10.0</td>\n",
       "      <td>tt0118480</td>\n",
       "      <td>8.4</td>\n",
       "      <td>90196.0</td>\n",
       "      <td>88.851</td>\n",
       "      <td>8.300</td>\n",
       "    </tr>\n",
       "    <tr>\n",
       "      <th>219</th>\n",
       "      <td>ts21465</td>\n",
       "      <td>Supernatural</td>\n",
       "      <td>SHOW</td>\n",
       "      <td>When they were boys, Sam and Dean Winchester l...</td>\n",
       "      <td>2005</td>\n",
       "      <td>TV-14</td>\n",
       "      <td>45</td>\n",
       "      <td>['scifi', 'horror', 'thriller', 'drama', 'fant...</td>\n",
       "      <td>['US']</td>\n",
       "      <td>15.0</td>\n",
       "      <td>tt0460681</td>\n",
       "      <td>8.4</td>\n",
       "      <td>434081.0</td>\n",
       "      <td>388.093</td>\n",
       "      <td>8.278</td>\n",
       "    </tr>\n",
       "    <tr>\n",
       "      <th>229</th>\n",
       "      <td>ts22011</td>\n",
       "      <td>Heartland</td>\n",
       "      <td>SHOW</td>\n",
       "      <td>Life is hard on the Flemings' ranch in the Alb...</td>\n",
       "      <td>2007</td>\n",
       "      <td>TV-PG</td>\n",
       "      <td>44</td>\n",
       "      <td>['drama', 'family']</td>\n",
       "      <td>['CA']</td>\n",
       "      <td>15.0</td>\n",
       "      <td>tt1094229</td>\n",
       "      <td>8.4</td>\n",
       "      <td>16337.0</td>\n",
       "      <td>74.638</td>\n",
       "      <td>8.300</td>\n",
       "    </tr>\n",
       "    <tr>\n",
       "      <th>245</th>\n",
       "      <td>ts20305</td>\n",
       "      <td>Naruto</td>\n",
       "      <td>SHOW</td>\n",
       "      <td>In another world, ninja are the ultimate power...</td>\n",
       "      <td>2002</td>\n",
       "      <td>TV-PG</td>\n",
       "      <td>23</td>\n",
       "      <td>['animation', 'action', 'scifi', 'comedy', 'fa...</td>\n",
       "      <td>['JP']</td>\n",
       "      <td>6.0</td>\n",
       "      <td>tt0409591</td>\n",
       "      <td>8.4</td>\n",
       "      <td>96729.0</td>\n",
       "      <td>218.843</td>\n",
       "      <td>8.363</td>\n",
       "    </tr>\n",
       "    <tr>\n",
       "      <th>316</th>\n",
       "      <td>tm142564</td>\n",
       "      <td>3 Idiots</td>\n",
       "      <td>MOVIE</td>\n",
       "      <td>Rascal. Joker. Dreamer. Genius... You've never...</td>\n",
       "      <td>2009</td>\n",
       "      <td>PG-13</td>\n",
       "      <td>170</td>\n",
       "      <td>['drama', 'comedy']</td>\n",
       "      <td>['IN']</td>\n",
       "      <td>NaN</td>\n",
       "      <td>tt1187043</td>\n",
       "      <td>8.4</td>\n",
       "      <td>390739.0</td>\n",
       "      <td>44.999</td>\n",
       "      <td>8.000</td>\n",
       "    </tr>\n",
       "    <tr>\n",
       "      <th>...</th>\n",
       "      <td>...</td>\n",
       "      <td>...</td>\n",
       "      <td>...</td>\n",
       "      <td>...</td>\n",
       "      <td>...</td>\n",
       "      <td>...</td>\n",
       "      <td>...</td>\n",
       "      <td>...</td>\n",
       "      <td>...</td>\n",
       "      <td>...</td>\n",
       "      <td>...</td>\n",
       "      <td>...</td>\n",
       "      <td>...</td>\n",
       "      <td>...</td>\n",
       "      <td>...</td>\n",
       "    </tr>\n",
       "    <tr>\n",
       "      <th>4999</th>\n",
       "      <td>ts341767</td>\n",
       "      <td>Kotaro Lives Alone</td>\n",
       "      <td>SHOW</td>\n",
       "      <td>A lonely little boy moves into a ramshackle ap...</td>\n",
       "      <td>2022</td>\n",
       "      <td>TV-14</td>\n",
       "      <td>27</td>\n",
       "      <td>['animation', 'drama', 'comedy']</td>\n",
       "      <td>['JP']</td>\n",
       "      <td>1.0</td>\n",
       "      <td>tt15490038</td>\n",
       "      <td>8.4</td>\n",
       "      <td>2281.0</td>\n",
       "      <td>13.897</td>\n",
       "      <td>6.900</td>\n",
       "    </tr>\n",
       "    <tr>\n",
       "      <th>5015</th>\n",
       "      <td>ts271867</td>\n",
       "      <td>Vincenzo</td>\n",
       "      <td>SHOW</td>\n",
       "      <td>Vincenzo Cassano is an Italian lawyer and Mafi...</td>\n",
       "      <td>2021</td>\n",
       "      <td>NaN</td>\n",
       "      <td>81</td>\n",
       "      <td>['action', 'drama', 'comedy', 'crime', 'romance']</td>\n",
       "      <td>['KR']</td>\n",
       "      <td>1.0</td>\n",
       "      <td>tt13433812</td>\n",
       "      <td>8.4</td>\n",
       "      <td>16358.0</td>\n",
       "      <td>50.764</td>\n",
       "      <td>8.800</td>\n",
       "    </tr>\n",
       "    <tr>\n",
       "      <th>5044</th>\n",
       "      <td>ts297483</td>\n",
       "      <td>Hometown Cha-Cha-Cha</td>\n",
       "      <td>SHOW</td>\n",
       "      <td>A big-city dentist opens up a practice in a cl...</td>\n",
       "      <td>2021</td>\n",
       "      <td>TV-14</td>\n",
       "      <td>78</td>\n",
       "      <td>['comedy', 'romance', 'drama']</td>\n",
       "      <td>['KR']</td>\n",
       "      <td>1.0</td>\n",
       "      <td>tt14518756</td>\n",
       "      <td>8.4</td>\n",
       "      <td>11060.0</td>\n",
       "      <td>40.151</td>\n",
       "      <td>8.200</td>\n",
       "    </tr>\n",
       "    <tr>\n",
       "      <th>5053</th>\n",
       "      <td>ts222864</td>\n",
       "      <td>Falling Into Your Smile</td>\n",
       "      <td>SHOW</td>\n",
       "      <td>Student Tong Yao makes two vows: to never be i...</td>\n",
       "      <td>2021</td>\n",
       "      <td>TV-14</td>\n",
       "      <td>44</td>\n",
       "      <td>['drama', 'comedy', 'romance']</td>\n",
       "      <td>['CN']</td>\n",
       "      <td>1.0</td>\n",
       "      <td>tt11290960</td>\n",
       "      <td>8.4</td>\n",
       "      <td>2267.0</td>\n",
       "      <td>39.102</td>\n",
       "      <td>9.000</td>\n",
       "    </tr>\n",
       "    <tr>\n",
       "      <th>5194</th>\n",
       "      <td>ts269493</td>\n",
       "      <td>Headspace Guide to Meditation</td>\n",
       "      <td>SHOW</td>\n",
       "      <td>The series shows how meditation can help in yo...</td>\n",
       "      <td>2021</td>\n",
       "      <td>TV-G</td>\n",
       "      <td>22</td>\n",
       "      <td>['documentation', 'animation']</td>\n",
       "      <td>['US']</td>\n",
       "      <td>1.0</td>\n",
       "      <td>tt13617024</td>\n",
       "      <td>8.4</td>\n",
       "      <td>1568.0</td>\n",
       "      <td>4.774</td>\n",
       "      <td>7.700</td>\n",
       "    </tr>\n",
       "  </tbody>\n",
       "</table>\n",
       "<p>61 rows × 15 columns</p>\n",
       "</div>"
      ],
      "text/plain": [
       "            id                          title   type  \\\n",
       "93     ts22176                  Stargate SG-1   SHOW   \n",
       "219    ts21465                   Supernatural   SHOW   \n",
       "229    ts22011                      Heartland   SHOW   \n",
       "245    ts20305                         Naruto   SHOW   \n",
       "316   tm142564                       3 Idiots  MOVIE   \n",
       "...        ...                            ...    ...   \n",
       "4999  ts341767             Kotaro Lives Alone   SHOW   \n",
       "5015  ts271867                       Vincenzo   SHOW   \n",
       "5044  ts297483           Hometown Cha-Cha-Cha   SHOW   \n",
       "5053  ts222864        Falling Into Your Smile   SHOW   \n",
       "5194  ts269493  Headspace Guide to Meditation   SHOW   \n",
       "\n",
       "                                            description  release_year  \\\n",
       "93    The story of Stargate SG-1 begins about a year...          1997   \n",
       "219   When they were boys, Sam and Dean Winchester l...          2005   \n",
       "229   Life is hard on the Flemings' ranch in the Alb...          2007   \n",
       "245   In another world, ninja are the ultimate power...          2002   \n",
       "316   Rascal. Joker. Dreamer. Genius... You've never...          2009   \n",
       "...                                                 ...           ...   \n",
       "4999  A lonely little boy moves into a ramshackle ap...          2022   \n",
       "5015  Vincenzo Cassano is an Italian lawyer and Mafi...          2021   \n",
       "5044  A big-city dentist opens up a practice in a cl...          2021   \n",
       "5053  Student Tong Yao makes two vows: to never be i...          2021   \n",
       "5194  The series shows how meditation can help in yo...          2021   \n",
       "\n",
       "     age_certification  runtime  \\\n",
       "93               TV-PG       44   \n",
       "219              TV-14       45   \n",
       "229              TV-PG       44   \n",
       "245              TV-PG       23   \n",
       "316              PG-13      170   \n",
       "...                ...      ...   \n",
       "4999             TV-14       27   \n",
       "5015               NaN       81   \n",
       "5044             TV-14       78   \n",
       "5053             TV-14       44   \n",
       "5194              TV-G       22   \n",
       "\n",
       "                                                 genres production_countries  \\\n",
       "93                         ['scifi', 'drama', 'action']         ['CA', 'US']   \n",
       "219   ['scifi', 'horror', 'thriller', 'drama', 'fant...               ['US']   \n",
       "229                                 ['drama', 'family']               ['CA']   \n",
       "245   ['animation', 'action', 'scifi', 'comedy', 'fa...               ['JP']   \n",
       "316                                 ['drama', 'comedy']               ['IN']   \n",
       "...                                                 ...                  ...   \n",
       "4999                   ['animation', 'drama', 'comedy']               ['JP']   \n",
       "5015  ['action', 'drama', 'comedy', 'crime', 'romance']               ['KR']   \n",
       "5044                     ['comedy', 'romance', 'drama']               ['KR']   \n",
       "5053                     ['drama', 'comedy', 'romance']               ['CN']   \n",
       "5194                     ['documentation', 'animation']               ['US']   \n",
       "\n",
       "      seasons     imdb_id  imdb_score  imdb_votes  tmdb_popularity  tmdb_score  \n",
       "93       10.0   tt0118480         8.4     90196.0           88.851       8.300  \n",
       "219      15.0   tt0460681         8.4    434081.0          388.093       8.278  \n",
       "229      15.0   tt1094229         8.4     16337.0           74.638       8.300  \n",
       "245       6.0   tt0409591         8.4     96729.0          218.843       8.363  \n",
       "316       NaN   tt1187043         8.4    390739.0           44.999       8.000  \n",
       "...       ...         ...         ...         ...              ...         ...  \n",
       "4999      1.0  tt15490038         8.4      2281.0           13.897       6.900  \n",
       "5015      1.0  tt13433812         8.4     16358.0           50.764       8.800  \n",
       "5044      1.0  tt14518756         8.4     11060.0           40.151       8.200  \n",
       "5053      1.0  tt11290960         8.4      2267.0           39.102       9.000  \n",
       "5194      1.0  tt13617024         8.4      1568.0            4.774       7.700  \n",
       "\n",
       "[61 rows x 15 columns]"
      ]
     },
     "execution_count": 7,
     "metadata": {},
     "output_type": "execute_result"
    }
   ],
   "source": [
    "titles[titles['imdb_score']==8.4]"
   ]
  },
  {
   "cell_type": "code",
   "execution_count": 8,
   "id": "5867fb64",
   "metadata": {
    "execution": {
     "iopub.execute_input": "2022-08-03T08:15:38.623710Z",
     "iopub.status.busy": "2022-08-03T08:15:38.623293Z",
     "iopub.status.idle": "2022-08-03T08:15:38.730529Z",
     "shell.execute_reply": "2022-08-03T08:15:38.729334Z"
    },
    "papermill": {
     "duration": 0.121083,
     "end_time": "2022-08-03T08:15:38.733125",
     "exception": false,
     "start_time": "2022-08-03T08:15:38.612042",
     "status": "completed"
    },
    "tags": []
   },
   "outputs": [
    {
     "data": {
      "text/html": [
       "<div>\n",
       "<style scoped>\n",
       "    .dataframe tbody tr th:only-of-type {\n",
       "        vertical-align: middle;\n",
       "    }\n",
       "\n",
       "    .dataframe tbody tr th {\n",
       "        vertical-align: top;\n",
       "    }\n",
       "\n",
       "    .dataframe thead th {\n",
       "        text-align: right;\n",
       "    }\n",
       "</style>\n",
       "<table border=\"1\" class=\"dataframe\">\n",
       "  <thead>\n",
       "    <tr style=\"text-align: right;\">\n",
       "      <th></th>\n",
       "      <th>person_id</th>\n",
       "      <th>id</th>\n",
       "      <th>name</th>\n",
       "      <th>character</th>\n",
       "      <th>role</th>\n",
       "      <th>title</th>\n",
       "      <th>type</th>\n",
       "      <th>description</th>\n",
       "      <th>release_year</th>\n",
       "      <th>age_certification</th>\n",
       "      <th>runtime</th>\n",
       "      <th>genres</th>\n",
       "      <th>production_countries</th>\n",
       "      <th>seasons</th>\n",
       "      <th>imdb_id</th>\n",
       "      <th>imdb_score</th>\n",
       "      <th>imdb_votes</th>\n",
       "      <th>tmdb_popularity</th>\n",
       "      <th>tmdb_score</th>\n",
       "    </tr>\n",
       "  </thead>\n",
       "  <tbody>\n",
       "    <tr>\n",
       "      <th>0</th>\n",
       "      <td>3748</td>\n",
       "      <td>tm84618</td>\n",
       "      <td>Robert De Niro</td>\n",
       "      <td>Travis Bickle</td>\n",
       "      <td>ACTOR</td>\n",
       "      <td>Taxi Driver</td>\n",
       "      <td>MOVIE</td>\n",
       "      <td>A mentally unstable Vietnam War veteran works ...</td>\n",
       "      <td>1976</td>\n",
       "      <td>R</td>\n",
       "      <td>114</td>\n",
       "      <td>['drama', 'crime']</td>\n",
       "      <td>['US']</td>\n",
       "      <td>NaN</td>\n",
       "      <td>tt0075314</td>\n",
       "      <td>8.2</td>\n",
       "      <td>808582.0</td>\n",
       "      <td>40.965</td>\n",
       "      <td>8.179</td>\n",
       "    </tr>\n",
       "    <tr>\n",
       "      <th>1</th>\n",
       "      <td>14658</td>\n",
       "      <td>tm84618</td>\n",
       "      <td>Jodie Foster</td>\n",
       "      <td>Iris Steensma</td>\n",
       "      <td>ACTOR</td>\n",
       "      <td>Taxi Driver</td>\n",
       "      <td>MOVIE</td>\n",
       "      <td>A mentally unstable Vietnam War veteran works ...</td>\n",
       "      <td>1976</td>\n",
       "      <td>R</td>\n",
       "      <td>114</td>\n",
       "      <td>['drama', 'crime']</td>\n",
       "      <td>['US']</td>\n",
       "      <td>NaN</td>\n",
       "      <td>tt0075314</td>\n",
       "      <td>8.2</td>\n",
       "      <td>808582.0</td>\n",
       "      <td>40.965</td>\n",
       "      <td>8.179</td>\n",
       "    </tr>\n",
       "    <tr>\n",
       "      <th>2</th>\n",
       "      <td>7064</td>\n",
       "      <td>tm84618</td>\n",
       "      <td>Albert Brooks</td>\n",
       "      <td>Tom</td>\n",
       "      <td>ACTOR</td>\n",
       "      <td>Taxi Driver</td>\n",
       "      <td>MOVIE</td>\n",
       "      <td>A mentally unstable Vietnam War veteran works ...</td>\n",
       "      <td>1976</td>\n",
       "      <td>R</td>\n",
       "      <td>114</td>\n",
       "      <td>['drama', 'crime']</td>\n",
       "      <td>['US']</td>\n",
       "      <td>NaN</td>\n",
       "      <td>tt0075314</td>\n",
       "      <td>8.2</td>\n",
       "      <td>808582.0</td>\n",
       "      <td>40.965</td>\n",
       "      <td>8.179</td>\n",
       "    </tr>\n",
       "    <tr>\n",
       "      <th>3</th>\n",
       "      <td>3739</td>\n",
       "      <td>tm84618</td>\n",
       "      <td>Harvey Keitel</td>\n",
       "      <td>Matthew 'Sport' Higgins</td>\n",
       "      <td>ACTOR</td>\n",
       "      <td>Taxi Driver</td>\n",
       "      <td>MOVIE</td>\n",
       "      <td>A mentally unstable Vietnam War veteran works ...</td>\n",
       "      <td>1976</td>\n",
       "      <td>R</td>\n",
       "      <td>114</td>\n",
       "      <td>['drama', 'crime']</td>\n",
       "      <td>['US']</td>\n",
       "      <td>NaN</td>\n",
       "      <td>tt0075314</td>\n",
       "      <td>8.2</td>\n",
       "      <td>808582.0</td>\n",
       "      <td>40.965</td>\n",
       "      <td>8.179</td>\n",
       "    </tr>\n",
       "    <tr>\n",
       "      <th>4</th>\n",
       "      <td>48933</td>\n",
       "      <td>tm84618</td>\n",
       "      <td>Cybill Shepherd</td>\n",
       "      <td>Betsy</td>\n",
       "      <td>ACTOR</td>\n",
       "      <td>Taxi Driver</td>\n",
       "      <td>MOVIE</td>\n",
       "      <td>A mentally unstable Vietnam War veteran works ...</td>\n",
       "      <td>1976</td>\n",
       "      <td>R</td>\n",
       "      <td>114</td>\n",
       "      <td>['drama', 'crime']</td>\n",
       "      <td>['US']</td>\n",
       "      <td>NaN</td>\n",
       "      <td>tt0075314</td>\n",
       "      <td>8.2</td>\n",
       "      <td>808582.0</td>\n",
       "      <td>40.965</td>\n",
       "      <td>8.179</td>\n",
       "    </tr>\n",
       "  </tbody>\n",
       "</table>\n",
       "</div>"
      ],
      "text/plain": [
       "   person_id       id             name                character   role  \\\n",
       "0       3748  tm84618   Robert De Niro            Travis Bickle  ACTOR   \n",
       "1      14658  tm84618     Jodie Foster            Iris Steensma  ACTOR   \n",
       "2       7064  tm84618    Albert Brooks                      Tom  ACTOR   \n",
       "3       3739  tm84618    Harvey Keitel  Matthew 'Sport' Higgins  ACTOR   \n",
       "4      48933  tm84618  Cybill Shepherd                    Betsy  ACTOR   \n",
       "\n",
       "         title   type                                        description  \\\n",
       "0  Taxi Driver  MOVIE  A mentally unstable Vietnam War veteran works ...   \n",
       "1  Taxi Driver  MOVIE  A mentally unstable Vietnam War veteran works ...   \n",
       "2  Taxi Driver  MOVIE  A mentally unstable Vietnam War veteran works ...   \n",
       "3  Taxi Driver  MOVIE  A mentally unstable Vietnam War veteran works ...   \n",
       "4  Taxi Driver  MOVIE  A mentally unstable Vietnam War veteran works ...   \n",
       "\n",
       "   release_year age_certification  runtime              genres  \\\n",
       "0          1976                 R      114  ['drama', 'crime']   \n",
       "1          1976                 R      114  ['drama', 'crime']   \n",
       "2          1976                 R      114  ['drama', 'crime']   \n",
       "3          1976                 R      114  ['drama', 'crime']   \n",
       "4          1976                 R      114  ['drama', 'crime']   \n",
       "\n",
       "  production_countries  seasons    imdb_id  imdb_score  imdb_votes  \\\n",
       "0               ['US']      NaN  tt0075314         8.2    808582.0   \n",
       "1               ['US']      NaN  tt0075314         8.2    808582.0   \n",
       "2               ['US']      NaN  tt0075314         8.2    808582.0   \n",
       "3               ['US']      NaN  tt0075314         8.2    808582.0   \n",
       "4               ['US']      NaN  tt0075314         8.2    808582.0   \n",
       "\n",
       "   tmdb_popularity  tmdb_score  \n",
       "0           40.965       8.179  \n",
       "1           40.965       8.179  \n",
       "2           40.965       8.179  \n",
       "3           40.965       8.179  \n",
       "4           40.965       8.179  "
      ]
     },
     "execution_count": 8,
     "metadata": {},
     "output_type": "execute_result"
    }
   ],
   "source": [
    "df = pd.merge(credits,titles,on='id',how='left')\n",
    "df.head()"
   ]
  },
  {
   "cell_type": "code",
   "execution_count": 9,
   "id": "f581eef4",
   "metadata": {
    "execution": {
     "iopub.execute_input": "2022-08-03T08:15:38.755637Z",
     "iopub.status.busy": "2022-08-03T08:15:38.754952Z",
     "iopub.status.idle": "2022-08-03T08:15:38.816061Z",
     "shell.execute_reply": "2022-08-03T08:15:38.814920Z"
    },
    "papermill": {
     "duration": 0.074796,
     "end_time": "2022-08-03T08:15:38.818362",
     "exception": false,
     "start_time": "2022-08-03T08:15:38.743566",
     "status": "completed"
    },
    "tags": []
   },
   "outputs": [
    {
     "data": {
      "text/html": [
       "<div>\n",
       "<style scoped>\n",
       "    .dataframe tbody tr th:only-of-type {\n",
       "        vertical-align: middle;\n",
       "    }\n",
       "\n",
       "    .dataframe tbody tr th {\n",
       "        vertical-align: top;\n",
       "    }\n",
       "\n",
       "    .dataframe thead th {\n",
       "        text-align: right;\n",
       "    }\n",
       "</style>\n",
       "<table border=\"1\" class=\"dataframe\">\n",
       "  <thead>\n",
       "    <tr style=\"text-align: right;\">\n",
       "      <th></th>\n",
       "      <th>person_id</th>\n",
       "      <th>name</th>\n",
       "      <th>character</th>\n",
       "      <th>title</th>\n",
       "      <th>description</th>\n",
       "      <th>genres</th>\n",
       "      <th>imdb_score</th>\n",
       "      <th>imdb_votes</th>\n",
       "    </tr>\n",
       "  </thead>\n",
       "  <tbody>\n",
       "    <tr>\n",
       "      <th>0</th>\n",
       "      <td>3748</td>\n",
       "      <td>Robert De Niro</td>\n",
       "      <td>Travis Bickle</td>\n",
       "      <td>Taxi Driver</td>\n",
       "      <td>A mentally unstable Vietnam War veteran works ...</td>\n",
       "      <td>['drama', 'crime']</td>\n",
       "      <td>8.2</td>\n",
       "      <td>808582.0</td>\n",
       "    </tr>\n",
       "    <tr>\n",
       "      <th>1</th>\n",
       "      <td>14658</td>\n",
       "      <td>Jodie Foster</td>\n",
       "      <td>Iris Steensma</td>\n",
       "      <td>Taxi Driver</td>\n",
       "      <td>A mentally unstable Vietnam War veteran works ...</td>\n",
       "      <td>['drama', 'crime']</td>\n",
       "      <td>8.2</td>\n",
       "      <td>808582.0</td>\n",
       "    </tr>\n",
       "    <tr>\n",
       "      <th>2</th>\n",
       "      <td>7064</td>\n",
       "      <td>Albert Brooks</td>\n",
       "      <td>Tom</td>\n",
       "      <td>Taxi Driver</td>\n",
       "      <td>A mentally unstable Vietnam War veteran works ...</td>\n",
       "      <td>['drama', 'crime']</td>\n",
       "      <td>8.2</td>\n",
       "      <td>808582.0</td>\n",
       "    </tr>\n",
       "    <tr>\n",
       "      <th>3</th>\n",
       "      <td>3739</td>\n",
       "      <td>Harvey Keitel</td>\n",
       "      <td>Matthew 'Sport' Higgins</td>\n",
       "      <td>Taxi Driver</td>\n",
       "      <td>A mentally unstable Vietnam War veteran works ...</td>\n",
       "      <td>['drama', 'crime']</td>\n",
       "      <td>8.2</td>\n",
       "      <td>808582.0</td>\n",
       "    </tr>\n",
       "    <tr>\n",
       "      <th>4</th>\n",
       "      <td>48933</td>\n",
       "      <td>Cybill Shepherd</td>\n",
       "      <td>Betsy</td>\n",
       "      <td>Taxi Driver</td>\n",
       "      <td>A mentally unstable Vietnam War veteran works ...</td>\n",
       "      <td>['drama', 'crime']</td>\n",
       "      <td>8.2</td>\n",
       "      <td>808582.0</td>\n",
       "    </tr>\n",
       "  </tbody>\n",
       "</table>\n",
       "</div>"
      ],
      "text/plain": [
       "   person_id             name                character        title  \\\n",
       "0       3748   Robert De Niro            Travis Bickle  Taxi Driver   \n",
       "1      14658     Jodie Foster            Iris Steensma  Taxi Driver   \n",
       "2       7064    Albert Brooks                      Tom  Taxi Driver   \n",
       "3       3739    Harvey Keitel  Matthew 'Sport' Higgins  Taxi Driver   \n",
       "4      48933  Cybill Shepherd                    Betsy  Taxi Driver   \n",
       "\n",
       "                                         description              genres  \\\n",
       "0  A mentally unstable Vietnam War veteran works ...  ['drama', 'crime']   \n",
       "1  A mentally unstable Vietnam War veteran works ...  ['drama', 'crime']   \n",
       "2  A mentally unstable Vietnam War veteran works ...  ['drama', 'crime']   \n",
       "3  A mentally unstable Vietnam War veteran works ...  ['drama', 'crime']   \n",
       "4  A mentally unstable Vietnam War veteran works ...  ['drama', 'crime']   \n",
       "\n",
       "   imdb_score  imdb_votes  \n",
       "0         8.2    808582.0  \n",
       "1         8.2    808582.0  \n",
       "2         8.2    808582.0  \n",
       "3         8.2    808582.0  \n",
       "4         8.2    808582.0  "
      ]
     },
     "execution_count": 9,
     "metadata": {},
     "output_type": "execute_result"
    }
   ],
   "source": [
    "required_columns = ['person_id','name','character','title','description','genres','imdb_score','imdb_votes']\n",
    "df1 = df[required_columns]\n",
    "df1.head()"
   ]
  },
  {
   "cell_type": "markdown",
   "id": "1e7a8fc9",
   "metadata": {
    "papermill": {
     "duration": 0.010132,
     "end_time": "2022-08-03T08:15:38.839492",
     "exception": false,
     "start_time": "2022-08-03T08:15:38.829360",
     "status": "completed"
    },
    "tags": []
   },
   "source": [
    "# Search Based Recommendation System"
   ]
  },
  {
   "cell_type": "code",
   "execution_count": 10,
   "id": "a6d18545",
   "metadata": {
    "execution": {
     "iopub.execute_input": "2022-08-03T08:15:38.862270Z",
     "iopub.status.busy": "2022-08-03T08:15:38.861849Z",
     "iopub.status.idle": "2022-08-03T08:15:38.868596Z",
     "shell.execute_reply": "2022-08-03T08:15:38.867636Z"
    },
    "papermill": {
     "duration": 0.020595,
     "end_time": "2022-08-03T08:15:38.870647",
     "exception": false,
     "start_time": "2022-08-03T08:15:38.850052",
     "status": "completed"
    },
    "tags": []
   },
   "outputs": [
    {
     "data": {
      "text/plain": [
       "(5850, 15)"
      ]
     },
     "execution_count": 10,
     "metadata": {},
     "output_type": "execute_result"
    }
   ],
   "source": [
    "titles.shape"
   ]
  },
  {
   "cell_type": "code",
   "execution_count": 11,
   "id": "e069fee6",
   "metadata": {
    "execution": {
     "iopub.execute_input": "2022-08-03T08:15:38.894617Z",
     "iopub.status.busy": "2022-08-03T08:15:38.894188Z",
     "iopub.status.idle": "2022-08-03T08:15:38.905552Z",
     "shell.execute_reply": "2022-08-03T08:15:38.904447Z"
    },
    "papermill": {
     "duration": 0.026871,
     "end_time": "2022-08-03T08:15:38.907941",
     "exception": false,
     "start_time": "2022-08-03T08:15:38.881070",
     "status": "completed"
    },
    "tags": []
   },
   "outputs": [],
   "source": [
    "titles.imdb_votes.fillna(0, inplace=True)\n",
    "titles.description.fillna(' ', inplace=True)\n",
    "titles.fillna(0, inplace=True)"
   ]
  },
  {
   "cell_type": "code",
   "execution_count": 12,
   "id": "aab17207",
   "metadata": {
    "execution": {
     "iopub.execute_input": "2022-08-03T08:15:38.931193Z",
     "iopub.status.busy": "2022-08-03T08:15:38.930787Z",
     "iopub.status.idle": "2022-08-03T08:15:39.809738Z",
     "shell.execute_reply": "2022-08-03T08:15:39.808475Z"
    },
    "papermill": {
     "duration": 0.893647,
     "end_time": "2022-08-03T08:15:39.812658",
     "exception": false,
     "start_time": "2022-08-03T08:15:38.919011",
     "status": "completed"
    },
    "tags": []
   },
   "outputs": [],
   "source": [
    "tfidf = TfidfVectorizer(stop_words='english')\n",
    "matrix = tfidf.fit_transform(titles['description'])\n",
    "cosine_sim = cosine_similarity(matrix, matrix)"
   ]
  },
  {
   "cell_type": "code",
   "execution_count": 13,
   "id": "ce3ada58",
   "metadata": {
    "execution": {
     "iopub.execute_input": "2022-08-03T08:15:39.835718Z",
     "iopub.status.busy": "2022-08-03T08:15:39.835298Z",
     "iopub.status.idle": "2022-08-03T08:15:39.841809Z",
     "shell.execute_reply": "2022-08-03T08:15:39.840746Z"
    },
    "papermill": {
     "duration": 0.020673,
     "end_time": "2022-08-03T08:15:39.844190",
     "exception": false,
     "start_time": "2022-08-03T08:15:39.823517",
     "status": "completed"
    },
    "tags": []
   },
   "outputs": [
    {
     "data": {
      "text/plain": [
       "(5850, 5850)"
      ]
     },
     "execution_count": 13,
     "metadata": {},
     "output_type": "execute_result"
    }
   ],
   "source": [
    "cosine_sim.shape"
   ]
  },
  {
   "cell_type": "code",
   "execution_count": 14,
   "id": "c2bd1ffc",
   "metadata": {
    "execution": {
     "iopub.execute_input": "2022-08-03T08:15:39.868108Z",
     "iopub.status.busy": "2022-08-03T08:15:39.867696Z",
     "iopub.status.idle": "2022-08-03T08:15:39.874742Z",
     "shell.execute_reply": "2022-08-03T08:15:39.873585Z"
    },
    "papermill": {
     "duration": 0.021507,
     "end_time": "2022-08-03T08:15:39.877017",
     "exception": false,
     "start_time": "2022-08-03T08:15:39.855510",
     "status": "completed"
    },
    "tags": []
   },
   "outputs": [],
   "source": [
    "def search(string, cosine_sim = cosine_sim):\n",
    "\n",
    "    index = titles[titles['title'].str.lower()==string.lower()].index\n",
    "    all_movies = []\n",
    "\n",
    "    for i in index:\n",
    "        scores = list(enumerate(cosine_sim[i]))\n",
    "        scores = sorted(scores,key=lambda x: x[1], reverse=True)[0:11]\n",
    "        movies = [titles.iloc[n]['title'] for n,j in scores]\n",
    "        all_movies.extend(movies)\n",
    "    return all_movies"
   ]
  },
  {
   "cell_type": "code",
   "execution_count": 15,
   "id": "ff4172c6",
   "metadata": {
    "execution": {
     "iopub.execute_input": "2022-08-03T08:15:39.900589Z",
     "iopub.status.busy": "2022-08-03T08:15:39.900175Z",
     "iopub.status.idle": "2022-08-03T08:15:39.919751Z",
     "shell.execute_reply": "2022-08-03T08:15:39.918623Z"
    },
    "papermill": {
     "duration": 0.034446,
     "end_time": "2022-08-03T08:15:39.922295",
     "exception": false,
     "start_time": "2022-08-03T08:15:39.887849",
     "status": "completed"
    },
    "tags": []
   },
   "outputs": [
    {
     "data": {
      "text/plain": [
       "['Avatar: The Last Airbender',\n",
       " 'The Legend of Korra',\n",
       " 'Blood and Bone',\n",
       " 'The Dragon Prince',\n",
       " 'Vivo',\n",
       " 'Five Came Back',\n",
       " 'Shadow and Bone',\n",
       " 'Violet Evergarden: The Movie',\n",
       " 'The Worthy',\n",
       " 'The Giver',\n",
       " 'The Liberator']"
      ]
     },
     "execution_count": 15,
     "metadata": {},
     "output_type": "execute_result"
    }
   ],
   "source": [
    "search('Avatar: The Last Airbender')"
   ]
  },
  {
   "cell_type": "markdown",
   "id": "6a4129a2",
   "metadata": {
    "papermill": {
     "duration": 0.01057,
     "end_time": "2022-08-03T08:15:39.943934",
     "exception": false,
     "start_time": "2022-08-03T08:15:39.933364",
     "status": "completed"
    },
    "tags": []
   },
   "source": [
    "Here we go! Avatar the last air bender is an animated series. The Legend Of Korra is a sequel to the show and Violet Evergarden and The Dragon Prince are also animated movies. Let's try some more."
   ]
  },
  {
   "cell_type": "code",
   "execution_count": 16,
   "id": "73b63202",
   "metadata": {
    "execution": {
     "iopub.execute_input": "2022-08-03T08:15:39.967574Z",
     "iopub.status.busy": "2022-08-03T08:15:39.967169Z",
     "iopub.status.idle": "2022-08-03T08:15:39.982650Z",
     "shell.execute_reply": "2022-08-03T08:15:39.981910Z"
    },
    "papermill": {
     "duration": 0.029936,
     "end_time": "2022-08-03T08:15:39.984766",
     "exception": false,
     "start_time": "2022-08-03T08:15:39.954830",
     "status": "completed"
    },
    "tags": []
   },
   "outputs": [
    {
     "data": {
      "text/plain": [
       "[\"Monty Python's Flying Circus\",\n",
       " 'Standup and Away! with Brian Regan',\n",
       " 'Monty Python Conquers America',\n",
       " 'Parrot Sketch Not Included: Twenty Years of Monty Python',\n",
       " 'I Think You Should Leave with Tim Robinson',\n",
       " 'The Who Was? Show',\n",
       " 'Shor in the City',\n",
       " 'Plastic Cup Boyz: Laughing My Mask Off!',\n",
       " 'Hot Date',\n",
       " 'Horrid Henry',\n",
       " 'All That']"
      ]
     },
     "execution_count": 16,
     "metadata": {},
     "output_type": "execute_result"
    }
   ],
   "source": [
    "search(\"Monty Python's Flying Circus\")"
   ]
  },
  {
   "cell_type": "code",
   "execution_count": 17,
   "id": "1c20d3a8",
   "metadata": {
    "execution": {
     "iopub.execute_input": "2022-08-03T08:15:40.008159Z",
     "iopub.status.busy": "2022-08-03T08:15:40.007733Z",
     "iopub.status.idle": "2022-08-03T08:15:40.022773Z",
     "shell.execute_reply": "2022-08-03T08:15:40.021946Z"
    },
    "papermill": {
     "duration": 0.029231,
     "end_time": "2022-08-03T08:15:40.024918",
     "exception": false,
     "start_time": "2022-08-03T08:15:39.995687",
     "status": "completed"
    },
    "tags": []
   },
   "outputs": [
    {
     "data": {
      "text/plain": [
       "['Violet Evergarden',\n",
       " 'Violet Evergarden: Eternity and the Auto Memories Doll',\n",
       " 'Violet Evergarden: The Movie',\n",
       " 'The Doll',\n",
       " 'Nappily Ever After',\n",
       " 'The Boy',\n",
       " 'Brahms: The Boy II',\n",
       " 'Dirty Lines',\n",
       " 'Family Blood',\n",
       " 'Robin Robin',\n",
       " 'Polly Pocket']"
      ]
     },
     "execution_count": 17,
     "metadata": {},
     "output_type": "execute_result"
    }
   ],
   "source": [
    "search('Violet Evergarden')"
   ]
  },
  {
   "cell_type": "markdown",
   "id": "ed4ed0e0",
   "metadata": {
    "papermill": {
     "duration": 0.010679,
     "end_time": "2022-08-03T08:15:40.047013",
     "exception": false,
     "start_time": "2022-08-03T08:15:40.036334",
     "status": "completed"
    },
    "tags": []
   },
   "source": [
    "These are some of the recommendations. If I want, I can set a threshold to imdb_score and votings to show only the shows that have best score."
   ]
  },
  {
   "cell_type": "markdown",
   "id": "6c2c178a",
   "metadata": {
    "papermill": {
     "duration": 0.010913,
     "end_time": "2022-08-03T08:15:40.068781",
     "exception": false,
     "start_time": "2022-08-03T08:15:40.057868",
     "status": "completed"
    },
    "tags": []
   },
   "source": [
    "# Character, Actor and Genre based Recommendation System"
   ]
  },
  {
   "cell_type": "code",
   "execution_count": 18,
   "id": "201c97d5",
   "metadata": {
    "execution": {
     "iopub.execute_input": "2022-08-03T08:15:40.092795Z",
     "iopub.status.busy": "2022-08-03T08:15:40.092430Z",
     "iopub.status.idle": "2022-08-03T08:15:40.180599Z",
     "shell.execute_reply": "2022-08-03T08:15:40.179360Z"
    },
    "papermill": {
     "duration": 0.103358,
     "end_time": "2022-08-03T08:15:40.183598",
     "exception": false,
     "start_time": "2022-08-03T08:15:40.080240",
     "status": "completed"
    },
    "tags": []
   },
   "outputs": [],
   "source": [
    "df1 = df1.drop_duplicates()"
   ]
  },
  {
   "cell_type": "code",
   "execution_count": 19,
   "id": "0add4016",
   "metadata": {
    "execution": {
     "iopub.execute_input": "2022-08-03T08:15:40.207500Z",
     "iopub.status.busy": "2022-08-03T08:15:40.206686Z",
     "iopub.status.idle": "2022-08-03T08:16:14.183854Z",
     "shell.execute_reply": "2022-08-03T08:16:14.182705Z"
    },
    "papermill": {
     "duration": 33.992566,
     "end_time": "2022-08-03T08:16:14.187142",
     "exception": false,
     "start_time": "2022-08-03T08:15:40.194576",
     "status": "completed"
    },
    "tags": []
   },
   "outputs": [],
   "source": [
    "titles['crew'] = titles.title\n",
    "titles['crew'] = titles['crew'].transform(lambda x: ' '.join(df1[df1['title']==x]['name'].to_list()))"
   ]
  },
  {
   "cell_type": "code",
   "execution_count": 20,
   "id": "bc098b74",
   "metadata": {
    "execution": {
     "iopub.execute_input": "2022-08-03T08:16:14.214075Z",
     "iopub.status.busy": "2022-08-03T08:16:14.213181Z",
     "iopub.status.idle": "2022-08-03T08:16:14.227131Z",
     "shell.execute_reply": "2022-08-03T08:16:14.225993Z"
    },
    "papermill": {
     "duration": 0.029148,
     "end_time": "2022-08-03T08:16:14.229646",
     "exception": false,
     "start_time": "2022-08-03T08:16:14.200498",
     "status": "completed"
    },
    "tags": []
   },
   "outputs": [
    {
     "data": {
      "text/plain": [
       "'Violet Evergarden (voice) Gilbert Bougainvillea (voice) Cattleya Baudelaire (voice) Iris Cannary (voice) Benedict Blue (voice) Erica Brown (voice) Claudia Hodgins (voice)'"
      ]
     },
     "execution_count": 20,
     "metadata": {},
     "output_type": "execute_result"
    }
   ],
   "source": [
    "' '.join(df1[df1['title']=='Violet Evergarden']['character'].to_list())"
   ]
  },
  {
   "cell_type": "code",
   "execution_count": 21,
   "id": "49bbde43",
   "metadata": {
    "execution": {
     "iopub.execute_input": "2022-08-03T08:16:14.256759Z",
     "iopub.status.busy": "2022-08-03T08:16:14.255702Z",
     "iopub.status.idle": "2022-08-03T08:16:47.535824Z",
     "shell.execute_reply": "2022-08-03T08:16:47.534752Z"
    },
    "papermill": {
     "duration": 33.297164,
     "end_time": "2022-08-03T08:16:47.538578",
     "exception": false,
     "start_time": "2022-08-03T08:16:14.241414",
     "status": "completed"
    },
    "tags": []
   },
   "outputs": [],
   "source": [
    "titles['characters'] = titles.title\n",
    "titles['characters'] = titles['characters'].transform(lambda x: df1[df1['title']==x]['character'].to_list())\n",
    "titles['characters'] = titles['characters'].transform(lambda x: ' '.join(str(i) for i in x))"
   ]
  },
  {
   "cell_type": "code",
   "execution_count": 22,
   "id": "0f7d1064",
   "metadata": {
    "execution": {
     "iopub.execute_input": "2022-08-03T08:16:47.563636Z",
     "iopub.status.busy": "2022-08-03T08:16:47.562860Z",
     "iopub.status.idle": "2022-08-03T08:16:47.628775Z",
     "shell.execute_reply": "2022-08-03T08:16:47.627563Z"
    },
    "papermill": {
     "duration": 0.081314,
     "end_time": "2022-08-03T08:16:47.631463",
     "exception": false,
     "start_time": "2022-08-03T08:16:47.550149",
     "status": "completed"
    },
    "tags": []
   },
   "outputs": [],
   "source": [
    "titles['genres'] = titles['genres'].transform(lambda x: ' '.join(ast.literal_eval(x)))"
   ]
  },
  {
   "cell_type": "code",
   "execution_count": 23,
   "id": "d38c52c1",
   "metadata": {
    "execution": {
     "iopub.execute_input": "2022-08-03T08:16:47.655707Z",
     "iopub.status.busy": "2022-08-03T08:16:47.655276Z",
     "iopub.status.idle": "2022-08-03T08:16:50.084637Z",
     "shell.execute_reply": "2022-08-03T08:16:50.083646Z"
    },
    "papermill": {
     "duration": 2.444676,
     "end_time": "2022-08-03T08:16:50.087414",
     "exception": false,
     "start_time": "2022-08-03T08:16:47.642738",
     "status": "completed"
    },
    "tags": []
   },
   "outputs": [],
   "source": [
    "titles['key_words'] = titles.index\n",
    "titles['key_words'] = titles['key_words'].transform(lambda x:\n",
    "                                                            str(titles.iloc[x]['crew']) +\n",
    "                                                            str(titles.iloc[x]['characters']) +\n",
    "                                                            str(titles.iloc[x]['genres']))"
   ]
  },
  {
   "cell_type": "code",
   "execution_count": 24,
   "id": "8fe005e9",
   "metadata": {
    "execution": {
     "iopub.execute_input": "2022-08-03T08:16:50.112221Z",
     "iopub.status.busy": "2022-08-03T08:16:50.111436Z",
     "iopub.status.idle": "2022-08-03T08:16:50.126015Z",
     "shell.execute_reply": "2022-08-03T08:16:50.124836Z"
    },
    "papermill": {
     "duration": 0.02965,
     "end_time": "2022-08-03T08:16:50.128532",
     "exception": false,
     "start_time": "2022-08-03T08:16:50.098882",
     "status": "completed"
    },
    "tags": []
   },
   "outputs": [
    {
     "data": {
      "text/html": [
       "<div>\n",
       "<style scoped>\n",
       "    .dataframe tbody tr th:only-of-type {\n",
       "        vertical-align: middle;\n",
       "    }\n",
       "\n",
       "    .dataframe tbody tr th {\n",
       "        vertical-align: top;\n",
       "    }\n",
       "\n",
       "    .dataframe thead th {\n",
       "        text-align: right;\n",
       "    }\n",
       "</style>\n",
       "<table border=\"1\" class=\"dataframe\">\n",
       "  <thead>\n",
       "    <tr style=\"text-align: right;\">\n",
       "      <th></th>\n",
       "      <th>title</th>\n",
       "      <th>key_words</th>\n",
       "    </tr>\n",
       "  </thead>\n",
       "  <tbody>\n",
       "    <tr>\n",
       "      <th>0</th>\n",
       "      <td>Five Came Back: The Reference Films</td>\n",
       "      <td>documentation</td>\n",
       "    </tr>\n",
       "    <tr>\n",
       "      <th>1</th>\n",
       "      <td>Taxi Driver</td>\n",
       "      <td>Robert De Niro Jodie Foster Albert Brooks Harv...</td>\n",
       "    </tr>\n",
       "    <tr>\n",
       "      <th>2</th>\n",
       "      <td>Deliverance</td>\n",
       "      <td>Jon Voight Burt Reynolds Ned Beatty Ronny Cox ...</td>\n",
       "    </tr>\n",
       "    <tr>\n",
       "      <th>3</th>\n",
       "      <td>Monty Python and the Holy Grail</td>\n",
       "      <td>Graham Chapman John Cleese Eric Idle Terry Gil...</td>\n",
       "    </tr>\n",
       "    <tr>\n",
       "      <th>4</th>\n",
       "      <td>The Dirty Dozen</td>\n",
       "      <td>Lee Marvin Ernest Borgnine Charles Bronson Jim...</td>\n",
       "    </tr>\n",
       "  </tbody>\n",
       "</table>\n",
       "</div>"
      ],
      "text/plain": [
       "                                 title  \\\n",
       "0  Five Came Back: The Reference Films   \n",
       "1                          Taxi Driver   \n",
       "2                          Deliverance   \n",
       "3      Monty Python and the Holy Grail   \n",
       "4                      The Dirty Dozen   \n",
       "\n",
       "                                           key_words  \n",
       "0                                      documentation  \n",
       "1  Robert De Niro Jodie Foster Albert Brooks Harv...  \n",
       "2  Jon Voight Burt Reynolds Ned Beatty Ronny Cox ...  \n",
       "3  Graham Chapman John Cleese Eric Idle Terry Gil...  \n",
       "4  Lee Marvin Ernest Borgnine Charles Bronson Jim...  "
      ]
     },
     "execution_count": 24,
     "metadata": {},
     "output_type": "execute_result"
    }
   ],
   "source": [
    "df2 = titles[['title','key_words']]\n",
    "df2.head()"
   ]
  },
  {
   "cell_type": "code",
   "execution_count": 25,
   "id": "aa786abf",
   "metadata": {
    "execution": {
     "iopub.execute_input": "2022-08-03T08:16:50.153353Z",
     "iopub.status.busy": "2022-08-03T08:16:50.152701Z",
     "iopub.status.idle": "2022-08-03T08:16:50.725384Z",
     "shell.execute_reply": "2022-08-03T08:16:50.724433Z"
    },
    "papermill": {
     "duration": 0.588151,
     "end_time": "2022-08-03T08:16:50.728087",
     "exception": false,
     "start_time": "2022-08-03T08:16:50.139936",
     "status": "completed"
    },
    "tags": []
   },
   "outputs": [],
   "source": [
    "count = CountVectorizer(stop_words='english')\n",
    "count_matrix = count.fit_transform(titles['key_words'])"
   ]
  },
  {
   "cell_type": "code",
   "execution_count": 26,
   "id": "f0ccd094",
   "metadata": {
    "execution": {
     "iopub.execute_input": "2022-08-03T08:16:50.752957Z",
     "iopub.status.busy": "2022-08-03T08:16:50.752559Z",
     "iopub.status.idle": "2022-08-03T08:16:51.716167Z",
     "shell.execute_reply": "2022-08-03T08:16:51.713991Z"
    },
    "papermill": {
     "duration": 0.982563,
     "end_time": "2022-08-03T08:16:51.722068",
     "exception": false,
     "start_time": "2022-08-03T08:16:50.739505",
     "status": "completed"
    },
    "tags": []
   },
   "outputs": [],
   "source": [
    "cosine_distance = cosine_similarity(count_matrix, count_matrix)"
   ]
  },
  {
   "cell_type": "code",
   "execution_count": 27,
   "id": "1d476e90",
   "metadata": {
    "execution": {
     "iopub.execute_input": "2022-08-03T08:16:51.749756Z",
     "iopub.status.busy": "2022-08-03T08:16:51.749285Z",
     "iopub.status.idle": "2022-08-03T08:16:51.768298Z",
     "shell.execute_reply": "2022-08-03T08:16:51.767203Z"
    },
    "papermill": {
     "duration": 0.03424,
     "end_time": "2022-08-03T08:16:51.770447",
     "exception": false,
     "start_time": "2022-08-03T08:16:51.736207",
     "status": "completed"
    },
    "tags": []
   },
   "outputs": [
    {
     "data": {
      "text/plain": [
       "['Avatar: The Last Airbender',\n",
       " 'Cloudy with a Chance of Meatballs',\n",
       " 'Cloudy with a Chance of Meatballs',\n",
       " 'Words Bubble Up Like Soda Pop',\n",
       " 'She-Ra and the Princesses of Power',\n",
       " 'The Legend of Korra',\n",
       " 'Drifting Dragons',\n",
       " 'Tiger & Bunny: The Beginning',\n",
       " 'Watership Down',\n",
       " 'Hey Arnold! The Jungle Movie',\n",
       " 'Dorohedoro']"
      ]
     },
     "execution_count": 27,
     "metadata": {},
     "output_type": "execute_result"
    }
   ],
   "source": [
    "search('Avatar: The Last Airbender',cosine_sim=cosine_distance)"
   ]
  },
  {
   "cell_type": "markdown",
   "id": "6737b5d3",
   "metadata": {
    "papermill": {
     "duration": 0.011186,
     "end_time": "2022-08-03T08:16:51.793050",
     "exception": false,
     "start_time": "2022-08-03T08:16:51.781864",
     "status": "completed"
    },
    "tags": []
   },
   "source": [
    "Now, the recommendations are even more better than the previous ones. Almost all of the recommendations are animated movies. "
   ]
  },
  {
   "cell_type": "code",
   "execution_count": 28,
   "id": "6a0c4cea",
   "metadata": {
    "execution": {
     "iopub.execute_input": "2022-08-03T08:16:51.817645Z",
     "iopub.status.busy": "2022-08-03T08:16:51.817103Z",
     "iopub.status.idle": "2022-08-03T08:16:51.835741Z",
     "shell.execute_reply": "2022-08-03T08:16:51.834601Z"
    },
    "papermill": {
     "duration": 0.033387,
     "end_time": "2022-08-03T08:16:51.837961",
     "exception": false,
     "start_time": "2022-08-03T08:16:51.804574",
     "status": "completed"
    },
    "tags": []
   },
   "outputs": [
    {
     "data": {
      "text/plain": [
       "['Violet Evergarden',\n",
       " 'Violet Evergarden: The Movie',\n",
       " 'Violet Evergarden: Eternity and the Auto Memories Doll',\n",
       " 'Words Bubble Up Like Soda Pop',\n",
       " 'Cloudy with a Chance of Meatballs',\n",
       " 'Bubble',\n",
       " 'Cloudy with a Chance of Meatballs',\n",
       " 'Record of Ragnarok',\n",
       " 'Dorohedoro',\n",
       " 'She-Ra and the Princesses of Power',\n",
       " 'Mobile Suit Gundam Unicorn']"
      ]
     },
     "execution_count": 28,
     "metadata": {},
     "output_type": "execute_result"
    }
   ],
   "source": [
    "search('Violet Evergarden',cosine_sim=cosine_distance)"
   ]
  },
  {
   "cell_type": "code",
   "execution_count": 29,
   "id": "73c63be9",
   "metadata": {
    "execution": {
     "iopub.execute_input": "2022-08-03T08:16:51.863590Z",
     "iopub.status.busy": "2022-08-03T08:16:51.863134Z",
     "iopub.status.idle": "2022-08-03T08:16:51.887283Z",
     "shell.execute_reply": "2022-08-03T08:16:51.886227Z"
    },
    "papermill": {
     "duration": 0.039436,
     "end_time": "2022-08-03T08:16:51.889531",
     "exception": false,
     "start_time": "2022-08-03T08:16:51.850095",
     "status": "completed"
    },
    "tags": []
   },
   "outputs": [
    {
     "data": {
      "text/plain": [
       "['Taxi Driver',\n",
       " 'Taxi Driver',\n",
       " 'Dirty Harry',\n",
       " 'Contagion',\n",
       " 'The Imitation Game',\n",
       " 'War Dogs',\n",
       " 'Luck by Chance',\n",
       " 'White Christmas',\n",
       " 'Search Party',\n",
       " 'Cleaner',\n",
       " 'Ava',\n",
       " 'Taxi Driver',\n",
       " 'Taxi Driver',\n",
       " 'Dirty Harry',\n",
       " 'Contagion',\n",
       " 'The Imitation Game',\n",
       " 'War Dogs',\n",
       " 'Luck by Chance',\n",
       " 'White Christmas',\n",
       " 'Search Party',\n",
       " 'Cleaner',\n",
       " 'Ava']"
      ]
     },
     "execution_count": 29,
     "metadata": {},
     "output_type": "execute_result"
    }
   ],
   "source": [
    "search('Taxi Driver',cosine_sim=cosine_distance)"
   ]
  },
  {
   "cell_type": "markdown",
   "id": "9bd287b9",
   "metadata": {
    "papermill": {
     "duration": 0.011701,
     "end_time": "2022-08-03T08:16:51.913503",
     "exception": false,
     "start_time": "2022-08-03T08:16:51.901802",
     "status": "completed"
    },
    "tags": []
   },
   "source": [
    "In this case, there are 20 recommendations because there are two movies names Taxi Driver. "
   ]
  },
  {
   "cell_type": "code",
   "execution_count": 30,
   "id": "118e0fc5",
   "metadata": {
    "execution": {
     "iopub.execute_input": "2022-08-03T08:16:51.938591Z",
     "iopub.status.busy": "2022-08-03T08:16:51.938122Z",
     "iopub.status.idle": "2022-08-03T08:16:51.955894Z",
     "shell.execute_reply": "2022-08-03T08:16:51.954762Z"
    },
    "papermill": {
     "duration": 0.033103,
     "end_time": "2022-08-03T08:16:51.958294",
     "exception": false,
     "start_time": "2022-08-03T08:16:51.925191",
     "status": "completed"
    },
    "tags": []
   },
   "outputs": [
    {
     "data": {
      "text/plain": [
       "['The Legend of Korra',\n",
       " 'Cloudy with a Chance of Meatballs',\n",
       " 'Cloudy with a Chance of Meatballs',\n",
       " 'Words Bubble Up Like Soda Pop',\n",
       " 'Tiger & Bunny: The Beginning',\n",
       " 'Maya and the Three',\n",
       " 'She-Ra and the Princesses of Power',\n",
       " 'Dorohedoro',\n",
       " 'Hey Arnold! The Jungle Movie',\n",
       " 'Black Is Beltza',\n",
       " 'Avatar: The Last Airbender']"
      ]
     },
     "execution_count": 30,
     "metadata": {},
     "output_type": "execute_result"
    }
   ],
   "source": [
    "search('The Legend of Korra',cosine_sim=cosine_distance)"
   ]
  },
  {
   "cell_type": "code",
   "execution_count": 31,
   "id": "740fff60",
   "metadata": {
    "execution": {
     "iopub.execute_input": "2022-08-03T08:16:51.983698Z",
     "iopub.status.busy": "2022-08-03T08:16:51.983253Z",
     "iopub.status.idle": "2022-08-03T08:16:52.001072Z",
     "shell.execute_reply": "2022-08-03T08:16:52.000007Z"
    },
    "papermill": {
     "duration": 0.033511,
     "end_time": "2022-08-03T08:16:52.003544",
     "exception": false,
     "start_time": "2022-08-03T08:16:51.970033",
     "status": "completed"
    },
    "tags": []
   },
   "outputs": [
    {
     "data": {
      "text/plain": [
       "['3 Idiots',\n",
       " 'Ek Main Aur Ekk Tu',\n",
       " 'Mrs. Serial Killer',\n",
       " 'Rang De Basanti',\n",
       " 'Billu',\n",
       " 'Humpty Sharma Ki Dulhania',\n",
       " 'Do Dooni Chaar',\n",
       " 'Lean On Me',\n",
       " 'Damini',\n",
       " 'Chaman Bahar',\n",
       " 'PK']"
      ]
     },
     "execution_count": 31,
     "metadata": {},
     "output_type": "execute_result"
    }
   ],
   "source": [
    "search('3 Idiots',cosine_sim=cosine_distance)"
   ]
  },
  {
   "cell_type": "code",
   "execution_count": null,
   "id": "0abd3814",
   "metadata": {
    "papermill": {
     "duration": 0.01156,
     "end_time": "2022-08-03T08:16:52.027178",
     "exception": false,
     "start_time": "2022-08-03T08:16:52.015618",
     "status": "completed"
    },
    "tags": []
   },
   "outputs": [],
   "source": []
  }
 ],
 "metadata": {
  "kernelspec": {
   "display_name": "Python 3",
   "language": "python",
   "name": "python3"
  },
  "language_info": {
   "codemirror_mode": {
    "name": "ipython",
    "version": 3
   },
   "file_extension": ".py",
   "mimetype": "text/x-python",
   "name": "python",
   "nbconvert_exporter": "python",
   "pygments_lexer": "ipython3",
   "version": "3.7.12"
  },
  "papermill": {
   "default_parameters": {},
   "duration": 85.976041,
   "end_time": "2022-08-03T08:16:52.964699",
   "environment_variables": {},
   "exception": null,
   "input_path": "__notebook__.ipynb",
   "output_path": "__notebook__.ipynb",
   "parameters": {},
   "start_time": "2022-08-03T08:15:26.988658",
   "version": "2.3.4"
  }
 },
 "nbformat": 4,
 "nbformat_minor": 5
}
