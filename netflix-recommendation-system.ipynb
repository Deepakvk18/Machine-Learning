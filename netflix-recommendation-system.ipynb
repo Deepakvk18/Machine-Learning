{
 "cells": [
  {
   "cell_type": "markdown",
   "id": "0889072e",
   "metadata": {
    "_cell_guid": "b1076dfc-b9ad-4769-8c92-a6c4dae69d19",
    "_uuid": "8f2839f25d086af736a60e9eeb907d3b93b6e0e5",
    "papermill": {
     "duration": 0.006551,
     "end_time": "2022-08-03T05:14:59.682039",
     "exception": false,
     "start_time": "2022-08-03T05:14:59.675488",
     "status": "completed"
    },
    "tags": []
   },
   "source": [
    "# Problem Statement\n",
    "\n",
    "* Develope a content-based recommender system using the genres and/or descriptions.\n",
    "* Identify the main content available on the streaming.\n",
    "* Perform Exploratory data analysis to find interesting insights.\n",
    "\n",
    "[You can download the dataset from here.](https://www.kaggle.com/datasets/victorsoeiro/netflix-tv-shows-and-movies)"
   ]
  },
  {
   "cell_type": "code",
   "execution_count": 1,
   "id": "fb303e75",
   "metadata": {
    "execution": {
     "iopub.execute_input": "2022-08-03T05:14:59.694994Z",
     "iopub.status.busy": "2022-08-03T05:14:59.694501Z",
     "iopub.status.idle": "2022-08-03T05:14:59.713872Z",
     "shell.execute_reply": "2022-08-03T05:14:59.712794Z"
    },
    "papermill": {
     "duration": 0.029226,
     "end_time": "2022-08-03T05:14:59.716791",
     "exception": false,
     "start_time": "2022-08-03T05:14:59.687565",
     "status": "completed"
    },
    "tags": []
   },
   "outputs": [
    {
     "name": "stdout",
     "output_type": "stream",
     "text": [
      "/kaggle/input/netflix-tv-shows-and-movies/credits.csv\n",
      "/kaggle/input/netflix-tv-shows-and-movies/titles.csv\n"
     ]
    }
   ],
   "source": [
    "# # This Python 3 environment comes with many helpful analytics libraries installed\n",
    "# It is defined by the kaggle/python Docker image: https://github.com/kaggle/docker-python\n",
    "# For example, here's several helpful packages to load\n",
    "\n",
    "import numpy as np # linear algebra\n",
    "import pandas as pd # data processing, CSV file I/O (e.g. pd.read_csv)\n",
    "\n",
    "# Input data files are available in the read-only \"../input/\" directory\n",
    "# For example, running this (by clicking run or pressing Shift+Enter) will list all files under the input directory\n",
    "\n",
    "import os\n",
    "for dirname, _, filenames in os.walk('/kaggle/input'):\n",
    "    for filename in filenames:\n",
    "        print(os.path.join(dirname, filename))\n",
    "\n",
    "# You can write up to 20GB to the current directory (/kaggle/working/) that gets preserved as output when you create a version using \"Save & Run All\" \n",
    "# You can also write temporary files to /kaggle/temp/, but they won't be saved outside of the current session"
   ]
  },
  {
   "cell_type": "code",
   "execution_count": 2,
   "id": "3c332456",
   "metadata": {
    "execution": {
     "iopub.execute_input": "2022-08-03T05:14:59.729933Z",
     "iopub.status.busy": "2022-08-03T05:14:59.729103Z",
     "iopub.status.idle": "2022-08-03T05:15:01.425765Z",
     "shell.execute_reply": "2022-08-03T05:15:01.424788Z"
    },
    "papermill": {
     "duration": 1.705862,
     "end_time": "2022-08-03T05:15:01.428426",
     "exception": false,
     "start_time": "2022-08-03T05:14:59.722564",
     "status": "completed"
    },
    "tags": []
   },
   "outputs": [],
   "source": [
    "import numpy as np\n",
    "import pandas as pd\n",
    "from sklearn.feature_extraction.text import TfidfVectorizer, CountVectorizer\n",
    "from sklearn.metrics.pairwise import cosine_similarity\n",
    "from nltk.tokenize import word_tokenize"
   ]
  },
  {
   "cell_type": "code",
   "execution_count": 3,
   "id": "4c6793c8",
   "metadata": {
    "execution": {
     "iopub.execute_input": "2022-08-03T05:15:01.441486Z",
     "iopub.status.busy": "2022-08-03T05:15:01.441093Z",
     "iopub.status.idle": "2022-08-03T05:15:01.714823Z",
     "shell.execute_reply": "2022-08-03T05:15:01.713715Z"
    },
    "papermill": {
     "duration": 0.283273,
     "end_time": "2022-08-03T05:15:01.717467",
     "exception": false,
     "start_time": "2022-08-03T05:15:01.434194",
     "status": "completed"
    },
    "tags": []
   },
   "outputs": [],
   "source": [
    "credits = pd.read_csv('/kaggle/input/netflix-tv-shows-and-movies/credits.csv')\n",
    "titles = pd.read_csv('/kaggle/input/netflix-tv-shows-and-movies/titles.csv')"
   ]
  },
  {
   "cell_type": "code",
   "execution_count": 4,
   "id": "231160a4",
   "metadata": {
    "execution": {
     "iopub.execute_input": "2022-08-03T05:15:01.730849Z",
     "iopub.status.busy": "2022-08-03T05:15:01.730470Z",
     "iopub.status.idle": "2022-08-03T05:15:01.751649Z",
     "shell.execute_reply": "2022-08-03T05:15:01.750526Z"
    },
    "papermill": {
     "duration": 0.031057,
     "end_time": "2022-08-03T05:15:01.754365",
     "exception": false,
     "start_time": "2022-08-03T05:15:01.723308",
     "status": "completed"
    },
    "tags": []
   },
   "outputs": [
    {
     "data": {
      "text/html": [
       "<div>\n",
       "<style scoped>\n",
       "    .dataframe tbody tr th:only-of-type {\n",
       "        vertical-align: middle;\n",
       "    }\n",
       "\n",
       "    .dataframe tbody tr th {\n",
       "        vertical-align: top;\n",
       "    }\n",
       "\n",
       "    .dataframe thead th {\n",
       "        text-align: right;\n",
       "    }\n",
       "</style>\n",
       "<table border=\"1\" class=\"dataframe\">\n",
       "  <thead>\n",
       "    <tr style=\"text-align: right;\">\n",
       "      <th></th>\n",
       "      <th>person_id</th>\n",
       "      <th>id</th>\n",
       "      <th>name</th>\n",
       "      <th>character</th>\n",
       "      <th>role</th>\n",
       "    </tr>\n",
       "  </thead>\n",
       "  <tbody>\n",
       "    <tr>\n",
       "      <th>0</th>\n",
       "      <td>3748</td>\n",
       "      <td>tm84618</td>\n",
       "      <td>Robert De Niro</td>\n",
       "      <td>Travis Bickle</td>\n",
       "      <td>ACTOR</td>\n",
       "    </tr>\n",
       "    <tr>\n",
       "      <th>1</th>\n",
       "      <td>14658</td>\n",
       "      <td>tm84618</td>\n",
       "      <td>Jodie Foster</td>\n",
       "      <td>Iris Steensma</td>\n",
       "      <td>ACTOR</td>\n",
       "    </tr>\n",
       "    <tr>\n",
       "      <th>2</th>\n",
       "      <td>7064</td>\n",
       "      <td>tm84618</td>\n",
       "      <td>Albert Brooks</td>\n",
       "      <td>Tom</td>\n",
       "      <td>ACTOR</td>\n",
       "    </tr>\n",
       "    <tr>\n",
       "      <th>3</th>\n",
       "      <td>3739</td>\n",
       "      <td>tm84618</td>\n",
       "      <td>Harvey Keitel</td>\n",
       "      <td>Matthew 'Sport' Higgins</td>\n",
       "      <td>ACTOR</td>\n",
       "    </tr>\n",
       "    <tr>\n",
       "      <th>4</th>\n",
       "      <td>48933</td>\n",
       "      <td>tm84618</td>\n",
       "      <td>Cybill Shepherd</td>\n",
       "      <td>Betsy</td>\n",
       "      <td>ACTOR</td>\n",
       "    </tr>\n",
       "  </tbody>\n",
       "</table>\n",
       "</div>"
      ],
      "text/plain": [
       "   person_id       id             name                character   role\n",
       "0       3748  tm84618   Robert De Niro            Travis Bickle  ACTOR\n",
       "1      14658  tm84618     Jodie Foster            Iris Steensma  ACTOR\n",
       "2       7064  tm84618    Albert Brooks                      Tom  ACTOR\n",
       "3       3739  tm84618    Harvey Keitel  Matthew 'Sport' Higgins  ACTOR\n",
       "4      48933  tm84618  Cybill Shepherd                    Betsy  ACTOR"
      ]
     },
     "execution_count": 4,
     "metadata": {},
     "output_type": "execute_result"
    }
   ],
   "source": [
    "credits.head()"
   ]
  },
  {
   "cell_type": "code",
   "execution_count": 5,
   "id": "05fecb35",
   "metadata": {
    "execution": {
     "iopub.execute_input": "2022-08-03T05:15:01.768498Z",
     "iopub.status.busy": "2022-08-03T05:15:01.767379Z",
     "iopub.status.idle": "2022-08-03T05:15:01.787838Z",
     "shell.execute_reply": "2022-08-03T05:15:01.786601Z"
    },
    "papermill": {
     "duration": 0.030077,
     "end_time": "2022-08-03T05:15:01.790517",
     "exception": false,
     "start_time": "2022-08-03T05:15:01.760440",
     "status": "completed"
    },
    "tags": []
   },
   "outputs": [
    {
     "data": {
      "text/html": [
       "<div>\n",
       "<style scoped>\n",
       "    .dataframe tbody tr th:only-of-type {\n",
       "        vertical-align: middle;\n",
       "    }\n",
       "\n",
       "    .dataframe tbody tr th {\n",
       "        vertical-align: top;\n",
       "    }\n",
       "\n",
       "    .dataframe thead th {\n",
       "        text-align: right;\n",
       "    }\n",
       "</style>\n",
       "<table border=\"1\" class=\"dataframe\">\n",
       "  <thead>\n",
       "    <tr style=\"text-align: right;\">\n",
       "      <th></th>\n",
       "      <th>id</th>\n",
       "      <th>title</th>\n",
       "      <th>type</th>\n",
       "      <th>description</th>\n",
       "      <th>release_year</th>\n",
       "      <th>age_certification</th>\n",
       "      <th>runtime</th>\n",
       "      <th>genres</th>\n",
       "      <th>production_countries</th>\n",
       "      <th>seasons</th>\n",
       "      <th>imdb_id</th>\n",
       "      <th>imdb_score</th>\n",
       "      <th>imdb_votes</th>\n",
       "      <th>tmdb_popularity</th>\n",
       "      <th>tmdb_score</th>\n",
       "    </tr>\n",
       "  </thead>\n",
       "  <tbody>\n",
       "    <tr>\n",
       "      <th>0</th>\n",
       "      <td>ts300399</td>\n",
       "      <td>Five Came Back: The Reference Films</td>\n",
       "      <td>SHOW</td>\n",
       "      <td>This collection includes 12 World War II-era p...</td>\n",
       "      <td>1945</td>\n",
       "      <td>TV-MA</td>\n",
       "      <td>51</td>\n",
       "      <td>['documentation']</td>\n",
       "      <td>['US']</td>\n",
       "      <td>1.0</td>\n",
       "      <td>NaN</td>\n",
       "      <td>NaN</td>\n",
       "      <td>NaN</td>\n",
       "      <td>0.600</td>\n",
       "      <td>NaN</td>\n",
       "    </tr>\n",
       "    <tr>\n",
       "      <th>1</th>\n",
       "      <td>tm84618</td>\n",
       "      <td>Taxi Driver</td>\n",
       "      <td>MOVIE</td>\n",
       "      <td>A mentally unstable Vietnam War veteran works ...</td>\n",
       "      <td>1976</td>\n",
       "      <td>R</td>\n",
       "      <td>114</td>\n",
       "      <td>['drama', 'crime']</td>\n",
       "      <td>['US']</td>\n",
       "      <td>NaN</td>\n",
       "      <td>tt0075314</td>\n",
       "      <td>8.2</td>\n",
       "      <td>808582.0</td>\n",
       "      <td>40.965</td>\n",
       "      <td>8.179</td>\n",
       "    </tr>\n",
       "    <tr>\n",
       "      <th>2</th>\n",
       "      <td>tm154986</td>\n",
       "      <td>Deliverance</td>\n",
       "      <td>MOVIE</td>\n",
       "      <td>Intent on seeing the Cahulawassee River before...</td>\n",
       "      <td>1972</td>\n",
       "      <td>R</td>\n",
       "      <td>109</td>\n",
       "      <td>['drama', 'action', 'thriller', 'european']</td>\n",
       "      <td>['US']</td>\n",
       "      <td>NaN</td>\n",
       "      <td>tt0068473</td>\n",
       "      <td>7.7</td>\n",
       "      <td>107673.0</td>\n",
       "      <td>10.010</td>\n",
       "      <td>7.300</td>\n",
       "    </tr>\n",
       "    <tr>\n",
       "      <th>3</th>\n",
       "      <td>tm127384</td>\n",
       "      <td>Monty Python and the Holy Grail</td>\n",
       "      <td>MOVIE</td>\n",
       "      <td>King Arthur, accompanied by his squire, recrui...</td>\n",
       "      <td>1975</td>\n",
       "      <td>PG</td>\n",
       "      <td>91</td>\n",
       "      <td>['fantasy', 'action', 'comedy']</td>\n",
       "      <td>['GB']</td>\n",
       "      <td>NaN</td>\n",
       "      <td>tt0071853</td>\n",
       "      <td>8.2</td>\n",
       "      <td>534486.0</td>\n",
       "      <td>15.461</td>\n",
       "      <td>7.811</td>\n",
       "    </tr>\n",
       "    <tr>\n",
       "      <th>4</th>\n",
       "      <td>tm120801</td>\n",
       "      <td>The Dirty Dozen</td>\n",
       "      <td>MOVIE</td>\n",
       "      <td>12 American military prisoners in World War II...</td>\n",
       "      <td>1967</td>\n",
       "      <td>NaN</td>\n",
       "      <td>150</td>\n",
       "      <td>['war', 'action']</td>\n",
       "      <td>['GB', 'US']</td>\n",
       "      <td>NaN</td>\n",
       "      <td>tt0061578</td>\n",
       "      <td>7.7</td>\n",
       "      <td>72662.0</td>\n",
       "      <td>20.398</td>\n",
       "      <td>7.600</td>\n",
       "    </tr>\n",
       "  </tbody>\n",
       "</table>\n",
       "</div>"
      ],
      "text/plain": [
       "         id                                title   type  \\\n",
       "0  ts300399  Five Came Back: The Reference Films   SHOW   \n",
       "1   tm84618                          Taxi Driver  MOVIE   \n",
       "2  tm154986                          Deliverance  MOVIE   \n",
       "3  tm127384      Monty Python and the Holy Grail  MOVIE   \n",
       "4  tm120801                      The Dirty Dozen  MOVIE   \n",
       "\n",
       "                                         description  release_year  \\\n",
       "0  This collection includes 12 World War II-era p...          1945   \n",
       "1  A mentally unstable Vietnam War veteran works ...          1976   \n",
       "2  Intent on seeing the Cahulawassee River before...          1972   \n",
       "3  King Arthur, accompanied by his squire, recrui...          1975   \n",
       "4  12 American military prisoners in World War II...          1967   \n",
       "\n",
       "  age_certification  runtime                                       genres  \\\n",
       "0             TV-MA       51                            ['documentation']   \n",
       "1                 R      114                           ['drama', 'crime']   \n",
       "2                 R      109  ['drama', 'action', 'thriller', 'european']   \n",
       "3                PG       91              ['fantasy', 'action', 'comedy']   \n",
       "4               NaN      150                            ['war', 'action']   \n",
       "\n",
       "  production_countries  seasons    imdb_id  imdb_score  imdb_votes  \\\n",
       "0               ['US']      1.0        NaN         NaN         NaN   \n",
       "1               ['US']      NaN  tt0075314         8.2    808582.0   \n",
       "2               ['US']      NaN  tt0068473         7.7    107673.0   \n",
       "3               ['GB']      NaN  tt0071853         8.2    534486.0   \n",
       "4         ['GB', 'US']      NaN  tt0061578         7.7     72662.0   \n",
       "\n",
       "   tmdb_popularity  tmdb_score  \n",
       "0            0.600         NaN  \n",
       "1           40.965       8.179  \n",
       "2           10.010       7.300  \n",
       "3           15.461       7.811  \n",
       "4           20.398       7.600  "
      ]
     },
     "execution_count": 5,
     "metadata": {},
     "output_type": "execute_result"
    }
   ],
   "source": [
    "titles.head()"
   ]
  },
  {
   "cell_type": "code",
   "execution_count": 6,
   "id": "b144691b",
   "metadata": {
    "execution": {
     "iopub.execute_input": "2022-08-03T05:15:01.804568Z",
     "iopub.status.busy": "2022-08-03T05:15:01.804179Z",
     "iopub.status.idle": "2022-08-03T05:15:01.810563Z",
     "shell.execute_reply": "2022-08-03T05:15:01.809506Z"
    },
    "papermill": {
     "duration": 0.016087,
     "end_time": "2022-08-03T05:15:01.812632",
     "exception": false,
     "start_time": "2022-08-03T05:15:01.796545",
     "status": "completed"
    },
    "tags": []
   },
   "outputs": [
    {
     "data": {
      "text/plain": [
       "((5850, 15), (77801, 5))"
      ]
     },
     "execution_count": 6,
     "metadata": {},
     "output_type": "execute_result"
    }
   ],
   "source": [
    "titles.shape, credits.shape"
   ]
  },
  {
   "cell_type": "markdown",
   "id": "f981ff13",
   "metadata": {
    "papermill": {
     "duration": 0.005924,
     "end_time": "2022-08-03T05:15:01.824512",
     "exception": false,
     "start_time": "2022-08-03T05:15:01.818588",
     "status": "completed"
    },
    "tags": []
   },
   "source": [
    "### About the features\n",
    "\n",
    "#### Features in titles.csv\n",
    "\n",
    "* **id**: The title ID on JustWatch.\n",
    "* **title**: The name of the title.\n",
    "* **show_type**: TV show or movie.\n",
    "* **description**: A brief description.\n",
    "* **release_year**: The release year.\n",
    "* **age_certification**: The age certification.\n",
    "* **runtime**: The length of the episode (SHOW) or movie.\n",
    "* **genres**: A list of genres.\n",
    "* **production_countries**: A list of countries that produced the title.\n",
    "* **seasons**: Number of seasons if it's a SHOW.\n",
    "* **imdb_id**: The title ID on IMDB.\n",
    "* **imdb_score**: Score on IMDB.\n",
    "* **imdb_votes**: Votes on IMDB.\n",
    "* **tmdb_popularity**: Popularity on TMDB.\n",
    "* **tmdb_score**: Score on TMDB.\n",
    "\n",
    "#### Features in credits.csv\n",
    "\n",
    "* **person_ID**: The person ID on JustWatch.\n",
    "* **id**: The title ID on JustWatch.\n",
    "* **name**: The actor or director's name.\n",
    "* **character_name**: The character name.\n",
    "* **role**: ACTOR or DIRECTOR."
   ]
  },
  {
   "cell_type": "code",
   "execution_count": 7,
   "id": "a1ebe739",
   "metadata": {
    "execution": {
     "iopub.execute_input": "2022-08-03T05:15:01.838089Z",
     "iopub.status.busy": "2022-08-03T05:15:01.837690Z",
     "iopub.status.idle": "2022-08-03T05:15:01.952064Z",
     "shell.execute_reply": "2022-08-03T05:15:01.950807Z"
    },
    "papermill": {
     "duration": 0.124272,
     "end_time": "2022-08-03T05:15:01.954791",
     "exception": false,
     "start_time": "2022-08-03T05:15:01.830519",
     "status": "completed"
    },
    "tags": []
   },
   "outputs": [
    {
     "data": {
      "text/html": [
       "<div>\n",
       "<style scoped>\n",
       "    .dataframe tbody tr th:only-of-type {\n",
       "        vertical-align: middle;\n",
       "    }\n",
       "\n",
       "    .dataframe tbody tr th {\n",
       "        vertical-align: top;\n",
       "    }\n",
       "\n",
       "    .dataframe thead th {\n",
       "        text-align: right;\n",
       "    }\n",
       "</style>\n",
       "<table border=\"1\" class=\"dataframe\">\n",
       "  <thead>\n",
       "    <tr style=\"text-align: right;\">\n",
       "      <th></th>\n",
       "      <th>person_id</th>\n",
       "      <th>id</th>\n",
       "      <th>name</th>\n",
       "      <th>character</th>\n",
       "      <th>role</th>\n",
       "      <th>title</th>\n",
       "      <th>type</th>\n",
       "      <th>description</th>\n",
       "      <th>release_year</th>\n",
       "      <th>age_certification</th>\n",
       "      <th>runtime</th>\n",
       "      <th>genres</th>\n",
       "      <th>production_countries</th>\n",
       "      <th>seasons</th>\n",
       "      <th>imdb_id</th>\n",
       "      <th>imdb_score</th>\n",
       "      <th>imdb_votes</th>\n",
       "      <th>tmdb_popularity</th>\n",
       "      <th>tmdb_score</th>\n",
       "    </tr>\n",
       "  </thead>\n",
       "  <tbody>\n",
       "    <tr>\n",
       "      <th>0</th>\n",
       "      <td>3748</td>\n",
       "      <td>tm84618</td>\n",
       "      <td>Robert De Niro</td>\n",
       "      <td>Travis Bickle</td>\n",
       "      <td>ACTOR</td>\n",
       "      <td>Taxi Driver</td>\n",
       "      <td>MOVIE</td>\n",
       "      <td>A mentally unstable Vietnam War veteran works ...</td>\n",
       "      <td>1976</td>\n",
       "      <td>R</td>\n",
       "      <td>114</td>\n",
       "      <td>['drama', 'crime']</td>\n",
       "      <td>['US']</td>\n",
       "      <td>NaN</td>\n",
       "      <td>tt0075314</td>\n",
       "      <td>8.2</td>\n",
       "      <td>808582.0</td>\n",
       "      <td>40.965</td>\n",
       "      <td>8.179</td>\n",
       "    </tr>\n",
       "    <tr>\n",
       "      <th>1</th>\n",
       "      <td>14658</td>\n",
       "      <td>tm84618</td>\n",
       "      <td>Jodie Foster</td>\n",
       "      <td>Iris Steensma</td>\n",
       "      <td>ACTOR</td>\n",
       "      <td>Taxi Driver</td>\n",
       "      <td>MOVIE</td>\n",
       "      <td>A mentally unstable Vietnam War veteran works ...</td>\n",
       "      <td>1976</td>\n",
       "      <td>R</td>\n",
       "      <td>114</td>\n",
       "      <td>['drama', 'crime']</td>\n",
       "      <td>['US']</td>\n",
       "      <td>NaN</td>\n",
       "      <td>tt0075314</td>\n",
       "      <td>8.2</td>\n",
       "      <td>808582.0</td>\n",
       "      <td>40.965</td>\n",
       "      <td>8.179</td>\n",
       "    </tr>\n",
       "    <tr>\n",
       "      <th>2</th>\n",
       "      <td>7064</td>\n",
       "      <td>tm84618</td>\n",
       "      <td>Albert Brooks</td>\n",
       "      <td>Tom</td>\n",
       "      <td>ACTOR</td>\n",
       "      <td>Taxi Driver</td>\n",
       "      <td>MOVIE</td>\n",
       "      <td>A mentally unstable Vietnam War veteran works ...</td>\n",
       "      <td>1976</td>\n",
       "      <td>R</td>\n",
       "      <td>114</td>\n",
       "      <td>['drama', 'crime']</td>\n",
       "      <td>['US']</td>\n",
       "      <td>NaN</td>\n",
       "      <td>tt0075314</td>\n",
       "      <td>8.2</td>\n",
       "      <td>808582.0</td>\n",
       "      <td>40.965</td>\n",
       "      <td>8.179</td>\n",
       "    </tr>\n",
       "    <tr>\n",
       "      <th>3</th>\n",
       "      <td>3739</td>\n",
       "      <td>tm84618</td>\n",
       "      <td>Harvey Keitel</td>\n",
       "      <td>Matthew 'Sport' Higgins</td>\n",
       "      <td>ACTOR</td>\n",
       "      <td>Taxi Driver</td>\n",
       "      <td>MOVIE</td>\n",
       "      <td>A mentally unstable Vietnam War veteran works ...</td>\n",
       "      <td>1976</td>\n",
       "      <td>R</td>\n",
       "      <td>114</td>\n",
       "      <td>['drama', 'crime']</td>\n",
       "      <td>['US']</td>\n",
       "      <td>NaN</td>\n",
       "      <td>tt0075314</td>\n",
       "      <td>8.2</td>\n",
       "      <td>808582.0</td>\n",
       "      <td>40.965</td>\n",
       "      <td>8.179</td>\n",
       "    </tr>\n",
       "    <tr>\n",
       "      <th>4</th>\n",
       "      <td>48933</td>\n",
       "      <td>tm84618</td>\n",
       "      <td>Cybill Shepherd</td>\n",
       "      <td>Betsy</td>\n",
       "      <td>ACTOR</td>\n",
       "      <td>Taxi Driver</td>\n",
       "      <td>MOVIE</td>\n",
       "      <td>A mentally unstable Vietnam War veteran works ...</td>\n",
       "      <td>1976</td>\n",
       "      <td>R</td>\n",
       "      <td>114</td>\n",
       "      <td>['drama', 'crime']</td>\n",
       "      <td>['US']</td>\n",
       "      <td>NaN</td>\n",
       "      <td>tt0075314</td>\n",
       "      <td>8.2</td>\n",
       "      <td>808582.0</td>\n",
       "      <td>40.965</td>\n",
       "      <td>8.179</td>\n",
       "    </tr>\n",
       "  </tbody>\n",
       "</table>\n",
       "</div>"
      ],
      "text/plain": [
       "   person_id       id             name                character   role  \\\n",
       "0       3748  tm84618   Robert De Niro            Travis Bickle  ACTOR   \n",
       "1      14658  tm84618     Jodie Foster            Iris Steensma  ACTOR   \n",
       "2       7064  tm84618    Albert Brooks                      Tom  ACTOR   \n",
       "3       3739  tm84618    Harvey Keitel  Matthew 'Sport' Higgins  ACTOR   \n",
       "4      48933  tm84618  Cybill Shepherd                    Betsy  ACTOR   \n",
       "\n",
       "         title   type                                        description  \\\n",
       "0  Taxi Driver  MOVIE  A mentally unstable Vietnam War veteran works ...   \n",
       "1  Taxi Driver  MOVIE  A mentally unstable Vietnam War veteran works ...   \n",
       "2  Taxi Driver  MOVIE  A mentally unstable Vietnam War veteran works ...   \n",
       "3  Taxi Driver  MOVIE  A mentally unstable Vietnam War veteran works ...   \n",
       "4  Taxi Driver  MOVIE  A mentally unstable Vietnam War veteran works ...   \n",
       "\n",
       "   release_year age_certification  runtime              genres  \\\n",
       "0          1976                 R      114  ['drama', 'crime']   \n",
       "1          1976                 R      114  ['drama', 'crime']   \n",
       "2          1976                 R      114  ['drama', 'crime']   \n",
       "3          1976                 R      114  ['drama', 'crime']   \n",
       "4          1976                 R      114  ['drama', 'crime']   \n",
       "\n",
       "  production_countries  seasons    imdb_id  imdb_score  imdb_votes  \\\n",
       "0               ['US']      NaN  tt0075314         8.2    808582.0   \n",
       "1               ['US']      NaN  tt0075314         8.2    808582.0   \n",
       "2               ['US']      NaN  tt0075314         8.2    808582.0   \n",
       "3               ['US']      NaN  tt0075314         8.2    808582.0   \n",
       "4               ['US']      NaN  tt0075314         8.2    808582.0   \n",
       "\n",
       "   tmdb_popularity  tmdb_score  \n",
       "0           40.965       8.179  \n",
       "1           40.965       8.179  \n",
       "2           40.965       8.179  \n",
       "3           40.965       8.179  \n",
       "4           40.965       8.179  "
      ]
     },
     "execution_count": 7,
     "metadata": {},
     "output_type": "execute_result"
    }
   ],
   "source": [
    "df = pd.merge(credits,titles,on='id',how='left')\n",
    "df.head()"
   ]
  },
  {
   "cell_type": "code",
   "execution_count": 8,
   "id": "47616f2e",
   "metadata": {
    "execution": {
     "iopub.execute_input": "2022-08-03T05:15:01.970521Z",
     "iopub.status.busy": "2022-08-03T05:15:01.969646Z",
     "iopub.status.idle": "2022-08-03T05:15:02.034195Z",
     "shell.execute_reply": "2022-08-03T05:15:02.033028Z"
    },
    "papermill": {
     "duration": 0.075235,
     "end_time": "2022-08-03T05:15:02.036670",
     "exception": false,
     "start_time": "2022-08-03T05:15:01.961435",
     "status": "completed"
    },
    "tags": []
   },
   "outputs": [
    {
     "data": {
      "text/html": [
       "<div>\n",
       "<style scoped>\n",
       "    .dataframe tbody tr th:only-of-type {\n",
       "        vertical-align: middle;\n",
       "    }\n",
       "\n",
       "    .dataframe tbody tr th {\n",
       "        vertical-align: top;\n",
       "    }\n",
       "\n",
       "    .dataframe thead th {\n",
       "        text-align: right;\n",
       "    }\n",
       "</style>\n",
       "<table border=\"1\" class=\"dataframe\">\n",
       "  <thead>\n",
       "    <tr style=\"text-align: right;\">\n",
       "      <th></th>\n",
       "      <th>person_id</th>\n",
       "      <th>name</th>\n",
       "      <th>character</th>\n",
       "      <th>title</th>\n",
       "      <th>description</th>\n",
       "      <th>genres</th>\n",
       "      <th>imdb_score</th>\n",
       "      <th>imdb_votes</th>\n",
       "    </tr>\n",
       "  </thead>\n",
       "  <tbody>\n",
       "    <tr>\n",
       "      <th>0</th>\n",
       "      <td>3748</td>\n",
       "      <td>Robert De Niro</td>\n",
       "      <td>Travis Bickle</td>\n",
       "      <td>Taxi Driver</td>\n",
       "      <td>A mentally unstable Vietnam War veteran works ...</td>\n",
       "      <td>['drama', 'crime']</td>\n",
       "      <td>8.2</td>\n",
       "      <td>808582.0</td>\n",
       "    </tr>\n",
       "    <tr>\n",
       "      <th>1</th>\n",
       "      <td>14658</td>\n",
       "      <td>Jodie Foster</td>\n",
       "      <td>Iris Steensma</td>\n",
       "      <td>Taxi Driver</td>\n",
       "      <td>A mentally unstable Vietnam War veteran works ...</td>\n",
       "      <td>['drama', 'crime']</td>\n",
       "      <td>8.2</td>\n",
       "      <td>808582.0</td>\n",
       "    </tr>\n",
       "    <tr>\n",
       "      <th>2</th>\n",
       "      <td>7064</td>\n",
       "      <td>Albert Brooks</td>\n",
       "      <td>Tom</td>\n",
       "      <td>Taxi Driver</td>\n",
       "      <td>A mentally unstable Vietnam War veteran works ...</td>\n",
       "      <td>['drama', 'crime']</td>\n",
       "      <td>8.2</td>\n",
       "      <td>808582.0</td>\n",
       "    </tr>\n",
       "    <tr>\n",
       "      <th>3</th>\n",
       "      <td>3739</td>\n",
       "      <td>Harvey Keitel</td>\n",
       "      <td>Matthew 'Sport' Higgins</td>\n",
       "      <td>Taxi Driver</td>\n",
       "      <td>A mentally unstable Vietnam War veteran works ...</td>\n",
       "      <td>['drama', 'crime']</td>\n",
       "      <td>8.2</td>\n",
       "      <td>808582.0</td>\n",
       "    </tr>\n",
       "    <tr>\n",
       "      <th>4</th>\n",
       "      <td>48933</td>\n",
       "      <td>Cybill Shepherd</td>\n",
       "      <td>Betsy</td>\n",
       "      <td>Taxi Driver</td>\n",
       "      <td>A mentally unstable Vietnam War veteran works ...</td>\n",
       "      <td>['drama', 'crime']</td>\n",
       "      <td>8.2</td>\n",
       "      <td>808582.0</td>\n",
       "    </tr>\n",
       "  </tbody>\n",
       "</table>\n",
       "</div>"
      ],
      "text/plain": [
       "   person_id             name                character        title  \\\n",
       "0       3748   Robert De Niro            Travis Bickle  Taxi Driver   \n",
       "1      14658     Jodie Foster            Iris Steensma  Taxi Driver   \n",
       "2       7064    Albert Brooks                      Tom  Taxi Driver   \n",
       "3       3739    Harvey Keitel  Matthew 'Sport' Higgins  Taxi Driver   \n",
       "4      48933  Cybill Shepherd                    Betsy  Taxi Driver   \n",
       "\n",
       "                                         description              genres  \\\n",
       "0  A mentally unstable Vietnam War veteran works ...  ['drama', 'crime']   \n",
       "1  A mentally unstable Vietnam War veteran works ...  ['drama', 'crime']   \n",
       "2  A mentally unstable Vietnam War veteran works ...  ['drama', 'crime']   \n",
       "3  A mentally unstable Vietnam War veteran works ...  ['drama', 'crime']   \n",
       "4  A mentally unstable Vietnam War veteran works ...  ['drama', 'crime']   \n",
       "\n",
       "   imdb_score  imdb_votes  \n",
       "0         8.2    808582.0  \n",
       "1         8.2    808582.0  \n",
       "2         8.2    808582.0  \n",
       "3         8.2    808582.0  \n",
       "4         8.2    808582.0  "
      ]
     },
     "execution_count": 8,
     "metadata": {},
     "output_type": "execute_result"
    }
   ],
   "source": [
    "required_columns = ['person_id','name','character','title','description','genres','imdb_score','imdb_votes']\n",
    "df = df[required_columns]\n",
    "df.head()"
   ]
  },
  {
   "cell_type": "code",
   "execution_count": 9,
   "id": "e8312497",
   "metadata": {
    "execution": {
     "iopub.execute_input": "2022-08-03T05:15:02.052185Z",
     "iopub.status.busy": "2022-08-03T05:15:02.051508Z",
     "iopub.status.idle": "2022-08-03T05:15:02.057799Z",
     "shell.execute_reply": "2022-08-03T05:15:02.056976Z"
    },
    "papermill": {
     "duration": 0.016742,
     "end_time": "2022-08-03T05:15:02.060092",
     "exception": false,
     "start_time": "2022-08-03T05:15:02.043350",
     "status": "completed"
    },
    "tags": []
   },
   "outputs": [
    {
     "data": {
      "text/plain": [
       "(5850, 15)"
      ]
     },
     "execution_count": 9,
     "metadata": {},
     "output_type": "execute_result"
    }
   ],
   "source": [
    "titles.shape"
   ]
  },
  {
   "cell_type": "code",
   "execution_count": 10,
   "id": "37612cdc",
   "metadata": {
    "execution": {
     "iopub.execute_input": "2022-08-03T05:15:02.076649Z",
     "iopub.status.busy": "2022-08-03T05:15:02.075991Z",
     "iopub.status.idle": "2022-08-03T05:15:02.086604Z",
     "shell.execute_reply": "2022-08-03T05:15:02.085411Z"
    },
    "papermill": {
     "duration": 0.021958,
     "end_time": "2022-08-03T05:15:02.089283",
     "exception": false,
     "start_time": "2022-08-03T05:15:02.067325",
     "status": "completed"
    },
    "tags": []
   },
   "outputs": [],
   "source": [
    "titles.imdb_votes.fillna(0, inplace=True)\n",
    "titles.description.fillna(' ', inplace=True)\n",
    "titles.fillna(0, inplace=True)"
   ]
  },
  {
   "cell_type": "markdown",
   "id": "a50a35dc",
   "metadata": {
    "papermill": {
     "duration": 0.006521,
     "end_time": "2022-08-03T05:15:02.102758",
     "exception": false,
     "start_time": "2022-08-03T05:15:02.096237",
     "status": "completed"
    },
    "tags": []
   },
   "source": [
    "# Search Based Recommendation System"
   ]
  },
  {
   "cell_type": "code",
   "execution_count": 11,
   "id": "7a166a4e",
   "metadata": {
    "execution": {
     "iopub.execute_input": "2022-08-03T05:15:02.118974Z",
     "iopub.status.busy": "2022-08-03T05:15:02.117829Z",
     "iopub.status.idle": "2022-08-03T05:15:02.967696Z",
     "shell.execute_reply": "2022-08-03T05:15:02.966476Z"
    },
    "papermill": {
     "duration": 0.860758,
     "end_time": "2022-08-03T05:15:02.970342",
     "exception": false,
     "start_time": "2022-08-03T05:15:02.109584",
     "status": "completed"
    },
    "tags": []
   },
   "outputs": [],
   "source": [
    "tfidf = TfidfVectorizer(stop_words='english')\n",
    "matrix = tfidf.fit_transform(titles['description'])\n",
    "cosine_sim = cosine_similarity(matrix, matrix)"
   ]
  },
  {
   "cell_type": "code",
   "execution_count": 12,
   "id": "91342e62",
   "metadata": {
    "execution": {
     "iopub.execute_input": "2022-08-03T05:15:02.986614Z",
     "iopub.status.busy": "2022-08-03T05:15:02.986223Z",
     "iopub.status.idle": "2022-08-03T05:15:02.992771Z",
     "shell.execute_reply": "2022-08-03T05:15:02.991599Z"
    },
    "papermill": {
     "duration": 0.017028,
     "end_time": "2022-08-03T05:15:02.995110",
     "exception": false,
     "start_time": "2022-08-03T05:15:02.978082",
     "status": "completed"
    },
    "tags": []
   },
   "outputs": [
    {
     "data": {
      "text/plain": [
       "(5850, 5850)"
      ]
     },
     "execution_count": 12,
     "metadata": {},
     "output_type": "execute_result"
    }
   ],
   "source": [
    "cosine_sim.shape"
   ]
  },
  {
   "cell_type": "code",
   "execution_count": 13,
   "id": "dbebd5f1",
   "metadata": {
    "execution": {
     "iopub.execute_input": "2022-08-03T05:15:03.011026Z",
     "iopub.status.busy": "2022-08-03T05:15:03.010586Z",
     "iopub.status.idle": "2022-08-03T05:15:03.016811Z",
     "shell.execute_reply": "2022-08-03T05:15:03.016018Z"
    },
    "papermill": {
     "duration": 0.01695,
     "end_time": "2022-08-03T05:15:03.019103",
     "exception": false,
     "start_time": "2022-08-03T05:15:03.002153",
     "status": "completed"
    },
    "tags": []
   },
   "outputs": [],
   "source": [
    "def search(string):\n",
    "\n",
    "    index = titles[titles['title']==string].index\n",
    "    all_movies = []\n",
    "\n",
    "    for i in index:\n",
    "        scores = list(enumerate(cosine_sim[i]))\n",
    "        scores = sorted(scores,key=lambda x: x[1], reverse=True)[0:11]\n",
    "        movies = [titles.iloc[n]['title'] for n,j in scores]\n",
    "        all_movies.extend(movies)\n",
    "    return all_movies"
   ]
  },
  {
   "cell_type": "code",
   "execution_count": 14,
   "id": "c0d80a72",
   "metadata": {
    "execution": {
     "iopub.execute_input": "2022-08-03T05:15:03.035361Z",
     "iopub.status.busy": "2022-08-03T05:15:03.034245Z",
     "iopub.status.idle": "2022-08-03T05:15:03.049374Z",
     "shell.execute_reply": "2022-08-03T05:15:03.047918Z"
    },
    "papermill": {
     "duration": 0.025592,
     "end_time": "2022-08-03T05:15:03.051831",
     "exception": false,
     "start_time": "2022-08-03T05:15:03.026239",
     "status": "completed"
    },
    "tags": []
   },
   "outputs": [
    {
     "data": {
      "text/plain": [
       "['Avatar: The Last Airbender',\n",
       " 'The Legend of Korra',\n",
       " 'Blood and Bone',\n",
       " 'The Dragon Prince',\n",
       " 'Vivo',\n",
       " 'Five Came Back',\n",
       " 'Shadow and Bone',\n",
       " 'Violet Evergarden: The Movie',\n",
       " 'The Worthy',\n",
       " 'The Giver',\n",
       " 'The Liberator']"
      ]
     },
     "execution_count": 14,
     "metadata": {},
     "output_type": "execute_result"
    }
   ],
   "source": [
    "search('Avatar: The Last Airbender')"
   ]
  },
  {
   "cell_type": "markdown",
   "id": "652c5d46",
   "metadata": {
    "papermill": {
     "duration": 0.006788,
     "end_time": "2022-08-03T05:15:03.065651",
     "exception": false,
     "start_time": "2022-08-03T05:15:03.058863",
     "status": "completed"
    },
    "tags": []
   },
   "source": [
    "Here we go! Avatar the last air bender is an animated series. The Legend Of Korra is a sequel to the show and Violet Evergarden and The Dragon Prince are also animated movies. Let's try some more."
   ]
  },
  {
   "cell_type": "code",
   "execution_count": 15,
   "id": "c9e96fa9",
   "metadata": {
    "execution": {
     "iopub.execute_input": "2022-08-03T05:15:03.081608Z",
     "iopub.status.busy": "2022-08-03T05:15:03.081140Z",
     "iopub.status.idle": "2022-08-03T05:15:03.094782Z",
     "shell.execute_reply": "2022-08-03T05:15:03.093614Z"
    },
    "papermill": {
     "duration": 0.024347,
     "end_time": "2022-08-03T05:15:03.096987",
     "exception": false,
     "start_time": "2022-08-03T05:15:03.072640",
     "status": "completed"
    },
    "tags": []
   },
   "outputs": [
    {
     "data": {
      "text/plain": [
       "[\"Monty Python's Flying Circus\",\n",
       " 'Standup and Away! with Brian Regan',\n",
       " 'Monty Python Conquers America',\n",
       " 'Parrot Sketch Not Included: Twenty Years of Monty Python',\n",
       " 'I Think You Should Leave with Tim Robinson',\n",
       " 'The Who Was? Show',\n",
       " 'Shor in the City',\n",
       " 'Plastic Cup Boyz: Laughing My Mask Off!',\n",
       " 'Hot Date',\n",
       " 'Horrid Henry',\n",
       " 'All That']"
      ]
     },
     "execution_count": 15,
     "metadata": {},
     "output_type": "execute_result"
    }
   ],
   "source": [
    "search(\"Monty Python's Flying Circus\")"
   ]
  },
  {
   "cell_type": "code",
   "execution_count": 16,
   "id": "f79a351f",
   "metadata": {
    "execution": {
     "iopub.execute_input": "2022-08-03T05:15:03.113348Z",
     "iopub.status.busy": "2022-08-03T05:15:03.112886Z",
     "iopub.status.idle": "2022-08-03T05:15:03.126136Z",
     "shell.execute_reply": "2022-08-03T05:15:03.125128Z"
    },
    "papermill": {
     "duration": 0.023847,
     "end_time": "2022-08-03T05:15:03.128249",
     "exception": false,
     "start_time": "2022-08-03T05:15:03.104402",
     "status": "completed"
    },
    "tags": []
   },
   "outputs": [
    {
     "data": {
      "text/plain": [
       "['Violet Evergarden: The Movie',\n",
       " 'Violet Evergarden: Eternity and the Auto Memories Doll',\n",
       " 'Gunjan Saxena: The Kargil Girl',\n",
       " 'Violet Evergarden',\n",
       " 'Nappily Ever After',\n",
       " 'The End',\n",
       " 'Five Came Back',\n",
       " 'Going for Gold',\n",
       " 'Avatar: The Last Airbender',\n",
       " 'Becoming',\n",
       " 'The Haunting in Connecticut 2: Ghosts of Georgia']"
      ]
     },
     "execution_count": 16,
     "metadata": {},
     "output_type": "execute_result"
    }
   ],
   "source": [
    "search('Violet Evergarden: The Movie')"
   ]
  },
  {
   "cell_type": "markdown",
   "id": "2ec17562",
   "metadata": {
    "papermill": {
     "duration": 0.007437,
     "end_time": "2022-08-03T05:15:03.142856",
     "exception": false,
     "start_time": "2022-08-03T05:15:03.135419",
     "status": "completed"
    },
    "tags": []
   },
   "source": [
    "These are some of the recommendations. If I want, I can set a threshold to imdb_score and votings to show only the shows that have best score."
   ]
  },
  {
   "cell_type": "markdown",
   "id": "0bf3c814",
   "metadata": {
    "papermill": {
     "duration": 0.007713,
     "end_time": "2022-08-03T05:15:03.158424",
     "exception": false,
     "start_time": "2022-08-03T05:15:03.150711",
     "status": "completed"
    },
    "tags": []
   },
   "source": [
    "# Keywords, Character, Actor and Genre based Recommendation System"
   ]
  },
  {
   "cell_type": "code",
   "execution_count": null,
   "id": "f9df1734",
   "metadata": {
    "papermill": {
     "duration": 0.00703,
     "end_time": "2022-08-03T05:15:03.172893",
     "exception": false,
     "start_time": "2022-08-03T05:15:03.165863",
     "status": "completed"
    },
    "tags": []
   },
   "outputs": [],
   "source": []
  }
 ],
 "metadata": {
  "kernelspec": {
   "display_name": "Python 3",
   "language": "python",
   "name": "python3"
  },
  "language_info": {
   "codemirror_mode": {
    "name": "ipython",
    "version": 3
   },
   "file_extension": ".py",
   "mimetype": "text/x-python",
   "name": "python",
   "nbconvert_exporter": "python",
   "pygments_lexer": "ipython3",
   "version": "3.7.12"
  },
  "papermill": {
   "default_parameters": {},
   "duration": 13.684271,
   "end_time": "2022-08-03T05:15:04.002419",
   "environment_variables": {},
   "exception": null,
   "input_path": "__notebook__.ipynb",
   "output_path": "__notebook__.ipynb",
   "parameters": {},
   "start_time": "2022-08-03T05:14:50.318148",
   "version": "2.3.4"
  }
 },
 "nbformat": 4,
 "nbformat_minor": 5
}
