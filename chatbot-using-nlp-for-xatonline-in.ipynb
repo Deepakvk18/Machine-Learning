{
 "cells": [
  {
   "cell_type": "code",
   "execution_count": 1,
   "id": "44f83076",
   "metadata": {
    "_cell_guid": "b1076dfc-b9ad-4769-8c92-a6c4dae69d19",
    "_uuid": "8f2839f25d086af736a60e9eeb907d3b93b6e0e5",
    "execution": {
     "iopub.execute_input": "2022-08-08T08:38:56.565755Z",
     "iopub.status.busy": "2022-08-08T08:38:56.565026Z",
     "iopub.status.idle": "2022-08-08T08:38:56.578429Z",
     "shell.execute_reply": "2022-08-08T08:38:56.577296Z"
    },
    "papermill": {
     "duration": 0.030762,
     "end_time": "2022-08-08T08:38:56.581107",
     "exception": false,
     "start_time": "2022-08-08T08:38:56.550345",
     "status": "completed"
    },
    "tags": []
   },
   "outputs": [],
   "source": [
    "# This Python 3 environment comes with many helpful analytics libraries installed\n",
    "# It is defined by the kaggle/python Docker image: https://github.com/kaggle/docker-python\n",
    "# For example, here's several helpful packages to load\n",
    "\n",
    "import numpy as np # linear algebra\n",
    "import pandas as pd # data processing, CSV file I/O (e.g. pd.read_csv)\n",
    "\n",
    "# Input data files are available in the read-only \"../input/\" directory\n",
    "# For example, running this (by clicking run or pressing Shift+Enter) will list all files under the input directory\n",
    "\n",
    "import os\n",
    "for dirname, _, filenames in os.walk('/kaggle/input'):\n",
    "    for filename in filenames:\n",
    "        print(os.path.join(dirname, filename))\n",
    "\n",
    "# You can write up to 20GB to the current directory (/kaggle/working/) that gets preserved as output when you create a version using \"Save & Run All\" \n",
    "# You can also write temporary files to /kaggle/temp/, but they won't be saved outside of the current session"
   ]
  },
  {
   "cell_type": "code",
   "execution_count": 2,
   "id": "4ecaffe6",
   "metadata": {
    "execution": {
     "iopub.execute_input": "2022-08-08T08:38:56.606058Z",
     "iopub.status.busy": "2022-08-08T08:38:56.605639Z",
     "iopub.status.idle": "2022-08-08T08:38:58.303266Z",
     "shell.execute_reply": "2022-08-08T08:38:58.302219Z"
    },
    "papermill": {
     "duration": 1.713059,
     "end_time": "2022-08-08T08:38:58.305966",
     "exception": false,
     "start_time": "2022-08-08T08:38:56.592907",
     "status": "completed"
    },
    "tags": []
   },
   "outputs": [],
   "source": [
    "from nltk.chat.util import  reflections\n",
    "from nltk.stem import WordNetLemmatizer\n",
    "from bs4 import BeautifulSoup\n",
    "import requests\n",
    "import re\n",
    "import nltk\n",
    "from string import punctuation\n",
    "from nltk.corpus import stopwords\n",
    "from nltk.tokenize import word_tokenize\n",
    "from sklearn.feature_extraction.text import CountVectorizer\n",
    "from sklearn.metrics.pairwise import cosine_similarity"
   ]
  },
  {
   "cell_type": "code",
   "execution_count": 3,
   "id": "5015f1b0",
   "metadata": {
    "execution": {
     "iopub.execute_input": "2022-08-08T08:38:58.331063Z",
     "iopub.status.busy": "2022-08-08T08:38:58.330630Z",
     "iopub.status.idle": "2022-08-08T08:38:59.084466Z",
     "shell.execute_reply": "2022-08-08T08:38:59.083250Z"
    },
    "papermill": {
     "duration": 0.770169,
     "end_time": "2022-08-08T08:38:59.087678",
     "exception": false,
     "start_time": "2022-08-08T08:38:58.317509",
     "status": "completed"
    },
    "tags": []
   },
   "outputs": [
    {
     "name": "stderr",
     "output_type": "stream",
     "text": [
      "[nltk_data] Downloading package omw-1.4 to /usr/share/nltk_data...\n"
     ]
    },
    {
     "data": {
      "text/plain": [
       "True"
      ]
     },
     "execution_count": 3,
     "metadata": {},
     "output_type": "execute_result"
    }
   ],
   "source": [
    "nltk.download('omw-1.4')"
   ]
  },
  {
   "cell_type": "code",
   "execution_count": 4,
   "id": "0f09c6b7",
   "metadata": {
    "execution": {
     "iopub.execute_input": "2022-08-08T08:38:59.119773Z",
     "iopub.status.busy": "2022-08-08T08:38:59.119352Z",
     "iopub.status.idle": "2022-08-08T08:38:59.835328Z",
     "shell.execute_reply": "2022-08-08T08:38:59.834349Z"
    },
    "papermill": {
     "duration": 0.731729,
     "end_time": "2022-08-08T08:38:59.838095",
     "exception": false,
     "start_time": "2022-08-08T08:38:59.106366",
     "status": "completed"
    },
    "tags": []
   },
   "outputs": [],
   "source": [
    "questions = []\n",
    "answers = []\n",
    "url = 'https://xatonline.in/xat-faqs.html'\n",
    "response = requests.get(url)\n",
    "soup = BeautifulSoup(response.content, 'lxml')"
   ]
  },
  {
   "cell_type": "code",
   "execution_count": 5,
   "id": "fce77bed",
   "metadata": {
    "execution": {
     "iopub.execute_input": "2022-08-08T08:38:59.865491Z",
     "iopub.status.busy": "2022-08-08T08:38:59.864624Z",
     "iopub.status.idle": "2022-08-08T08:38:59.874076Z",
     "shell.execute_reply": "2022-08-08T08:38:59.873185Z"
    },
    "papermill": {
     "duration": 0.025785,
     "end_time": "2022-08-08T08:38:59.876581",
     "exception": false,
     "start_time": "2022-08-08T08:38:59.850796",
     "status": "completed"
    },
    "tags": []
   },
   "outputs": [],
   "source": [
    "qnas = soup.find_all(id=re.compile(re.compile(r'accordion.')))"
   ]
  },
  {
   "cell_type": "code",
   "execution_count": 6,
   "id": "db4d7ddb",
   "metadata": {
    "execution": {
     "iopub.execute_input": "2022-08-08T08:38:59.902245Z",
     "iopub.status.busy": "2022-08-08T08:38:59.901450Z",
     "iopub.status.idle": "2022-08-08T08:38:59.913772Z",
     "shell.execute_reply": "2022-08-08T08:38:59.912656Z"
    },
    "papermill": {
     "duration": 0.02872,
     "end_time": "2022-08-08T08:38:59.916854",
     "exception": false,
     "start_time": "2022-08-08T08:38:59.888134",
     "status": "completed"
    },
    "tags": []
   },
   "outputs": [
    {
     "data": {
      "text/plain": [
       "[<div class=\"panel-group accordian-mob\" id=\"accordion1\"><div class=\"panel panel-default\"><div class=\"panel-heading\" style=\"padding: 0\"><h4 class=\"panel-title\" style=\"display: flex;\"><a class=\"collapsed\" data-parent=\"#accordion1\" data-toggle=\"collapse\" href=\"#course1_1\" style=\"padding: 10px 15px; display:flex; flex-grow: 1;\">Q. 1 How do I know that my application is registered?</a></h4></div><div class=\"panel-collapse collapse\" id=\"course1_1\"><div class=\"panel-body\"><div class=\"container-fluid\"><div class=\"row\"><p>Successful Registration is indicated by the Page displayed after clicking the Register Button indicating that a verification Email has been triggered to your registered Email ID, you need to click on the verification Email and you'll receive a credential mail post that.</p></div></div></div></div></div><div class=\"panel panel-default\"><div class=\"panel-heading\" style=\"padding: 0\"><h4 class=\"panel-title\" style=\"display: flex;\"><a class=\"collapsed\" data-parent=\"#accordion1\" data-toggle=\"collapse\" href=\"#course1_2\" style=\"padding: 10px 15px; display:flex; flex-grow: 1;\">Q. 2 I did not receive the email intimation for registration of my application?</a></h4></div><div class=\"panel-collapse collapse\" id=\"course1_2\"><div class=\"panel-body\"><div class=\"container-fluid\"><div class=\"row\"><p>Delivery of these Emails and SMS purely depends upon the correctness of E-Mail ID and Mobile Number provided, Policy of your E - Mail Service Provider to accept and Divert such emails under Bulk or Spam Mails or bounce back such mails without accepting it due to heavy number of emails generated by our Applications. In case of Govt./official /company Email Ids , delivery is controlled by your Company Policies. You may raise a query as well in this case</p></div></div></div></div></div><div class=\"panel panel-default\"><div class=\"panel-heading\" style=\"padding: 0\"><h4 class=\"panel-title\" style=\"display: flex;\"><a class=\"collapsed\" data-parent=\"#accordion1\" data-toggle=\"collapse\" href=\"#course1_3\" style=\"padding: 10px 15px; display:flex; flex-grow: 1;\">Q. 3 I have forgotten my XAT password, could you help!</a></h4></div><div class=\"panel-collapse collapse\" id=\"course1_3\"><div class=\"panel-body\"><div class=\"container-fluid\"><div class=\"row\"><p>Navigate to website, click on \"Login\" and then \"Forgot Password\", follow the steps to change the password.</p></div></div></div></div></div></div>,\n",
       " <div class=\"panel-group accordian-mob\" id=\"accordion2\"><div class=\"panel panel-default\"><div class=\"panel-heading\" style=\"padding: 0\"><h4 class=\"panel-title\" style=\"display: flex;\"><a class=\"collapsed\" data-parent=\"#accordion2\" data-toggle=\"collapse\" href=\"#course2_2\" style=\"padding: 10px 15px; display:flex; flex-grow: 1;\">Q. 1 When shall I receive the XAT 2021 Admit Card?</a></h4></div><div class=\"panel-collapse collapse\" id=\"course2_2\"><div class=\"panel-body\"><div class=\"container-fluid\"><div class=\"row\"><p>You can download the admit card from our website from 20th December 2020 onwards.</p></div></div></div></div></div><div class=\"panel panel-default\"><div class=\"panel-heading\" style=\"padding: 0\"><h4 class=\"panel-title\" style=\"display: flex;\"><a class=\"collapsed\" data-parent=\"#accordion2\" data-toggle=\"collapse\" href=\"#course2_3\" style=\"padding: 10px 15px; display:flex; flex-grow: 1;\">Q. 2 What is the duration of the test?</a></h4></div><div class=\"panel-collapse collapse\" id=\"course2_3\"><div class=\"panel-body\"><div class=\"container-fluid\"><div class=\"row\"><p>The duration of the test will be of three hours i.e. from 9:30 AM to 12.30 PM on January 03, 2021, Sunday.</p></div></div></div></div></div><div class=\"panel panel-default\"><div class=\"panel-heading\" style=\"padding: 0\"><h4 class=\"panel-title\" style=\"display: flex;\"><a class=\"collapsed\" data-parent=\"#accordion2\" data-toggle=\"collapse\" href=\"#course2_4\" style=\"padding: 10px 15px; display:flex; flex-grow: 1;\">Q. 3 When are XAT 2021 results out?</a></h4></div><div class=\"panel-collapse collapse\" id=\"course2_4\"><div class=\"panel-body\"><div class=\"container-fluid\"><div class=\"row\"><p>The XAT Result will be declared 3 weeks after the conduct of XAT-2021</p></div></div></div></div></div><div class=\"panel panel-default\"><div class=\"panel-heading\" style=\"padding: 0\"><h4 class=\"panel-title\" style=\"display: flex;\"><a class=\"collapsed\" data-parent=\"#accordion2\" data-toggle=\"collapse\" href=\"#course2_5\" style=\"padding: 10px 15px; display:flex; flex-grow: 1;\">Q. 4 Will there be any sectional time limits or overall time limit?</a></h4></div><div class=\"panel-collapse collapse\" id=\"course2_5\"><div class=\"panel-body\"><div class=\"container-fluid\"><div class=\"row\"><p>There will be only overall time limits, there are no sectional time limits.</p></div></div></div></div></div><div class=\"panel panel-default\"><div class=\"panel-heading\" style=\"padding: 0\"><h4 class=\"panel-title\" style=\"display: flex;\"><a class=\"collapsed\" data-parent=\"#accordion2\" data-toggle=\"collapse\" href=\"#course2_6\" style=\"padding: 10px 15px; display:flex; flex-grow: 1;\">Q. 5 Will the candidates have access to an on screen calculator?</a></h4></div><div class=\"panel-collapse collapse\" id=\"course2_6\"><div class=\"panel-body\"><div class=\"container-fluid\"><div class=\"row\"><p>No, the candidates will not be given access to on screen calculator</p></div></div></div></div></div><div class=\"panel panel-default\"><div class=\"panel-heading\" style=\"padding: 0\"><h4 class=\"panel-title\" style=\"display: flex;\"><a class=\"collapsed\" data-parent=\"#accordion2\" data-toggle=\"collapse\" href=\"#course2_7\" style=\"padding: 10px 15px; display:flex; flex-grow: 1;\">Q. 6 Will the candidates be able to choose the order of sections according to their choice?</a></h4></div><div class=\"panel-collapse collapse\" id=\"course2_7\"><div class=\"panel-body\"><div class=\"container-fluid\"><div class=\"row\"><p>Yes the candidates can choose any section to begin with.</p></div></div></div></div></div><div class=\"panel panel-default\"><div class=\"panel-heading\" style=\"padding: 0\"><h4 class=\"panel-title\" style=\"display: flex;\"><a class=\"collapsed\" data-parent=\"#accordion2\" data-toggle=\"collapse\" href=\"#course2_8\" style=\"padding: 10px 15px; display:flex; flex-grow: 1;\">Q. 7 Can the candidates switch between sections - have access to the entire question paper like a written test?</a></h4></div><div class=\"panel-collapse collapse\" id=\"course2_8\"><div class=\"panel-body\"><div class=\"container-fluid\"><div class=\"row\"><p>Yes.</p></div></div></div></div></div><div class=\"panel panel-default\"><div class=\"panel-heading\" style=\"padding: 0\"><h4 class=\"panel-title\" style=\"display: flex;\"><a class=\"collapsed\" data-parent=\"#accordion2\" data-toggle=\"collapse\" href=\"#course2_9\" style=\"padding: 10px 15px; display:flex; flex-grow: 1;\">Q. 8 With sectional partitions, will the candidate be allowed to decide the order of the sections or will all the three sections will be made open to the candidate the moment the exam starts.</a></h4></div><div class=\"panel-collapse collapse\" id=\"course2_9\"><div class=\"panel-body\"><div class=\"container-fluid\"><div class=\"row\"><p>All three sections will be open to the candidate once the exam starts.</p></div></div></div></div></div><div class=\"panel panel-default\"><div class=\"panel-heading\" style=\"padding: 0\"><h4 class=\"panel-title\" style=\"display: flex;\"><a class=\"collapsed\" data-parent=\"#accordion2\" data-toggle=\"collapse\" href=\"#course2_10\" style=\"padding: 10px 15px; display:flex; flex-grow: 1;\">Q. 9 What happens in case of any technical glitch in the computer of some candidates?</a></h4></div><div class=\"panel-collapse collapse\" id=\"course2_10\"><div class=\"panel-body\"><div class=\"container-fluid\"><div class=\"row\"><p>In the unlikely case of a technical glitch the candidate will be shifted to another terminal without any loss of time.</p></div></div></div></div></div></div>,\n",
       " <div class=\"panel-group accordian-mob\" id=\"accordion3\"><div class=\"panel panel-default\"><div class=\"panel-heading\" style=\"padding: 0\"><h4 class=\"panel-title\" style=\"display: flex;\"><a class=\"collapsed\" data-parent=\"#accordion3\" data-toggle=\"collapse\" href=\"#course3_2\" style=\"padding: 10px 15px; display:flex; flex-grow: 1;\">Q. 1 How do I re-confirm that my application is saved?</a></h4></div><div class=\"panel-collapse collapse\" id=\"course3_2\"><div class=\"panel-body\"><div class=\"container-fluid\"><div class=\"row\"><p>In case of doubt about the successful Registration, candidates are advised to visit the Page for Login and Print of Application, generate the Printout and preserve the soft copy and hard copy of the Application.</p></div></div></div></div></div><div class=\"panel panel-default\"><div class=\"panel-heading\" style=\"padding: 0\"><h4 class=\"panel-title\" style=\"display: flex;\"><a class=\"collapsed\" data-parent=\"#accordion3\" data-toggle=\"collapse\" href=\"#course3_3\" style=\"padding: 10px 15px; display:flex; flex-grow: 1;\">Q. 2 After filling up the complete form, I got Blank Screen / Internet got disconnected / My PC closed / hanged / shutdown. Is my application saved / registered?</a></h4></div><div class=\"panel-collapse collapse\" id=\"course3_3\"><div class=\"panel-body\"><div class=\"container-fluid\"><div class=\"row\"><p>In the above scenario the Application Form will be saved till the last stage and you may continue from where you left by logging in to your dashboard.</p></div></div></div></div></div><div class=\"panel panel-default\"><div class=\"panel-heading\" style=\"padding: 0\"><h4 class=\"panel-title\" style=\"display: flex;\"><a class=\"collapsed\" data-parent=\"#accordion3\" data-toggle=\"collapse\" href=\"#course3_4\" style=\"padding: 10px 15px; display:flex; flex-grow: 1;\">Q. 3 I want to change / correct the details I entered in the Application?</a></h4></div><div class=\"panel-collapse collapse\" id=\"course3_4\"><div class=\"panel-body\"><div class=\"container-fluid\"><div class=\"row\"><p>We do not entertain any changes in the Application form until it's very crucial. For that matter you need to raise a query by clicking \"Any Query? Ask us\" on your dashboard.</p></div></div></div></div></div><div class=\"panel panel-default\"><div class=\"panel-heading\" style=\"padding: 0\"><h4 class=\"panel-title\" style=\"display: flex;\"><a class=\"collapsed\" data-parent=\"#accordion3\" data-toggle=\"collapse\" href=\"#course3_5\" style=\"padding: 10px 15px; display:flex; flex-grow: 1;\">Q. 4 I am in the final year of my graduation, what percentage should I fill in the form?</a></h4></div><div class=\"panel-collapse collapse\" id=\"course3_5\"><div class=\"panel-body\"><div class=\"container-fluid\"><div class=\"row\"><p>marks obtained in the last semester till the time of filling the form.</p></div></div></div></div></div><div class=\"panel panel-default\"><div class=\"panel-heading\" style=\"padding: 0\"><h4 class=\"panel-title\" style=\"display: flex;\"><a class=\"collapsed\" data-parent=\"#accordion3\" data-toggle=\"collapse\" href=\"#course3_6\" style=\"padding: 10px 15px; display:flex; flex-grow: 1;\">Q. 5 I have done 5 years integrated course, so how will I enter my percentage?</a></h4></div><div class=\"panel-collapse collapse\" id=\"course3_6\"><div class=\"panel-body\"><div class=\"container-fluid\"><div class=\"row\"><p>Candidates who have done 5 years integrated course can fill up the same percentage for graduation and post graduation.</p></div></div></div></div></div><div class=\"panel panel-default\"><div class=\"panel-heading\" style=\"padding: 0\"><h4 class=\"panel-title\" style=\"display: flex;\"><a class=\"collapsed\" data-parent=\"#accordion3\" data-toggle=\"collapse\" href=\"#course3_7\" style=\"padding: 10px 15px; display:flex; flex-grow: 1;\">Q. 6 How do I calculate the aggregate marks for CBSE /SSC. Is it the best 5 or all the subjects?</a></h4></div><div class=\"panel-collapse collapse\" id=\"course3_7\"><div class=\"panel-body\"><div class=\"container-fluid\"><div class=\"row\"><p>The candidate should take the aggregate of all the subjects for 10th.</p></div></div></div></div></div><div class=\"panel panel-default\"><div class=\"panel-heading\" style=\"padding: 0\"><h4 class=\"panel-title\" style=\"display: flex;\"><a class=\"collapsed\" data-parent=\"#accordion3\" data-toggle=\"collapse\" href=\"#course3_8\" style=\"padding: 10px 15px; display:flex; flex-grow: 1;\">Q. 7 What do I do if I am unable to make the payment online?</a></h4></div><div class=\"panel-collapse collapse\" id=\"course3_8\"><div class=\"panel-body\"><div class=\"container-fluid\"><div class=\"row\"><p>Online payments involve multiple agencies and there are chances that your payment is timed out or declined. If you encounter any such problems, we would suggest you to try again with a different debit/credit card or net banking option available and a different browser. If you still face the issue drop a query by clicking on \"Any Query, Ask us\" on your dashboard and share with us the screenshot of the error page, for better understanding of the issue. We will get back to you with a resolution at the earliest.</p></div></div></div></div></div></div>,\n",
       " <div class=\"panel-group accordian-mob\" id=\"accordion4\"><div class=\"panel panel-default\"><div class=\"panel-heading\" style=\"padding: 0\"><h4 class=\"panel-title\" style=\"display: flex;\"><a class=\"collapsed\" data-parent=\"#accordion4\" data-toggle=\"collapse\" href=\"#course4_2\" style=\"padding: 10px 15px; display:flex; flex-grow: 1;\">Q. 1 What is the eligibility criteria for taking XAT 2021?</a></h4></div><div class=\"panel-collapse collapse\" id=\"course4_2\"><div class=\"panel-body\"><div class=\"container-fluid\"><div class=\"row\"><p>Recognized Bachelor’s Degree of minimum three years duration or equivalent in any discipline. Those completing their final examination by June 10, 2021 may also apply. All Indian candidates must appear for XAT 2021. However, NRI and Foreign candidates may apply through GMAT score.</p></div></div></div></div></div><div class=\"panel panel-default\"><div class=\"panel-heading\" style=\"padding: 0\"><h4 class=\"panel-title\" style=\"display: flex;\"><a class=\"collapsed\" data-parent=\"#accordion4\" data-toggle=\"collapse\" href=\"#course4_3\" style=\"padding: 10px 15px; display:flex; flex-grow: 1;\">Q. 2 By Registering and paying for XAT 2021, am I eligible for XLRI and other Associate Member Institutes?</a></h4></div><div class=\"panel-collapse collapse\" id=\"course4_3\"><div class=\"panel-body\"><div class=\"container-fluid\"><div class=\"row\"><p>Candidates interested in XLRI need to apply for the programmes of their choice. Please note that each institution independently decides the weightage to be given for each of the test components on the basis of its need. XLRI does not play any role in selection of the candidates in these institutes for Xat Associate Member Institutes <a href=\"https://xatonline.in/xat-associates.html\" rel=\"noreferrer\" target=\"_blank\"><b>click here </b></a>. XAT is a common test for admission into academic programmes of XLRI.</p></div></div></div></div></div><div class=\"panel panel-default\"><div class=\"panel-heading\" style=\"padding: 0\"><h4 class=\"panel-title\" style=\"display: flex;\"><a class=\"collapsed\" data-parent=\"#accordion4\" data-toggle=\"collapse\" href=\"#course4_4\" style=\"padding: 10px 15px; display:flex; flex-grow: 1;\">Q. 3 Does Internship/Articleship counted as work experience?</a></h4></div><div class=\"panel-collapse collapse\" id=\"course4_4\"><div class=\"panel-body\"><div class=\"container-fluid\"><div class=\"row\"><p>Internship/Articleship is not counted as work experience.</p></div></div></div></div></div><div class=\"panel panel-default\"><div class=\"panel-heading\" style=\"padding: 0\"><h4 class=\"panel-title\" style=\"display: flex;\"><a class=\"collapsed\" data-parent=\"#accordion4\" data-toggle=\"collapse\" href=\"#course4_5\" style=\"padding: 10px 15px; display:flex; flex-grow: 1;\">Q. 4 Does the work experience before Graduation is counted?</a></h4></div><div class=\"panel-collapse collapse\" id=\"course4_5\"><div class=\"panel-body\"><div class=\"container-fluid\"><div class=\"row\"><p>No, only the work experience post the graduation is counted.</p></div></div></div></div></div><div class=\"panel panel-default\"><div class=\"panel-heading\" style=\"padding: 0\"><h4 class=\"panel-title\" style=\"display: flex;\"><a class=\"collapsed\" data-parent=\"#accordion4\" data-toggle=\"collapse\" href=\"#course4_6\" style=\"padding: 10px 15px; display:flex; flex-grow: 1;\">Q. 5 I am in the final year of my graduation, am I eligible to register for XLRI?</a></h4></div><div class=\"panel-collapse collapse\" id=\"course4_6\"><div class=\"panel-body\"><div class=\"container-fluid\"><div class=\"row\"><p>Yes, you are eligible for admission to XLRI. You need to complete your final year examination by June 10, 2021.</p></div></div></div></div></div></div>,\n",
       " <div class=\"panel-group accordian-mob\" id=\"accordion5\"><div class=\"panel panel-default\"><div class=\"panel-heading\" style=\"padding: 0\"><h4 class=\"panel-title\" style=\"display: flex;\"><a class=\"collapsed\" data-parent=\"#accordion5\" data-toggle=\"collapse\" href=\"#course5_2\" style=\"padding: 10px 15px; display:flex; flex-grow: 1;\">Q. 1 How do I apply for Fellow Programme in Management other than XAT or GMAT?</a></h4></div><div class=\"panel-collapse collapse\" id=\"course5_2\"><div class=\"panel-body\"><div class=\"container-fluid\"><div class=\"row\"><p>To Apply for Fellow Programme - <a href=\"\" rel=\"noreferrer\"><b>click here </b></a></p></div></div></div></div></div><div class=\"panel panel-default\"><div class=\"panel-heading\" style=\"padding: 0\"><h4 class=\"panel-title\" style=\"display: flex;\"><a class=\"collapsed\" data-parent=\"#accordion5\" data-toggle=\"collapse\" href=\"#course5_3\" style=\"padding: 10px 15px; display:flex; flex-grow: 1;\">Q. 2 How do I apply for XLRI programe through GMAT?</a></h4></div><div class=\"panel-collapse collapse\" id=\"course5_3\"><div class=\"panel-body\"><div class=\"container-fluid\"><p>To Know More <a href=\"https://xatonline.in/xlri-program-through-gmat.html\" rel=\"noreferrer\" target=\"_blank\"><b>click here </b></a></p><div class=\"row\"> </div></div></div></div></div><div class=\"panel panel-default\"><div class=\"panel-heading\" style=\"padding: 0\"><h4 class=\"panel-title\" style=\"display: flex;\"><a class=\"collapsed\" data-parent=\"#accordion5\" data-toggle=\"collapse\" href=\"#course5_4\" style=\"padding: 10px 15px; display:flex; flex-grow: 1;\">Q. 3 I would like to apply for XLRI Delhi Campus BM programme, How do I apply? Is there any extra fee charged?</a></h4></div><div class=\"panel-collapse collapse\" id=\"course5_4\"><div class=\"panel-body\"><div class=\"container-fluid\"><div class=\"row\"><p>A candidate can apply to XLRI Delhi BM Programme by clicking on BM programme and giving the preference as Delhi. There is no extra fee charged .</p></div></div></div></div></div></div>,\n",
       " <div class=\"panel-group accordian-mob\" id=\"accordion6\"><div class=\"panel panel-default\"><div class=\"panel-heading\" style=\"padding: 0\"><h4 class=\"panel-title\" style=\"display: flex;\"><a class=\"collapsed\" data-parent=\"#accordion6\" data-toggle=\"collapse\" href=\"#course6_2\" style=\"padding: 10px 15px; display:flex; flex-grow: 1;\">Q. 1 I have a query</a></h4></div><div class=\"panel-collapse collapse\" id=\"course6_2\"><div class=\"panel-body\"><div class=\"container-fluid\"><div class=\"row\"><p>In case of any query or concern you may directly reach out to us by dropping your query/concern on \"Any query? Ask us\" on your dashboard. We would be happy to help.</p></div></div></div></div></div><div class=\"panel panel-default\"><div class=\"panel-heading\" style=\"padding: 0\"><h4 class=\"panel-title\" style=\"display: flex;\"><a class=\"collapsed\" data-parent=\"#accordion6\" data-toggle=\"collapse\" href=\"#course6_3\" style=\"padding: 10px 15px; display:flex; flex-grow: 1;\">Q. 2 What should I do if there is lot of delay in accessing the page?</a></h4></div><div class=\"panel-collapse collapse\" id=\"course6_3\"><div class=\"panel-body\"><div class=\"container-fluid\"><div class=\"row\"><p>Speed for Registration of On-Line Application on Internet, is based on various factors like Internet Speed, large number of applicants trying to register the application at the same time etc. Therefore if you are not able to get the pages for registration immediately, please retry after a gap of 15 minutes or during off-peak hours during the night.</p></div></div></div></div></div><!--<div class=\"panel panel-default\"><div class=\"panel-heading\" style=\"padding: 0\"><h4 class=\"panel-title\" style=\"display: flex;\"><a class=\"collapsed\" data-parent=\"#accordion6\" data-toggle=\"collapse\" href=\"#course6_4\" style=\"padding: 10px 15px; display:flex; flex-grow: 1;\">Q. 3 I did not receive the acknowledgement / reply to my email communication?</a></h4></div><div class=\"panel-collapse collapse\" id=\"course6_4\"><div class=\"panel-body\"><div class=\"container-fluid\"><div class=\"row\"><p>\"Reply to\" Email Id for the Application is created for the convenience of the Candidates for genuine communications. Please do not use this address to send back the emails for \"Acknowledgment\", \"Vacation Mail\", \"Friendship Offers\", \"Sales Offers\" etc. Our Email Server is configured to delete such emails automatically.</p></div></div></div></div></div>--><div class=\"panel panel-default\"><div class=\"panel-heading\" style=\"padding: 0\"><h4 class=\"panel-title\" style=\"display: flex;\"><a class=\"collapsed\" data-parent=\"#accordion6\" data-toggle=\"collapse\" href=\"#course6_5\" style=\"padding: 10px 15px; display:flex; flex-grow: 1;\">Q. 3 What details should I retain while replying to auto-response emails?</a></h4></div><div class=\"panel-collapse collapse\" id=\"course6_5\"><div class=\"panel-body\"><div class=\"container-fluid\"><div class=\"row\"><p>You do not need to revert on the Email you can raise a query instead in case of any concerns by clicking on \"Any Query? Ask us\" on your dashboard.</p></div></div></div></div></div></div>]"
      ]
     },
     "execution_count": 6,
     "metadata": {},
     "output_type": "execute_result"
    }
   ],
   "source": [
    "qnas"
   ]
  },
  {
   "cell_type": "code",
   "execution_count": 7,
   "id": "b0fcb3a2",
   "metadata": {
    "execution": {
     "iopub.execute_input": "2022-08-08T08:38:59.943301Z",
     "iopub.status.busy": "2022-08-08T08:38:59.942836Z",
     "iopub.status.idle": "2022-08-08T08:38:59.950142Z",
     "shell.execute_reply": "2022-08-08T08:38:59.948941Z"
    },
    "papermill": {
     "duration": 0.023569,
     "end_time": "2022-08-08T08:38:59.952664",
     "exception": false,
     "start_time": "2022-08-08T08:38:59.929095",
     "status": "completed"
    },
    "tags": []
   },
   "outputs": [],
   "source": [
    "for qna in qnas:\n",
    "    \n",
    "    que = qna.find_all('h4')\n",
    "    for q in que:\n",
    "        w = re.split(r'Q. . ',q.text)[1]\n",
    "        questions.append(w)\n",
    "    ans = qna.find_all('p')\n",
    "    for a in ans:\n",
    "        a = a.text\n",
    "        answers.append(a)"
   ]
  },
  {
   "cell_type": "code",
   "execution_count": 8,
   "id": "3b4280d6",
   "metadata": {
    "execution": {
     "iopub.execute_input": "2022-08-08T08:38:59.979416Z",
     "iopub.status.busy": "2022-08-08T08:38:59.978592Z",
     "iopub.status.idle": "2022-08-08T08:38:59.985706Z",
     "shell.execute_reply": "2022-08-08T08:38:59.984788Z"
    },
    "papermill": {
     "duration": 0.02313,
     "end_time": "2022-08-08T08:38:59.987962",
     "exception": false,
     "start_time": "2022-08-08T08:38:59.964832",
     "status": "completed"
    },
    "tags": []
   },
   "outputs": [
    {
     "data": {
      "text/plain": [
       "(30, 30)"
      ]
     },
     "execution_count": 8,
     "metadata": {},
     "output_type": "execute_result"
    }
   ],
   "source": [
    "len(questions), len(answers)"
   ]
  },
  {
   "cell_type": "code",
   "execution_count": 9,
   "id": "79a10da5",
   "metadata": {
    "execution": {
     "iopub.execute_input": "2022-08-08T08:39:00.014862Z",
     "iopub.status.busy": "2022-08-08T08:39:00.014034Z",
     "iopub.status.idle": "2022-08-08T08:39:00.019108Z",
     "shell.execute_reply": "2022-08-08T08:39:00.018355Z"
    },
    "papermill": {
     "duration": 0.021412,
     "end_time": "2022-08-08T08:39:00.021497",
     "exception": false,
     "start_time": "2022-08-08T08:39:00.000085",
     "status": "completed"
    },
    "tags": []
   },
   "outputs": [],
   "source": [
    "questions = np.array(questions).flatten()"
   ]
  },
  {
   "cell_type": "code",
   "execution_count": 10,
   "id": "17504b89",
   "metadata": {
    "execution": {
     "iopub.execute_input": "2022-08-08T08:39:00.049288Z",
     "iopub.status.busy": "2022-08-08T08:39:00.048468Z",
     "iopub.status.idle": "2022-08-08T08:39:00.070524Z",
     "shell.execute_reply": "2022-08-08T08:39:00.069386Z"
    },
    "papermill": {
     "duration": 0.039161,
     "end_time": "2022-08-08T08:39:00.073065",
     "exception": false,
     "start_time": "2022-08-08T08:39:00.033904",
     "status": "completed"
    },
    "tags": []
   },
   "outputs": [
    {
     "data": {
      "text/html": [
       "<div>\n",
       "<style scoped>\n",
       "    .dataframe tbody tr th:only-of-type {\n",
       "        vertical-align: middle;\n",
       "    }\n",
       "\n",
       "    .dataframe tbody tr th {\n",
       "        vertical-align: top;\n",
       "    }\n",
       "\n",
       "    .dataframe thead th {\n",
       "        text-align: right;\n",
       "    }\n",
       "</style>\n",
       "<table border=\"1\" class=\"dataframe\">\n",
       "  <thead>\n",
       "    <tr style=\"text-align: right;\">\n",
       "      <th></th>\n",
       "      <th>Questions</th>\n",
       "      <th>Answers</th>\n",
       "    </tr>\n",
       "  </thead>\n",
       "  <tbody>\n",
       "    <tr>\n",
       "      <th>0</th>\n",
       "      <td>How do I know that my application is registered?</td>\n",
       "      <td>Successful Registration is indicated by the Pa...</td>\n",
       "    </tr>\n",
       "    <tr>\n",
       "      <th>1</th>\n",
       "      <td>I did not receive the email intimation for reg...</td>\n",
       "      <td>Delivery of these Emails and SMS purely depend...</td>\n",
       "    </tr>\n",
       "    <tr>\n",
       "      <th>2</th>\n",
       "      <td>I have forgotten my XAT password, could you help!</td>\n",
       "      <td>Navigate to website, click on \"Login\" and then...</td>\n",
       "    </tr>\n",
       "    <tr>\n",
       "      <th>3</th>\n",
       "      <td>When shall I receive the XAT 2021 Admit Card?</td>\n",
       "      <td>You can download the admit card from our websi...</td>\n",
       "    </tr>\n",
       "    <tr>\n",
       "      <th>4</th>\n",
       "      <td>What is the duration of the test?</td>\n",
       "      <td>The duration of the test will be of three hour...</td>\n",
       "    </tr>\n",
       "    <tr>\n",
       "      <th>5</th>\n",
       "      <td>When are XAT 2021 results out?</td>\n",
       "      <td>The XAT Result will be declared 3 weeks after ...</td>\n",
       "    </tr>\n",
       "    <tr>\n",
       "      <th>6</th>\n",
       "      <td>Will there be any sectional time limits or ove...</td>\n",
       "      <td>There will be only overall time limits, there ...</td>\n",
       "    </tr>\n",
       "    <tr>\n",
       "      <th>7</th>\n",
       "      <td>Will the candidates have access to an on scree...</td>\n",
       "      <td>No, the candidates will not be given access to...</td>\n",
       "    </tr>\n",
       "    <tr>\n",
       "      <th>8</th>\n",
       "      <td>Will the candidates be able to choose the orde...</td>\n",
       "      <td>Yes the candidates can choose any section to b...</td>\n",
       "    </tr>\n",
       "    <tr>\n",
       "      <th>9</th>\n",
       "      <td>Can the candidates switch between sections - h...</td>\n",
       "      <td>Yes.</td>\n",
       "    </tr>\n",
       "    <tr>\n",
       "      <th>10</th>\n",
       "      <td>With sectional partitions, will the candidate ...</td>\n",
       "      <td>All three sections will be open to the candida...</td>\n",
       "    </tr>\n",
       "    <tr>\n",
       "      <th>11</th>\n",
       "      <td>What happens in case of any technical glitch i...</td>\n",
       "      <td>In the unlikely case of a technical glitch the...</td>\n",
       "    </tr>\n",
       "    <tr>\n",
       "      <th>12</th>\n",
       "      <td>How do I re-confirm that my application is saved?</td>\n",
       "      <td>In case of doubt about the successful Registra...</td>\n",
       "    </tr>\n",
       "    <tr>\n",
       "      <th>13</th>\n",
       "      <td>After filling up the complete form, I got Blan...</td>\n",
       "      <td>In the above scenario the Application Form wil...</td>\n",
       "    </tr>\n",
       "    <tr>\n",
       "      <th>14</th>\n",
       "      <td>I want to change / correct the details I enter...</td>\n",
       "      <td>We do not entertain any changes in the Applica...</td>\n",
       "    </tr>\n",
       "    <tr>\n",
       "      <th>15</th>\n",
       "      <td>I am in the final year of my graduation, what ...</td>\n",
       "      <td>marks obtained in the last semester till the t...</td>\n",
       "    </tr>\n",
       "    <tr>\n",
       "      <th>16</th>\n",
       "      <td>I have done 5 years integrated course, so how ...</td>\n",
       "      <td>Candidates who have done 5 years integrated co...</td>\n",
       "    </tr>\n",
       "    <tr>\n",
       "      <th>17</th>\n",
       "      <td>How do I calculate the aggregate marks for CBS...</td>\n",
       "      <td>The candidate should take the aggregate of all...</td>\n",
       "    </tr>\n",
       "    <tr>\n",
       "      <th>18</th>\n",
       "      <td>What do I do if I am unable to make the paymen...</td>\n",
       "      <td>Online payments involve multiple agencies and ...</td>\n",
       "    </tr>\n",
       "    <tr>\n",
       "      <th>19</th>\n",
       "      <td>What is the eligibility criteria for taking XA...</td>\n",
       "      <td>Recognized Bachelor’s Degree of minimum three ...</td>\n",
       "    </tr>\n",
       "    <tr>\n",
       "      <th>20</th>\n",
       "      <td>By Registering and paying for XAT 2021, am I e...</td>\n",
       "      <td>Candidates interested in XLRI need to apply fo...</td>\n",
       "    </tr>\n",
       "    <tr>\n",
       "      <th>21</th>\n",
       "      <td>Does Internship/Articleship counted as work ex...</td>\n",
       "      <td>Internship/Articleship is not counted as work ...</td>\n",
       "    </tr>\n",
       "    <tr>\n",
       "      <th>22</th>\n",
       "      <td>Does the work experience before Graduation is ...</td>\n",
       "      <td>No, only the work experience post the graduati...</td>\n",
       "    </tr>\n",
       "    <tr>\n",
       "      <th>23</th>\n",
       "      <td>I am in the final year of my graduation, am I ...</td>\n",
       "      <td>Yes, you are eligible for admission to XLRI. Y...</td>\n",
       "    </tr>\n",
       "    <tr>\n",
       "      <th>24</th>\n",
       "      <td>How do I apply for Fellow Programme in Managem...</td>\n",
       "      <td>To Apply for Fellow Programme - click here</td>\n",
       "    </tr>\n",
       "    <tr>\n",
       "      <th>25</th>\n",
       "      <td>How do I apply for XLRI programe through GMAT?</td>\n",
       "      <td>To Know More click here</td>\n",
       "    </tr>\n",
       "    <tr>\n",
       "      <th>26</th>\n",
       "      <td>I would like to apply for XLRI Delhi Campus BM...</td>\n",
       "      <td>A candidate can apply to XLRI Delhi BM Program...</td>\n",
       "    </tr>\n",
       "    <tr>\n",
       "      <th>27</th>\n",
       "      <td>I have a query</td>\n",
       "      <td>In case of any query or concern you may direct...</td>\n",
       "    </tr>\n",
       "    <tr>\n",
       "      <th>28</th>\n",
       "      <td>What should I do if there is lot of delay in a...</td>\n",
       "      <td>Speed for Registration of On-Line Application ...</td>\n",
       "    </tr>\n",
       "    <tr>\n",
       "      <th>29</th>\n",
       "      <td>What details should I retain while replying to...</td>\n",
       "      <td>You do not need to revert on the Email you can...</td>\n",
       "    </tr>\n",
       "  </tbody>\n",
       "</table>\n",
       "</div>"
      ],
      "text/plain": [
       "                                            Questions  \\\n",
       "0    How do I know that my application is registered?   \n",
       "1   I did not receive the email intimation for reg...   \n",
       "2   I have forgotten my XAT password, could you help!   \n",
       "3       When shall I receive the XAT 2021 Admit Card?   \n",
       "4                   What is the duration of the test?   \n",
       "5                      When are XAT 2021 results out?   \n",
       "6   Will there be any sectional time limits or ove...   \n",
       "7   Will the candidates have access to an on scree...   \n",
       "8   Will the candidates be able to choose the orde...   \n",
       "9   Can the candidates switch between sections - h...   \n",
       "10  With sectional partitions, will the candidate ...   \n",
       "11  What happens in case of any technical glitch i...   \n",
       "12  How do I re-confirm that my application is saved?   \n",
       "13  After filling up the complete form, I got Blan...   \n",
       "14  I want to change / correct the details I enter...   \n",
       "15  I am in the final year of my graduation, what ...   \n",
       "16  I have done 5 years integrated course, so how ...   \n",
       "17  How do I calculate the aggregate marks for CBS...   \n",
       "18  What do I do if I am unable to make the paymen...   \n",
       "19  What is the eligibility criteria for taking XA...   \n",
       "20  By Registering and paying for XAT 2021, am I e...   \n",
       "21  Does Internship/Articleship counted as work ex...   \n",
       "22  Does the work experience before Graduation is ...   \n",
       "23  I am in the final year of my graduation, am I ...   \n",
       "24  How do I apply for Fellow Programme in Managem...   \n",
       "25     How do I apply for XLRI programe through GMAT?   \n",
       "26  I would like to apply for XLRI Delhi Campus BM...   \n",
       "27                                     I have a query   \n",
       "28  What should I do if there is lot of delay in a...   \n",
       "29  What details should I retain while replying to...   \n",
       "\n",
       "                                              Answers  \n",
       "0   Successful Registration is indicated by the Pa...  \n",
       "1   Delivery of these Emails and SMS purely depend...  \n",
       "2   Navigate to website, click on \"Login\" and then...  \n",
       "3   You can download the admit card from our websi...  \n",
       "4   The duration of the test will be of three hour...  \n",
       "5   The XAT Result will be declared 3 weeks after ...  \n",
       "6   There will be only overall time limits, there ...  \n",
       "7   No, the candidates will not be given access to...  \n",
       "8   Yes the candidates can choose any section to b...  \n",
       "9                                                Yes.  \n",
       "10  All three sections will be open to the candida...  \n",
       "11  In the unlikely case of a technical glitch the...  \n",
       "12  In case of doubt about the successful Registra...  \n",
       "13  In the above scenario the Application Form wil...  \n",
       "14  We do not entertain any changes in the Applica...  \n",
       "15  marks obtained in the last semester till the t...  \n",
       "16  Candidates who have done 5 years integrated co...  \n",
       "17  The candidate should take the aggregate of all...  \n",
       "18  Online payments involve multiple agencies and ...  \n",
       "19  Recognized Bachelor’s Degree of minimum three ...  \n",
       "20  Candidates interested in XLRI need to apply fo...  \n",
       "21  Internship/Articleship is not counted as work ...  \n",
       "22  No, only the work experience post the graduati...  \n",
       "23  Yes, you are eligible for admission to XLRI. Y...  \n",
       "24        To Apply for Fellow Programme - click here   \n",
       "25                           To Know More click here   \n",
       "26  A candidate can apply to XLRI Delhi BM Program...  \n",
       "27  In case of any query or concern you may direct...  \n",
       "28  Speed for Registration of On-Line Application ...  \n",
       "29  You do not need to revert on the Email you can...  "
      ]
     },
     "execution_count": 10,
     "metadata": {},
     "output_type": "execute_result"
    }
   ],
   "source": [
    "pd.DataFrame({'Questions':questions,'Answers':answers})"
   ]
  },
  {
   "cell_type": "code",
   "execution_count": 11,
   "id": "72a2eb71",
   "metadata": {
    "execution": {
     "iopub.execute_input": "2022-08-08T08:39:00.100747Z",
     "iopub.status.busy": "2022-08-08T08:39:00.099923Z",
     "iopub.status.idle": "2022-08-08T08:39:00.105820Z",
     "shell.execute_reply": "2022-08-08T08:39:00.104763Z"
    },
    "papermill": {
     "duration": 0.02259,
     "end_time": "2022-08-08T08:39:00.108351",
     "exception": false,
     "start_time": "2022-08-08T08:39:00.085761",
     "status": "completed"
    },
    "tags": []
   },
   "outputs": [],
   "source": [
    "def get_unique(array):\n",
    "    unique_list = []\n",
    "    for x in array:\n",
    "        if x not in unique_list:\n",
    "            unique_list.append(x)\n",
    "            \n",
    "    return unique_list"
   ]
  },
  {
   "cell_type": "code",
   "execution_count": 12,
   "id": "690e455f",
   "metadata": {
    "execution": {
     "iopub.execute_input": "2022-08-08T08:39:00.136436Z",
     "iopub.status.busy": "2022-08-08T08:39:00.135616Z",
     "iopub.status.idle": "2022-08-08T08:39:00.143883Z",
     "shell.execute_reply": "2022-08-08T08:39:00.143012Z"
    },
    "papermill": {
     "duration": 0.025322,
     "end_time": "2022-08-08T08:39:00.146433",
     "exception": false,
     "start_time": "2022-08-08T08:39:00.121111",
     "status": "completed"
    },
    "tags": []
   },
   "outputs": [],
   "source": [
    "lemmatizer = WordNetLemmatizer()\n",
    "\n",
    "def preprocess(sent):\n",
    "    \n",
    "    not_words = ['who','where','what','why','where','how','i','can','when','must','should','get']\n",
    "    \n",
    "    #Removing Punctuations\n",
    "    for p in list(punctuation):\n",
    "        sent = sent.replace(p,' ')\n",
    "        \n",
    "    sent = sent.lower().split()\n",
    "    \n",
    "    #Removing stopwords and unnecessary words\n",
    "    stop_words = set(stopwords.words('english'))\n",
    "    sent = [i for i in sent if i not in stop_words]\n",
    "    sent = [i for i in sent if i not in not_words]\n",
    "    \n",
    "    #Lemmatizing the words\n",
    "    sent = [lemmatizer.lemmatize(item, pos='v') for item in sent]\n",
    "    \n",
    "    return get_unique(sent)"
   ]
  },
  {
   "cell_type": "code",
   "execution_count": 13,
   "id": "0ac76fca",
   "metadata": {
    "execution": {
     "iopub.execute_input": "2022-08-08T08:39:00.174399Z",
     "iopub.status.busy": "2022-08-08T08:39:00.173607Z",
     "iopub.status.idle": "2022-08-08T08:39:00.182013Z",
     "shell.execute_reply": "2022-08-08T08:39:00.181221Z"
    },
    "papermill": {
     "duration": 0.025487,
     "end_time": "2022-08-08T08:39:00.184827",
     "exception": false,
     "start_time": "2022-08-08T08:39:00.159340",
     "status": "completed"
    },
    "tags": []
   },
   "outputs": [],
   "source": [
    "# This bot quits when q is given as the input\n",
    "def ask_me(response):\n",
    "     \n",
    "    while(1):\n",
    "        \n",
    "        if response.lower() == 'q':\n",
    "            print(\"Quitting the bot...\")\n",
    "            break  \n",
    "        \n",
    "        i = 0\n",
    "        chosen = len(questions)\n",
    "        matches = 0\n",
    "        list_response = preprocess(response)\n",
    "\n",
    "        while i < len(questions):\n",
    "            loc_matches = 0\n",
    "            x = questions[i] + ' '.join(answers[i])\n",
    "            list_x = preprocess(x)\n",
    "\n",
    "            for word in list_x:\n",
    "                if word in list_response:\n",
    "                    loc_matches += 1\n",
    "\n",
    "            if loc_matches > matches:\n",
    "                chosen = i\n",
    "                matches = loc_matches\n",
    "            i = i + 1\n",
    "    \n",
    "        if chosen < len(questions):\n",
    "            ans = answers[chosen]\n",
    "            print(ans)\n",
    "        else:\n",
    "            print(\"I am unable to answer to your question. Please reach out to support@website.com\")\n",
    "        break"
   ]
  },
  {
   "cell_type": "code",
   "execution_count": 14,
   "id": "b0a38a2e",
   "metadata": {
    "execution": {
     "iopub.execute_input": "2022-08-08T08:39:00.211878Z",
     "iopub.status.busy": "2022-08-08T08:39:00.211492Z",
     "iopub.status.idle": "2022-08-08T08:39:02.180333Z",
     "shell.execute_reply": "2022-08-08T08:39:02.179538Z"
    },
    "papermill": {
     "duration": 1.985278,
     "end_time": "2022-08-08T08:39:02.182747",
     "exception": false,
     "start_time": "2022-08-08T08:39:00.197469",
     "status": "completed"
    },
    "tags": []
   },
   "outputs": [
    {
     "name": "stdout",
     "output_type": "stream",
     "text": [
      "Navigate to website, click on \"Login\" and then \"Forgot Password\", follow the steps to change the password.\n"
     ]
    }
   ],
   "source": [
    "ask_me(\"I forgot my password\")"
   ]
  },
  {
   "cell_type": "code",
   "execution_count": 15,
   "id": "3b4c1d27",
   "metadata": {
    "execution": {
     "iopub.execute_input": "2022-08-08T08:39:02.210901Z",
     "iopub.status.busy": "2022-08-08T08:39:02.210080Z",
     "iopub.status.idle": "2022-08-08T08:39:02.234664Z",
     "shell.execute_reply": "2022-08-08T08:39:02.233128Z"
    },
    "papermill": {
     "duration": 0.041137,
     "end_time": "2022-08-08T08:39:02.237101",
     "exception": false,
     "start_time": "2022-08-08T08:39:02.195964",
     "status": "completed"
    },
    "tags": []
   },
   "outputs": [
    {
     "name": "stdout",
     "output_type": "stream",
     "text": [
      "The duration of the test will be of three hours i.e. from 9:30 AM to 12.30 PM on January 03, 2021, Sunday.\n"
     ]
    }
   ],
   "source": [
    "ask_me(\"What is the duration of the test\")"
   ]
  },
  {
   "cell_type": "code",
   "execution_count": 16,
   "id": "e9a1d05a",
   "metadata": {
    "execution": {
     "iopub.execute_input": "2022-08-08T08:39:02.265426Z",
     "iopub.status.busy": "2022-08-08T08:39:02.264975Z",
     "iopub.status.idle": "2022-08-08T08:39:02.290118Z",
     "shell.execute_reply": "2022-08-08T08:39:02.288621Z"
    },
    "papermill": {
     "duration": 0.042894,
     "end_time": "2022-08-08T08:39:02.293324",
     "exception": false,
     "start_time": "2022-08-08T08:39:02.250430",
     "status": "completed"
    },
    "tags": []
   },
   "outputs": [
    {
     "name": "stdout",
     "output_type": "stream",
     "text": [
      "The XAT Result will be declared 3 weeks after the conduct of XAT-2021\n"
     ]
    }
   ],
   "source": [
    "ask_me(\"When will the results be out?\")"
   ]
  },
  {
   "cell_type": "code",
   "execution_count": 17,
   "id": "c6d63cd8",
   "metadata": {
    "execution": {
     "iopub.execute_input": "2022-08-08T08:39:02.322090Z",
     "iopub.status.busy": "2022-08-08T08:39:02.321684Z",
     "iopub.status.idle": "2022-08-08T08:39:02.344216Z",
     "shell.execute_reply": "2022-08-08T08:39:02.343209Z"
    },
    "papermill": {
     "duration": 0.039334,
     "end_time": "2022-08-08T08:39:02.346488",
     "exception": false,
     "start_time": "2022-08-08T08:39:02.307154",
     "status": "completed"
    },
    "tags": []
   },
   "outputs": [
    {
     "name": "stdout",
     "output_type": "stream",
     "text": [
      "Yes the candidates can choose any section to begin with.\n"
     ]
    }
   ],
   "source": [
    "ask_me(\"Can I answer sections in any order?\")"
   ]
  },
  {
   "cell_type": "code",
   "execution_count": 18,
   "id": "804f46c7",
   "metadata": {
    "execution": {
     "iopub.execute_input": "2022-08-08T08:39:02.374662Z",
     "iopub.status.busy": "2022-08-08T08:39:02.374031Z",
     "iopub.status.idle": "2022-08-08T08:39:02.396183Z",
     "shell.execute_reply": "2022-08-08T08:39:02.395153Z"
    },
    "papermill": {
     "duration": 0.038934,
     "end_time": "2022-08-08T08:39:02.398466",
     "exception": false,
     "start_time": "2022-08-08T08:39:02.359532",
     "status": "completed"
    },
    "tags": []
   },
   "outputs": [
    {
     "name": "stdout",
     "output_type": "stream",
     "text": [
      "We do not entertain any changes in the Application form until it's very crucial. For that matter you need to raise a query by clicking \"Any Query? Ask us\" on your dashboard.\n"
     ]
    }
   ],
   "source": [
    "ask_me(\"How to change some of the details in my application\")"
   ]
  },
  {
   "cell_type": "code",
   "execution_count": 19,
   "id": "50627f58",
   "metadata": {
    "execution": {
     "iopub.execute_input": "2022-08-08T08:39:02.427127Z",
     "iopub.status.busy": "2022-08-08T08:39:02.426374Z",
     "iopub.status.idle": "2022-08-08T08:39:02.450068Z",
     "shell.execute_reply": "2022-08-08T08:39:02.448695Z"
    },
    "papermill": {
     "duration": 0.040893,
     "end_time": "2022-08-08T08:39:02.452550",
     "exception": false,
     "start_time": "2022-08-08T08:39:02.411657",
     "status": "completed"
    },
    "tags": []
   },
   "outputs": [
    {
     "name": "stdout",
     "output_type": "stream",
     "text": [
      "The candidate should take the aggregate of all the subjects for 10th.\n"
     ]
    }
   ],
   "source": [
    "ask_me(\"How to calculate arks for CBSE?\")"
   ]
  },
  {
   "cell_type": "code",
   "execution_count": 20,
   "id": "b2906924",
   "metadata": {
    "execution": {
     "iopub.execute_input": "2022-08-08T08:39:02.481117Z",
     "iopub.status.busy": "2022-08-08T08:39:02.480401Z",
     "iopub.status.idle": "2022-08-08T08:39:02.502835Z",
     "shell.execute_reply": "2022-08-08T08:39:02.501694Z"
    },
    "papermill": {
     "duration": 0.039502,
     "end_time": "2022-08-08T08:39:02.505304",
     "exception": false,
     "start_time": "2022-08-08T08:39:02.465802",
     "status": "completed"
    },
    "tags": []
   },
   "outputs": [
    {
     "name": "stdout",
     "output_type": "stream",
     "text": [
      "Online payments involve multiple agencies and there are chances that your payment is timed out or declined. If you encounter any such problems, we would suggest you to try again with a different debit/credit card or net banking option available and a different browser. If you still face the issue drop a query by clicking on \"Any Query, Ask us\" on your dashboard and share with us the screenshot of the error page, for better understanding of the issue. We will get back to you with a resolution at the earliest.\n"
     ]
    }
   ],
   "source": [
    "ask_me(\"I am unable to make payment\")"
   ]
  },
  {
   "cell_type": "code",
   "execution_count": 21,
   "id": "eb88518b",
   "metadata": {
    "execution": {
     "iopub.execute_input": "2022-08-08T08:39:02.534169Z",
     "iopub.status.busy": "2022-08-08T08:39:02.533427Z",
     "iopub.status.idle": "2022-08-08T08:39:02.555890Z",
     "shell.execute_reply": "2022-08-08T08:39:02.554758Z"
    },
    "papermill": {
     "duration": 0.039893,
     "end_time": "2022-08-08T08:39:02.558595",
     "exception": false,
     "start_time": "2022-08-08T08:39:02.518702",
     "status": "completed"
    },
    "tags": []
   },
   "outputs": [
    {
     "name": "stdout",
     "output_type": "stream",
     "text": [
      "Recognized Bachelor’s Degree of minimum three years duration or equivalent in any discipline. Those completing their final examination by June 10, 2021 may also apply. All Indian candidates must appear for XAT 2021. However, NRI and Foreign candidates may apply through GMAT score.\n"
     ]
    }
   ],
   "source": [
    "ask_me(\"What is the eligibility?\")"
   ]
  },
  {
   "cell_type": "code",
   "execution_count": 22,
   "id": "6475e673",
   "metadata": {
    "execution": {
     "iopub.execute_input": "2022-08-08T08:39:02.587014Z",
     "iopub.status.busy": "2022-08-08T08:39:02.586617Z",
     "iopub.status.idle": "2022-08-08T08:39:02.610646Z",
     "shell.execute_reply": "2022-08-08T08:39:02.609526Z"
    },
    "papermill": {
     "duration": 0.041307,
     "end_time": "2022-08-08T08:39:02.613413",
     "exception": false,
     "start_time": "2022-08-08T08:39:02.572106",
     "status": "completed"
    },
    "tags": []
   },
   "outputs": [
    {
     "name": "stdout",
     "output_type": "stream",
     "text": [
      "Internship/Articleship is not counted as work experience.\n"
     ]
    }
   ],
   "source": [
    "ask_me(\"Can I include internships in my work experience?\")"
   ]
  },
  {
   "cell_type": "code",
   "execution_count": 23,
   "id": "03f061cb",
   "metadata": {
    "execution": {
     "iopub.execute_input": "2022-08-08T08:39:02.643180Z",
     "iopub.status.busy": "2022-08-08T08:39:02.641990Z",
     "iopub.status.idle": "2022-08-08T08:39:02.666698Z",
     "shell.execute_reply": "2022-08-08T08:39:02.665283Z"
    },
    "papermill": {
     "duration": 0.042762,
     "end_time": "2022-08-08T08:39:02.669628",
     "exception": false,
     "start_time": "2022-08-08T08:39:02.626866",
     "status": "completed"
    },
    "tags": []
   },
   "outputs": [
    {
     "name": "stdout",
     "output_type": "stream",
     "text": [
      "I am unable to answer to your question. Please reach out to support@website.com\n"
     ]
    }
   ],
   "source": [
    "ask_me(\" Is this easier than CAT?\")"
   ]
  },
  {
   "cell_type": "code",
   "execution_count": 24,
   "id": "f247acfa",
   "metadata": {
    "execution": {
     "iopub.execute_input": "2022-08-08T08:39:02.698783Z",
     "iopub.status.busy": "2022-08-08T08:39:02.697993Z",
     "iopub.status.idle": "2022-08-08T08:39:02.722150Z",
     "shell.execute_reply": "2022-08-08T08:39:02.720507Z"
    },
    "papermill": {
     "duration": 0.041891,
     "end_time": "2022-08-08T08:39:02.725374",
     "exception": false,
     "start_time": "2022-08-08T08:39:02.683483",
     "status": "completed"
    },
    "tags": []
   },
   "outputs": [
    {
     "name": "stdout",
     "output_type": "stream",
     "text": [
      "Candidates interested in XLRI need to apply for the programmes of their choice. Please note that each institution independently decides the weightage to be given for each of the test components on the basis of its need. XLRI does not play any role in selection of the candidates in these institutes for Xat Associate Member Institutes click here . XAT is a common test for admission into academic programmes of XLRI.\n"
     ]
    }
   ],
   "source": [
    "ask_me(\"Is Xavier Institute of Management better than IIM A?\")"
   ]
  },
  {
   "cell_type": "code",
   "execution_count": 25,
   "id": "80ad7def",
   "metadata": {
    "execution": {
     "iopub.execute_input": "2022-08-08T08:39:02.755440Z",
     "iopub.status.busy": "2022-08-08T08:39:02.754223Z",
     "iopub.status.idle": "2022-08-08T08:39:02.777004Z",
     "shell.execute_reply": "2022-08-08T08:39:02.776224Z"
    },
    "papermill": {
     "duration": 0.039905,
     "end_time": "2022-08-08T08:39:02.779388",
     "exception": false,
     "start_time": "2022-08-08T08:39:02.739483",
     "status": "completed"
    },
    "tags": []
   },
   "outputs": [
    {
     "name": "stdout",
     "output_type": "stream",
     "text": [
      "Candidates interested in XLRI need to apply for the programmes of their choice. Please note that each institution independently decides the weightage to be given for each of the test components on the basis of its need. XLRI does not play any role in selection of the candidates in these institutes for Xat Associate Member Institutes click here . XAT is a common test for admission into academic programmes of XLRI.\n"
     ]
    }
   ],
   "source": [
    "ask_me(\"What is the NIRF ranking for XLRI?\")"
   ]
  },
  {
   "cell_type": "code",
   "execution_count": 26,
   "id": "eb3554b8",
   "metadata": {
    "execution": {
     "iopub.execute_input": "2022-08-08T08:39:02.808780Z",
     "iopub.status.busy": "2022-08-08T08:39:02.808038Z",
     "iopub.status.idle": "2022-08-08T08:39:02.831821Z",
     "shell.execute_reply": "2022-08-08T08:39:02.830173Z"
    },
    "papermill": {
     "duration": 0.041538,
     "end_time": "2022-08-08T08:39:02.834532",
     "exception": false,
     "start_time": "2022-08-08T08:39:02.792994",
     "status": "completed"
    },
    "tags": []
   },
   "outputs": [
    {
     "name": "stdout",
     "output_type": "stream",
     "text": [
      "No, the candidates will not be given access to on screen calculator\n"
     ]
    }
   ],
   "source": [
    "ask_me(\"Can I use calculator?\")"
   ]
  },
  {
   "cell_type": "code",
   "execution_count": 27,
   "id": "cf88b632",
   "metadata": {
    "execution": {
     "iopub.execute_input": "2022-08-08T08:39:02.864281Z",
     "iopub.status.busy": "2022-08-08T08:39:02.863859Z",
     "iopub.status.idle": "2022-08-08T08:39:02.869400Z",
     "shell.execute_reply": "2022-08-08T08:39:02.868191Z"
    },
    "papermill": {
     "duration": 0.023229,
     "end_time": "2022-08-08T08:39:02.871841",
     "exception": false,
     "start_time": "2022-08-08T08:39:02.848612",
     "status": "completed"
    },
    "tags": []
   },
   "outputs": [
    {
     "name": "stdout",
     "output_type": "stream",
     "text": [
      "Quitting the bot...\n"
     ]
    }
   ],
   "source": [
    "ask_me(\"Q\")"
   ]
  },
  {
   "cell_type": "code",
   "execution_count": 28,
   "id": "a687ff23",
   "metadata": {
    "execution": {
     "iopub.execute_input": "2022-08-08T08:39:02.901252Z",
     "iopub.status.busy": "2022-08-08T08:39:02.900802Z",
     "iopub.status.idle": "2022-08-08T08:39:02.925547Z",
     "shell.execute_reply": "2022-08-08T08:39:02.923869Z"
    },
    "papermill": {
     "duration": 0.042416,
     "end_time": "2022-08-08T08:39:02.928151",
     "exception": false,
     "start_time": "2022-08-08T08:39:02.885735",
     "status": "completed"
    },
    "tags": []
   },
   "outputs": [
    {
     "name": "stdout",
     "output_type": "stream",
     "text": [
      "I am unable to answer to your question. Please reach out to support@website.com\n"
     ]
    }
   ],
   "source": [
    "ask_me(\"can I get the contact number of the Dean?\")"
   ]
  },
  {
   "cell_type": "code",
   "execution_count": 29,
   "id": "17d88058",
   "metadata": {
    "execution": {
     "iopub.execute_input": "2022-08-08T08:39:02.957948Z",
     "iopub.status.busy": "2022-08-08T08:39:02.957539Z",
     "iopub.status.idle": "2022-08-08T08:39:02.981871Z",
     "shell.execute_reply": "2022-08-08T08:39:02.980550Z"
    },
    "papermill": {
     "duration": 0.041982,
     "end_time": "2022-08-08T08:39:02.984447",
     "exception": false,
     "start_time": "2022-08-08T08:39:02.942465",
     "status": "completed"
    },
    "tags": []
   },
   "outputs": [
    {
     "name": "stdout",
     "output_type": "stream",
     "text": [
      "Yes, you are eligible for admission to XLRI. You need to complete your final year examination by June 10, 2021.\n"
     ]
    }
   ],
   "source": [
    "ask_me(\"What is the hostel fee for the 2 year programme?\")"
   ]
  },
  {
   "cell_type": "markdown",
   "id": "fe1a6e49",
   "metadata": {
    "papermill": {
     "duration": 0.013241,
     "end_time": "2022-08-08T08:39:03.011193",
     "exception": false,
     "start_time": "2022-08-08T08:39:02.997952",
     "status": "completed"
    },
    "tags": []
   },
   "source": [
    "As we can see, this chatbot is unable to understand the context but can match the words and can match the words with the already available questions to provide the answer. \n",
    "\n",
    "I will try to design a chatbot using CountVectorizer."
   ]
  },
  {
   "cell_type": "code",
   "execution_count": 30,
   "id": "39d10535",
   "metadata": {
    "execution": {
     "iopub.execute_input": "2022-08-08T08:39:03.041536Z",
     "iopub.status.busy": "2022-08-08T08:39:03.040555Z",
     "iopub.status.idle": "2022-08-08T08:39:03.049522Z",
     "shell.execute_reply": "2022-08-08T08:39:03.048332Z"
    },
    "papermill": {
     "duration": 0.027268,
     "end_time": "2022-08-08T08:39:03.052244",
     "exception": false,
     "start_time": "2022-08-08T08:39:03.024976",
     "status": "completed"
    },
    "tags": []
   },
   "outputs": [],
   "source": [
    "def preprocess_tfidf(sent):\n",
    "    \n",
    "    not_words = ['who','where','what','why','where','how','i','can','when','must','should','get']\n",
    "    \n",
    "    #Removing Punctuations\n",
    "    for p in list(punctuation):\n",
    "        sent = sent.replace(p,' ')\n",
    "        \n",
    "    sent = sent.lower().split()\n",
    "    \n",
    "    #Removing stopwords and unnecessary words\n",
    "    stop_words = set(stopwords.words('english'))\n",
    "    sent = [i for i in sent if i not in stop_words]\n",
    "    sent = [i for i in sent if i not in not_words]\n",
    "    \n",
    "    #Lemmatizing the words\n",
    "    sent = [lemmatizer.lemmatize(item, pos='v') for item in sent]\n",
    "    \n",
    "    return ' '.join(get_unique(sent))"
   ]
  },
  {
   "cell_type": "code",
   "execution_count": 31,
   "id": "c7def00d",
   "metadata": {
    "execution": {
     "iopub.execute_input": "2022-08-08T08:39:03.082119Z",
     "iopub.status.busy": "2022-08-08T08:39:03.081108Z",
     "iopub.status.idle": "2022-08-08T08:39:03.088532Z",
     "shell.execute_reply": "2022-08-08T08:39:03.087387Z"
    },
    "papermill": {
     "duration": 0.024734,
     "end_time": "2022-08-08T08:39:03.091039",
     "exception": false,
     "start_time": "2022-08-08T08:39:03.066305",
     "status": "completed"
    },
    "tags": []
   },
   "outputs": [],
   "source": [
    "def tfidf_bot(string):\n",
    "    count = CountVectorizer()\n",
    "    \n",
    "    count_questions = count.fit_transform([preprocess_tfidf(question) for question in questions])\n",
    "    count_string = count.transform([preprocess_tfidf(string)])\n",
    "    \n",
    "    \n",
    "    cosine_sim = cosine_similarity(count_string,count_questions)\n",
    "    \n",
    "    max_cosine = np.max(cosine_sim)\n",
    "    index = np.argmax(cosine_sim)\n",
    "\n",
    "    if max_cosine >= 0.35:\n",
    "        print(answers[index])\n",
    "    else:\n",
    "        print(\"I am unable to answer to your question. Please reach out to support@website.com\")"
   ]
  },
  {
   "cell_type": "code",
   "execution_count": 32,
   "id": "f08ae4ee",
   "metadata": {
    "execution": {
     "iopub.execute_input": "2022-08-08T08:39:03.120225Z",
     "iopub.status.busy": "2022-08-08T08:39:03.119811Z",
     "iopub.status.idle": "2022-08-08T08:39:03.141384Z",
     "shell.execute_reply": "2022-08-08T08:39:03.140238Z"
    },
    "papermill": {
     "duration": 0.038978,
     "end_time": "2022-08-08T08:39:03.143597",
     "exception": false,
     "start_time": "2022-08-08T08:39:03.104619",
     "status": "completed"
    },
    "tags": []
   },
   "outputs": [
    {
     "name": "stdout",
     "output_type": "stream",
     "text": [
      "No, the candidates will not be given access to on screen calculator\n"
     ]
    }
   ],
   "source": [
    "tfidf_bot(\"Can I use calculator?\")"
   ]
  },
  {
   "cell_type": "code",
   "execution_count": 33,
   "id": "8e41394d",
   "metadata": {
    "execution": {
     "iopub.execute_input": "2022-08-08T08:39:03.173801Z",
     "iopub.status.busy": "2022-08-08T08:39:03.172647Z",
     "iopub.status.idle": "2022-08-08T08:39:03.188102Z",
     "shell.execute_reply": "2022-08-08T08:39:03.186624Z"
    },
    "papermill": {
     "duration": 0.033196,
     "end_time": "2022-08-08T08:39:03.190602",
     "exception": false,
     "start_time": "2022-08-08T08:39:03.157406",
     "status": "completed"
    },
    "tags": []
   },
   "outputs": [
    {
     "name": "stdout",
     "output_type": "stream",
     "text": [
      "To Know More click here \n"
     ]
    }
   ],
   "source": [
    "tfidf_bot(\"What is the NIRF ranking for XLRI?\")"
   ]
  },
  {
   "cell_type": "code",
   "execution_count": 34,
   "id": "85e5f118",
   "metadata": {
    "execution": {
     "iopub.execute_input": "2022-08-08T08:39:03.220238Z",
     "iopub.status.busy": "2022-08-08T08:39:03.219468Z",
     "iopub.status.idle": "2022-08-08T08:39:03.236177Z",
     "shell.execute_reply": "2022-08-08T08:39:03.234664Z"
    },
    "papermill": {
     "duration": 0.035139,
     "end_time": "2022-08-08T08:39:03.239392",
     "exception": false,
     "start_time": "2022-08-08T08:39:03.204253",
     "status": "completed"
    },
    "tags": []
   },
   "outputs": [
    {
     "name": "stdout",
     "output_type": "stream",
     "text": [
      "Navigate to website, click on \"Login\" and then \"Forgot Password\", follow the steps to change the password.\n"
     ]
    }
   ],
   "source": [
    "tfidf_bot(\"I forgot my password\")"
   ]
  },
  {
   "cell_type": "code",
   "execution_count": 35,
   "id": "d10b5cec",
   "metadata": {
    "execution": {
     "iopub.execute_input": "2022-08-08T08:39:03.269519Z",
     "iopub.status.busy": "2022-08-08T08:39:03.269094Z",
     "iopub.status.idle": "2022-08-08T08:39:03.283948Z",
     "shell.execute_reply": "2022-08-08T08:39:03.282988Z"
    },
    "papermill": {
     "duration": 0.032594,
     "end_time": "2022-08-08T08:39:03.286313",
     "exception": false,
     "start_time": "2022-08-08T08:39:03.253719",
     "status": "completed"
    },
    "tags": []
   },
   "outputs": [
    {
     "name": "stdout",
     "output_type": "stream",
     "text": [
      "I am unable to answer to your question. Please reach out to support@website.com\n"
     ]
    }
   ],
   "source": [
    "tfidf_bot(\"Is this easier than CAT?\")"
   ]
  },
  {
   "cell_type": "code",
   "execution_count": 36,
   "id": "e3c80dea",
   "metadata": {
    "execution": {
     "iopub.execute_input": "2022-08-08T08:39:03.316349Z",
     "iopub.status.busy": "2022-08-08T08:39:03.315702Z",
     "iopub.status.idle": "2022-08-08T08:39:03.330103Z",
     "shell.execute_reply": "2022-08-08T08:39:03.329177Z"
    },
    "papermill": {
     "duration": 0.032157,
     "end_time": "2022-08-08T08:39:03.332592",
     "exception": false,
     "start_time": "2022-08-08T08:39:03.300435",
     "status": "completed"
    },
    "tags": []
   },
   "outputs": [
    {
     "name": "stdout",
     "output_type": "stream",
     "text": [
      "The candidate should take the aggregate of all the subjects for 10th.\n"
     ]
    }
   ],
   "source": [
    "tfidf_bot(\"How should I calculate percentage for CBSE?\")"
   ]
  },
  {
   "cell_type": "code",
   "execution_count": 37,
   "id": "baba20a0",
   "metadata": {
    "execution": {
     "iopub.execute_input": "2022-08-08T08:39:03.362675Z",
     "iopub.status.busy": "2022-08-08T08:39:03.362001Z",
     "iopub.status.idle": "2022-08-08T08:39:03.377969Z",
     "shell.execute_reply": "2022-08-08T08:39:03.376393Z"
    },
    "papermill": {
     "duration": 0.033897,
     "end_time": "2022-08-08T08:39:03.380445",
     "exception": false,
     "start_time": "2022-08-08T08:39:03.346548",
     "status": "completed"
    },
    "tags": []
   },
   "outputs": [
    {
     "name": "stdout",
     "output_type": "stream",
     "text": [
      "No, only the work experience post the graduation is counted.\n"
     ]
    }
   ],
   "source": [
    "tfidf_bot(\"Can I include internships in my work experience?\")"
   ]
  },
  {
   "cell_type": "code",
   "execution_count": 38,
   "id": "3be7f232",
   "metadata": {
    "execution": {
     "iopub.execute_input": "2022-08-08T08:39:03.411243Z",
     "iopub.status.busy": "2022-08-08T08:39:03.410247Z",
     "iopub.status.idle": "2022-08-08T08:39:03.427636Z",
     "shell.execute_reply": "2022-08-08T08:39:03.426220Z"
    },
    "papermill": {
     "duration": 0.035649,
     "end_time": "2022-08-08T08:39:03.430273",
     "exception": false,
     "start_time": "2022-08-08T08:39:03.394624",
     "status": "completed"
    },
    "tags": []
   },
   "outputs": [
    {
     "name": "stdout",
     "output_type": "stream",
     "text": [
      "Yes the candidates can choose any section to begin with.\n"
     ]
    }
   ],
   "source": [
    "tfidf_bot(\"Can I answer sections in any order?\")"
   ]
  },
  {
   "cell_type": "code",
   "execution_count": 39,
   "id": "7b00722e",
   "metadata": {
    "execution": {
     "iopub.execute_input": "2022-08-08T08:39:03.460355Z",
     "iopub.status.busy": "2022-08-08T08:39:03.459881Z",
     "iopub.status.idle": "2022-08-08T08:39:03.475746Z",
     "shell.execute_reply": "2022-08-08T08:39:03.474226Z"
    },
    "papermill": {
     "duration": 0.03417,
     "end_time": "2022-08-08T08:39:03.478541",
     "exception": false,
     "start_time": "2022-08-08T08:39:03.444371",
     "status": "completed"
    },
    "tags": []
   },
   "outputs": [
    {
     "name": "stdout",
     "output_type": "stream",
     "text": [
      "We do not entertain any changes in the Application form until it's very crucial. For that matter you need to raise a query by clicking \"Any Query? Ask us\" on your dashboard.\n"
     ]
    }
   ],
   "source": [
    "tfidf_bot(\"How to change some of the details in my application\")"
   ]
  },
  {
   "cell_type": "code",
   "execution_count": 40,
   "id": "60f5da46",
   "metadata": {
    "execution": {
     "iopub.execute_input": "2022-08-08T08:39:03.509500Z",
     "iopub.status.busy": "2022-08-08T08:39:03.508338Z",
     "iopub.status.idle": "2022-08-08T08:39:03.524531Z",
     "shell.execute_reply": "2022-08-08T08:39:03.523257Z"
    },
    "papermill": {
     "duration": 0.03453,
     "end_time": "2022-08-08T08:39:03.527360",
     "exception": false,
     "start_time": "2022-08-08T08:39:03.492830",
     "status": "completed"
    },
    "tags": []
   },
   "outputs": [
    {
     "name": "stdout",
     "output_type": "stream",
     "text": [
      "To Know More click here \n"
     ]
    }
   ],
   "source": [
    "tfidf_bot(\"Is XLRI better than IIM A?\")"
   ]
  },
  {
   "cell_type": "code",
   "execution_count": 41,
   "id": "7d4f74f6",
   "metadata": {
    "execution": {
     "iopub.execute_input": "2022-08-08T08:39:03.557984Z",
     "iopub.status.busy": "2022-08-08T08:39:03.557331Z",
     "iopub.status.idle": "2022-08-08T08:39:03.572818Z",
     "shell.execute_reply": "2022-08-08T08:39:03.571714Z"
    },
    "papermill": {
     "duration": 0.033963,
     "end_time": "2022-08-08T08:39:03.575657",
     "exception": false,
     "start_time": "2022-08-08T08:39:03.541694",
     "status": "completed"
    },
    "tags": []
   },
   "outputs": [
    {
     "name": "stdout",
     "output_type": "stream",
     "text": [
      "I am unable to answer to your question. Please reach out to support@website.com\n"
     ]
    }
   ],
   "source": [
    "tfidf_bot(\"How much is the fees?\")"
   ]
  },
  {
   "cell_type": "code",
   "execution_count": 42,
   "id": "5d35e783",
   "metadata": {
    "execution": {
     "iopub.execute_input": "2022-08-08T08:39:03.608005Z",
     "iopub.status.busy": "2022-08-08T08:39:03.606782Z",
     "iopub.status.idle": "2022-08-08T08:39:03.624932Z",
     "shell.execute_reply": "2022-08-08T08:39:03.623307Z"
    },
    "papermill": {
     "duration": 0.036683,
     "end_time": "2022-08-08T08:39:03.627659",
     "exception": false,
     "start_time": "2022-08-08T08:39:03.590976",
     "status": "completed"
    },
    "tags": []
   },
   "outputs": [
    {
     "name": "stdout",
     "output_type": "stream",
     "text": [
      "I am unable to answer to your question. Please reach out to support@website.com\n"
     ]
    }
   ],
   "source": [
    "tfidf_bot(\"can I get the contact number of the Dean?\")"
   ]
  },
  {
   "cell_type": "code",
   "execution_count": 43,
   "id": "87c920be",
   "metadata": {
    "execution": {
     "iopub.execute_input": "2022-08-08T08:39:03.658860Z",
     "iopub.status.busy": "2022-08-08T08:39:03.658471Z",
     "iopub.status.idle": "2022-08-08T08:39:03.675103Z",
     "shell.execute_reply": "2022-08-08T08:39:03.673461Z"
    },
    "papermill": {
     "duration": 0.035507,
     "end_time": "2022-08-08T08:39:03.677905",
     "exception": false,
     "start_time": "2022-08-08T08:39:03.642398",
     "status": "completed"
    },
    "tags": []
   },
   "outputs": [
    {
     "name": "stdout",
     "output_type": "stream",
     "text": [
      "The XAT Result will be declared 3 weeks after the conduct of XAT-2021\n"
     ]
    }
   ],
   "source": [
    "tfidf_bot(\"When will the results be out?\")"
   ]
  },
  {
   "cell_type": "code",
   "execution_count": 44,
   "id": "c3f97e81",
   "metadata": {
    "execution": {
     "iopub.execute_input": "2022-08-08T08:39:03.708630Z",
     "iopub.status.busy": "2022-08-08T08:39:03.708214Z",
     "iopub.status.idle": "2022-08-08T08:39:03.724517Z",
     "shell.execute_reply": "2022-08-08T08:39:03.723009Z"
    },
    "papermill": {
     "duration": 0.034823,
     "end_time": "2022-08-08T08:39:03.727278",
     "exception": false,
     "start_time": "2022-08-08T08:39:03.692455",
     "status": "completed"
    },
    "tags": []
   },
   "outputs": [
    {
     "name": "stdout",
     "output_type": "stream",
     "text": [
      "The XAT Result will be declared 3 weeks after the conduct of XAT-2021\n"
     ]
    }
   ],
   "source": [
    "tfidf_bot(\"Is XAT easier than CAT?\")"
   ]
  },
  {
   "cell_type": "code",
   "execution_count": 45,
   "id": "84794c05",
   "metadata": {
    "execution": {
     "iopub.execute_input": "2022-08-08T08:39:03.758542Z",
     "iopub.status.busy": "2022-08-08T08:39:03.757845Z",
     "iopub.status.idle": "2022-08-08T08:39:03.775166Z",
     "shell.execute_reply": "2022-08-08T08:39:03.773471Z"
    },
    "papermill": {
     "duration": 0.036081,
     "end_time": "2022-08-08T08:39:03.777916",
     "exception": false,
     "start_time": "2022-08-08T08:39:03.741835",
     "status": "completed"
    },
    "tags": []
   },
   "outputs": [
    {
     "name": "stdout",
     "output_type": "stream",
     "text": [
      "A candidate can apply to XLRI Delhi BM Programme by clicking on BM programme and giving the preference as Delhi. There is no extra fee charged .\n"
     ]
    }
   ],
   "source": [
    "tfidf_bot(\"How much is the fees for XLRI HR programme?\")"
   ]
  },
  {
   "cell_type": "code",
   "execution_count": 46,
   "id": "f55089f6",
   "metadata": {
    "execution": {
     "iopub.execute_input": "2022-08-08T08:39:03.810357Z",
     "iopub.status.busy": "2022-08-08T08:39:03.809433Z",
     "iopub.status.idle": "2022-08-08T08:39:03.826097Z",
     "shell.execute_reply": "2022-08-08T08:39:03.824358Z"
    },
    "papermill": {
     "duration": 0.036124,
     "end_time": "2022-08-08T08:39:03.828651",
     "exception": false,
     "start_time": "2022-08-08T08:39:03.792527",
     "status": "completed"
    },
    "tags": []
   },
   "outputs": [
    {
     "name": "stdout",
     "output_type": "stream",
     "text": [
      "To Know More click here \n"
     ]
    }
   ],
   "source": [
    "tfidf_bot(\"What is the average placement at XLRI?\")"
   ]
  },
  {
   "cell_type": "code",
   "execution_count": 47,
   "id": "5ea775db",
   "metadata": {
    "execution": {
     "iopub.execute_input": "2022-08-08T08:39:03.860021Z",
     "iopub.status.busy": "2022-08-08T08:39:03.859360Z",
     "iopub.status.idle": "2022-08-08T08:39:03.875963Z",
     "shell.execute_reply": "2022-08-08T08:39:03.874717Z"
    },
    "papermill": {
     "duration": 0.035357,
     "end_time": "2022-08-08T08:39:03.878660",
     "exception": false,
     "start_time": "2022-08-08T08:39:03.843303",
     "status": "completed"
    },
    "tags": []
   },
   "outputs": [
    {
     "name": "stdout",
     "output_type": "stream",
     "text": [
      "All three sections will be open to the candidate once the exam starts.\n"
     ]
    }
   ],
   "source": [
    "tfidf_bot(\"What are the sections in the exam?\")"
   ]
  },
  {
   "cell_type": "code",
   "execution_count": 48,
   "id": "e3fb9742",
   "metadata": {
    "execution": {
     "iopub.execute_input": "2022-08-08T08:39:03.910268Z",
     "iopub.status.busy": "2022-08-08T08:39:03.909568Z",
     "iopub.status.idle": "2022-08-08T08:39:03.926342Z",
     "shell.execute_reply": "2022-08-08T08:39:03.924664Z"
    },
    "papermill": {
     "duration": 0.036018,
     "end_time": "2022-08-08T08:39:03.929386",
     "exception": false,
     "start_time": "2022-08-08T08:39:03.893368",
     "status": "completed"
    },
    "tags": []
   },
   "outputs": [
    {
     "name": "stdout",
     "output_type": "stream",
     "text": [
      "To Know More click here \n"
     ]
    }
   ],
   "source": [
    "tfidf_bot(\"Where is XLRI?\")"
   ]
  },
  {
   "cell_type": "code",
   "execution_count": 49,
   "id": "1f2c1509",
   "metadata": {
    "execution": {
     "iopub.execute_input": "2022-08-08T08:39:03.961920Z",
     "iopub.status.busy": "2022-08-08T08:39:03.961002Z",
     "iopub.status.idle": "2022-08-08T08:39:03.976425Z",
     "shell.execute_reply": "2022-08-08T08:39:03.975374Z"
    },
    "papermill": {
     "duration": 0.034649,
     "end_time": "2022-08-08T08:39:03.979647",
     "exception": false,
     "start_time": "2022-08-08T08:39:03.944998",
     "status": "completed"
    },
    "tags": []
   },
   "outputs": [
    {
     "name": "stdout",
     "output_type": "stream",
     "text": [
      "I am unable to answer to your question. Please reach out to support@website.com\n"
     ]
    }
   ],
   "source": [
    "tfidf_bot(\"Can I use this core to get admission in any other institutes?\")"
   ]
  },
  {
   "cell_type": "markdown",
   "id": "c4b576c2",
   "metadata": {
    "papermill": {
     "duration": 0.014513,
     "end_time": "2022-08-08T08:39:04.009860",
     "exception": false,
     "start_time": "2022-08-08T08:39:03.995347",
     "status": "completed"
    },
    "tags": []
   },
   "source": [
    "Eventhough the CountVectorizer method is better than the manual one above, the results are not satisfactory."
   ]
  }
 ],
 "metadata": {
  "kernelspec": {
   "display_name": "Python 3",
   "language": "python",
   "name": "python3"
  },
  "language_info": {
   "codemirror_mode": {
    "name": "ipython",
    "version": 3
   },
   "file_extension": ".py",
   "mimetype": "text/x-python",
   "name": "python",
   "nbconvert_exporter": "python",
   "pygments_lexer": "ipython3",
   "version": "3.7.12"
  },
  "papermill": {
   "default_parameters": {},
   "duration": 17.897623,
   "end_time": "2022-08-08T08:39:05.047808",
   "environment_variables": {},
   "exception": null,
   "input_path": "__notebook__.ipynb",
   "output_path": "__notebook__.ipynb",
   "parameters": {},
   "start_time": "2022-08-08T08:38:47.150185",
   "version": "2.3.4"
  }
 },
 "nbformat": 4,
 "nbformat_minor": 5
}
